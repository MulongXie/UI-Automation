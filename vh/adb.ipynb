{
 "cells": [
  {
   "cell_type": "code",
   "execution_count": 1,
   "id": "ff10b492",
   "metadata": {},
   "outputs": [],
   "source": [
    "from Device import Device\n",
    "from GUIData import GUIData\n",
    "from ppadb.client import Client as AdbClient\n",
    "client = AdbClient(host=\"127.0.0.1\", port=5037)\n",
    "device = Device(client.devices()[0], 'data')"
   ]
  },
  {
   "cell_type": "code",
   "execution_count": 2,
   "id": "874d1641",
   "metadata": {},
   "outputs": [
    {
     "name": "stdout",
     "output_type": "stream",
     "text": [
      "Save screenshot to data\\emulator-5554.png\n",
      "Save view hierarchy to data\\emulator-5554.json\n",
      "Save reformatted vh to data\\emulator-5554.json\n"
     ]
    }
   ],
   "source": [
    "device.cap_screenshot()\n",
    "device.cap_vh()\n",
    "device.cvt_vh_to_rico_format()"
   ]
  },
  {
   "cell_type": "code",
   "execution_count": null,
   "id": "07d510fa",
   "metadata": {},
   "outputs": [],
   "source": []
  },
  {
   "cell_type": "code",
   "execution_count": 3,
   "id": "a471fdcd",
   "metadata": {},
   "outputs": [],
   "source": [
    "gui = GUIData(device.screenshot_path, device.vh_json_path)\n",
    "gui.extract_elements_from_vh()\n",
    "gui.show_all_elements()"
   ]
  },
  {
   "cell_type": "code",
   "execution_count": 4,
   "id": "3ceb3f14",
   "metadata": {},
   "outputs": [],
   "source": [
    "gui.show_all_elements(only_leaves=True)"
   ]
  },
  {
   "cell_type": "code",
   "execution_count": null,
   "id": "273e293f",
   "metadata": {},
   "outputs": [
    {
     "name": "stdout",
     "output_type": "stream",
     "text": [
      "51\n",
      "3 android.widget.ImageButton\n",
      "{'text': '', 'resource-id': '', 'class': 'android.widget.ImageButton', 'package': 'com.twitter.android', 'content-desc': 'Show navigation drawer', 'checkable': False, 'checked': False, 'clickable': True, 'enabled': True, 'focusable': True, 'focused': False, 'scrollable': False, 'long-clickable': False, 'password': False, 'selected': False, 'bounds': [0, 66, 150, 220], 'id': 3} \n",
      "\n",
      "4 android.widget.ImageView\n",
      "{'text': '', 'resource-id': 'com.twitter.android:id/logo', 'class': 'android.widget.ImageView', 'package': 'com.twitter.android', 'content-desc': '', 'checkable': False, 'checked': False, 'clickable': True, 'enabled': True, 'focusable': False, 'focused': False, 'scrollable': False, 'long-clickable': False, 'password': False, 'selected': False, 'bounds': [507, 110, 573, 176], 'id': 4} \n",
      "\n",
      "8 android.widget.TextView\n",
      "{'text': 'For you', 'resource-id': '', 'class': 'android.widget.TextView', 'package': 'com.twitter.android', 'content-desc': '', 'checkable': False, 'checked': False, 'clickable': False, 'enabled': True, 'focusable': False, 'focused': False, 'scrollable': False, 'long-clickable': False, 'password': False, 'selected': True, 'bounds': [187, 261, 341, 311], 'id': 8} \n",
      "\n",
      "10 android.widget.TextView\n",
      "{'text': 'Following', 'resource-id': '', 'class': 'android.widget.TextView', 'package': 'com.twitter.android', 'content-desc': '', 'checkable': False, 'checked': False, 'clickable': True, 'enabled': True, 'focusable': False, 'focused': False, 'scrollable': False, 'long-clickable': False, 'password': False, 'selected': False, 'bounds': [715, 261, 893, 311], 'id': 10} \n",
      "\n",
      "15 android.widget.TextView\n",
      "{'text': 'Want to see who you know on Twitter?', 'resource-id': 'com.twitter.android:id/header', 'class': 'android.widget.TextView', 'package': 'com.twitter.android', 'content-desc': '', 'checkable': False, 'checked': False, 'clickable': False, 'enabled': True, 'focusable': False, 'focused': False, 'scrollable': False, 'long-clickable': False, 'password': False, 'selected': False, 'bounds': [88, 463, 992, 642], 'id': 15} \n",
      "\n",
      "16 android.widget.TextView\n",
      "{'text': 'Take a peek at your contacts.', 'resource-id': 'com.twitter.android:id/body', 'class': 'android.widget.TextView', 'package': 'com.twitter.android', 'content-desc': '', 'checkable': False, 'checked': False, 'clickable': False, 'enabled': True, 'focusable': False, 'focused': False, 'scrollable': False, 'long-clickable': False, 'password': False, 'selected': False, 'bounds': [88, 642, 992, 714], 'id': 16} \n",
      "\n",
      "20 android.view.View\n",
      "{'text': '', 'resource-id': '', 'class': 'android.view.View', 'package': 'com.twitter.android', 'content-desc': 'Get started', 'checkable': False, 'checked': False, 'clickable': True, 'enabled': True, 'focusable': False, 'focused': False, 'scrollable': False, 'long-clickable': False, 'password': False, 'selected': False, 'bounds': [88, 764, 442, 885], 'id': 20} \n",
      "\n",
      "21 android.widget.TextView\n",
      "{'text': 'Get started', 'resource-id': '', 'class': 'android.widget.TextView', 'package': 'com.twitter.android', 'content-desc': '', 'checkable': False, 'checked': False, 'clickable': True, 'enabled': True, 'focusable': False, 'focused': False, 'scrollable': False, 'long-clickable': False, 'password': False, 'selected': False, 'bounds': [154, 800, 376, 850], 'id': 21} \n",
      "\n",
      "22 android.widget.Button\n",
      "{'text': '', 'resource-id': '', 'class': 'android.widget.Button', 'package': 'com.twitter.android', 'content-desc': '', 'checkable': False, 'checked': False, 'clickable': True, 'enabled': True, 'focusable': False, 'focused': False, 'scrollable': False, 'long-clickable': False, 'password': False, 'selected': False, 'bounds': [88, 764, 442, 885], 'id': 22} \n",
      "\n",
      "23 android.widget.ImageView\n",
      "{'text': '', 'resource-id': 'com.twitter.android:id/caret', 'class': 'android.widget.ImageView', 'package': 'com.twitter.android', 'content-desc': 'Dismiss', 'checkable': False, 'checked': False, 'clickable': True, 'enabled': True, 'focusable': True, 'focused': False, 'scrollable': False, 'long-clickable': False, 'password': False, 'selected': False, 'bounds': [970, 463, 1080, 551], 'id': 23} \n",
      "\n",
      "26 android.widget.ImageView\n",
      "{'text': '', 'resource-id': 'com.twitter.android:id/social_context_badge', 'class': 'android.widget.ImageView', 'package': 'com.twitter.android', 'content-desc': '', 'checkable': False, 'checked': False, 'clickable': True, 'enabled': True, 'focusable': False, 'focused': False, 'scrollable': False, 'long-clickable': False, 'password': False, 'selected': False, 'bounds': [138, 1029, 182, 1073], 'id': 26} \n",
      "\n",
      "28 android.widget.TextView\n",
      "{'text': 'Elon Musk replied', 'resource-id': 'com.twitter.android:id/social_context_text', 'class': 'android.widget.TextView', 'package': 'com.twitter.android', 'content-desc': '', 'checkable': False, 'checked': False, 'clickable': True, 'enabled': True, 'focusable': True, 'focused': False, 'scrollable': False, 'long-clickable': False, 'password': False, 'selected': False, 'bounds': [210, 1001, 512, 1078], 'id': 28} \n",
      "\n",
      "30 android.widget.ImageView\n",
      "{'text': '', 'resource-id': '', 'class': 'android.widget.ImageView', 'package': 'com.twitter.android', 'content-desc': '', 'checkable': False, 'checked': False, 'clickable': True, 'enabled': True, 'focusable': False, 'focused': False, 'scrollable': False, 'long-clickable': False, 'password': False, 'selected': False, 'bounds': [33, 1100, 182, 1249], 'id': 30} \n",
      "\n",
      "31 android.view.ViewGroup\n",
      "{'text': '', 'resource-id': 'com.twitter.android:id/tweet_header_default', 'class': 'android.view.ViewGroup', 'package': 'com.twitter.android', 'content-desc': '', 'checkable': False, 'checked': False, 'clickable': True, 'enabled': True, 'focusable': False, 'focused': False, 'scrollable': False, 'long-clickable': False, 'password': False, 'selected': False, 'bounds': [210, 1100, 981, 1144], 'id': 31} \n",
      "\n",
      "32 android.widget.ImageView\n",
      "{'NAF': True, 'text': '', 'resource-id': 'com.twitter.android:id/tweet_curation_action', 'class': 'android.widget.ImageView', 'package': 'com.twitter.android', 'content-desc': '', 'checkable': False, 'checked': False, 'clickable': True, 'enabled': True, 'focusable': True, 'focused': False, 'scrollable': False, 'long-clickable': False, 'password': False, 'selected': False, 'bounds': [981, 1073, 1069, 1161], 'id': 32} \n",
      "\n",
      "34 android.view.View\n",
      "{'text': 'If Putin fears he is losing  Crimea, he will negotiate. Therefore, we in the West should give Kyiv the weapons they need to threaten Crimea, including first and foremost, ATACMs. The sooner we do, the faster this awful war will end.', 'resource-id': '', 'class': 'android.view.View', 'package': 'com.twitter.android', 'content-desc': '', 'checkable': False, 'checked': False, 'clickable': True, 'enabled': True, 'focusable': True, 'focused': False, 'scrollable': False, 'long-clickable': False, 'password': False, 'selected': False, 'bounds': [210, 1150, 1047, 1474], 'id': 34} \n",
      "\n",
      "35 android.view.View\n",
      "{'text': '', 'resource-id': 'com.twitter.android:id/tweet_connector_bottom', 'class': 'android.view.View', 'package': 'com.twitter.android', 'content-desc': '', 'checkable': False, 'checked': False, 'clickable': True, 'enabled': True, 'focusable': False, 'focused': False, 'scrollable': False, 'long-clickable': False, 'password': False, 'selected': False, 'bounds': [105, 1255, 111, 1584], 'id': 35} \n",
      "\n",
      "38 android.widget.ImageView\n",
      "{'text': '', 'resource-id': 'com.twitter.android:id/inline_action_item_icon', 'class': 'android.widget.ImageView', 'package': 'com.twitter.android', 'content-desc': '', 'checkable': False, 'checked': False, 'clickable': True, 'enabled': True, 'focusable': False, 'focused': False, 'scrollable': False, 'long-clickable': False, 'password': False, 'selected': False, 'bounds': [212, 1504, 262, 1554], 'id': 38} \n",
      "\n",
      "39 android.widget.TextView\n",
      "{'text': '4,745', 'resource-id': '', 'class': 'android.widget.TextView', 'package': 'com.twitter.android', 'content-desc': '', 'checkable': False, 'checked': False, 'clickable': True, 'enabled': True, 'focusable': False, 'focused': False, 'scrollable': False, 'long-clickable': False, 'password': False, 'selected': False, 'bounds': [268, 1507, 356, 1550], 'id': 39} \n",
      "\n",
      "41 android.widget.ImageView\n",
      "{'text': '', 'resource-id': 'com.twitter.android:id/inline_action_item_icon', 'class': 'android.widget.ImageView', 'package': 'com.twitter.android', 'content-desc': '', 'checkable': False, 'checked': False, 'clickable': True, 'enabled': True, 'focusable': False, 'focused': False, 'scrollable': False, 'long-clickable': False, 'password': False, 'selected': False, 'bounds': [400, 1504, 450, 1554], 'id': 41} \n",
      "\n"
     ]
    },
    {
     "name": "stdout",
     "output_type": "stream",
     "text": [
      "42 android.widget.TextView\n",
      "{'text': '3,344', 'resource-id': '', 'class': 'android.widget.TextView', 'package': 'com.twitter.android', 'content-desc': '', 'checkable': False, 'checked': False, 'clickable': True, 'enabled': True, 'focusable': False, 'focused': False, 'scrollable': False, 'long-clickable': False, 'password': False, 'selected': False, 'bounds': [456, 1507, 551, 1550], 'id': 42} \n",
      "\n",
      "44 android.widget.ImageView\n",
      "{'text': '', 'resource-id': 'com.twitter.android:id/inline_action_item_icon', 'class': 'android.widget.ImageView', 'package': 'com.twitter.android', 'content-desc': '', 'checkable': False, 'checked': False, 'clickable': True, 'enabled': True, 'focusable': False, 'focused': False, 'scrollable': False, 'long-clickable': False, 'password': False, 'selected': False, 'bounds': [588, 1504, 638, 1554], 'id': 44} \n",
      "\n",
      "45 android.widget.TextView\n",
      "{'text': '26.3K', 'resource-id': '', 'class': 'android.widget.TextView', 'package': 'com.twitter.android', 'content-desc': '', 'checkable': False, 'checked': False, 'clickable': True, 'enabled': True, 'focusable': False, 'focused': False, 'scrollable': False, 'long-clickable': False, 'password': False, 'selected': False, 'bounds': [644, 1507, 739, 1550], 'id': 45} \n",
      "\n",
      "47 android.widget.ImageView\n",
      "{'text': '', 'resource-id': 'com.twitter.android:id/inline_action_item_icon', 'class': 'android.widget.ImageView', 'package': 'com.twitter.android', 'content-desc': '', 'checkable': False, 'checked': False, 'clickable': True, 'enabled': True, 'focusable': False, 'focused': False, 'scrollable': False, 'long-clickable': False, 'password': False, 'selected': False, 'bounds': [776, 1504, 826, 1554], 'id': 47} \n",
      "\n",
      "48 android.widget.TextView\n",
      "{'text': '10.2M', 'resource-id': '', 'class': 'android.widget.TextView', 'package': 'com.twitter.android', 'content-desc': '', 'checkable': False, 'checked': False, 'clickable': True, 'enabled': True, 'focusable': False, 'focused': False, 'scrollable': False, 'long-clickable': False, 'password': False, 'selected': False, 'bounds': [832, 1507, 931, 1550], 'id': 48} \n",
      "\n",
      "50 android.widget.ImageView\n",
      "{'text': '', 'resource-id': 'com.twitter.android:id/inline_action_item_icon', 'class': 'android.widget.ImageView', 'package': 'com.twitter.android', 'content-desc': '', 'checkable': False, 'checked': False, 'clickable': True, 'enabled': True, 'focusable': False, 'focused': False, 'scrollable': False, 'long-clickable': False, 'password': False, 'selected': False, 'bounds': [964, 1504, 1014, 1554], 'id': 50} \n",
      "\n",
      "53 android.view.View\n",
      "{'text': '', 'resource-id': 'com.twitter.android:id/tweet_connector_top', 'class': 'android.view.View', 'package': 'com.twitter.android', 'content-desc': '', 'checkable': False, 'checked': False, 'clickable': True, 'enabled': True, 'focusable': False, 'focused': False, 'scrollable': False, 'long-clickable': False, 'password': False, 'selected': False, 'bounds': [105, 1584, 111, 1611], 'id': 53} \n",
      "\n",
      "55 android.widget.ImageView\n",
      "{'text': '', 'resource-id': '', 'class': 'android.widget.ImageView', 'package': 'com.twitter.android', 'content-desc': '', 'checkable': False, 'checked': False, 'clickable': True, 'enabled': True, 'focusable': False, 'focused': False, 'scrollable': False, 'long-clickable': False, 'password': False, 'selected': False, 'bounds': [33, 1617, 182, 1766], 'id': 55} \n",
      "\n",
      "56 android.view.ViewGroup\n",
      "{'text': '', 'resource-id': 'com.twitter.android:id/tweet_header_default', 'class': 'android.view.ViewGroup', 'package': 'com.twitter.android', 'content-desc': '', 'checkable': False, 'checked': False, 'clickable': True, 'enabled': True, 'focusable': False, 'focused': False, 'scrollable': False, 'long-clickable': False, 'password': False, 'selected': False, 'bounds': [210, 1617, 981, 1661], 'id': 56} \n",
      "\n",
      "57 android.widget.ImageView\n",
      "{'NAF': True, 'text': '', 'resource-id': 'com.twitter.android:id/tweet_curation_action', 'class': 'android.widget.ImageView', 'package': 'com.twitter.android', 'content-desc': '', 'checkable': False, 'checked': False, 'clickable': True, 'enabled': True, 'focusable': True, 'focused': False, 'scrollable': False, 'long-clickable': False, 'password': False, 'selected': False, 'bounds': [981, 1590, 1069, 1678], 'id': 57} \n",
      "\n"
     ]
    }
   ],
   "source": [
    "gui.show_each_element(only_leaves=True)"
   ]
  },
  {
   "cell_type": "code",
   "execution_count": null,
   "id": "aefd9eea",
   "metadata": {},
   "outputs": [],
   "source": []
  },
  {
   "cell_type": "code",
   "execution_count": null,
   "id": "9708b792",
   "metadata": {},
   "outputs": [],
   "source": []
  },
  {
   "cell_type": "code",
   "execution_count": 5,
   "id": "9d0f7424",
   "metadata": {},
   "outputs": [],
   "source": [
    "gui.show_all_elements()"
   ]
  },
  {
   "cell_type": "code",
   "execution_count": null,
   "id": "d5b533ab",
   "metadata": {},
   "outputs": [],
   "source": []
  },
  {
   "cell_type": "code",
   "execution_count": 6,
   "id": "60b88fea",
   "metadata": {},
   "outputs": [],
   "source": [
    "import cv2"
   ]
  },
  {
   "cell_type": "code",
   "execution_count": 7,
   "id": "97d71fdc",
   "metadata": {},
   "outputs": [],
   "source": [
    "elements = gui.elements"
   ]
  },
  {
   "cell_type": "code",
   "execution_count": 11,
   "id": "863d5968",
   "metadata": {},
   "outputs": [
    {
     "name": "stdout",
     "output_type": "stream",
     "text": [
      " \n",
      " \n",
      " \n",
      " \n",
      " \n",
      " For you\n",
      "For you \n",
      "Trending \n",
      " \n",
      " \n",
      " \n",
      "Australia trends \n",
      " \n",
      "1 Â· Trending \n",
      "Kochie \n",
      " Trend options\n",
      " \n",
      "2 Â· Cricket Â· Trending \n",
      "#NZvENG \n",
      " Trend options\n",
      "31.6K Tweets \n",
      " \n",
      "3 Â· Politics Â· Trending \n",
      "#superannuation \n",
      " Trend options\n",
      "2,935 Tweets \n",
      " \n",
      "4 Â· Trending \n",
      "Angus Taylor \n",
      " Trend options\n",
      "4,446 Tweets \n",
      " \n",
      "5 Â· Trending \n",
      "Stuart Robert \n",
      " Trend options\n",
      "5,886 Tweets \n",
      " \n",
      "6 Â· Jungkook Â· Trending \n",
      "jungkook \n",
      " Trend options\n",
      "851K Tweets \n",
      " \n",
      "7 Â· Only on Twitter Â· Trending \n",
      "Autumn \n",
      " Trend options\n",
      "87.8K Tweets \n",
      " \n",
      "8 Â· Trending \n",
      "Father Bob \n",
      " Trend options\n",
      " \n",
      " New Tweet\n",
      " \n",
      " Home. New items\n",
      " \n",
      " \n",
      " Spaces\n",
      " \n",
      " Notifications\n",
      " \n",
      " Messages\n",
      " \n",
      " \n"
     ]
    }
   ],
   "source": [
    "board = gui.img.copy()\n",
    "\n",
    "for ele in elements:\n",
    "    if 'children_id' not in ele:\n",
    "        cv2.rectangle(board, ele['bounds'][])"
   ]
  },
  {
   "cell_type": "code",
   "execution_count": null,
   "id": "e2b4f3c0",
   "metadata": {},
   "outputs": [],
   "source": []
  }
 ],
 "metadata": {
  "kernelspec": {
   "display_name": "Python 3 (ipykernel)",
   "language": "python",
   "name": "python3"
  },
  "language_info": {
   "codemirror_mode": {
    "name": "ipython",
    "version": 3
   },
   "file_extension": ".py",
   "mimetype": "text/x-python",
   "name": "python",
   "nbconvert_exporter": "python",
   "pygments_lexer": "ipython3",
   "version": "3.10.10"
  }
 },
 "nbformat": 4,
 "nbformat_minor": 5
}
