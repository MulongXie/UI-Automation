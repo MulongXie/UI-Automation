{
 "cells": [
  {
   "cell_type": "code",
   "execution_count": 1,
   "id": "e3cb9d32",
   "metadata": {},
   "outputs": [],
   "source": [
    "from Device import Device\n",
    "from GUIData import GUIData\n",
    "from ppadb.client import Client as AdbClient\n",
    "client = AdbClient(host=\"127.0.0.1\", port=5037)\n",
    "device = Device(client.devices()[0], 'data')"
   ]
  },
  {
   "cell_type": "code",
   "execution_count": 2,
   "id": "21f69747",
   "metadata": {},
   "outputs": [
    {
     "name": "stdout",
     "output_type": "stream",
     "text": [
      "Save screenshot to data\\emulator-5554.png\n",
      "Save view hierarchy to data\\emulator-5554.json\n",
      "Save reformatted vh to data\\emulator-5554.json\n"
     ]
    }
   ],
   "source": [
    "device.cap_screenshot()\n",
    "device.cap_vh()\n",
    "device.cvt_vh_to_rico_format()"
   ]
  },
  {
   "cell_type": "code",
   "execution_count": null,
   "id": "cc751b12",
   "metadata": {},
   "outputs": [],
   "source": []
  },
  {
   "cell_type": "code",
   "execution_count": 3,
   "id": "3c9619d5",
   "metadata": {},
   "outputs": [],
   "source": [
    "gui = GUIData(device.screenshot_path, device.vh_json_path)\n",
    "gui.extract_elements_from_vh()\n",
    "gui.show_all_elements()"
   ]
  },
  {
   "cell_type": "code",
   "execution_count": 4,
   "id": "43569e3a",
   "metadata": {},
   "outputs": [],
   "source": [
    "gui.inherit_clickablility()"
   ]
  },
  {
   "cell_type": "code",
   "execution_count": 5,
   "id": "0a9ecf9c",
   "metadata": {},
   "outputs": [],
   "source": [
    "gui.show_all_elements()"
   ]
  },
  {
   "cell_type": "code",
   "execution_count": null,
   "id": "a7019fd2",
   "metadata": {},
   "outputs": [],
   "source": []
  },
  {
   "cell_type": "code",
   "execution_count": 6,
   "id": "e1a0aeaa",
   "metadata": {},
   "outputs": [
    {
     "name": "stdout",
     "output_type": "stream",
     "text": [
      "1 android.widget.ScrollView\n",
      "{'text': '', 'resource-id': 'com.twitter.android:id/root_coordinator_layout', 'class': 'android.widget.ScrollView', 'package': 'com.twitter.android', 'content-desc': '', 'checkable': False, 'checked': False, 'clickable': False, 'enabled': True, 'focusable': False, 'focused': False, 'scrollable': True, 'long-clickable': False, 'password': False, 'selected': False, 'bounds': [0, 66, 1080, 2214], 'id': 1, 'children-id': [2, 50]} \n",
      "\n",
      "2 androidx.viewpager.widget.ViewPager\n",
      "{'text': '', 'resource-id': 'com.twitter.android:id/pager', 'class': 'androidx.viewpager.widget.ViewPager', 'package': 'com.twitter.android', 'content-desc': '', 'checkable': False, 'checked': False, 'clickable': False, 'enabled': True, 'focusable': True, 'focused': False, 'scrollable': True, 'long-clickable': False, 'password': False, 'selected': False, 'bounds': [0, 66, 1080, 2214], 'id': 2, 'children-id': []} \n",
      "\n",
      "3 androidx.viewpager.widget.ViewPager\n",
      "{'text': '', 'resource-id': 'com.twitter.android:id/view_pager', 'class': 'androidx.viewpager.widget.ViewPager', 'package': 'com.twitter.android', 'content-desc': '', 'checkable': False, 'checked': False, 'clickable': False, 'enabled': True, 'focusable': True, 'focused': False, 'scrollable': True, 'long-clickable': False, 'password': False, 'selected': False, 'bounds': [0, 66, 1080, 2060], 'id': 3, 'children-id': [4]} \n",
      "\n",
      "4 android.widget.HorizontalScrollView\n",
      "{'text': '', 'resource-id': 'com.twitter.android:id/tab_layout', 'class': 'android.widget.HorizontalScrollView', 'package': 'com.twitter.android', 'content-desc': '', 'checkable': False, 'checked': False, 'clickable': False, 'enabled': True, 'focusable': True, 'focused': False, 'scrollable': False, 'long-clickable': False, 'password': False, 'selected': False, 'bounds': [0, 66, 1080, 198], 'id': 4, 'children-id': []} \n",
      "\n",
      "5 android.widget.LinearLayout\n",
      "{'text': '', 'resource-id': '', 'class': 'android.widget.LinearLayout', 'package': 'com.twitter.android', 'content-desc': 'For you', 'checkable': False, 'checked': False, 'clickable': True, 'enabled': True, 'focusable': True, 'focused': False, 'scrollable': False, 'long-clickable': False, 'password': False, 'selected': False, 'bounds': [0, 66, 533, 198], 'id': 5, 'children-id': [6]} \n",
      "\n",
      "6 android.widget.TextView\n",
      "{'text': 'For you', 'resource-id': '', 'class': 'android.widget.TextView', 'package': 'com.twitter.android', 'content-desc': '', 'checkable': False, 'checked': False, 'clickable': True, 'enabled': True, 'focusable': False, 'focused': False, 'scrollable': False, 'long-clickable': False, 'password': False, 'selected': False, 'bounds': [189, 107, 343, 157], 'id': 6} \n",
      "\n",
      "7 android.widget.TextView\n",
      "{'text': 'Trending', 'resource-id': '', 'class': 'android.widget.TextView', 'package': 'com.twitter.android', 'content-desc': '', 'checkable': False, 'checked': False, 'clickable': False, 'enabled': True, 'focusable': False, 'focused': False, 'scrollable': False, 'long-clickable': False, 'password': False, 'selected': True, 'bounds': [722, 107, 890, 157], 'id': 7} \n",
      "\n",
      "8 android.view.ViewGroup\n",
      "{'text': '', 'resource-id': '', 'class': 'android.view.ViewGroup', 'package': 'com.twitter.android', 'content-desc': '', 'checkable': False, 'checked': False, 'clickable': False, 'enabled': True, 'focusable': False, 'focused': False, 'scrollable': False, 'long-clickable': False, 'password': False, 'selected': False, 'bounds': [0, 198, 1080, 2060], 'id': 8, 'children-id': [9]} \n",
      "\n",
      "9 androidx.recyclerview.widget.RecyclerView\n",
      "{'text': '', 'resource-id': 'android:id/list', 'class': 'androidx.recyclerview.widget.RecyclerView', 'package': 'com.twitter.android', 'content-desc': '', 'checkable': False, 'checked': False, 'clickable': False, 'enabled': True, 'focusable': True, 'focused': False, 'scrollable': True, 'long-clickable': False, 'password': False, 'selected': False, 'bounds': [0, 198, 1080, 2060], 'id': 9, 'children-id': [10, 12, 16, 21, 26, 31, 36, 41, 46]} \n",
      "\n",
      "10 android.view.ViewGroup\n",
      "{'text': '', 'resource-id': '', 'class': 'android.view.ViewGroup', 'package': 'com.twitter.android', 'content-desc': '', 'checkable': False, 'checked': False, 'clickable': False, 'enabled': True, 'focusable': True, 'focused': False, 'scrollable': False, 'long-clickable': False, 'password': False, 'selected': False, 'bounds': [0, 198, 1080, 319], 'id': 10, 'children-id': []} \n",
      "\n",
      "11 android.widget.TextView\n",
      "{'text': 'Australia trends', 'resource-id': 'com.twitter.android:id/title', 'class': 'android.widget.TextView', 'package': 'com.twitter.android', 'content-desc': '', 'checkable': False, 'checked': False, 'clickable': False, 'enabled': True, 'focusable': False, 'focused': False, 'scrollable': False, 'long-clickable': False, 'password': False, 'selected': False, 'bounds': [33, 225, 1047, 286], 'id': 11} \n",
      "\n",
      "12 android.view.ViewGroup\n",
      "{'text': '', 'resource-id': '', 'class': 'android.view.ViewGroup', 'package': 'com.twitter.android', 'content-desc': '', 'checkable': False, 'checked': False, 'clickable': True, 'enabled': True, 'focusable': True, 'focused': False, 'scrollable': False, 'long-clickable': False, 'password': False, 'selected': False, 'bounds': [0, 319, 1080, 517], 'id': 12, 'children-id': []} \n",
      "\n",
      "13 android.widget.TextView\n",
      "{'text': '1 Â· Trending', 'resource-id': 'com.twitter.android:id/trend_ranked_domain_context', 'class': 'android.widget.TextView', 'package': 'com.twitter.android', 'content-desc': '', 'checkable': False, 'checked': False, 'clickable': False, 'enabled': True, 'focusable': False, 'focused': False, 'scrollable': False, 'long-clickable': False, 'password': False, 'selected': False, 'bounds': [44, 352, 238, 396], 'id': 13} \n",
      "\n",
      "14 android.widget.TextView\n",
      "{'text': 'Kochie', 'resource-id': 'com.twitter.android:id/trend_title', 'class': 'android.widget.TextView', 'package': 'com.twitter.android', 'content-desc': '', 'checkable': False, 'checked': False, 'clickable': False, 'enabled': True, 'focusable': False, 'focused': False, 'scrollable': False, 'long-clickable': False, 'password': False, 'selected': False, 'bounds': [44, 407, 177, 457], 'id': 14} \n",
      "\n",
      "15 android.widget.ImageView\n",
      "{'text': '', 'resource-id': 'com.twitter.android:id/trend_curation_action', 'class': 'android.widget.ImageView', 'package': 'com.twitter.android', 'content-desc': 'Trend options', 'checkable': False, 'checked': False, 'clickable': True, 'enabled': True, 'focusable': True, 'focused': False, 'scrollable': False, 'long-clickable': False, 'password': False, 'selected': False, 'bounds': [970, 352, 1058, 423], 'id': 15} \n",
      "\n",
      "16 android.view.ViewGroup\n",
      "{'text': '', 'resource-id': '', 'class': 'android.view.ViewGroup', 'package': 'com.twitter.android', 'content-desc': '', 'checkable': False, 'checked': False, 'clickable': True, 'enabled': True, 'focusable': True, 'focused': False, 'scrollable': False, 'long-clickable': False, 'password': False, 'selected': False, 'bounds': [0, 517, 1080, 754], 'id': 16, 'children-id': []} \n",
      "\n",
      "17 android.widget.TextView\n",
      "{'text': '2 Â· Cricket Â· Trending', 'resource-id': 'com.twitter.android:id/trend_ranked_domain_context', 'class': 'android.widget.TextView', 'package': 'com.twitter.android', 'content-desc': '', 'checkable': False, 'checked': False, 'clickable': False, 'enabled': True, 'focusable': False, 'focused': False, 'scrollable': False, 'long-clickable': False, 'password': False, 'selected': False, 'bounds': [44, 550, 397, 594], 'id': 17} \n",
      "\n",
      "18 android.widget.TextView\n",
      "{'text': '#NZvENG', 'resource-id': 'com.twitter.android:id/trend_title', 'class': 'android.widget.TextView', 'package': 'com.twitter.android', 'content-desc': '', 'checkable': False, 'checked': False, 'clickable': False, 'enabled': True, 'focusable': False, 'focused': False, 'scrollable': False, 'long-clickable': False, 'password': False, 'selected': False, 'bounds': [44, 605, 237, 655], 'id': 18} \n",
      "\n",
      "19 android.widget.ImageView\n",
      "{'text': '', 'resource-id': 'com.twitter.android:id/trend_curation_action', 'class': 'android.widget.ImageView', 'package': 'com.twitter.android', 'content-desc': 'Trend options', 'checkable': False, 'checked': False, 'clickable': True, 'enabled': True, 'focusable': True, 'focused': False, 'scrollable': False, 'long-clickable': False, 'password': False, 'selected': False, 'bounds': [970, 550, 1058, 621], 'id': 19} \n",
      "\n"
     ]
    },
    {
     "name": "stdout",
     "output_type": "stream",
     "text": [
      "20 android.widget.TextView\n",
      "{'text': '31.6K Tweets', 'resource-id': 'com.twitter.android:id/trend_metadata', 'class': 'android.widget.TextView', 'package': 'com.twitter.android', 'content-desc': '', 'checkable': False, 'checked': False, 'clickable': False, 'enabled': True, 'focusable': False, 'focused': False, 'scrollable': False, 'long-clickable': False, 'password': False, 'selected': False, 'bounds': [44, 666, 258, 710], 'id': 20} \n",
      "\n"
     ]
    }
   ],
   "source": [
    "gui.show_elements()"
   ]
  },
  {
   "cell_type": "code",
   "execution_count": null,
   "id": "0a19de4c",
   "metadata": {},
   "outputs": [],
   "source": []
  },
  {
   "cell_type": "code",
   "execution_count": null,
   "id": "da569678",
   "metadata": {},
   "outputs": [],
   "source": []
  },
  {
   "cell_type": "code",
   "execution_count": null,
   "id": "73e94ca8",
   "metadata": {},
   "outputs": [],
   "source": []
  },
  {
   "cell_type": "code",
   "execution_count": null,
   "id": "dba77e01",
   "metadata": {},
   "outputs": [],
   "source": []
  },
  {
   "cell_type": "code",
   "execution_count": 4,
   "id": "78518103",
   "metadata": {},
   "outputs": [],
   "source": [
    "gui.show_all_elements()"
   ]
  },
  {
   "cell_type": "code",
   "execution_count": 4,
   "id": "505438b2",
   "metadata": {},
   "outputs": [
    {
     "name": "stdout",
     "output_type": "stream",
     "text": [
      "6 android.widget.ScrollView\n",
      "{'text': '', 'resource-id': 'com.twitter.android:id/root_coordinator_layout', 'class': 'android.widget.ScrollView', 'package': 'com.twitter.android', 'content-desc': '', 'checkable': False, 'checked': False, 'clickable': False, 'enabled': True, 'focusable': False, 'focused': False, 'scrollable': True, 'long-clickable': False, 'password': False, 'selected': False, 'bounds': [0, 66, 1080, 2214], 'id': 6, 'children-id': [7, 101, 103]} \n",
      "\n",
      "7 androidx.viewpager.widget.ViewPager\n",
      "{'text': '', 'resource-id': 'com.twitter.android:id/pager', 'class': 'androidx.viewpager.widget.ViewPager', 'package': 'com.twitter.android', 'content-desc': '', 'checkable': False, 'checked': False, 'clickable': False, 'enabled': True, 'focusable': True, 'focused': False, 'scrollable': True, 'long-clickable': False, 'password': False, 'selected': False, 'bounds': [0, 66, 1080, 2214], 'id': 7, 'children-id': [8]} \n",
      "\n",
      "9 androidx.viewpager.widget.ViewPager\n",
      "{'text': '', 'resource-id': 'com.twitter.android:id/view_pager', 'class': 'androidx.viewpager.widget.ViewPager', 'package': 'com.twitter.android', 'content-desc': '', 'checkable': False, 'checked': False, 'clickable': False, 'enabled': True, 'focusable': True, 'focused': False, 'scrollable': True, 'long-clickable': False, 'password': False, 'selected': False, 'bounds': [0, 66, 1080, 2060], 'id': 9, 'children-id': [10, 16]} \n",
      "\n",
      "10 android.widget.HorizontalScrollView\n",
      "{'text': '', 'resource-id': 'com.twitter.android:id/tab_layout', 'class': 'android.widget.HorizontalScrollView', 'package': 'com.twitter.android', 'content-desc': '', 'checkable': False, 'checked': False, 'clickable': False, 'enabled': True, 'focusable': True, 'focused': False, 'scrollable': False, 'long-clickable': False, 'password': False, 'selected': False, 'bounds': [0, 66, 1080, 198], 'id': 10, 'children-id': [11]} \n",
      "\n",
      "12 android.widget.LinearLayout\n",
      "{'text': '', 'resource-id': '', 'class': 'android.widget.LinearLayout', 'package': 'com.twitter.android', 'content-desc': 'For you', 'checkable': False, 'checked': False, 'clickable': True, 'enabled': True, 'focusable': True, 'focused': False, 'scrollable': False, 'long-clickable': False, 'password': False, 'selected': False, 'bounds': [0, 66, 533, 198], 'id': 12, 'children-id': [13]} \n",
      "\n",
      "13 android.widget.TextView\n",
      "{'text': 'For you', 'resource-id': '', 'class': 'android.widget.TextView', 'package': 'com.twitter.android', 'content-desc': '', 'checkable': False, 'checked': False, 'clickable': False, 'enabled': True, 'focusable': False, 'focused': False, 'scrollable': False, 'long-clickable': False, 'password': False, 'selected': False, 'bounds': [189, 107, 343, 157], 'id': 13} \n",
      "\n",
      "15 android.widget.TextView\n",
      "{'text': 'Trending', 'resource-id': '', 'class': 'android.widget.TextView', 'package': 'com.twitter.android', 'content-desc': '', 'checkable': False, 'checked': False, 'clickable': False, 'enabled': True, 'focusable': False, 'focused': False, 'scrollable': False, 'long-clickable': False, 'password': False, 'selected': True, 'bounds': [722, 107, 890, 157], 'id': 15} \n",
      "\n",
      "18 android.view.ViewGroup\n",
      "{'text': '', 'resource-id': '', 'class': 'android.view.ViewGroup', 'package': 'com.twitter.android', 'content-desc': '', 'checkable': False, 'checked': False, 'clickable': False, 'enabled': True, 'focusable': False, 'focused': False, 'scrollable': False, 'long-clickable': False, 'password': False, 'selected': False, 'bounds': [0, 198, 1080, 2060], 'id': 18, 'children-id': [19]} \n",
      "\n",
      "19 androidx.recyclerview.widget.RecyclerView\n",
      "{'text': '', 'resource-id': 'android:id/list', 'class': 'androidx.recyclerview.widget.RecyclerView', 'package': 'com.twitter.android', 'content-desc': '', 'checkable': False, 'checked': False, 'clickable': False, 'enabled': True, 'focusable': True, 'focused': False, 'scrollable': True, 'long-clickable': False, 'password': False, 'selected': False, 'bounds': [0, 198, 1080, 2060], 'id': 19, 'children-id': [20, 25, 33, 43, 53, 63, 73, 83, 93]} \n",
      "\n",
      "20 android.view.ViewGroup\n",
      "{'text': '', 'resource-id': '', 'class': 'android.view.ViewGroup', 'package': 'com.twitter.android', 'content-desc': '', 'checkable': False, 'checked': False, 'clickable': False, 'enabled': True, 'focusable': True, 'focused': False, 'scrollable': False, 'long-clickable': False, 'password': False, 'selected': False, 'bounds': [0, 198, 1080, 319], 'id': 20, 'children-id': [21]} \n",
      "\n",
      "24 android.widget.TextView\n",
      "{'text': 'Australia trends', 'resource-id': 'com.twitter.android:id/title', 'class': 'android.widget.TextView', 'package': 'com.twitter.android', 'content-desc': '', 'checkable': False, 'checked': False, 'clickable': False, 'enabled': True, 'focusable': False, 'focused': False, 'scrollable': False, 'long-clickable': False, 'password': False, 'selected': False, 'bounds': [33, 225, 1047, 286], 'id': 24} \n",
      "\n",
      "25 android.view.ViewGroup\n",
      "{'text': '', 'resource-id': '', 'class': 'android.view.ViewGroup', 'package': 'com.twitter.android', 'content-desc': '', 'checkable': False, 'checked': False, 'clickable': True, 'enabled': True, 'focusable': True, 'focused': False, 'scrollable': False, 'long-clickable': False, 'password': False, 'selected': False, 'bounds': [0, 319, 1080, 517], 'id': 25, 'children-id': [26]} \n",
      "\n"
     ]
    }
   ],
   "source": [
    "gui.show_elements()"
   ]
  },
  {
   "cell_type": "code",
   "execution_count": null,
   "id": "54fa435b",
   "metadata": {},
   "outputs": [],
   "source": []
  }
 ],
 "metadata": {
  "kernelspec": {
   "display_name": "Python 3 (ipykernel)",
   "language": "python",
   "name": "python3"
  },
  "language_info": {
   "codemirror_mode": {
    "name": "ipython",
    "version": 3
   },
   "file_extension": ".py",
   "mimetype": "text/x-python",
   "name": "python",
   "nbconvert_exporter": "python",
   "pygments_lexer": "ipython3",
   "version": "3.10.10"
  }
 },
 "nbformat": 4,
 "nbformat_minor": 5
}
