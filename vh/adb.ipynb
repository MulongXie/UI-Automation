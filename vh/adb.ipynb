{
 "cells": [
  {
   "cell_type": "code",
   "execution_count": 1,
   "id": "bdfc4807",
   "metadata": {},
   "outputs": [],
   "source": [
    "from Device import Device\n",
    "from GUIData import GUIData\n",
    "from ppadb.client import Client as AdbClient\n",
    "client = AdbClient(host=\"127.0.0.1\", port=5037)\n",
    "device = Device(client.devices()[0], 'data')"
   ]
  },
  {
   "cell_type": "code",
   "execution_count": 2,
   "id": "d2fa17ac",
   "metadata": {},
   "outputs": [
    {
     "name": "stdout",
     "output_type": "stream",
     "text": [
      "Save screenshot to data\\emulator-5554.png\n",
      "Save view hierarchy to data\\emulator-5554.json\n",
      "Save reformatted vh to data\\emulator-5554.json\n"
     ]
    }
   ],
   "source": [
    "device.cap_screenshot()\n",
    "device.cap_vh()\n",
    "device.cvt_vh_to_rico_format()"
   ]
  },
  {
   "cell_type": "code",
   "execution_count": null,
   "id": "9846de3c",
   "metadata": {},
   "outputs": [],
   "source": []
  },
  {
   "cell_type": "code",
   "execution_count": null,
   "id": "836c3288",
   "metadata": {},
   "outputs": [],
   "source": [
    "gui = GUIData(device.screenshot_path, device.vh_json_path)\n",
    "gui.extract_elements_from_vh()\n",
    "gui.show_all_elements()"
   ]
  },
  {
   "cell_type": "code",
   "execution_count": null,
   "id": "c4494fd2",
   "metadata": {},
   "outputs": [],
   "source": []
  },
  {
   "cell_type": "code",
   "execution_count": 4,
   "id": "a1f021a7",
   "metadata": {},
   "outputs": [
    {
     "name": "stdout",
     "output_type": "stream",
     "text": [
      "6 android.widget.ScrollView\n",
      "{'text': '', 'resource-id': 'com.twitter.android:id/root_coordinator_layout', 'class': 'android.widget.ScrollView', 'package': 'com.twitter.android', 'content-desc': '', 'checkable': False, 'checked': False, 'clickable': False, 'enabled': True, 'focusable': False, 'focused': False, 'scrollable': True, 'long-clickable': False, 'password': False, 'selected': False, 'bounds': [0, 66, 1080, 2214], 'id': 6, 'children-id': [7, 101, 103]} \n",
      "\n",
      "7 androidx.viewpager.widget.ViewPager\n",
      "{'text': '', 'resource-id': 'com.twitter.android:id/pager', 'class': 'androidx.viewpager.widget.ViewPager', 'package': 'com.twitter.android', 'content-desc': '', 'checkable': False, 'checked': False, 'clickable': False, 'enabled': True, 'focusable': True, 'focused': False, 'scrollable': True, 'long-clickable': False, 'password': False, 'selected': False, 'bounds': [0, 66, 1080, 2214], 'id': 7, 'children-id': [8]} \n",
      "\n",
      "9 androidx.viewpager.widget.ViewPager\n",
      "{'text': '', 'resource-id': 'com.twitter.android:id/view_pager', 'class': 'androidx.viewpager.widget.ViewPager', 'package': 'com.twitter.android', 'content-desc': '', 'checkable': False, 'checked': False, 'clickable': False, 'enabled': True, 'focusable': True, 'focused': False, 'scrollable': True, 'long-clickable': False, 'password': False, 'selected': False, 'bounds': [0, 66, 1080, 2060], 'id': 9, 'children-id': [10, 16]} \n",
      "\n",
      "10 android.widget.HorizontalScrollView\n",
      "{'text': '', 'resource-id': 'com.twitter.android:id/tab_layout', 'class': 'android.widget.HorizontalScrollView', 'package': 'com.twitter.android', 'content-desc': '', 'checkable': False, 'checked': False, 'clickable': False, 'enabled': True, 'focusable': True, 'focused': False, 'scrollable': False, 'long-clickable': False, 'password': False, 'selected': False, 'bounds': [0, 66, 1080, 198], 'id': 10, 'children-id': [11]} \n",
      "\n",
      "12 android.widget.LinearLayout\n",
      "{'text': '', 'resource-id': '', 'class': 'android.widget.LinearLayout', 'package': 'com.twitter.android', 'content-desc': 'For you', 'checkable': False, 'checked': False, 'clickable': True, 'enabled': True, 'focusable': True, 'focused': False, 'scrollable': False, 'long-clickable': False, 'password': False, 'selected': False, 'bounds': [0, 66, 533, 198], 'id': 12, 'children-id': [13]} \n",
      "\n",
      "13 android.widget.TextView\n",
      "{'text': 'For you', 'resource-id': '', 'class': 'android.widget.TextView', 'package': 'com.twitter.android', 'content-desc': '', 'checkable': False, 'checked': False, 'clickable': False, 'enabled': True, 'focusable': False, 'focused': False, 'scrollable': False, 'long-clickable': False, 'password': False, 'selected': False, 'bounds': [189, 107, 343, 157], 'id': 13} \n",
      "\n",
      "15 android.widget.TextView\n",
      "{'text': 'Trending', 'resource-id': '', 'class': 'android.widget.TextView', 'package': 'com.twitter.android', 'content-desc': '', 'checkable': False, 'checked': False, 'clickable': False, 'enabled': True, 'focusable': False, 'focused': False, 'scrollable': False, 'long-clickable': False, 'password': False, 'selected': True, 'bounds': [722, 107, 890, 157], 'id': 15} \n",
      "\n"
     ]
    }
   ],
   "source": [
    "gui.show_elements()"
   ]
  },
  {
   "cell_type": "code",
   "execution_count": null,
   "id": "2f97d7da",
   "metadata": {},
   "outputs": [],
   "source": []
  },
  {
   "cell_type": "code",
   "execution_count": 5,
   "id": "fe2d552e",
   "metadata": {},
   "outputs": [],
   "source": [
    "elements = gui.elements"
   ]
  },
  {
   "cell_type": "code",
   "execution_count": 6,
   "id": "305078c8",
   "metadata": {},
   "outputs": [],
   "source": [
    "nodes = []\n",
    "for ele in elements:\n",
    "    if 'children-id' not in ele:\n",
    "        nodes.append(ele)"
   ]
  },
  {
   "cell_type": "code",
   "execution_count": 7,
   "id": "f55ebe17",
   "metadata": {},
   "outputs": [
    {
     "name": "stdout",
     "output_type": "stream",
     "text": [
      "{'text': 'For you', 'resource-id': '', 'class': 'android.widget.TextView', 'package': 'com.twitter.android', 'content-desc': '', 'checkable': 'false', 'checked': 'false', 'clickable': 'false', 'enabled': 'true', 'focusable': 'false', 'focused': 'false', 'scrollable': 'false', 'long-clickable': 'false', 'password': 'false', 'selected': 'false', 'bounds': [189, 107, 343, 157], 'id': 13}\n",
      "{'text': 'Trending', 'resource-id': '', 'class': 'android.widget.TextView', 'package': 'com.twitter.android', 'content-desc': '', 'checkable': 'false', 'checked': 'false', 'clickable': 'false', 'enabled': 'true', 'focusable': 'false', 'focused': 'false', 'scrollable': 'false', 'long-clickable': 'false', 'password': 'false', 'selected': 'true', 'bounds': [722, 107, 890, 157], 'id': 15}\n",
      "{'text': 'Australia trends', 'resource-id': 'com.twitter.android:id/title', 'class': 'android.widget.TextView', 'package': 'com.twitter.android', 'content-desc': '', 'checkable': 'false', 'checked': 'false', 'clickable': 'false', 'enabled': 'true', 'focusable': 'false', 'focused': 'false', 'scrollable': 'false', 'long-clickable': 'false', 'password': 'false', 'selected': 'false', 'bounds': [33, 225, 1047, 286], 'id': 24}\n",
      "{'text': '1 Â· Trending', 'resource-id': 'com.twitter.android:id/trend_ranked_domain_context', 'class': 'android.widget.TextView', 'package': 'com.twitter.android', 'content-desc': '', 'checkable': 'false', 'checked': 'false', 'clickable': 'false', 'enabled': 'true', 'focusable': 'false', 'focused': 'false', 'scrollable': 'false', 'long-clickable': 'false', 'password': 'false', 'selected': 'false', 'bounds': [44, 352, 238, 396], 'id': 30}\n",
      "{'text': 'Kochie', 'resource-id': 'com.twitter.android:id/trend_title', 'class': 'android.widget.TextView', 'package': 'com.twitter.android', 'content-desc': '', 'checkable': 'false', 'checked': 'false', 'clickable': 'false', 'enabled': 'true', 'focusable': 'false', 'focused': 'false', 'scrollable': 'false', 'long-clickable': 'false', 'password': 'false', 'selected': 'false', 'bounds': [44, 407, 177, 457], 'id': 31}\n",
      "{'text': '', 'resource-id': 'com.twitter.android:id/trend_curation_action', 'class': 'android.widget.ImageView', 'package': 'com.twitter.android', 'content-desc': 'Trend options', 'checkable': 'false', 'checked': 'false', 'clickable': 'true', 'enabled': 'true', 'focusable': 'true', 'focused': 'false', 'scrollable': 'false', 'long-clickable': 'false', 'password': 'false', 'selected': 'false', 'bounds': [970, 352, 1058, 423], 'id': 32}\n",
      "{'text': '2 Â· Cricket Â· Trending', 'resource-id': 'com.twitter.android:id/trend_ranked_domain_context', 'class': 'android.widget.TextView', 'package': 'com.twitter.android', 'content-desc': '', 'checkable': 'false', 'checked': 'false', 'clickable': 'false', 'enabled': 'true', 'focusable': 'false', 'focused': 'false', 'scrollable': 'false', 'long-clickable': 'false', 'password': 'false', 'selected': 'false', 'bounds': [44, 550, 397, 594], 'id': 38}\n",
      "{'text': '#NZvENG', 'resource-id': 'com.twitter.android:id/trend_title', 'class': 'android.widget.TextView', 'package': 'com.twitter.android', 'content-desc': '', 'checkable': 'false', 'checked': 'false', 'clickable': 'false', 'enabled': 'true', 'focusable': 'false', 'focused': 'false', 'scrollable': 'false', 'long-clickable': 'false', 'password': 'false', 'selected': 'false', 'bounds': [44, 605, 237, 655], 'id': 39}\n",
      "{'text': '', 'resource-id': 'com.twitter.android:id/trend_curation_action', 'class': 'android.widget.ImageView', 'package': 'com.twitter.android', 'content-desc': 'Trend options', 'checkable': 'false', 'checked': 'false', 'clickable': 'true', 'enabled': 'true', 'focusable': 'true', 'focused': 'false', 'scrollable': 'false', 'long-clickable': 'false', 'password': 'false', 'selected': 'false', 'bounds': [970, 550, 1058, 621], 'id': 40}\n",
      "{'text': '31.6K Tweets', 'resource-id': 'com.twitter.android:id/trend_metadata', 'class': 'android.widget.TextView', 'package': 'com.twitter.android', 'content-desc': '', 'checkable': 'false', 'checked': 'false', 'clickable': 'false', 'enabled': 'true', 'focusable': 'false', 'focused': 'false', 'scrollable': 'false', 'long-clickable': 'false', 'password': 'false', 'selected': 'false', 'bounds': [44, 666, 258, 710], 'id': 42}\n",
      "{'text': '3 Â· Politics Â· Trending', 'resource-id': 'com.twitter.android:id/trend_ranked_domain_context', 'class': 'android.widget.TextView', 'package': 'com.twitter.android', 'content-desc': '', 'checkable': 'false', 'checked': 'false', 'clickable': 'false', 'enabled': 'true', 'focusable': 'false', 'focused': 'false', 'scrollable': 'false', 'long-clickable': 'false', 'password': 'false', 'selected': 'false', 'bounds': [44, 787, 400, 831], 'id': 48}\n",
      "{'text': '#superannuation', 'resource-id': 'com.twitter.android:id/trend_title', 'class': 'android.widget.TextView', 'package': 'com.twitter.android', 'content-desc': '', 'checkable': 'false', 'checked': 'false', 'clickable': 'false', 'enabled': 'true', 'focusable': 'false', 'focused': 'false', 'scrollable': 'false', 'long-clickable': 'false', 'password': 'false', 'selected': 'false', 'bounds': [44, 842, 374, 892], 'id': 49}\n",
      "{'text': '', 'resource-id': 'com.twitter.android:id/trend_curation_action', 'class': 'android.widget.ImageView', 'package': 'com.twitter.android', 'content-desc': 'Trend options', 'checkable': 'false', 'checked': 'false', 'clickable': 'true', 'enabled': 'true', 'focusable': 'true', 'focused': 'false', 'scrollable': 'false', 'long-clickable': 'false', 'password': 'false', 'selected': 'false', 'bounds': [970, 787, 1058, 858], 'id': 50}\n",
      "{'text': '2,935 Tweets', 'resource-id': 'com.twitter.android:id/trend_metadata', 'class': 'android.widget.TextView', 'package': 'com.twitter.android', 'content-desc': '', 'checkable': 'false', 'checked': 'false', 'clickable': 'false', 'enabled': 'true', 'focusable': 'false', 'focused': 'false', 'scrollable': 'false', 'long-clickable': 'false', 'password': 'false', 'selected': 'false', 'bounds': [44, 903, 263, 947], 'id': 52}\n",
      "{'text': '4 Â· Trending', 'resource-id': 'com.twitter.android:id/trend_ranked_domain_context', 'class': 'android.widget.TextView', 'package': 'com.twitter.android', 'content-desc': '', 'checkable': 'false', 'checked': 'false', 'clickable': 'false', 'enabled': 'true', 'focusable': 'false', 'focused': 'false', 'scrollable': 'false', 'long-clickable': 'false', 'password': 'false', 'selected': 'false', 'bounds': [44, 1024, 245, 1068], 'id': 58}\n",
      "{'text': 'Angus Taylor', 'resource-id': 'com.twitter.android:id/trend_title', 'class': 'android.widget.TextView', 'package': 'com.twitter.android', 'content-desc': '', 'checkable': 'false', 'checked': 'false', 'clickable': 'false', 'enabled': 'true', 'focusable': 'false', 'focused': 'false', 'scrollable': 'false', 'long-clickable': 'false', 'password': 'false', 'selected': 'false', 'bounds': [44, 1079, 292, 1129], 'id': 59}\n",
      "{'text': '', 'resource-id': 'com.twitter.android:id/trend_curation_action', 'class': 'android.widget.ImageView', 'package': 'com.twitter.android', 'content-desc': 'Trend options', 'checkable': 'false', 'checked': 'false', 'clickable': 'true', 'enabled': 'true', 'focusable': 'true', 'focused': 'false', 'scrollable': 'false', 'long-clickable': 'false', 'password': 'false', 'selected': 'false', 'bounds': [970, 1024, 1058, 1095], 'id': 60}\n",
      "{'text': '4,446 Tweets', 'resource-id': 'com.twitter.android:id/trend_metadata', 'class': 'android.widget.TextView', 'package': 'com.twitter.android', 'content-desc': '', 'checkable': 'false', 'checked': 'false', 'clickable': 'false', 'enabled': 'true', 'focusable': 'false', 'focused': 'false', 'scrollable': 'false', 'long-clickable': 'false', 'password': 'false', 'selected': 'false', 'bounds': [44, 1140, 266, 1184], 'id': 62}\n",
      "{'text': '5 Â· Trending', 'resource-id': 'com.twitter.android:id/trend_ranked_domain_context', 'class': 'android.widget.TextView', 'package': 'com.twitter.android', 'content-desc': '', 'checkable': 'false', 'checked': 'false', 'clickable': 'false', 'enabled': 'true', 'focusable': 'false', 'focused': 'false', 'scrollable': 'false', 'long-clickable': 'false', 'password': 'false', 'selected': 'false', 'bounds': [44, 1261, 244, 1305], 'id': 68}\n",
      "{'text': 'Stuart Robert', 'resource-id': 'com.twitter.android:id/trend_title', 'class': 'android.widget.TextView', 'package': 'com.twitter.android', 'content-desc': '', 'checkable': 'false', 'checked': 'false', 'clickable': 'false', 'enabled': 'true', 'focusable': 'false', 'focused': 'false', 'scrollable': 'false', 'long-clickable': 'false', 'password': 'false', 'selected': 'false', 'bounds': [44, 1316, 308, 1366], 'id': 69}\n",
      "{'text': '', 'resource-id': 'com.twitter.android:id/trend_curation_action', 'class': 'android.widget.ImageView', 'package': 'com.twitter.android', 'content-desc': 'Trend options', 'checkable': 'false', 'checked': 'false', 'clickable': 'true', 'enabled': 'true', 'focusable': 'true', 'focused': 'false', 'scrollable': 'false', 'long-clickable': 'false', 'password': 'false', 'selected': 'false', 'bounds': [970, 1261, 1058, 1332], 'id': 70}\n",
      "{'text': '5,886 Tweets', 'resource-id': 'com.twitter.android:id/trend_metadata', 'class': 'android.widget.TextView', 'package': 'com.twitter.android', 'content-desc': '', 'checkable': 'false', 'checked': 'false', 'clickable': 'false', 'enabled': 'true', 'focusable': 'false', 'focused': 'false', 'scrollable': 'false', 'long-clickable': 'false', 'password': 'false', 'selected': 'false', 'bounds': [44, 1377, 263, 1421], 'id': 72}\n",
      "{'text': '6 Â· Jungkook Â· Trending', 'resource-id': 'com.twitter.android:id/trend_ranked_domain_context', 'class': 'android.widget.TextView', 'package': 'com.twitter.android', 'content-desc': '', 'checkable': 'false', 'checked': 'false', 'clickable': 'false', 'enabled': 'true', 'focusable': 'false', 'focused': 'false', 'scrollable': 'false', 'long-clickable': 'false', 'password': 'false', 'selected': 'false', 'bounds': [44, 1498, 434, 1542], 'id': 78}\n",
      "{'text': 'jungkook', 'resource-id': 'com.twitter.android:id/trend_title', 'class': 'android.widget.TextView', 'package': 'com.twitter.android', 'content-desc': '', 'checkable': 'false', 'checked': 'false', 'clickable': 'false', 'enabled': 'true', 'focusable': 'false', 'focused': 'false', 'scrollable': 'false', 'long-clickable': 'false', 'password': 'false', 'selected': 'false', 'bounds': [44, 1553, 220, 1603], 'id': 79}\n",
      "{'text': '', 'resource-id': 'com.twitter.android:id/trend_curation_action', 'class': 'android.widget.ImageView', 'package': 'com.twitter.android', 'content-desc': 'Trend options', 'checkable': 'false', 'checked': 'false', 'clickable': 'true', 'enabled': 'true', 'focusable': 'true', 'focused': 'false', 'scrollable': 'false', 'long-clickable': 'false', 'password': 'false', 'selected': 'false', 'bounds': [970, 1498, 1058, 1569], 'id': 80}\n",
      "{'text': '851K Tweets', 'resource-id': 'com.twitter.android:id/trend_metadata', 'class': 'android.widget.TextView', 'package': 'com.twitter.android', 'content-desc': '', 'checkable': 'false', 'checked': 'false', 'clickable': 'false', 'enabled': 'true', 'focusable': 'false', 'focused': 'false', 'scrollable': 'false', 'long-clickable': 'false', 'password': 'false', 'selected': 'false', 'bounds': [44, 1614, 248, 1658], 'id': 82}\n",
      "{'text': '7 Â· Only on Twitter Â· Trending', 'resource-id': 'com.twitter.android:id/trend_ranked_domain_context', 'class': 'android.widget.TextView', 'package': 'com.twitter.android', 'content-desc': '', 'checkable': 'false', 'checked': 'false', 'clickable': 'false', 'enabled': 'true', 'focusable': 'false', 'focused': 'false', 'scrollable': 'false', 'long-clickable': 'false', 'password': 'false', 'selected': 'false', 'bounds': [44, 1735, 528, 1779], 'id': 88}\n",
      "{'text': 'Autumn', 'resource-id': 'com.twitter.android:id/trend_title', 'class': 'android.widget.TextView', 'package': 'com.twitter.android', 'content-desc': '', 'checkable': 'false', 'checked': 'false', 'clickable': 'false', 'enabled': 'true', 'focusable': 'false', 'focused': 'false', 'scrollable': 'false', 'long-clickable': 'false', 'password': 'false', 'selected': 'false', 'bounds': [44, 1790, 197, 1840], 'id': 89}\n",
      "{'text': '', 'resource-id': 'com.twitter.android:id/trend_curation_action', 'class': 'android.widget.ImageView', 'package': 'com.twitter.android', 'content-desc': 'Trend options', 'checkable': 'false', 'checked': 'false', 'clickable': 'true', 'enabled': 'true', 'focusable': 'true', 'focused': 'false', 'scrollable': 'false', 'long-clickable': 'false', 'password': 'false', 'selected': 'false', 'bounds': [970, 1735, 1058, 1806], 'id': 90}\n",
      "{'text': '87.8K Tweets', 'resource-id': 'com.twitter.android:id/trend_metadata', 'class': 'android.widget.TextView', 'package': 'com.twitter.android', 'content-desc': '', 'checkable': 'false', 'checked': 'false', 'clickable': 'false', 'enabled': 'true', 'focusable': 'false', 'focused': 'false', 'scrollable': 'false', 'long-clickable': 'false', 'password': 'false', 'selected': 'false', 'bounds': [44, 1851, 258, 1895], 'id': 92}\n",
      "{'text': '8 Â· Trending', 'resource-id': 'com.twitter.android:id/trend_ranked_domain_context', 'class': 'android.widget.TextView', 'package': 'com.twitter.android', 'content-desc': '', 'checkable': 'false', 'checked': 'false', 'clickable': 'false', 'enabled': 'true', 'focusable': 'false', 'focused': 'false', 'scrollable': 'false', 'long-clickable': 'false', 'password': 'false', 'selected': 'false', 'bounds': [44, 1972, 245, 2016], 'id': 98}\n",
      "{'text': 'Father Bob', 'resource-id': 'com.twitter.android:id/trend_title', 'class': 'android.widget.TextView', 'package': 'com.twitter.android', 'content-desc': '', 'checkable': 'false', 'checked': 'false', 'clickable': 'false', 'enabled': 'true', 'focusable': 'false', 'focused': 'false', 'scrollable': 'false', 'long-clickable': 'false', 'password': 'false', 'selected': 'false', 'bounds': [44, 2027, 257, 2060], 'id': 99}\n",
      "{'text': '', 'resource-id': 'com.twitter.android:id/trend_curation_action', 'class': 'android.widget.ImageView', 'package': 'com.twitter.android', 'content-desc': 'Trend options', 'checkable': 'false', 'checked': 'false', 'clickable': 'true', 'enabled': 'true', 'focusable': 'true', 'focused': 'false', 'scrollable': 'false', 'long-clickable': 'false', 'password': 'false', 'selected': 'false', 'bounds': [970, 1972, 1058, 2043], 'id': 100}\n",
      "{'text': '', 'resource-id': 'com.twitter.android:id/composer_write', 'class': 'android.widget.ImageButton', 'package': 'com.twitter.android', 'content-desc': 'New Tweet', 'checkable': 'false', 'checked': 'false', 'clickable': 'true', 'enabled': 'true', 'focusable': 'true', 'focused': 'false', 'scrollable': 'false', 'long-clickable': 'false', 'password': 'false', 'selected': 'false', 'bounds': [882, 1862, 1036, 2016], 'id': 102}\n",
      "{'text': '', 'resource-id': 'com.twitter.android:id/channels', 'class': 'android.view.View', 'package': 'com.twitter.android', 'content-desc': '', 'checkable': 'false', 'checked': 'false', 'clickable': 'false', 'enabled': 'true', 'focusable': 'false', 'focused': 'false', 'scrollable': 'false', 'long-clickable': 'false', 'password': 'false', 'selected': 'false', 'bounds': [33, 2060, 183, 2214], 'id': 108}\n",
      "{'text': '', 'resource-id': '', 'class': 'android.view.View', 'package': 'com.twitter.android', 'content-desc': '', 'checkable': 'false', 'checked': 'false', 'clickable': 'false', 'enabled': 'true', 'focusable': 'false', 'focused': 'false', 'scrollable': 'false', 'long-clickable': 'false', 'password': 'false', 'selected': 'true', 'bounds': [249, 2060, 399, 2214], 'id': 110}\n",
      "{'text': '', 'resource-id': 'com.twitter.android:id/spaces', 'class': 'android.view.View', 'package': 'com.twitter.android', 'content-desc': '', 'checkable': 'false', 'checked': 'false', 'clickable': 'false', 'enabled': 'true', 'focusable': 'false', 'focused': 'false', 'scrollable': 'false', 'long-clickable': 'false', 'password': 'false', 'selected': 'false', 'bounds': [465, 2060, 615, 2214], 'id': 112}\n",
      "{'text': '', 'resource-id': 'com.twitter.android:id/notifications', 'class': 'android.view.View', 'package': 'com.twitter.android', 'content-desc': '', 'checkable': 'false', 'checked': 'false', 'clickable': 'false', 'enabled': 'true', 'focusable': 'false', 'focused': 'false', 'scrollable': 'false', 'long-clickable': 'false', 'password': 'false', 'selected': 'false', 'bounds': [681, 2060, 831, 2214], 'id': 114}\n",
      "{'text': '', 'resource-id': 'com.twitter.android:id/dms', 'class': 'android.view.View', 'package': 'com.twitter.android', 'content-desc': '', 'checkable': 'false', 'checked': 'false', 'clickable': 'false', 'enabled': 'true', 'focusable': 'false', 'focused': 'false', 'scrollable': 'false', 'long-clickable': 'false', 'password': 'false', 'selected': 'false', 'bounds': [897, 2060, 1047, 2214], 'id': 116}\n",
      "{'text': '', 'resource-id': 'android:id/statusBarBackground', 'class': 'android.view.View', 'package': 'com.twitter.android', 'content-desc': '', 'checkable': 'false', 'checked': 'false', 'clickable': 'false', 'enabled': 'true', 'focusable': 'false', 'focused': 'false', 'scrollable': 'false', 'long-clickable': 'false', 'password': 'false', 'selected': 'false', 'bounds': [0, 0, 1080, 66], 'id': 117}\n"
     ]
    }
   ],
   "source": [
    "for node in nodes:\n",
    "    print(node)"
   ]
  },
  {
   "cell_type": "code",
   "execution_count": 5,
   "id": "815d9c9a",
   "metadata": {},
   "outputs": [],
   "source": [
    "l = 'false'"
   ]
  },
  {
   "cell_type": "code",
   "execution_count": 8,
   "id": "46a5e7a9",
   "metadata": {},
   "outputs": [
    {
     "data": {
      "text/plain": [
       "True"
      ]
     },
     "execution_count": 8,
     "metadata": {},
     "output_type": "execute_result"
    }
   ],
   "source": [
    "bool(l)"
   ]
  },
  {
   "cell_type": "code",
   "execution_count": null,
   "id": "75612c68",
   "metadata": {},
   "outputs": [],
   "source": []
  },
  {
   "cell_type": "code",
   "execution_count": null,
   "id": "f7db840e",
   "metadata": {},
   "outputs": [],
   "source": []
  }
 ],
 "metadata": {
  "kernelspec": {
   "display_name": "Python 3 (ipykernel)",
   "language": "python",
   "name": "python3"
  },
  "language_info": {
   "codemirror_mode": {
    "name": "ipython",
    "version": 3
   },
   "file_extension": ".py",
   "mimetype": "text/x-python",
   "name": "python",
   "nbconvert_exporter": "python",
   "pygments_lexer": "ipython3",
   "version": "3.10.10"
  }
 },
 "nbformat": 4,
 "nbformat_minor": 5
}
