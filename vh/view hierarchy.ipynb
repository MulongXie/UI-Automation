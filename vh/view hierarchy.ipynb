{
 "cells": [
  {
   "cell_type": "code",
   "execution_count": 1,
   "id": "d388e41e",
   "metadata": {},
   "outputs": [],
   "source": [
    "from MotifDataLoader import MotifDataLoader\n",
    "from GUIData import GUIData"
   ]
  },
  {
   "cell_type": "code",
   "execution_count": 2,
   "id": "92115445",
   "metadata": {},
   "outputs": [
    {
     "name": "stdout",
     "output_type": "stream",
     "text": [
      "Totally 101 apps loaded\n",
      "*** Loading app No 0 from /home/ml/Data/ui automation/motif/motif_raw_data/raw_data/aplicacion.tiempo ***\n",
      "* Loading task No 0 from /home/ml/Data/ui automation/motif/motif_raw_data/raw_data/aplicacion.tiempo/05bb3bcb-e3e3-415a-aea5-8cf7466e8d00 *\n"
     ]
    }
   ],
   "source": [
    "dataloader = MotifDataLoader(motif_data_root='/home/ml/Data/ui automation/motif/motif_raw_data/raw_data')"
   ]
  },
  {
   "cell_type": "code",
   "execution_count": 3,
   "id": "d9d6e64b",
   "metadata": {},
   "outputs": [
    {
     "name": "stdout",
     "output_type": "stream",
     "text": [
      "*** Loading app No 1 from /home/ml/Data/ui automation/motif/motif_raw_data/raw_data/bbc.mobile.news.ww} ***\n",
      "* Loading task No 0 from /home/ml/Data/ui automation/motif/motif_raw_data/raw_data/bbc.mobile.news.ww/af84958b-5b2a-4afc-b863-e8d92c95c924} *\n"
     ]
    }
   ],
   "source": [
    "dataloader.load_app_task(1, 0)"
   ]
  },
  {
   "cell_type": "code",
   "execution_count": 4,
   "id": "0f7bc8a0",
   "metadata": {},
   "outputs": [
    {
     "name": "stdout",
     "output_type": "stream",
     "text": [
      "0\n",
      "/home/ml/Data/ui automation/motif/motif_raw_data/raw_data/bbc.mobile.news.ww/af84958b-5b2a-4afc-b863-e8d92c95c924/screens/c65b647a-77a3-4bf9-90c4-bf3d1bc60618_27_1592159991648.jpg\n",
      "/home/ml/Data/ui automation/motif/motif_raw_data/raw_data/bbc.mobile.news.ww/af84958b-5b2a-4afc-b863-e8d92c95c924/view_hierarchies/c65b647a-77a3-4bf9-90c4-bf3d1bc60618_27_1592159991648.json\n",
      "1\n",
      "/home/ml/Data/ui automation/motif/motif_raw_data/raw_data/bbc.mobile.news.ww/af84958b-5b2a-4afc-b863-e8d92c95c924/screens/c65b647a-77a3-4bf9-90c4-bf3d1bc60618_32_1592159995204.jpg\n",
      "/home/ml/Data/ui automation/motif/motif_raw_data/raw_data/bbc.mobile.news.ww/af84958b-5b2a-4afc-b863-e8d92c95c924/view_hierarchies/c65b647a-77a3-4bf9-90c4-bf3d1bc60618_32_1592159995204.json\n",
      "2\n",
      "/home/ml/Data/ui automation/motif/motif_raw_data/raw_data/bbc.mobile.news.ww/af84958b-5b2a-4afc-b863-e8d92c95c924/screens/c65b647a-77a3-4bf9-90c4-bf3d1bc60618_44_1592159996388.jpg\n",
      "/home/ml/Data/ui automation/motif/motif_raw_data/raw_data/bbc.mobile.news.ww/af84958b-5b2a-4afc-b863-e8d92c95c924/view_hierarchies/c65b647a-77a3-4bf9-90c4-bf3d1bc60618_44_1592159996388.json\n",
      "3\n",
      "/home/ml/Data/ui automation/motif/motif_raw_data/raw_data/bbc.mobile.news.ww/af84958b-5b2a-4afc-b863-e8d92c95c924/screens/c65b647a-77a3-4bf9-90c4-bf3d1bc60618_51_1592159997363.jpg\n",
      "/home/ml/Data/ui automation/motif/motif_raw_data/raw_data/bbc.mobile.news.ww/af84958b-5b2a-4afc-b863-e8d92c95c924/view_hierarchies/c65b647a-77a3-4bf9-90c4-bf3d1bc60618_51_1592159997363.json\n",
      "4\n",
      "/home/ml/Data/ui automation/motif/motif_raw_data/raw_data/bbc.mobile.news.ww/af84958b-5b2a-4afc-b863-e8d92c95c924/screens/c65b647a-77a3-4bf9-90c4-bf3d1bc60618_61_1592159998589.jpg\n",
      "/home/ml/Data/ui automation/motif/motif_raw_data/raw_data/bbc.mobile.news.ww/af84958b-5b2a-4afc-b863-e8d92c95c924/view_hierarchies/c65b647a-77a3-4bf9-90c4-bf3d1bc60618_61_1592159998589.json\n",
      "5\n",
      "/home/ml/Data/ui automation/motif/motif_raw_data/raw_data/bbc.mobile.news.ww/af84958b-5b2a-4afc-b863-e8d92c95c924/screens/c65b647a-77a3-4bf9-90c4-bf3d1bc60618_70_1592160002322.jpg\n",
      "/home/ml/Data/ui automation/motif/motif_raw_data/raw_data/bbc.mobile.news.ww/af84958b-5b2a-4afc-b863-e8d92c95c924/view_hierarchies/c65b647a-77a3-4bf9-90c4-bf3d1bc60618_70_1592160002322.json\n",
      "6\n",
      "/home/ml/Data/ui automation/motif/motif_raw_data/raw_data/bbc.mobile.news.ww/af84958b-5b2a-4afc-b863-e8d92c95c924/screens/c65b647a-77a3-4bf9-90c4-bf3d1bc60618_83_1592160004027.jpg\n",
      "/home/ml/Data/ui automation/motif/motif_raw_data/raw_data/bbc.mobile.news.ww/af84958b-5b2a-4afc-b863-e8d92c95c924/view_hierarchies/c65b647a-77a3-4bf9-90c4-bf3d1bc60618_83_1592160004027.json\n",
      "7\n",
      "/home/ml/Data/ui automation/motif/motif_raw_data/raw_data/bbc.mobile.news.ww/af84958b-5b2a-4afc-b863-e8d92c95c924/screens/c65b647a-77a3-4bf9-90c4-bf3d1bc60618_86_1592160007518.jpg\n",
      "/home/ml/Data/ui automation/motif/motif_raw_data/raw_data/bbc.mobile.news.ww/af84958b-5b2a-4afc-b863-e8d92c95c924/view_hierarchies/c65b647a-77a3-4bf9-90c4-bf3d1bc60618_86_1592160007518.json\n",
      "8\n",
      "/home/ml/Data/ui automation/motif/motif_raw_data/raw_data/bbc.mobile.news.ww/af84958b-5b2a-4afc-b863-e8d92c95c924/screens/c65b647a-77a3-4bf9-90c4-bf3d1bc60618_91_1592160009407.jpg\n",
      "/home/ml/Data/ui automation/motif/motif_raw_data/raw_data/bbc.mobile.news.ww/af84958b-5b2a-4afc-b863-e8d92c95c924/view_hierarchies/c65b647a-77a3-4bf9-90c4-bf3d1bc60618_91_1592160009407.json\n",
      "9\n",
      "/home/ml/Data/ui automation/motif/motif_raw_data/raw_data/bbc.mobile.news.ww/af84958b-5b2a-4afc-b863-e8d92c95c924/screens/c65b647a-77a3-4bf9-90c4-bf3d1bc60618_103_1592160016034.jpg\n",
      "/home/ml/Data/ui automation/motif/motif_raw_data/raw_data/bbc.mobile.news.ww/af84958b-5b2a-4afc-b863-e8d92c95c924/view_hierarchies/c65b647a-77a3-4bf9-90c4-bf3d1bc60618_103_1592160016034.json\n",
      "10\n",
      "/home/ml/Data/ui automation/motif/motif_raw_data/raw_data/bbc.mobile.news.ww/af84958b-5b2a-4afc-b863-e8d92c95c924/screens/c65b647a-77a3-4bf9-90c4-bf3d1bc60618_113_1592160018252.jpg\n",
      "/home/ml/Data/ui automation/motif/motif_raw_data/raw_data/bbc.mobile.news.ww/af84958b-5b2a-4afc-b863-e8d92c95c924/view_hierarchies/c65b647a-77a3-4bf9-90c4-bf3d1bc60618_113_1592160018252.json\n"
     ]
    }
   ],
   "source": [
    "dataloader.show_guis_in_current_task()"
   ]
  },
  {
   "cell_type": "code",
   "execution_count": 4,
   "id": "7a3f10ee",
   "metadata": {},
   "outputs": [
    {
     "name": "stdout",
     "output_type": "stream",
     "text": [
      "0\n",
      "/home/ml/Data/ui automation/motif/motif_raw_data/raw_data/com.sgiggle.production/878f3917-52f8-4a3d-ba8c-b58b1959ab74/screens/2472d559-fc6c-43ab-9bf2-39b999420d08_8_1608472534418.jpg\n",
      "/home/ml/Data/ui automation/motif/motif_raw_data/raw_data/com.sgiggle.production/878f3917-52f8-4a3d-ba8c-b58b1959ab74/view_hierarchies/2472d559-fc6c-43ab-9bf2-39b999420d08_8_1608472534418.json\n",
      "1\n",
      "/home/ml/Data/ui automation/motif/motif_raw_data/raw_data/com.sgiggle.production/878f3917-52f8-4a3d-ba8c-b58b1959ab74/screens/2472d559-fc6c-43ab-9bf2-39b999420d08_14_1608472536572.jpg\n",
      "/home/ml/Data/ui automation/motif/motif_raw_data/raw_data/com.sgiggle.production/878f3917-52f8-4a3d-ba8c-b58b1959ab74/view_hierarchies/2472d559-fc6c-43ab-9bf2-39b999420d08_14_1608472536572.json\n",
      "2\n",
      "/home/ml/Data/ui automation/motif/motif_raw_data/raw_data/com.sgiggle.production/878f3917-52f8-4a3d-ba8c-b58b1959ab74/screens/2472d559-fc6c-43ab-9bf2-39b999420d08_26_1608472538691.jpg\n",
      "/home/ml/Data/ui automation/motif/motif_raw_data/raw_data/com.sgiggle.production/878f3917-52f8-4a3d-ba8c-b58b1959ab74/view_hierarchies/2472d559-fc6c-43ab-9bf2-39b999420d08_26_1608472538691.json\n",
      "3\n",
      "/home/ml/Data/ui automation/motif/motif_raw_data/raw_data/com.sgiggle.production/878f3917-52f8-4a3d-ba8c-b58b1959ab74/screens/2472d559-fc6c-43ab-9bf2-39b999420d08_54_1608472546529.jpg\n",
      "/home/ml/Data/ui automation/motif/motif_raw_data/raw_data/com.sgiggle.production/878f3917-52f8-4a3d-ba8c-b58b1959ab74/view_hierarchies/2472d559-fc6c-43ab-9bf2-39b999420d08_54_1608472546529.json\n",
      "4\n",
      "/home/ml/Data/ui automation/motif/motif_raw_data/raw_data/com.sgiggle.production/878f3917-52f8-4a3d-ba8c-b58b1959ab74/screens/2472d559-fc6c-43ab-9bf2-39b999420d08_89_1608472552508.jpg\n",
      "/home/ml/Data/ui automation/motif/motif_raw_data/raw_data/com.sgiggle.production/878f3917-52f8-4a3d-ba8c-b58b1959ab74/view_hierarchies/2472d559-fc6c-43ab-9bf2-39b999420d08_89_1608472552508.json\n"
     ]
    }
   ],
   "source": [
    "for i in range(len(dataloader.dir_task_screens)):\n",
    "    print(i)\n",
    "    screen_file, vh_file =dataloader.get_screen_and_vh_file(i)\n",
    "    gui = GUIData(screen_file, vh_file)\n",
    "    gui.extract_elements_from_vh()\n",
    "    gui.show_all_elements()"
   ]
  },
  {
   "cell_type": "code",
   "execution_count": null,
   "id": "1f3a58ab",
   "metadata": {},
   "outputs": [],
   "source": []
  },
  {
   "cell_type": "code",
   "execution_count": null,
   "id": "19794a7f",
   "metadata": {},
   "outputs": [],
   "source": []
  },
  {
   "cell_type": "code",
   "execution_count": 4,
   "id": "b5b1976a",
   "metadata": {},
   "outputs": [
    {
     "name": "stdout",
     "output_type": "stream",
     "text": [
      "C:/Mulong/Data/motif_raw_data/raw_data\\club.fromfactory\\2e90cfcb-8cd9-4376-8082-dfe50e37c004\\screens\\dbbe9b2a-0cd6-4740-bcbc-4e61c57f7f3b_329_1594073278901.jpg\n",
      "C:/Mulong/Data/motif_raw_data/raw_data\\club.fromfactory\\2e90cfcb-8cd9-4376-8082-dfe50e37c004\\view_hierarchies\\dbbe9b2a-0cd6-4740-bcbc-4e61c57f7f3b_329_1594073278901.json\n",
      "0 com.android.internal.policy.DecorView\n",
      "{'class': 'com.android.internal.policy.DecorView', 'visibility': 'visible', 'visible-to-user': True, 'adapter-view': False, 'focusable': False, 'enabled': True, 'draw': True, 'scrollable-horizontal': False, 'scrollable-vertical': False, 'clickable': False, 'pointer': '5e4648d', 'long-clickable': False, 'focused': False, 'selected': False, 'pressed': 'not_pressed', 'has-background': True, 'abs-pos': True, 'bounds': [0, 0, 1080, 2160], 'rel-bounds': [0, 0, 1080, 2160], 'id': 0, 'children-id': [1, 114]} \n",
      "\n",
      "10 com.facebook.react.ReactRootView\n",
      "{'class': 'com.facebook.react.ReactRootView', 'visibility': 'visible', 'visible-to-user': True, 'adapter-view': False, 'focusable': False, 'enabled': True, 'draw': True, 'scrollable-horizontal': False, 'scrollable-vertical': False, 'clickable': False, 'pointer': '7b5a8e5', 'long-clickable': False, 'focused': False, 'selected': False, 'pressed': 'not_pressed', 'has-background': False, 'abs-pos': True, 'bounds': [0, 0, 1080, 2028], 'rel-bounds': [0, 0, 1080, 2028], 'id': 10, 'children-id': [11, 12, 112, 113]} \n",
      "\n",
      "11 com.facebook.react.views.view.ReactViewGroup\n",
      "{'class': 'com.facebook.react.views.view.ReactViewGroup', 'visibility': 'visible', 'visible-to-user': True, 'adapter-view': False, 'focusable': False, 'enabled': True, 'draw': True, 'scrollable-horizontal': False, 'scrollable-vertical': False, 'clickable': False, 'pointer': '76c0ccb', 'long-clickable': False, 'focused': False, 'selected': False, 'pressed': 'not_pressed', 'has-background': False, 'abs-pos': True, 'bounds': [0, 0, 1080, 2028], 'rel-bounds': [0, 0, 1080, 2028], 'id': 11} \n",
      "\n",
      "12 com.facebook.react.views.view.ReactViewGroup\n",
      "{'class': 'com.facebook.react.views.view.ReactViewGroup', 'visibility': 'visible', 'visible-to-user': True, 'adapter-view': False, 'focusable': False, 'enabled': True, 'draw': True, 'scrollable-horizontal': False, 'scrollable-vertical': False, 'clickable': False, 'pointer': '4e97ca8', 'long-clickable': False, 'focused': False, 'selected': False, 'pressed': 'not_pressed', 'has-background': True, 'abs-pos': True, 'bounds': [0, 0, 1080, 2028], 'rel-bounds': [0, 0, 1080, 2028], 'id': 12, 'children-id': [13, 70, 71, 76, 77, 82, 87, 92, 95, 106, 108, 109]} \n",
      "\n",
      "13 com.facebook.react.views.scroll.ReactScrollView\n",
      "{'class': 'com.facebook.react.views.scroll.ReactScrollView', 'visibility': 'visible', 'visible-to-user': True, 'adapter-view': False, 'focusable': True, 'enabled': True, 'draw': False, 'scrollable-horizontal': False, 'scrollable-vertical': False, 'clickable': False, 'pointer': '3d86356', 'long-clickable': False, 'focused': False, 'selected': False, 'pressed': 'not_pressed', 'has-background': False, 'abs-pos': True, 'bounds': [0, 0, 1080, 1867], 'rel-bounds': [0, 0, 1080, 1867], 'id': 13, 'children-id': [14]} \n",
      "\n",
      "14 com.facebook.react.views.view.ReactViewGroup\n",
      "{'class': 'com.facebook.react.views.view.ReactViewGroup', 'visibility': 'visible', 'visible-to-user': True, 'adapter-view': False, 'focusable': False, 'enabled': True, 'draw': True, 'scrollable-horizontal': False, 'scrollable-vertical': False, 'clickable': False, 'pointer': 'd5573c1', 'long-clickable': False, 'focused': False, 'selected': False, 'pressed': 'not_pressed', 'has-background': False, 'abs-pos': True, 'bounds': [0, 0, 1080, 1867], 'rel-bounds': [0, 0, 1080, 16966], 'id': 14, 'children-id': [15]} \n",
      "\n",
      "15 com.facebook.react.views.view.ReactViewGroup\n",
      "{'class': 'com.facebook.react.views.view.ReactViewGroup', 'visibility': 'visible', 'visible-to-user': True, 'adapter-view': False, 'focusable': False, 'enabled': True, 'draw': True, 'scrollable-horizontal': False, 'scrollable-vertical': False, 'clickable': False, 'pointer': 'eed4766', 'long-clickable': False, 'focused': False, 'selected': False, 'pressed': 'not_pressed', 'has-background': False, 'abs-pos': True, 'bounds': [0, 0, 1080, 1867], 'rel-bounds': [0, 0, 1080, 2281], 'id': 15, 'children-id': [16, 26, 44, 57]} \n",
      "\n",
      "16 com.facebook.react.views.view.ReactViewGroup\n",
      "{'class': 'com.facebook.react.views.view.ReactViewGroup', 'visibility': 'visible', 'visible-to-user': True, 'adapter-view': False, 'focusable': False, 'enabled': True, 'draw': True, 'scrollable-horizontal': False, 'scrollable-vertical': False, 'clickable': False, 'pointer': '367a24c', 'long-clickable': False, 'focused': False, 'selected': False, 'pressed': 'not_pressed', 'has-background': False, 'abs-pos': True, 'bounds': [0, 0, 1080, 1080], 'rel-bounds': [0, 0, 1080, 1080], 'id': 16, 'children-id': [17, 24]} \n",
      "\n",
      "17 com.facebook.react.views.scroll.ReactHorizontalScrollView\n",
      "{'class': 'com.facebook.react.views.scroll.ReactHorizontalScrollView', 'visibility': 'visible', 'visible-to-user': True, 'adapter-view': False, 'focusable': True, 'enabled': True, 'draw': False, 'scrollable-horizontal': False, 'scrollable-vertical': False, 'clickable': False, 'pointer': '8ef05c0', 'long-clickable': False, 'focused': False, 'selected': False, 'pressed': 'not_pressed', 'has-background': False, 'abs-pos': True, 'bounds': [0, 0, 1080, 1080], 'rel-bounds': [0, 0, 1080, 1080], 'id': 17, 'children-id': [18]} \n",
      "\n",
      "18 com.facebook.react.views.scroll.ReactHorizontalScrollContainerView\n",
      "{'class': 'com.facebook.react.views.scroll.ReactHorizontalScrollContainerView', 'visibility': 'visible', 'visible-to-user': True, 'adapter-view': False, 'focusable': False, 'enabled': True, 'draw': True, 'scrollable-horizontal': False, 'scrollable-vertical': False, 'clickable': False, 'pointer': '5acaaa7', 'long-clickable': False, 'focused': False, 'selected': False, 'pressed': 'not_pressed', 'has-background': False, 'abs-pos': True, 'bounds': [0, 0, 1080, 1080], 'rel-bounds': [0, 0, 4320, 1080], 'id': 18, 'children-id': [19, 21, 22, 23]} \n",
      "\n",
      "19 com.facebook.react.views.view.ReactViewGroup\n",
      "{'class': 'com.facebook.react.views.view.ReactViewGroup', 'visibility': 'visible', 'visible-to-user': True, 'adapter-view': False, 'focusable': True, 'enabled': True, 'draw': True, 'scrollable-horizontal': False, 'scrollable-vertical': False, 'clickable': False, 'pointer': 'aadbb54', 'long-clickable': False, 'focused': False, 'selected': False, 'pressed': 'not_pressed', 'has-background': False, 'abs-pos': True, 'bounds': [0, 0, 1080, 1080], 'rel-bounds': [0, 0, 1080, 1080], 'id': 19, 'children-id': [20]} \n",
      "\n",
      "20 com.facebook.react.views.image.ReactImageView\n",
      "{'class': 'com.facebook.react.views.image.ReactImageView', 'visibility': 'visible', 'visible-to-user': True, 'adapter-view': False, 'focusable': False, 'enabled': True, 'draw': False, 'scrollable-horizontal': False, 'scrollable-vertical': False, 'clickable': False, 'pointer': '3d4b854', 'long-clickable': False, 'focused': False, 'selected': False, 'pressed': 'not_pressed', 'has-background': False, 'abs-pos': True, 'bounds': [0, 0, 1080, 1080], 'rel-bounds': [0, 0, 1080, 1080], 'id': 20} \n",
      "\n",
      "24 com.facebook.react.views.view.ReactViewGroup\n",
      "{'class': 'com.facebook.react.views.view.ReactViewGroup', 'visibility': 'visible', 'visible-to-user': True, 'adapter-view': False, 'focusable': False, 'enabled': True, 'draw': True, 'scrollable-horizontal': False, 'scrollable-vertical': False, 'clickable': False, 'pointer': '40622f9', 'long-clickable': False, 'focused': False, 'selected': False, 'pressed': 'not_pressed', 'has-background': True, 'abs-pos': True, 'bounds': [902, 977, 1046, 1046], 'rel-bounds': [902, 977, 1046, 1046], 'id': 24, 'children-id': [25]} \n",
      "\n",
      "25 com.facebook.react.views.text.ReactTextView\n",
      "{'class': 'com.facebook.react.views.text.ReactTextView', 'visibility': 'visible', 'visible-to-user': True, 'adapter-view': False, 'focusable': False, 'enabled': True, 'draw': False, 'scrollable-horizontal': False, 'scrollable-vertical': False, 'clickable': False, 'pointer': '4cc2b43', 'long-clickable': False, 'focused': False, 'selected': False, 'pressed': 'not_pressed', 'has-background': False, 'abs-pos': True, 'bounds': [944, 985, 1004, 1038], 'rel-bounds': [42, 8, 102, 61], 'text': '1/4', 'font-family': 'sans-serif', 'id': 25} \n",
      "\n",
      "26 com.facebook.react.views.view.ReactViewGroup\n",
      "{'class': 'com.facebook.react.views.view.ReactViewGroup', 'visibility': 'visible', 'visible-to-user': True, 'adapter-view': False, 'focusable': False, 'enabled': True, 'draw': True, 'scrollable-horizontal': False, 'scrollable-vertical': False, 'clickable': False, 'pointer': '95b7295', 'long-clickable': False, 'focused': False, 'selected': False, 'pressed': 'not_pressed', 'has-background': True, 'abs-pos': True, 'bounds': [0, 1080, 1080, 1525], 'rel-bounds': [0, 1080, 1080, 1525], 'id': 26, 'children-id': [27, 28, 29, 30, 31, 32, 33, 34, 35, 36, 37, 38, 39, 40, 41]} \n",
      "\n"
     ]
    },
    {
     "name": "stdout",
     "output_type": "stream",
     "text": [
      "27 com.facebook.react.views.text.ReactTextView\n",
      "{'class': 'com.facebook.react.views.text.ReactTextView', 'visibility': 'visible', 'visible-to-user': True, 'adapter-view': False, 'focusable': False, 'enabled': True, 'draw': False, 'scrollable-horizontal': False, 'scrollable-vertical': False, 'clickable': False, 'pointer': '503266d', 'long-clickable': False, 'focused': False, 'selected': False, 'pressed': 'not_pressed', 'has-background': False, 'abs-pos': True, 'bounds': [34, 1126, 703, 1218], 'rel-bounds': [34, 46, 703, 138], 'text': 'USD13.27~USD13.93', 'font-family': 'sans-serif', 'id': 27} \n",
      "\n",
      "29 com.facebook.react.views.text.ReactTextView\n",
      "{'class': 'com.facebook.react.views.text.ReactTextView', 'visibility': 'visible', 'visible-to-user': True, 'adapter-view': False, 'focusable': False, 'enabled': True, 'draw': False, 'scrollable-horizontal': False, 'scrollable-vertical': False, 'clickable': False, 'pointer': '23e6b33', 'long-clickable': False, 'focused': False, 'selected': False, 'pressed': 'not_pressed', 'has-background': False, 'abs-pos': True, 'bounds': [34, 1241, 183, 1287], 'rel-bounds': [34, 161, 183, 207], 'text': 'USD47.38', 'font-family': 'sans-serif', 'id': 29} \n",
      "\n",
      "30 com.facebook.react.views.text.ReactTextView\n",
      "{'class': 'com.facebook.react.views.text.ReactTextView', 'visibility': 'visible', 'visible-to-user': True, 'adapter-view': False, 'focusable': False, 'enabled': True, 'draw': False, 'scrollable-horizontal': False, 'scrollable-vertical': False, 'clickable': False, 'pointer': '5af5ef0', 'long-clickable': False, 'focused': False, 'selected': False, 'pressed': 'not_pressed', 'has-background': False, 'abs-pos': True, 'bounds': [206, 1241, 286, 1287], 'rel-bounds': [206, 161, 286, 207], 'text': ' -72%', 'font-family': 'sans-serif', 'id': 30} \n",
      "\n",
      "31 com.facebook.react.views.text.ReactTextView\n",
      "{'class': 'com.facebook.react.views.text.ReactTextView', 'visibility': 'visible', 'visible-to-user': True, 'adapter-view': False, 'focusable': False, 'enabled': True, 'draw': False, 'scrollable-horizontal': False, 'scrollable-vertical': False, 'clickable': False, 'pointer': '838bc69', 'long-clickable': False, 'focused': False, 'selected': False, 'pressed': 'not_pressed', 'has-background': False, 'abs-pos': True, 'bounds': [34, 1321, 1046, 1417], 'rel-bounds': [34, 241, 1046, 337], 'text': 'Long Sleeves Version Sweet Lovely Can Wear Outside Suits.', 'font-family': 'sans-serif', 'id': 31} \n",
      "\n",
      "32 com.facebook.react.views.text.ReactTextView\n",
      "{'class': 'com.facebook.react.views.text.ReactTextView', 'visibility': 'visible', 'visible-to-user': True, 'adapter-view': False, 'focusable': False, 'enabled': True, 'draw': False, 'scrollable-horizontal': False, 'scrollable-vertical': False, 'clickable': False, 'pointer': 'bc666ee', 'long-clickable': False, 'focused': False, 'selected': False, 'pressed': 'not_pressed', 'has-background': False, 'abs-pos': True, 'bounds': [34, 1433, 184, 1479], 'rel-bounds': [34, 353, 184, 399], 'text': '2854 Sold', 'font-family': 'sans-serif', 'id': 32} \n",
      "\n",
      "33 com.facebook.react.views.text.ReactTextView\n",
      "{'class': 'com.facebook.react.views.text.ReactTextView', 'visibility': 'visible', 'visible-to-user': True, 'adapter-view': False, 'focusable': False, 'enabled': True, 'draw': False, 'scrollable-horizontal': False, 'scrollable-vertical': False, 'clickable': False, 'pointer': '915742a', 'long-clickable': False, 'focused': False, 'selected': False, 'pressed': 'not_pressed', 'has-background': False, 'abs-pos': True, 'bounds': [198, 1431, 206, 1477], 'rel-bounds': [198, 351, 206, 397], 'text': '|', 'font-family': 'sans-serif', 'id': 33} \n",
      "\n",
      "34 com.facebook.react.views.text.ReactTextView\n",
      "{'class': 'com.facebook.react.views.text.ReactTextView', 'visibility': 'visible', 'visible-to-user': True, 'adapter-view': False, 'focusable': False, 'enabled': True, 'draw': False, 'scrollable-horizontal': False, 'scrollable-vertical': False, 'clickable': False, 'pointer': 'a03721b', 'long-clickable': False, 'focused': False, 'selected': False, 'pressed': 'not_pressed', 'has-background': False, 'abs-pos': True, 'bounds': [220, 1441, 245, 1466], 'rel-bounds': [220, 361, 245, 386], 'text': '\\ue737', 'font-family': 'sans-serif', 'id': 34} \n",
      "\n",
      "35 com.facebook.react.views.text.ReactTextView\n",
      "{'class': 'com.facebook.react.views.text.ReactTextView', 'visibility': 'visible', 'visible-to-user': True, 'adapter-view': False, 'focusable': False, 'enabled': True, 'draw': False, 'scrollable-horizontal': False, 'scrollable-vertical': False, 'clickable': False, 'pointer': 'c1dffb8', 'long-clickable': False, 'focused': False, 'selected': False, 'pressed': 'not_pressed', 'has-background': False, 'abs-pos': True, 'bounds': [253, 1441, 278, 1466], 'rel-bounds': [253, 361, 278, 386], 'text': '\\ue737', 'font-family': 'sans-serif', 'id': 35} \n",
      "\n",
      "36 com.facebook.react.views.text.ReactTextView\n",
      "{'class': 'com.facebook.react.views.text.ReactTextView', 'visibility': 'visible', 'visible-to-user': True, 'adapter-view': False, 'focusable': False, 'enabled': True, 'draw': False, 'scrollable-horizontal': False, 'scrollable-vertical': False, 'clickable': False, 'pointer': 'd002191', 'long-clickable': False, 'focused': False, 'selected': False, 'pressed': 'not_pressed', 'has-background': False, 'abs-pos': True, 'bounds': [286, 1441, 311, 1466], 'rel-bounds': [286, 361, 311, 386], 'text': '\\ue737', 'font-family': 'sans-serif', 'id': 36} \n",
      "\n",
      "37 com.facebook.react.views.text.ReactTextView\n",
      "{'class': 'com.facebook.react.views.text.ReactTextView', 'visibility': 'visible', 'visible-to-user': True, 'adapter-view': False, 'focusable': False, 'enabled': True, 'draw': False, 'scrollable-horizontal': False, 'scrollable-vertical': False, 'clickable': False, 'pointer': 'a6ea8f6', 'long-clickable': False, 'focused': False, 'selected': False, 'pressed': 'not_pressed', 'has-background': False, 'abs-pos': True, 'bounds': [319, 1441, 344, 1466], 'rel-bounds': [319, 361, 344, 386], 'text': '\\ue737', 'font-family': 'sans-serif', 'id': 37} \n",
      "\n",
      "38 com.facebook.react.views.text.ReactTextView\n",
      "{'class': 'com.facebook.react.views.text.ReactTextView', 'visibility': 'visible', 'visible-to-user': True, 'adapter-view': False, 'focusable': False, 'enabled': True, 'draw': False, 'scrollable-horizontal': False, 'scrollable-vertical': False, 'clickable': False, 'pointer': 'cdd14f7', 'long-clickable': False, 'focused': False, 'selected': False, 'pressed': 'not_pressed', 'has-background': False, 'abs-pos': True, 'bounds': [319, 1441, 324, 1466], 'rel-bounds': [319, 361, 324, 386], 'text': '\\ue737', 'font-family': 'sans-serif', 'id': 38} \n",
      "\n",
      "39 com.facebook.react.views.text.ReactTextView\n",
      "{'class': 'com.facebook.react.views.text.ReactTextView', 'visibility': 'visible', 'visible-to-user': True, 'adapter-view': False, 'focusable': False, 'enabled': True, 'draw': False, 'scrollable-horizontal': False, 'scrollable-vertical': False, 'clickable': False, 'pointer': '48f5f64', 'long-clickable': False, 'focused': False, 'selected': False, 'pressed': 'not_pressed', 'has-background': False, 'abs-pos': True, 'bounds': [352, 1441, 377, 1466], 'rel-bounds': [352, 361, 377, 386], 'text': '\\ue737', 'font-family': 'sans-serif', 'id': 39} \n",
      "\n",
      "40 com.facebook.react.views.text.ReactTextView\n",
      "{'class': 'com.facebook.react.views.text.ReactTextView', 'visibility': 'visible', 'visible-to-user': True, 'adapter-view': False, 'focusable': False, 'enabled': True, 'draw': False, 'scrollable-horizontal': False, 'scrollable-vertical': False, 'clickable': False, 'pointer': 'b7445cd', 'long-clickable': False, 'focused': False, 'selected': False, 'pressed': 'not_pressed', 'has-background': False, 'abs-pos': True, 'bounds': [385, 1431, 636, 1477], 'rel-bounds': [385, 351, 636, 397], 'text': '3.2(240 Ratings)', 'font-family': 'sans-serif', 'id': 40} \n",
      "\n",
      "41 com.facebook.react.views.view.ReactViewGroup\n",
      "{'class': 'com.facebook.react.views.view.ReactViewGroup', 'visibility': 'visible', 'visible-to-user': True, 'adapter-view': False, 'focusable': True, 'enabled': True, 'draw': True, 'scrollable-horizontal': False, 'scrollable-vertical': False, 'clickable': False, 'pointer': 'ea878f', 'long-clickable': False, 'focused': False, 'selected': False, 'pressed': 'not_pressed', 'has-background': True, 'abs-pos': True, 'bounds': [877, 1131, 1080, 1202], 'rel-bounds': [877, 51, 1080, 122], 'id': 41, 'children-id': [42, 43]} \n",
      "\n"
     ]
    },
    {
     "name": "stdout",
     "output_type": "stream",
     "text": [
      "42 com.facebook.react.views.text.ReactTextView\n",
      "{'class': 'com.facebook.react.views.text.ReactTextView', 'visibility': 'visible', 'visible-to-user': True, 'adapter-view': False, 'focusable': False, 'enabled': True, 'draw': False, 'scrollable-horizontal': False, 'scrollable-vertical': False, 'clickable': False, 'pointer': '3369c97', 'long-clickable': False, 'focused': False, 'selected': False, 'pressed': 'not_pressed', 'has-background': False, 'abs-pos': True, 'bounds': [905, 1136, 962, 1197], 'rel-bounds': [28, 5, 85, 66], 'text': '\\ue6dd', 'font-family': 'sans-serif', 'id': 42} \n",
      "\n",
      "43 com.facebook.react.views.text.ReactTextView\n",
      "{'class': 'com.facebook.react.views.text.ReactTextView', 'visibility': 'visible', 'visible-to-user': True, 'adapter-view': False, 'focusable': False, 'enabled': True, 'draw': False, 'scrollable-horizontal': False, 'scrollable-vertical': False, 'clickable': False, 'pointer': '5c0de84', 'long-clickable': False, 'focused': False, 'selected': False, 'pressed': 'not_pressed', 'has-background': False, 'abs-pos': True, 'bounds': [962, 1144, 1046, 1190], 'rel-bounds': [85, 13, 169, 59], 'text': 'share', 'font-family': 'sans-serif', 'id': 43} \n",
      "\n",
      "44 com.facebook.react.views.view.ReactViewGroup\n",
      "{'class': 'com.facebook.react.views.view.ReactViewGroup', 'visibility': 'visible', 'visible-to-user': True, 'adapter-view': False, 'focusable': False, 'enabled': True, 'draw': True, 'scrollable-horizontal': False, 'scrollable-vertical': False, 'clickable': False, 'pointer': 'd175faa', 'long-clickable': False, 'focused': False, 'selected': False, 'pressed': 'not_pressed', 'has-background': True, 'abs-pos': True, 'bounds': [0, 1559, 1080, 1841], 'rel-bounds': [0, 1559, 1080, 1841], 'id': 44, 'children-id': [45]} \n",
      "\n",
      "45 com.facebook.react.views.view.ReactViewGroup\n",
      "{'class': 'com.facebook.react.views.view.ReactViewGroup', 'visibility': 'visible', 'visible-to-user': True, 'adapter-view': False, 'focusable': True, 'enabled': True, 'draw': True, 'scrollable-horizontal': False, 'scrollable-vertical': False, 'clickable': False, 'pointer': '742727f', 'long-clickable': False, 'focused': False, 'selected': False, 'pressed': 'not_pressed', 'has-background': False, 'abs-pos': True, 'bounds': [0, 1559, 1080, 1841], 'rel-bounds': [0, 0, 1080, 282], 'id': 45, 'children-id': [46, 47, 48, 49, 51, 53, 55]} \n",
      "\n",
      "46 com.facebook.react.views.text.ReactTextView\n",
      "{'class': 'com.facebook.react.views.text.ReactTextView', 'visibility': 'visible', 'visible-to-user': True, 'adapter-view': False, 'focusable': False, 'enabled': True, 'draw': False, 'scrollable-horizontal': False, 'scrollable-vertical': False, 'clickable': False, 'pointer': 'bdaf0b4', 'long-clickable': False, 'focused': False, 'selected': False, 'pressed': 'not_pressed', 'has-background': False, 'abs-pos': True, 'bounds': [34, 1590, 251, 1652], 'rel-bounds': [34, 31, 251, 93], 'text': 'Color, Size', 'font-family': 'sans-serif', 'id': 46} \n",
      "\n",
      "47 com.facebook.react.views.text.ReactTextView\n",
      "{'class': 'com.facebook.react.views.text.ReactTextView', 'visibility': 'visible', 'visible-to-user': True, 'adapter-view': False, 'focusable': False, 'enabled': True, 'draw': False, 'scrollable-horizontal': False, 'scrollable-vertical': False, 'clickable': False, 'pointer': 'c784dd', 'long-clickable': False, 'focused': False, 'selected': False, 'pressed': 'not_pressed', 'has-background': False, 'abs-pos': True, 'bounds': [896, 1594, 1006, 1648], 'rel-bounds': [896, 35, 1006, 89], 'text': 'Select', 'font-family': 'sans-serif', 'id': 47} \n",
      "\n",
      "48 com.facebook.react.views.text.ReactTextView\n",
      "{'class': 'com.facebook.react.views.text.ReactTextView', 'visibility': 'visible', 'visible-to-user': True, 'adapter-view': False, 'focusable': False, 'enabled': True, 'draw': False, 'scrollable-horizontal': False, 'scrollable-vertical': False, 'clickable': False, 'pointer': 'f5d1852', 'long-clickable': False, 'focused': False, 'selected': False, 'pressed': 'not_pressed', 'has-background': False, 'abs-pos': True, 'bounds': [977, 1586, 1046, 1658], 'rel-bounds': [977, 27, 1046, 99], 'text': '\\ue6e1', 'font-family': 'sans-serif', 'id': 48} \n",
      "\n",
      "49 com.facebook.react.views.view.ReactViewGroup\n",
      "{'class': 'com.facebook.react.views.view.ReactViewGroup', 'visibility': 'visible', 'visible-to-user': True, 'adapter-view': False, 'focusable': False, 'enabled': True, 'draw': True, 'scrollable-horizontal': False, 'scrollable-vertical': False, 'clickable': False, 'pointer': '9788723', 'long-clickable': False, 'focused': False, 'selected': False, 'pressed': 'not_pressed', 'has-background': True, 'abs-pos': True, 'bounds': [34, 1669, 163, 1798], 'rel-bounds': [34, 110, 163, 239], 'id': 49, 'children-id': [50]} \n",
      "\n",
      "50 com.facebook.react.views.image.ReactImageView\n",
      "{'class': 'com.facebook.react.views.image.ReactImageView', 'visibility': 'visible', 'visible-to-user': True, 'adapter-view': False, 'focusable': False, 'enabled': True, 'draw': False, 'scrollable-horizontal': False, 'scrollable-vertical': False, 'clickable': False, 'pointer': 'c37a1c', 'long-clickable': False, 'focused': False, 'selected': False, 'pressed': 'not_pressed', 'has-background': False, 'abs-pos': True, 'bounds': [36, 1671, 162, 1797], 'rel-bounds': [2, 2, 128, 128], 'id': 50} \n",
      "\n",
      "51 com.facebook.react.views.view.ReactViewGroup\n",
      "{'class': 'com.facebook.react.views.view.ReactViewGroup', 'visibility': 'visible', 'visible-to-user': True, 'adapter-view': False, 'focusable': False, 'enabled': True, 'draw': True, 'scrollable-horizontal': False, 'scrollable-vertical': False, 'clickable': False, 'pointer': '9906420', 'long-clickable': False, 'focused': False, 'selected': False, 'pressed': 'not_pressed', 'has-background': True, 'abs-pos': True, 'bounds': [180, 1669, 309, 1798], 'rel-bounds': [180, 110, 309, 239], 'id': 51, 'children-id': [52]} \n",
      "\n",
      "52 com.facebook.react.views.image.ReactImageView\n",
      "{'class': 'com.facebook.react.views.image.ReactImageView', 'visibility': 'visible', 'visible-to-user': True, 'adapter-view': False, 'focusable': False, 'enabled': True, 'draw': False, 'scrollable-horizontal': False, 'scrollable-vertical': False, 'clickable': False, 'pointer': '93603fa', 'long-clickable': False, 'focused': False, 'selected': False, 'pressed': 'not_pressed', 'has-background': False, 'abs-pos': True, 'bounds': [182, 1671, 308, 1797], 'rel-bounds': [2, 2, 128, 128], 'id': 52} \n",
      "\n",
      "53 com.facebook.react.views.view.ReactViewGroup\n",
      "{'class': 'com.facebook.react.views.view.ReactViewGroup', 'visibility': 'visible', 'visible-to-user': True, 'adapter-view': False, 'focusable': False, 'enabled': True, 'draw': True, 'scrollable-horizontal': False, 'scrollable-vertical': False, 'clickable': False, 'pointer': '1bc91d9', 'long-clickable': False, 'focused': False, 'selected': False, 'pressed': 'not_pressed', 'has-background': True, 'abs-pos': True, 'bounds': [326, 1669, 455, 1798], 'rel-bounds': [326, 110, 455, 239], 'id': 53, 'children-id': [54]} \n",
      "\n",
      "54 com.facebook.react.views.image.ReactImageView\n",
      "{'class': 'com.facebook.react.views.image.ReactImageView', 'visibility': 'visible', 'visible-to-user': True, 'adapter-view': False, 'focusable': False, 'enabled': True, 'draw': False, 'scrollable-horizontal': False, 'scrollable-vertical': False, 'clickable': False, 'pointer': '19c1c08', 'long-clickable': False, 'focused': False, 'selected': False, 'pressed': 'not_pressed', 'has-background': False, 'abs-pos': True, 'bounds': [328, 1671, 454, 1797], 'rel-bounds': [2, 2, 128, 128], 'id': 54} \n",
      "\n",
      "55 com.facebook.react.views.view.ReactViewGroup\n",
      "{'class': 'com.facebook.react.views.view.ReactViewGroup', 'visibility': 'visible', 'visible-to-user': True, 'adapter-view': False, 'focusable': False, 'enabled': True, 'draw': True, 'scrollable-horizontal': False, 'scrollable-vertical': False, 'clickable': False, 'pointer': '890679e', 'long-clickable': False, 'focused': False, 'selected': False, 'pressed': 'not_pressed', 'has-background': True, 'abs-pos': True, 'bounds': [472, 1669, 601, 1798], 'rel-bounds': [472, 110, 601, 239], 'id': 55, 'children-id': [56]} \n",
      "\n",
      "56 com.facebook.react.views.image.ReactImageView\n",
      "{'class': 'com.facebook.react.views.image.ReactImageView', 'visibility': 'visible', 'visible-to-user': True, 'adapter-view': False, 'focusable': False, 'enabled': True, 'draw': False, 'scrollable-horizontal': False, 'scrollable-vertical': False, 'clickable': False, 'pointer': '2d065c6', 'long-clickable': False, 'focused': False, 'selected': False, 'pressed': 'not_pressed', 'has-background': False, 'abs-pos': True, 'bounds': [474, 1671, 600, 1797], 'rel-bounds': [2, 2, 128, 128], 'id': 56} \n",
      "\n",
      "70 com.facebook.react.views.view.ReactViewGroup\n",
      "{'class': 'com.facebook.react.views.view.ReactViewGroup', 'visibility': 'visible', 'visible-to-user': False, 'adapter-view': False, 'focusable': False, 'enabled': True, 'draw': True, 'scrollable-horizontal': False, 'scrollable-vertical': False, 'clickable': False, 'pointer': '6a06ebf', 'long-clickable': False, 'focused': False, 'selected': False, 'pressed': 'not_pressed', 'has-background': True, 'abs-pos': True, 'bounds': [0, 0, 1080, 319], 'rel-bounds': [0, 0, 1080, 319], 'id': 70} \n",
      "\n"
     ]
    },
    {
     "name": "stdout",
     "output_type": "stream",
     "text": [
      "71 com.facebook.react.views.view.ReactViewGroup\n",
      "{'class': 'com.facebook.react.views.view.ReactViewGroup', 'visibility': 'visible', 'visible-to-user': True, 'adapter-view': False, 'focusable': True, 'enabled': True, 'draw': True, 'scrollable-horizontal': False, 'scrollable-vertical': False, 'clickable': False, 'pointer': 'ac7898c', 'long-clickable': False, 'focused': False, 'selected': False, 'pressed': 'not_pressed', 'has-background': False, 'abs-pos': True, 'bounds': [28, 66, 154, 192], 'rel-bounds': [28, 66, 154, 192], 'id': 71, 'children-id': [72, 74]} \n",
      "\n",
      "72 com.facebook.react.views.view.ReactViewGroup\n",
      "{'class': 'com.facebook.react.views.view.ReactViewGroup', 'visibility': 'visible', 'visible-to-user': False, 'adapter-view': False, 'focusable': False, 'enabled': True, 'draw': True, 'scrollable-horizontal': False, 'scrollable-vertical': False, 'clickable': False, 'pointer': '7d38358', 'long-clickable': False, 'focused': False, 'selected': False, 'pressed': 'not_pressed', 'has-background': True, 'abs-pos': True, 'bounds': [28, 89, 108, 169], 'rel-bounds': [0, 23, 80, 103], 'id': 72, 'children-id': [73]} \n",
      "\n",
      "73 com.facebook.react.views.text.ReactTextView\n",
      "{'class': 'com.facebook.react.views.text.ReactTextView', 'visibility': 'visible', 'visible-to-user': False, 'adapter-view': False, 'focusable': False, 'enabled': True, 'draw': False, 'scrollable-horizontal': False, 'scrollable-vertical': False, 'clickable': False, 'pointer': '30e26ca', 'long-clickable': False, 'focused': False, 'selected': False, 'pressed': 'not_pressed', 'has-background': False, 'abs-pos': True, 'bounds': [32, 91, 104, 167], 'rel-bounds': [4, 2, 76, 78], 'text': '\\ue6a0', 'font-family': 'sans-serif', 'id': 73} \n",
      "\n"
     ]
    }
   ],
   "source": [
    "screen_file, vh_file =dataloader.get_screen_and_vh_file(0)\n",
    "gui = GUIData(screen_file, vh_file)\n",
    "gui.extract_elements_from_vh()\n",
    "gui.show_elements()"
   ]
  },
  {
   "cell_type": "code",
   "execution_count": null,
   "id": "2b8ea27b",
   "metadata": {},
   "outputs": [],
   "source": []
  }
 ],
 "metadata": {
  "kernelspec": {
   "display_name": "Python 3",
   "language": "python",
   "name": "python3"
  },
  "language_info": {
   "codemirror_mode": {
    "name": "ipython",
    "version": 3
   },
   "file_extension": ".py",
   "mimetype": "text/x-python",
   "name": "python",
   "nbconvert_exporter": "python",
   "pygments_lexer": "ipython3",
   "version": "3.6.9"
  }
 },
 "nbformat": 4,
 "nbformat_minor": 5
}
