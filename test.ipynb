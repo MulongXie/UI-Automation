{
 "cells": [
  {
   "cell_type": "code",
   "execution_count": 1,
   "id": "9c0a4915",
   "metadata": {},
   "outputs": [],
   "source": [
    "from GUI import GUI"
   ]
  },
  {
   "cell_type": "code",
   "execution_count": 2,
   "id": "0a368b2b",
   "metadata": {},
   "outputs": [],
   "source": [
    "gui = GUI('data/input/11.jpg')"
   ]
  },
  {
   "cell_type": "code",
   "execution_count": 3,
   "id": "3aa0b4d3",
   "metadata": {},
   "outputs": [
    {
     "name": "stdout",
     "output_type": "stream",
     "text": [
      "*** Please replace the Google OCR key at detect_text/ocr.py line 28 with your own (apply in https://cloud.google.com/vision) ***\n",
      "[Text Detection Completed in 0.875 s] Input: data/input/11.jpg Output: data/output\\ocr\\11.json\n",
      "[Compo Detection Completed in 0.300 s] Input: data/input/11.jpg Output: data/output\\ip\\11.json\n",
      "[Merge Completed] Input: data/input/11.jpg Output: data/output\\uied\\11.jpg\n"
     ]
    }
   ],
   "source": [
    "gui.detect_element()"
   ]
  },
  {
   "cell_type": "code",
   "execution_count": 4,
   "id": "7c68ec26",
   "metadata": {},
   "outputs": [],
   "source": [
    "gui.show_elements()"
   ]
  },
  {
   "cell_type": "code",
   "execution_count": 5,
   "id": "4dfa7f81",
   "metadata": {},
   "outputs": [
    {
     "name": "stdout",
     "output_type": "stream",
     "text": [
      "[['search', 0.954126238822937], ['other', 0.6505836248397827], ['other', 0.49134519696235657], ['avatar', 0.999956488609314], ['avatar', 0.8810617923736572], ['other', 0.5470171570777893], ['avatar', 0.8785176873207092], ['avatar', 0.9991912245750427], ['arrow_backward', 0.9857483506202698]]\n"
     ]
    }
   ],
   "source": [
    "gui.classify_compo()"
   ]
  },
  {
   "cell_type": "code",
   "execution_count": 6,
   "id": "1caeb721",
   "metadata": {},
   "outputs": [],
   "source": [
    "gui.show_element_classes()"
   ]
  },
  {
   "cell_type": "code",
   "execution_count": null,
   "id": "13bc709a",
   "metadata": {},
   "outputs": [],
   "source": []
  }
 ],
 "metadata": {
  "kernelspec": {
   "display_name": "Python 3 (ipykernel)",
   "language": "python",
   "name": "python3"
  },
  "language_info": {
   "codemirror_mode": {
    "name": "ipython",
    "version": 3
   },
   "file_extension": ".py",
   "mimetype": "text/x-python",
   "name": "python",
   "nbconvert_exporter": "python",
   "pygments_lexer": "ipython3",
   "version": "3.10.10"
  }
 },
 "nbformat": 4,
 "nbformat_minor": 5
}
