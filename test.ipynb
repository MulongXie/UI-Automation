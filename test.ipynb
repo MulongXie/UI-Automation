{
 "cells": [
  {
   "cell_type": "code",
   "execution_count": 1,
   "id": "8447ea8f",
   "metadata": {},
   "outputs": [],
   "source": [
    "from vh.MotifDataLoader import MotifDataLoader"
   ]
  },
  {
   "cell_type": "code",
   "execution_count": 2,
   "id": "eccd2658",
   "metadata": {},
   "outputs": [
    {
     "name": "stdout",
     "output_type": "stream",
     "text": [
      "*** Loading app No 0 from C:/Mulong/Data/motif_raw_data/raw_data\\aplicacion.tiempo} ***\n",
      "* Loading task No 0 from C:/Mulong/Data/motif_raw_data/raw_data\\aplicacion.tiempo\\05bb3bcb-e3e3-415a-aea5-8cf7466e8d00} *\n"
     ]
    }
   ],
   "source": [
    "dataloader = MotifDataLoader()"
   ]
  },
  {
   "cell_type": "code",
   "execution_count": 3,
   "id": "ebe59ee5",
   "metadata": {},
   "outputs": [],
   "source": [
    "screen_file, vh_file = dataloader.get_screen_and_vh_file(0)"
   ]
  },
  {
   "cell_type": "code",
   "execution_count": null,
   "id": "0ca477d3",
   "metadata": {},
   "outputs": [],
   "source": []
  },
  {
   "cell_type": "code",
   "execution_count": 4,
   "id": "756ef74a",
   "metadata": {},
   "outputs": [],
   "source": [
    "from vh.GUIData import GUIData"
   ]
  },
  {
   "cell_type": "code",
   "execution_count": 5,
   "id": "e4274411",
   "metadata": {},
   "outputs": [],
   "source": [
    "gui = GUIData(screen_file, vh_file)"
   ]
  },
  {
   "cell_type": "code",
   "execution_count": 6,
   "id": "2eecfdfc",
   "metadata": {},
   "outputs": [],
   "source": [
    "gui.extract_elements_from_vh()"
   ]
  },
  {
   "cell_type": "code",
   "execution_count": 7,
   "id": "12f17a1d",
   "metadata": {},
   "outputs": [
    {
     "data": {
      "text/plain": [
       "[]"
      ]
     },
     "execution_count": 7,
     "metadata": {},
     "output_type": "execute_result"
    }
   ],
   "source": [
    "gui.elements"
   ]
  },
  {
   "cell_type": "code",
   "execution_count": 8,
   "id": "37834efd",
   "metadata": {},
   "outputs": [
    {
     "data": {
      "text/plain": [
       "{'request_id': '101',\n",
       " 'is_keyboard_deployed': False,\n",
       " 'activity_name': None,\n",
       " 'activity': {'root': {'class': 'com.android.internal.policy.DecorView',\n",
       "   'visibility': 'visible',\n",
       "   'visible-to-user': True,\n",
       "   'adapter-view': False,\n",
       "   'focusable': False,\n",
       "   'enabled': True,\n",
       "   'draw': False,\n",
       "   'scrollable-horizontal': False,\n",
       "   'scrollable-vertical': False,\n",
       "   'clickable': False,\n",
       "   'pointer': 'c21d8b1',\n",
       "   'long-clickable': False,\n",
       "   'focused': False,\n",
       "   'selected': False,\n",
       "   'pressed': 'not_pressed',\n",
       "   'has-background': False,\n",
       "   'abs-pos': True,\n",
       "   'bounds': [0, 0, 1080, 2160],\n",
       "   'rel-bounds': [0, 0, 1080, 2160],\n",
       "   'id': 0,\n",
       "   'children-id': [1, 209, 210]}}}"
      ]
     },
     "execution_count": 8,
     "metadata": {},
     "output_type": "execute_result"
    }
   ],
   "source": [
    "gui.json"
   ]
  },
  {
   "cell_type": "code",
   "execution_count": 9,
   "id": "907efd7e",
   "metadata": {},
   "outputs": [],
   "source": [
    "gui.show_screen()"
   ]
  },
  {
   "cell_type": "code",
   "execution_count": null,
   "id": "fb22566c",
   "metadata": {},
   "outputs": [],
   "source": []
  }
 ],
 "metadata": {
  "kernelspec": {
   "display_name": "Python 3 (ipykernel)",
   "language": "python",
   "name": "python3"
  },
  "language_info": {
   "codemirror_mode": {
    "name": "ipython",
    "version": 3
   },
   "file_extension": ".py",
   "mimetype": "text/x-python",
   "name": "python",
   "nbconvert_exporter": "python",
   "pygments_lexer": "ipython3",
   "version": "3.10.10"
  }
 },
 "nbformat": 4,
 "nbformat_minor": 5
}
