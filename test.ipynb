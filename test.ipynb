{
 "cells": [
  {
   "cell_type": "code",
   "execution_count": 1,
   "id": "9c0a4915",
   "metadata": {},
   "outputs": [],
   "source": [
    "from GUI import GUI"
   ]
  },
  {
   "cell_type": "code",
   "execution_count": 2,
   "id": "0a368b2b",
   "metadata": {},
   "outputs": [],
   "source": [
    "gui = GUI('data/input/10.jpg')"
   ]
  },
  {
   "cell_type": "code",
   "execution_count": 3,
   "id": "3aa0b4d3",
   "metadata": {},
   "outputs": [
    {
     "name": "stdout",
     "output_type": "stream",
     "text": [
      "*** Please replace the Google OCR key at detect_text/ocr.py line 28 with your own (apply in https://cloud.google.com/vision) ***\n",
<<<<<<< HEAD
      "[Text Detection Completed in 1.503 s] Input: data/input/11.jpg Output: data/output/ocr/11.json\n",
      "[Compo Detection Completed in 0.371 s] Input: data/input/11.jpg Output: data/output/ip/11.json\n",
      "[Merge Completed] Input: data/input/11.jpg Output: data/output/uied/11.jpg\n"
=======
      "[Text Detection Completed in 0.767 s] Input: data/input/10.jpg Output: data/output\\ocr\\10.json\n",
      "[Compo Detection Completed in 0.334 s] Input: data/input/10.jpg Output: data/output\\ip\\10.json\n",
      "[Merge Completed] Input: data/input/10.jpg Output: data/output\\uied\\10.jpg\n"
>>>>>>> a8b2741e058e325aa106c40b759d561409b32229
     ]
    }
   ],
   "source": [
    "gui.detect_element()"
   ]
  },
  {
   "cell_type": "code",
   "execution_count": 4,
   "id": "7c68ec26",
   "metadata": {},
   "outputs": [],
   "source": [
    "gui.show_elements()"
   ]
  },
  {
   "cell_type": "code",
   "execution_count": 5,
   "id": "4dfa7f81",
   "metadata": {},
   "outputs": [],
   "source": [
    "gui.classify_compo()"
   ]
  },
  {
   "cell_type": "code",
   "execution_count": 6,
   "id": "1caeb721",
   "metadata": {},
   "outputs": [],
   "source": [
    "gui.show_element_classes()"
   ]
  },
  {
   "cell_type": "code",
   "execution_count": null,
   "id": "118bdffa",
   "metadata": {},
   "outputs": [],
   "source": []
  }
 ],
 "metadata": {
  "kernelspec": {
   "display_name": "Python 3",
   "language": "python",
   "name": "python3"
  },
  "language_info": {
   "codemirror_mode": {
    "name": "ipython",
    "version": 3
   },
   "file_extension": ".py",
   "mimetype": "text/x-python",
   "name": "python",
   "nbconvert_exporter": "python",
   "pygments_lexer": "ipython3",
   "version": "3.6.9"
  }
 },
 "nbformat": 4,
 "nbformat_minor": 5
}
