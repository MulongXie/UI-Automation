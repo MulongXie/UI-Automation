{
 "cells": [
  {
   "cell_type": "code",
   "execution_count": 1,
   "id": "9c0a4915",
   "metadata": {},
   "outputs": [],
   "source": [
    "from GUI import GUI"
   ]
  },
  {
   "cell_type": "code",
   "execution_count": 2,
   "id": "0a368b2b",
   "metadata": {},
   "outputs": [],
   "source": [
    "gui = GUI('data/input/11.jpg')"
   ]
  },
  {
   "cell_type": "code",
   "execution_count": 3,
   "id": "3aa0b4d3",
   "metadata": {},
   "outputs": [
    {
     "name": "stdout",
     "output_type": "stream",
     "text": [
      "*** Please replace the Google OCR key at detect_text/ocr.py line 28 with your own (apply in https://cloud.google.com/vision) ***\n",
      "[Text Detection Completed in 0.055 s] Input: data/input/11.jpg Output: data/output/ocr/11.json\n",
      "[Compo Detection Completed in 0.389 s] Input: data/input/11.jpg Output: data/output/ip/11.json\n",
      "[Merge Completed] Input: data/input/11.jpg Output: data/output/uied/11.jpg\n"
     ]
    }
   ],
   "source": [
    "gui.detect_element()"
   ]
  },
  {
   "cell_type": "code",
   "execution_count": 4,
   "id": "7c68ec26",
   "metadata": {},
   "outputs": [],
   "source": [
    "gui.show_elements()"
   ]
  },
  {
   "cell_type": "code",
   "execution_count": 5,
   "id": "4dfa7f81",
   "metadata": {},
   "outputs": [
    {
     "name": "stdout",
     "output_type": "stream",
     "text": [
      "*** Load ResNet50 pretrained on ImageNet ***\n"
     ]
    }
   ],
   "source": [
    "gui.classify_compo()"
   ]
  },
  {
   "cell_type": "code",
   "execution_count": 6,
   "id": "1caeb721",
   "metadata": {},
   "outputs": [
    {
     "ename": "KeyError",
     "evalue": "' analog clock'",
     "output_type": "error",
     "traceback": [
      "\u001B[0;31m---------------------------------------------------------------------------\u001B[0m",
      "\u001B[0;31mKeyError\u001B[0m                                  Traceback (most recent call last)",
      "\u001B[0;32m<ipython-input-6-e998c733a231>\u001B[0m in \u001B[0;36m<module>\u001B[0;34m\u001B[0m\n\u001B[0;32m----> 1\u001B[0;31m \u001B[0mgui\u001B[0m\u001B[0;34m.\u001B[0m\u001B[0mshow_element_classes\u001B[0m\u001B[0;34m(\u001B[0m\u001B[0;34m)\u001B[0m\u001B[0;34m\u001B[0m\u001B[0;34m\u001B[0m\u001B[0m\n\u001B[0m",
      "\u001B[0;32m~/Code/github/UI-Automation/GUI.py\u001B[0m in \u001B[0;36mshow_element_classes\u001B[0;34m(self)\u001B[0m\n\u001B[1;32m     97\u001B[0m             \u001B[0melement\u001B[0m\u001B[0;34m.\u001B[0m\u001B[0mdraw_element\u001B[0m\u001B[0;34m(\u001B[0m\u001B[0mboard_ele_class\u001B[0m\u001B[0;34m,\u001B[0m \u001B[0mself\u001B[0m\u001B[0;34m.\u001B[0m\u001B[0mcolor_map\u001B[0m\u001B[0;34m[\u001B[0m\u001B[0melement\u001B[0m\u001B[0;34m.\u001B[0m\u001B[0mattributes\u001B[0m\u001B[0;34m.\u001B[0m\u001B[0melement_class\u001B[0m\u001B[0;34m]\u001B[0m\u001B[0;34m,\u001B[0m \u001B[0mtext\u001B[0m\u001B[0;34m=\u001B[0m\u001B[0melement\u001B[0m\u001B[0;34m.\u001B[0m\u001B[0mattributes\u001B[0m\u001B[0;34m.\u001B[0m\u001B[0melement_class\u001B[0m\u001B[0;34m)\u001B[0m\u001B[0;34m\u001B[0m\u001B[0;34m\u001B[0m\u001B[0m\n\u001B[1;32m     98\u001B[0m             \u001B[0;32mif\u001B[0m \u001B[0melement\u001B[0m\u001B[0;34m.\u001B[0m\u001B[0mattributes\u001B[0m\u001B[0;34m.\u001B[0m\u001B[0mcompo_class\u001B[0m \u001B[0;32mis\u001B[0m \u001B[0;32mnot\u001B[0m \u001B[0;32mNone\u001B[0m\u001B[0;34m:\u001B[0m\u001B[0;34m\u001B[0m\u001B[0;34m\u001B[0m\u001B[0m\n\u001B[0;32m---> 99\u001B[0;31m                 \u001B[0melement\u001B[0m\u001B[0;34m.\u001B[0m\u001B[0mdraw_element\u001B[0m\u001B[0;34m(\u001B[0m\u001B[0mboard_compo_class\u001B[0m\u001B[0;34m,\u001B[0m \u001B[0mself\u001B[0m\u001B[0;34m.\u001B[0m\u001B[0mcolor_map\u001B[0m\u001B[0;34m[\u001B[0m\u001B[0melement\u001B[0m\u001B[0;34m.\u001B[0m\u001B[0mattributes\u001B[0m\u001B[0;34m.\u001B[0m\u001B[0mcompo_class\u001B[0m\u001B[0;34m]\u001B[0m\u001B[0;34m,\u001B[0m \u001B[0mtext\u001B[0m\u001B[0;34m=\u001B[0m\u001B[0melement\u001B[0m\u001B[0;34m.\u001B[0m\u001B[0mattributes\u001B[0m\u001B[0;34m.\u001B[0m\u001B[0mcompo_class\u001B[0m\u001B[0;34m)\u001B[0m\u001B[0;34m\u001B[0m\u001B[0;34m\u001B[0m\u001B[0m\n\u001B[0m\u001B[1;32m    100\u001B[0m         \u001B[0mcv2\u001B[0m\u001B[0;34m.\u001B[0m\u001B[0mimshow\u001B[0m\u001B[0;34m(\u001B[0m\u001B[0;34m'element class'\u001B[0m\u001B[0;34m,\u001B[0m \u001B[0mboard_ele_class\u001B[0m\u001B[0;34m)\u001B[0m\u001B[0;34m\u001B[0m\u001B[0;34m\u001B[0m\u001B[0m\n\u001B[1;32m    101\u001B[0m         \u001B[0mcv2\u001B[0m\u001B[0;34m.\u001B[0m\u001B[0mimshow\u001B[0m\u001B[0;34m(\u001B[0m\u001B[0;34m'compo class'\u001B[0m\u001B[0;34m,\u001B[0m \u001B[0mboard_compo_class\u001B[0m\u001B[0;34m)\u001B[0m\u001B[0;34m\u001B[0m\u001B[0;34m\u001B[0m\u001B[0m\n",
      "\u001B[0;31mKeyError\u001B[0m: ' analog clock'"
     ]
    }
   ],
   "source": [
    "gui.show_element_classes()"
   ]
  },
  {
   "cell_type": "code",
   "execution_count": null,
   "id": "6a1a8e37",
   "metadata": {},
   "outputs": [],
   "source": []
  }
 ],
 "metadata": {
  "kernelspec": {
   "display_name": "Python 3",
   "language": "python",
   "name": "python3"
  },
  "language_info": {
   "codemirror_mode": {
    "name": "ipython",
    "version": 3
   },
   "file_extension": ".py",
   "mimetype": "text/x-python",
   "name": "python",
   "nbconvert_exporter": "python",
   "pygments_lexer": "ipython3",
   "version": "3.6.9"
  }
 },
 "nbformat": 4,
 "nbformat_minor": 5
}
