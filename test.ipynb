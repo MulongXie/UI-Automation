{
 "cells": [
  {
   "cell_type": "code",
   "execution_count": 4,
   "id": "9c0a4915",
   "metadata": {},
   "outputs": [],
   "source": [
    "from GUI import GUI\n",
    "import time\n",
    "time.clock = time.time"
   ]
  },
  {
   "cell_type": "code",
   "execution_count": 5,
   "id": "0a368b2b",
   "metadata": {},
   "outputs": [],
   "source": [
    "gui = GUI('data/input/11.jpg')"
   ]
  },
  {
   "cell_type": "code",
   "execution_count": 6,
   "id": "3aa0b4d3",
   "metadata": {},
   "outputs": [
    {
     "name": "stdout",
     "output_type": "stream",
     "text": [
      "*** Please replace the Google OCR key at detect_text/ocr.py line 28 with your own (apply in https://cloud.google.com/vision) ***\n",
      "[Text Detection Completed in 1.671 s] Input: data/input/11.jpg Output: data/output\\ocr\\11.json\n",
      "[Compo Detection Completed in 0.297 s] Input: data/input/11.jpg Output: data/output\\ip\\11.json\n",
      "[Merge Completed] Input: data/input/11.jpg Output: data/output\\uied\\11.jpg\n"
     ]
    }
   ],
   "source": [
    "gui.detect_element()"
   ]
  },
  {
   "cell_type": "code",
   "execution_count": 7,
   "id": "7c68ec26",
   "metadata": {},
   "outputs": [],
   "source": [
    "gui.show_elements()"
   ]
  },
  {
   "cell_type": "code",
   "execution_count": 8,
   "id": "4dfa7f81",
   "metadata": {},
   "outputs": [
    {
     "name": "stdout",
     "output_type": "stream",
     "text": [
      "Downloading data from https://github.com/fchollet/deep-learning-models/releases/download/v0.2/resnet50_weights_tf_dim_ordering_tf_kernels.h5\n",
      "102853048/102853048 [==============================] - 10s 0us/step\n",
      "*** Load ResNet50 pretrained on ImageNet ***\n",
      "1/1 [==============================] - 1s 645ms/step\n"
     ]
    }
   ],
   "source": [
    "gui.classify_compo()"
   ]
  },
  {
   "cell_type": "code",
   "execution_count": 9,
   "id": "1caeb721",
   "metadata": {},
   "outputs": [],
   "source": [
    "gui.show_element_classes()"
   ]
  },
  {
   "cell_type": "code",
   "execution_count": null,
   "id": "6a1a8e37",
   "metadata": {},
   "outputs": [],
   "source": []
  },
  {
   "cell_type": "code",
   "execution_count": 17,
   "id": "40b6b41f",
   "metadata": {},
   "outputs": [],
   "source": [
    "from PIL import Image\n",
    "import cv2\n",
    "import numpy"
   ]
  },
  {
   "cell_type": "code",
   "execution_count": 14,
   "id": "66b54ec5",
   "metadata": {},
   "outputs": [
    {
     "data": {
      "text/plain": [
       "PIL.JpegImagePlugin.JpegImageFile"
      ]
     },
     "execution_count": 14,
     "metadata": {},
     "output_type": "execute_result"
    }
   ],
   "source": [
    "type(Image.open('data/input/2.jpg'))"
   ]
  },
  {
   "cell_type": "code",
   "execution_count": 18,
   "id": "5a3a14da",
   "metadata": {},
   "outputs": [
    {
     "data": {
      "text/plain": [
       "True"
      ]
     },
     "execution_count": 18,
     "metadata": {},
     "output_type": "execute_result"
    }
   ],
   "source": [
    "type(cv2.imread('data/input/2.jpg')) == numpy.ndarray"
   ]
  },
  {
   "cell_type": "code",
   "execution_count": null,
   "id": "ab6d4a26",
   "metadata": {},
   "outputs": [],
   "source": []
  }
 ],
 "metadata": {
  "kernelspec": {
   "display_name": "Python 3 (ipykernel)",
   "language": "python",
   "name": "python3"
  },
  "language_info": {
   "codemirror_mode": {
    "name": "ipython",
    "version": 3
   },
   "file_extension": ".py",
   "mimetype": "text/x-python",
   "name": "python",
   "nbconvert_exporter": "python",
   "pygments_lexer": "ipython3",
   "version": "3.10.10"
  }
 },
 "nbformat": 4,
 "nbformat_minor": 5
}
