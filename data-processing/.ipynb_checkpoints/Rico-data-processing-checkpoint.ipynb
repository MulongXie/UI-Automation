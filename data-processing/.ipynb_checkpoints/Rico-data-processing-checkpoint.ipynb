{
 "cells": [
  {
   "cell_type": "code",
   "execution_count": 1,
   "metadata": {},
   "outputs": [],
   "source": [
    "from os.path import join as pjoin\n",
    "from DataInspector import DataInspector\n",
    "import json"
   ]
  },
  {
   "cell_type": "code",
   "execution_count": 2,
   "metadata": {},
   "outputs": [],
   "source": [
    "data = DataInspector(img_directory='/home/ml/Data/rico/combined/', json_directory='/home/ml/Data/rico/semantic/')"
   ]
  },
  {
   "cell_type": "code",
   "execution_count": 3,
   "metadata": {},
   "outputs": [],
   "source": [
    "data.get_all_json_files()"
   ]
  },
  {
   "cell_type": "code",
   "execution_count": 5,
   "metadata": {},
   "outputs": [],
   "source": [
    "'''\n",
    "*******************************************\n",
    "*** Collect Component by ComponentLabel ***\n",
    "*******************************************\n",
    "'''\n",
    "start_point = 19820\n",
    "end_point = 70000\n",
    "\n",
    "bad_cases = []\n",
    "for i, jfile in enumerate(data.json_files):\n",
    "    if i < start_point:\n",
    "        continue\n",
    "    if i > end_point:\n",
    "        break\n",
    "    imgfile = data.generate_file_path(source_file=jfile, target_file_type='.jpg')\n",
    "    print('\\n********** [%.3f] %s **********' %(i/(end_point - start_point), jfile))\n",
    "    try:\n",
    "        data.load_gui_img_and_element(imgfile, jfile)\n",
    "        data.save_elements_clips_by_compo_label('/home/ml/Data/rico/component/')\n",
    "    except Exception as E:\n",
    "        bad_cases.append(imgfile)"
   ]
  },
  {
   "cell_type": "code",
   "execution_count": null,
   "metadata": {},
   "outputs": [],
   "source": []
  },
  {
   "cell_type": "code",
   "execution_count": 4,
   "metadata": {},
   "outputs": [],
   "source": [
    "name = '4'\n",
    "data.load_gui_img_and_element('/home/ml/Data/rico/combined/'+name+'.jpg', '/home/ml/Data/rico/semantic/'+name+'.json', show=False)"
   ]
  },
  {
   "cell_type": "code",
   "execution_count": 6,
   "metadata": {},
   "outputs": [
    {
     "name": "stdout",
     "output_type": "stream",
     "text": [
      "{'arrow_backward': 1, 'share': 1, 'emoji': 1, 'refresh': 1}\n"
     ]
    }
   ],
   "source": [
    "data.save_icons_clips_by_icon_class('/home/ml/Data/rico/icon/')"
   ]
  },
  {
   "cell_type": "code",
   "execution_count": 8,
   "metadata": {},
   "outputs": [],
   "source": [
    "'''\n",
    "**********************************\n",
    "*** Collect Icons by iconClass ***\n",
    "**********************************\n",
    "'''\n",
    "start_point = 0\n",
    "end_point = 70000\n",
    "\n",
    "bad_cases = []\n",
    "for i, jfile in enumerate(data.json_files):\n",
    "    if i < start_point:\n",
    "        continue\n",
    "    if i > end_point:\n",
    "        break\n",
    "    imgfile = data.generate_file_path(source_file=jfile, target_file_type='.jpg')\n",
    "    print('\\n********** [%.3f] %s **********' %(i/(end_point - start_point), jfile))\n",
    "    try:\n",
    "        data.load_gui_img_and_element(imgfile, jfile)\n",
    "        data.save_icons_clips_by_icon_class('/home/ml/Data/rico/icon/')\n",
    "    except Exception as E:\n",
    "        bad_cases.append(imgfile)"
   ]
  }
 ],
 "metadata": {
  "kernelspec": {
   "display_name": "Python 3",
   "language": "python",
   "name": "python3"
  },
  "language_info": {
   "codemirror_mode": {
    "name": "ipython",
    "version": 3
   },
   "file_extension": ".py",
   "mimetype": "text/x-python",
   "name": "python",
   "nbconvert_exporter": "python",
   "pygments_lexer": "ipython3",
   "version": "3.6.9"
  }
 },
 "nbformat": 4,
 "nbformat_minor": 2
}
