{
 "cells": [
  {
   "cell_type": "code",
   "execution_count": null,
   "id": "b2a6128a",
   "metadata": {},
   "outputs": [],
   "source": [
    "from ppadb.client import Client as AdbClient\n",
    "from DataCollector import DataCollector\n",
    "client = AdbClient(host=\"127.0.0.1\", port=5037)\n",
    "\n",
    "data = DataCollector(client.devices()[0], app_name='twitter', test_case_no=1)"
   ]
  },
  {
   "cell_type": "code",
   "execution_count": null,
   "id": "f8c544db",
   "metadata": {},
   "outputs": [],
   "source": [
    "data.record_action()"
   ]
  },
  {
   "cell_type": "code",
   "execution_count": null,
   "id": "40929c28",
   "metadata": {},
   "outputs": [],
   "source": []
  }
 ],
 "metadata": {
  "kernelspec": {
   "display_name": "Python 3 (ipykernel)",
   "language": "python",
   "name": "python3"
  },
  "language_info": {
   "codemirror_mode": {
    "name": "ipython",
    "version": 3
   },
   "file_extension": ".py",
   "mimetype": "text/x-python",
   "name": "python",
   "nbconvert_exporter": "python",
   "pygments_lexer": "ipython3",
   "version": "3.10.10"
  }
 },
 "nbformat": 4,
 "nbformat_minor": 5
}
