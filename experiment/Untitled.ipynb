{
 "cells": [
  {
   "cell_type": "code",
   "execution_count": 1,
   "id": "6cfbbeae",
   "metadata": {},
   "outputs": [
    {
     "name": "stdout",
     "output_type": "stream",
     "text": [
      "*** Save data to dir datacollect\\twitter\\testcase1 ***\n"
     ]
    }
   ],
   "source": [
    "from ppadb.client import Client as AdbClient\n",
    "from DataCollector import DataCollector\n",
    "client = AdbClient(host=\"127.0.0.1\", port=5037)\n",
    "\n",
    "data = DataCollector(client.devices()[0], app_name='twitter', test_case_no=1)"
   ]
  },
  {
   "cell_type": "code",
   "execution_count": 2,
   "id": "2ad3e41a",
   "metadata": {},
   "outputs": [
    {
     "name": "stdout",
     "output_type": "stream",
     "text": [
      "Save screenshot to datacollect\\twitter\\testcase1\\0.png\n",
      "Save xml to datacollect\\twitter\\testcase1\\0.xml\n",
      "Save view hierarchy to datacollect\\twitter\\testcase1\\0.json\n",
      "\n",
      "****** Click (333, 2133) ******\n",
      "*** Save record to datacollect\\twitter\\testcase1\\actions.json ***\n",
      "Save screenshot to datacollect\\twitter\\testcase1\\1.png\n",
      "Save xml to datacollect\\twitter\\testcase1\\1.xml\n",
      "Save view hierarchy to datacollect\\twitter\\testcase1\\1.json\n"
     ]
    }
   ],
   "source": [
    "data.record_action()"
   ]
  },
  {
   "cell_type": "code",
   "execution_count": 5,
   "id": "a3e3ee04",
   "metadata": {},
   "outputs": [
    {
     "data": {
      "text/plain": [
       "{'screensize': Size(width=1080, height=2280),\n",
       " 'task': 'Opem Twitter',\n",
       " 'testcase-no': 1,\n",
       " 'step-no': 0,\n",
       " 'actions': [{'type': 'click', 'coordinate': [(333, 2133), (-1, -1)]}]}"
      ]
     },
     "execution_count": 5,
     "metadata": {},
     "output_type": "execute_result"
    }
   ],
   "source": [
    "data.record"
   ]
  },
  {
   "cell_type": "code",
   "execution_count": null,
   "id": "4befe3ef",
   "metadata": {},
   "outputs": [],
   "source": []
  }
 ],
 "metadata": {
  "kernelspec": {
   "display_name": "Python 3 (ipykernel)",
   "language": "python",
   "name": "python3"
  },
  "language_info": {
   "codemirror_mode": {
    "name": "ipython",
    "version": 3
   },
   "file_extension": ".py",
   "mimetype": "text/x-python",
   "name": "python",
   "nbconvert_exporter": "python",
   "pygments_lexer": "ipython3",
   "version": "3.10.10"
  }
 },
 "nbformat": 4,
 "nbformat_minor": 5
}
