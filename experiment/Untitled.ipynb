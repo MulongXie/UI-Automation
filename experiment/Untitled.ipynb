{
 "cells": [
  {
   "cell_type": "code",
   "execution_count": 1,
   "id": "861db967",
   "metadata": {},
   "outputs": [
    {
     "name": "stdout",
     "output_type": "stream",
     "text": [
      "*** Save data to dir datacollect\\twitter\\testcase1 ***\n"
     ]
    }
   ],
   "source": [
    "from ppadb.client import Client as AdbClient\n",
    "from DataCollector import DataCollector\n",
    "client = AdbClient(host=\"127.0.0.1\", port=5037)\n",
    "\n",
    "data = DataCollector(client.devices()[0], app_name='twitter', test_case_no=1)"
   ]
  },
  {
   "cell_type": "code",
   "execution_count": 2,
   "id": "fe56656d",
   "metadata": {},
   "outputs": [
    {
     "name": "stdout",
     "output_type": "stream",
     "text": [
      "Save screenshot to datacollect\\twitter\\testcase1\\0.png\n",
      "Save xml to datacollect\\twitter\\testcase1\\0.xml\n",
      "Save view hierarchy to datacollect\\twitter\\testcase1\\0.json\n",
      "\n",
      "****** Click (324, 2124) ******\n",
      "Save screenshot to datacollect\\twitter\\testcase1\\1.png\n",
      "Save xml to datacollect\\twitter\\testcase1\\1.xml\n",
      "Save view hierarchy to datacollect\\twitter\\testcase1\\1.json\n",
      "\n",
      "****** Click (360, 135) ******\n",
      "Save screenshot to datacollect\\twitter\\testcase1\\2.png\n",
      "Save xml to datacollect\\twitter\\testcase1\\2.xml\n",
      "Save view hierarchy to datacollect\\twitter\\testcase1\\2.json\n"
     ]
    }
   ],
   "source": [
    "data.record_action()"
   ]
  },
  {
   "cell_type": "code",
   "execution_count": null,
   "id": "de2f7f54",
   "metadata": {},
   "outputs": [],
   "source": []
  }
 ],
 "metadata": {
  "kernelspec": {
   "display_name": "Python 3 (ipykernel)",
   "language": "python",
   "name": "python3"
  },
  "language_info": {
   "codemirror_mode": {
    "name": "ipython",
    "version": 3
   },
   "file_extension": ".py",
   "mimetype": "text/x-python",
   "name": "python",
   "nbconvert_exporter": "python",
   "pygments_lexer": "ipython3",
   "version": "3.10.10"
  }
 },
 "nbformat": 4,
 "nbformat_minor": 5
}
