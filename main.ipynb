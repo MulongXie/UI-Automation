{
 "cells": [
  {
   "cell_type": "markdown",
   "id": "5e74037e",
   "metadata": {},
   "source": [
    "## [Option 1] Load virtual device to collect the screenshot and vh"
   ]
  },
  {
   "cell_type": "markdown",
   "id": "63865543",
   "metadata": {},
   "source": [
    "### 1. Start emulator in Android studio first and run to capture screenshot and view hierarchy"
   ]
  },
  {
   "cell_type": "markdown",
   "id": "744083c1",
   "metadata": {},
   "source": [
    "Save vh `xml`, `json` and `screenshot image` to \"data/app_name/test_case_no/device\""
   ]
  },
  {
   "cell_type": "code",
   "execution_count": 1,
   "id": "7ac2619d",
   "metadata": {},
   "outputs": [
    {
     "name": "stdout",
     "output_type": "stream",
     "text": [
      "*** Save data to dir data\\twitter\\testcase1\\device ***\n",
      "Save screenshot to data\\twitter\\testcase1\\device\\0.png\n",
      "Save xml to data\\twitter\\testcase1\\device\\0.xml\n",
      "Save view hierarchy to data\\twitter\\testcase1\\device\\0.json\n",
      "Save reformatted vh to data\\twitter\\testcase1\\device\\0.json\n"
     ]
    }
   ],
   "source": [
    "from ppadb.client import Client as AdbClient\n",
    "from Device import Device\n",
    "client = AdbClient(host=\"127.0.0.1\", port=5037)\n",
    "\n",
    "device = Device(client.devices()[0], app_name='twitter', test_case_no=1)\n",
    "device.cap_screenshot()\n",
    "device.cap_vh()\n",
    "device.reformat_vh_json()"
   ]
  },
  {
   "cell_type": "markdown",
   "id": "db39844b",
   "metadata": {},
   "source": [
    "### 2. GUI information extraction and analysis"
   ]
  },
  {
   "cell_type": "markdown",
   "id": "eaef1bba",
   "metadata": {},
   "source": [
    "Extract `elements` and `element_tree` and save to \"data/app_name/test_case_no/guidata\""
   ]
  },
  {
   "cell_type": "code",
   "execution_count": 2,
   "id": "2ed8a1e1",
   "metadata": {},
   "outputs": [],
   "source": [
    "load = True"
   ]
  },
  {
   "cell_type": "code",
   "execution_count": 3,
   "id": "56542304",
   "metadata": {},
   "outputs": [
    {
     "name": "stderr",
     "output_type": "stream",
     "text": [
      "C:\\Users\\xie029\\AppData\\Local\\Programs\\Python\\Python310\\lib\\site-packages\\tqdm\\auto.py:22: TqdmWarning: IProgress not found. Please update jupyter and ipywidgets. See https://ipywidgets.readthedocs.io/en/stable/user_install.html\n",
      "  from .autonotebook import tqdm as notebook_tqdm\n"
     ]
    },
    {
     "name": "stdout",
     "output_type": "stream",
     "text": [
      "Save elements to data\\twitter\\testcase1\\guidata\\0_elements.json\n"
     ]
    },
    {
     "name": "stderr",
     "output_type": "stream",
     "text": [
      "C:\\Users\\xie029\\AppData\\Local\\Programs\\Python\\Python310\\lib\\site-packages\\torch\\serialization.py:868: SourceChangeWarning: source code of class 'models.image_models.ResNetFeats' has changed. you can retrieve the original source code by accessing the object's source attribute or set `torch.nn.Module.dump_patches = True` and use the patch tool to revert the changes.\n",
      "  warnings.warn(msg, SourceChangeWarning)\n",
      "C:\\Users\\xie029\\AppData\\Local\\Programs\\Python\\Python310\\lib\\site-packages\\torch\\serialization.py:868: SourceChangeWarning: source code of class 'torch.nn.modules.container.Sequential' has changed. you can retrieve the original source code by accessing the object's source attribute or set `torch.nn.Module.dump_patches = True` and use the patch tool to revert the changes.\n",
      "  warnings.warn(msg, SourceChangeWarning)\n",
      "C:\\Users\\xie029\\AppData\\Local\\Programs\\Python\\Python310\\lib\\site-packages\\torch\\serialization.py:868: SourceChangeWarning: source code of class 'torch.nn.modules.conv.Conv2d' has changed. you can retrieve the original source code by accessing the object's source attribute or set `torch.nn.Module.dump_patches = True` and use the patch tool to revert the changes.\n",
      "  warnings.warn(msg, SourceChangeWarning)\n",
      "C:\\Users\\xie029\\AppData\\Local\\Programs\\Python\\Python310\\lib\\site-packages\\torch\\serialization.py:868: SourceChangeWarning: source code of class 'torch.nn.modules.batchnorm.BatchNorm2d' has changed. you can retrieve the original source code by accessing the object's source attribute or set `torch.nn.Module.dump_patches = True` and use the patch tool to revert the changes.\n",
      "  warnings.warn(msg, SourceChangeWarning)\n",
      "C:\\Users\\xie029\\AppData\\Local\\Programs\\Python\\Python310\\lib\\site-packages\\torch\\serialization.py:868: SourceChangeWarning: source code of class 'torch.nn.modules.activation.ReLU' has changed. you can retrieve the original source code by accessing the object's source attribute or set `torch.nn.Module.dump_patches = True` and use the patch tool to revert the changes.\n",
      "  warnings.warn(msg, SourceChangeWarning)\n",
      "C:\\Users\\xie029\\AppData\\Local\\Programs\\Python\\Python310\\lib\\site-packages\\torch\\serialization.py:868: SourceChangeWarning: source code of class 'torch.nn.modules.pooling.MaxPool2d' has changed. you can retrieve the original source code by accessing the object's source attribute or set `torch.nn.Module.dump_patches = True` and use the patch tool to revert the changes.\n",
      "  warnings.warn(msg, SourceChangeWarning)\n",
      "C:\\Users\\xie029\\AppData\\Local\\Programs\\Python\\Python310\\lib\\site-packages\\torch\\serialization.py:868: SourceChangeWarning: source code of class 'torchvision.models.resnet.Bottleneck' has changed. you can retrieve the original source code by accessing the object's source attribute or set `torch.nn.Module.dump_patches = True` and use the patch tool to revert the changes.\n",
      "  warnings.warn(msg, SourceChangeWarning)\n",
      "C:\\Users\\xie029\\AppData\\Local\\Programs\\Python\\Python310\\lib\\site-packages\\torch\\serialization.py:868: SourceChangeWarning: source code of class 'torch.nn.modules.pooling.AvgPool2d' has changed. you can retrieve the original source code by accessing the object's source attribute or set `torch.nn.Module.dump_patches = True` and use the patch tool to revert the changes.\n",
      "  warnings.warn(msg, SourceChangeWarning)\n",
      "C:\\Users\\xie029\\AppData\\Local\\Programs\\Python\\Python310\\lib\\site-packages\\torch\\serialization.py:868: SourceChangeWarning: source code of class 'torch.nn.modules.pooling.AdaptiveAvgPool2d' has changed. you can retrieve the original source code by accessing the object's source attribute or set `torch.nn.Module.dump_patches = True` and use the patch tool to revert the changes.\n",
      "  warnings.warn(msg, SourceChangeWarning)\n",
      "C:\\Users\\xie029\\AppData\\Local\\Programs\\Python\\Python310\\lib\\site-packages\\torch\\serialization.py:868: SourceChangeWarning: source code of class 'torch.nn.modules.linear.Linear' has changed. you can retrieve the original source code by accessing the object's source attribute or set `torch.nn.Module.dump_patches = True` and use the patch tool to revert the changes.\n",
      "  warnings.warn(msg, SourceChangeWarning)\n",
      "C:\\Users\\xie029\\AppData\\Local\\Programs\\Python\\Python310\\lib\\site-packages\\torch\\serialization.py:868: SourceChangeWarning: source code of class 'torch.nn.modules.batchnorm.BatchNorm1d' has changed. you can retrieve the original source code by accessing the object's source attribute or set `torch.nn.Module.dump_patches = True` and use the patch tool to revert the changes.\n",
      "  warnings.warn(msg, SourceChangeWarning)\n",
      "C:\\Users\\xie029\\AppData\\Local\\Programs\\Python\\Python310\\lib\\site-packages\\torch\\serialization.py:868: SourceChangeWarning: source code of class 'models.Transformer.Transformer' has changed. you can retrieve the original source code by accessing the object's source attribute or set `torch.nn.Module.dump_patches = True` and use the patch tool to revert the changes.\n",
      "  warnings.warn(msg, SourceChangeWarning)\n",
      "C:\\Users\\xie029\\AppData\\Local\\Programs\\Python\\Python310\\lib\\site-packages\\torch\\serialization.py:868: SourceChangeWarning: source code of class 'torch.nn.modules.dropout.Dropout' has changed. you can retrieve the original source code by accessing the object's source attribute or set `torch.nn.Module.dump_patches = True` and use the patch tool to revert the changes.\n",
      "  warnings.warn(msg, SourceChangeWarning)\n",
      "C:\\Users\\xie029\\AppData\\Local\\Programs\\Python\\Python310\\lib\\site-packages\\torch\\serialization.py:868: SourceChangeWarning: source code of class 'torch.nn.modules.container.ModuleList' has changed. you can retrieve the original source code by accessing the object's source attribute or set `torch.nn.Module.dump_patches = True` and use the patch tool to revert the changes.\n",
      "  warnings.warn(msg, SourceChangeWarning)\n",
      "C:\\Users\\xie029\\AppData\\Local\\Programs\\Python\\Python310\\lib\\site-packages\\torch\\serialization.py:868: SourceChangeWarning: source code of class 'torch.nn.modules.linear.Identity' has changed. you can retrieve the original source code by accessing the object's source attribute or set `torch.nn.Module.dump_patches = True` and use the patch tool to revert the changes.\n",
      "  warnings.warn(msg, SourceChangeWarning)\n",
      "C:\\Users\\xie029\\AppData\\Local\\Programs\\Python\\Python310\\lib\\site-packages\\torch\\serialization.py:868: SourceChangeWarning: source code of class 'torch.nn.modules.sparse.Embedding' has changed. you can retrieve the original source code by accessing the object's source attribute or set `torch.nn.Module.dump_patches = True` and use the patch tool to revert the changes.\n",
      "  warnings.warn(msg, SourceChangeWarning)\n"
     ]
    },
    {
     "name": "stdout",
     "output_type": "stream",
     "text": [
      "Save elements to data\\twitter\\testcase1\\guidata\\0_elements.json\n",
      "Save element tree to data\\twitter\\testcase1\\guidata\\0_tree.json\n"
     ]
    }
   ],
   "source": [
    "from GUIData import GUIData\n",
    "gui = GUIData(gui_img_file=device.output_file_path_screenshot,\n",
    "             gui_json_file=device.output_file_path_json,\n",
    "             output_file_root=device.testcase_save_dir)\n",
    "# load previous result\n",
    "if load:\n",
    "    gui.load_elements()\n",
    "# process from scratch\n",
    "else:\n",
    "    gui.ui_info_extraction()\n",
    "    gui.ui_analysis_elements_description()\n",
    "    gui.ui_element_block_tree()\n",
    "gui.show_all_elements(only_leaves=True)"
   ]
  },
  {
   "cell_type": "markdown",
   "id": "3470a9cd",
   "metadata": {},
   "source": [
    "### 3. UI Automator to connect with ChatGPT and ask AI Chain questions"
   ]
  },
  {
   "cell_type": "markdown",
   "id": "2c93a159",
   "metadata": {},
   "source": [
    "Generate `description for blocks` and ask a chain of questions to identify `target block` and `target element` related to the task, save to \"data/app_name/test_case_no/automator\""
   ]
  },
  {
   "cell_type": "code",
   "execution_count": 4,
   "id": "468d5e97",
   "metadata": {},
   "outputs": [
    {
     "name": "stdout",
     "output_type": "stream",
     "text": [
      "------ Generate Block Descriptions ------\n",
      "*** Asking ***\n",
      " [{'role': 'system', 'content': 'You are a mobile virtual assistant that understands and interacts with the user interface to complete given task.'}, {'role': 'user', 'content': \"This is a code snippet that descript a part of UI, summarize its functionalities in one paragraph.\\n{'resource-id': 'google.apps.nexuslauncher:id/scrim_view', 'class': 'view.View', 'clickable': False, 'id': 1, 'description': 'more'}\"}]\n",
      "\n",
      "*** Answer ***\n",
      " {\n",
      "  \"content\": \"This code snippet is describing a UI element with the resource ID \\\"google.apps.nexuslauncher:id/scrim_view\\\" and class \\\"view.View\\\". The element is not clickable and has an ID of 1. It is also described as having a description of \\\"more\\\". Based on this information alone, it is difficult to determine the specific functionality of this UI element without also considering the surrounding UI elements and the app in which it appears. However, the description \\\"more\\\" may suggest that it is a button or link that leads to additional options or information within the app.\",\n",
      "  \"role\": \"assistant\"\n",
      "} \n",
      "\n",
      "*** Asking ***\n",
      " [{'role': 'system', 'content': 'You are a mobile virtual assistant that understands and interacts with the user interface to complete given task.'}, {'role': 'user', 'content': \"This is a code snippet that descript a part of UI, summarize its functionalities in one paragraph.\\n{'resource-id': 'google.apps.nexuslauncher:id/workspace', 'class': 'widget.ScrollView', 'clickable': False, 'id': 2, 'children': [{'class': 'view.ViewGroup', 'clickable': False, 'id': 3, 'children': [{'class': 'view.ViewGroup', 'clickable': False, 'id': 4, 'children': [{'resource-id': 'google.apps.nexuslauncher:id/smartspace_card_pager', 'class': 'androidx.viewpager.widget.ViewPager', 'clickable': False, 'id': 5, 'children': [{'class': 'view.ViewGroup', 'clickable': True, 'id': 6, 'children': [{'resource-id': 'google.apps.nexuslauncher:id/date', 'class': 'widget.TextView', 'clickable': True, 'id': 7, 'description': 'Thu, Mar 9 / Thu, Mar 9'}, {'resource-id': 'google.apps.nexuslauncher:id/smartspace_subtitle_group', 'class': 'view.ViewGroup', 'clickable': True, 'id': 8, 'description': 'navigate up'}]}]}, {'class': 'widget.TextView', 'clickable': True, 'id': 9, 'description': 'Twitter / Twitter'}]}]}]}\"}]\n",
      "\n",
      "*** Answer ***\n",
      " {\n",
      "  \"content\": \"This code represents a UI element on a mobile device's home screen. Specifically, it is a scrollable view that contains a view pager which displays information related to a user's schedule (date information) and social media (Twitter), along with corresponding navigation options. The user can interact with this element by clicking on the date or social media options, as well as the navigation options. Overall, this UI element aims to provide the user with a quick and convenient way to access important information and apps.\",\n",
      "  \"role\": \"assistant\"\n",
      "} \n",
      "\n",
      "*** Asking ***\n",
      " [{'role': 'system', 'content': 'You are a mobile virtual assistant that understands and interacts with the user interface to complete given task.'}, {'role': 'user', 'content': \"This is a code snippet that descript a part of UI, summarize its functionalities in one paragraph.\\n{'class': 'view.View', 'clickable': False, 'id': 10, 'description': 'Home'}\"}]\n",
      "\n",
      "*** Answer ***\n",
      " {\n",
      "  \"content\": \"This code snippet describes a UI element identified as a \\\"View\\\". It has the ID of 10 and is not clickable. The description given for this UI element is \\\"Home\\\". Based on this information, we can infer that this \\\"View\\\" element might represent the home screen or homepage of an application or website that the UI belongs to. The fact that it is not clickable could suggest that it is a non-interactive element, serving only as an indicator of the current location or page.\",\n",
      "  \"role\": \"assistant\"\n",
      "} \n",
      "\n",
      "*** Asking ***\n",
      " [{'role': 'system', 'content': 'You are a mobile virtual assistant that understands and interacts with the user interface to complete given task.'}, {'role': 'user', 'content': \"This is a code snippet that descript a part of UI, summarize its functionalities in one paragraph.\\n{'resource-id': 'google.apps.nexuslauncher:id/page_indicator', 'class': 'view.View', 'clickable': False, 'id': 11, 'description': 'navigate up'}\"}]\n",
      "\n",
      "*** Answer ***\n",
      " {\n",
      "  \"content\": \"This UI element is a page indicator on the Google Nexus Launcher app, which helps the user keep track of their current location in the app's navigation hierarchy. It is represented by a view object that is not clickable and has a resource ID of 'google.apps.nexuslauncher:id/page_indicator'. This element also has an ID of 11 and a description of 'navigate up', implying that it may have a functionality that allows the user to move up in the navigation hierarchy. However, further examination of the app's source code or documentation is necessary to fully understand all of the features and interactions associated with this UI element.\",\n",
      "  \"role\": \"assistant\"\n",
      "} \n",
      "\n",
      "*** Asking ***\n",
      " [{'role': 'system', 'content': 'You are a mobile virtual assistant that understands and interacts with the user interface to complete given task.'}, {'role': 'user', 'content': \"This is a code snippet that descript a part of UI, summarize its functionalities in one paragraph.\\n{'resource-id': 'google.apps.nexuslauncher:id/hotseat', 'class': 'view.ViewGroup', 'clickable': False, 'id': 12, 'children': [{'class': 'view.ViewGroup', 'clickable': False, 'id': 13, 'children': [{'class': 'widget.TextView', 'clickable': True, 'id': 14, 'description': 'Phone / Phone'}, {'class': 'widget.TextView', 'clickable': True, 'id': 15, 'description': 'Messages / Messages'}, {'class': 'widget.TextView', 'clickable': True, 'id': 16, 'description': 'Play Store / Play Store'}, {'class': 'widget.TextView', 'clickable': True, 'id': 17, 'description': 'Chrome / Chrome'}, {'class': 'widget.TextView', 'clickable': True, 'id': 18, 'description': 'Camera / Camera'}]}, {'resource-id': 'google.apps.nexuslauncher:id/search_container_hotseat', 'class': 'widget.FrameLayout', 'clickable': True, 'id': 19, 'children': [{'resource-id': 'google.apps.nexuslauncher:id/g_icon', 'class': 'widget.ImageView', 'clickable': True, 'id': 20, 'description': 'refresh'}, {'resource-id': 'google.apps.nexuslauncher:id/mic_icon', 'class': 'widget.ImageView', 'clickable': True, 'id': 21, 'description': 'Voice search'}, {'resource-id': 'google.apps.nexuslauncher:id/lens_icon', 'class': 'widget.ImageButton', 'clickable': True, 'id': 22, 'description': 'Google Lens'}]}]}\"}]\n",
      "\n",
      "*** Answer ***\n",
      " {\n",
      "  \"content\": \"This UI component is called \\\"hotseat\\\" and is a bar located at the bottom of the screen on an Android device. It contains icons for frequently used apps such as Phone, Messages, Play Store, Chrome, and Camera. Tapping on these icons will launch their corresponding apps. Additionally, it has a search feature that includes a refresh button, voice search, and Google Lens. The search feature allows users to search for apps, contacts, or other content on their device, and also offers relevant suggestions.\",\n",
      "  \"role\": \"assistant\"\n",
      "} \n",
      "\n",
      "------ Target Block Identification ------\n",
      "*** Asking ***\n",
      " [{'role': 'system', 'content': 'You are a mobile virtual assistant that understands and interacts with the user interface to complete given task.'}, {'role': 'user', 'content': 'I will give you a list of blocks in the UI, is any of them related to the task \"Open twitter\"? If yes, which block is the most related to complete the task?\\n[Block 0]:[Not Scrollable] This code snippet is describing a UI element with the resource ID \"google.apps.nexuslauncher:id/scrim_view\" and class \"view.View\". The element is not clickable and has an ID of 1. It is also described as having a description of \"more\". Based on this information alone, it is difficult to determine the specific functionality of this UI element without also considering the surrounding UI elements and the app in which it appears. However, the description \"more\" may suggest that it is a button or link that leads to additional options or information within the app.\\n[Block 1]:[Scrollable] This code represents a UI element on a mobile device\\'s home screen. Specifically, it is a scrollable view that contains a view pager which displays information related to a user\\'s schedule (date information) and social media (Twitter), along with corresponding navigation options. The user can interact with this element by clicking on the date or social media options, as well as the navigation options. Overall, this UI element aims to provide the user with a quick and convenient way to access important information and apps.\\n[Block 2]:[Not Scrollable] This code snippet describes a UI element identified as a \"View\". It has the ID of 10 and is not clickable. The description given for this UI element is \"Home\". Based on this information, we can infer that this \"View\" element might represent the home screen or homepage of an application or website that the UI belongs to. The fact that it is not clickable could suggest that it is a non-interactive element, serving only as an indicator of the current location or page.\\n[Block 3]:[Not Scrollable] This UI element is a page indicator on the Google Nexus Launcher app, which helps the user keep track of their current location in the app\\'s navigation hierarchy. It is represented by a view object that is not clickable and has a resource ID of \\'google.apps.nexuslauncher:id/page_indicator\\'. This element also has an ID of 11 and a description of \\'navigate up\\', implying that it may have a functionality that allows the user to move up in the navigation hierarchy. However, further examination of the app\\'s source code or documentation is necessary to fully understand all of the features and interactions associated with this UI element.\\n[Block 4]:[Not Scrollable] This UI component is called \"hotseat\" and is a bar located at the bottom of the screen on an Android device. It contains icons for frequently used apps such as Phone, Messages, Play Store, Chrome, and Camera. Tapping on these icons will launch their corresponding apps. Additionally, it has a search feature that includes a refresh button, voice search, and Google Lens. The search feature allows users to search for apps, contacts, or other content on their device, and also offers relevant suggestions.\\n\\n Answer [Yes] with the most related block if any or [No] if not.'}]\n"
     ]
    },
    {
     "name": "stdout",
     "output_type": "stream",
     "text": [
      "\n",
      "*** Answer ***\n",
      " {\n",
      "  \"content\": \"Yes, Block 1 is related to the task \\\"Open twitter\\\" as it mentions the presence of social media on the home screen that can be accessed by clicking on it.\",\n",
      "  \"role\": \"assistant\"\n",
      "} \n",
      "\n",
      "------ Scrollable Block Check ------\n",
      "*** Asking ***\n",
      " [{'role': 'system', 'content': 'You are a mobile virtual assistant that understands and interacts with the user interface to complete given task.'}, {'role': 'user', 'content': 'I will give you a list of blocks in the UI, is any of them related to the task \"Open twitter\"? If yes, which block is the most related to complete the task?\\n[Block 0]:[Not Scrollable] This code snippet is describing a UI element with the resource ID \"google.apps.nexuslauncher:id/scrim_view\" and class \"view.View\". The element is not clickable and has an ID of 1. It is also described as having a description of \"more\". Based on this information alone, it is difficult to determine the specific functionality of this UI element without also considering the surrounding UI elements and the app in which it appears. However, the description \"more\" may suggest that it is a button or link that leads to additional options or information within the app.\\n[Block 1]:[Scrollable] This code represents a UI element on a mobile device\\'s home screen. Specifically, it is a scrollable view that contains a view pager which displays information related to a user\\'s schedule (date information) and social media (Twitter), along with corresponding navigation options. The user can interact with this element by clicking on the date or social media options, as well as the navigation options. Overall, this UI element aims to provide the user with a quick and convenient way to access important information and apps.\\n[Block 2]:[Not Scrollable] This code snippet describes a UI element identified as a \"View\". It has the ID of 10 and is not clickable. The description given for this UI element is \"Home\". Based on this information, we can infer that this \"View\" element might represent the home screen or homepage of an application or website that the UI belongs to. The fact that it is not clickable could suggest that it is a non-interactive element, serving only as an indicator of the current location or page.\\n[Block 3]:[Not Scrollable] This UI element is a page indicator on the Google Nexus Launcher app, which helps the user keep track of their current location in the app\\'s navigation hierarchy. It is represented by a view object that is not clickable and has a resource ID of \\'google.apps.nexuslauncher:id/page_indicator\\'. This element also has an ID of 11 and a description of \\'navigate up\\', implying that it may have a functionality that allows the user to move up in the navigation hierarchy. However, further examination of the app\\'s source code or documentation is necessary to fully understand all of the features and interactions associated with this UI element.\\n[Block 4]:[Not Scrollable] This UI component is called \"hotseat\" and is a bar located at the bottom of the screen on an Android device. It contains icons for frequently used apps such as Phone, Messages, Play Store, Chrome, and Camera. Tapping on these icons will launch their corresponding apps. Additionally, it has a search feature that includes a refresh button, voice search, and Google Lens. The search feature allows users to search for apps, contacts, or other content on their device, and also offers relevant suggestions.\\n\\n Answer [Yes] with the most related block if any or [No] if not.'}, {'role': 'assistant', 'content': 'Yes, Block 1 is related to the task \"Open twitter\" as it mentions the presence of social media on the home screen that can be accessed by clicking on it.'}, {'role': 'user', 'content': 'For scrollable blocks, is it possible that the UI elements related to the task would show up after scroll? Answer [Yes] with the most related block if any or [No] if not'}]\n",
      "\n",
      "*** Answer ***\n",
      " {\n",
      "  \"content\": \"Yes, for scrollable blocks it is possible that the UI elements related to the task would show up after scroll. This means that even if the initial visible UI elements do not directly relate to the task, there is a possibility that the related UI elements exist but are not initially visible until scrolled.\",\n",
      "  \"role\": \"assistant\"\n",
      "} \n",
      "\n",
      "------ Intermediate Block Check ------\n",
      "*** Asking ***\n",
      " [{'role': 'system', 'content': 'You are a mobile virtual assistant that understands and interacts with the user interface to complete given task.'}, {'role': 'user', 'content': 'I will give you a list of blocks in the UI, is any of them related to the task \"Open twitter\"? If yes, which block is the most related to complete the task?\\n[Block 0]:[Not Scrollable] This code snippet is describing a UI element with the resource ID \"google.apps.nexuslauncher:id/scrim_view\" and class \"view.View\". The element is not clickable and has an ID of 1. It is also described as having a description of \"more\". Based on this information alone, it is difficult to determine the specific functionality of this UI element without also considering the surrounding UI elements and the app in which it appears. However, the description \"more\" may suggest that it is a button or link that leads to additional options or information within the app.\\n[Block 1]:[Scrollable] This code represents a UI element on a mobile device\\'s home screen. Specifically, it is a scrollable view that contains a view pager which displays information related to a user\\'s schedule (date information) and social media (Twitter), along with corresponding navigation options. The user can interact with this element by clicking on the date or social media options, as well as the navigation options. Overall, this UI element aims to provide the user with a quick and convenient way to access important information and apps.\\n[Block 2]:[Not Scrollable] This code snippet describes a UI element identified as a \"View\". It has the ID of 10 and is not clickable. The description given for this UI element is \"Home\". Based on this information, we can infer that this \"View\" element might represent the home screen or homepage of an application or website that the UI belongs to. The fact that it is not clickable could suggest that it is a non-interactive element, serving only as an indicator of the current location or page.\\n[Block 3]:[Not Scrollable] This UI element is a page indicator on the Google Nexus Launcher app, which helps the user keep track of their current location in the app\\'s navigation hierarchy. It is represented by a view object that is not clickable and has a resource ID of \\'google.apps.nexuslauncher:id/page_indicator\\'. This element also has an ID of 11 and a description of \\'navigate up\\', implying that it may have a functionality that allows the user to move up in the navigation hierarchy. However, further examination of the app\\'s source code or documentation is necessary to fully understand all of the features and interactions associated with this UI element.\\n[Block 4]:[Not Scrollable] This UI component is called \"hotseat\" and is a bar located at the bottom of the screen on an Android device. It contains icons for frequently used apps such as Phone, Messages, Play Store, Chrome, and Camera. Tapping on these icons will launch their corresponding apps. Additionally, it has a search feature that includes a refresh button, voice search, and Google Lens. The search feature allows users to search for apps, contacts, or other content on their device, and also offers relevant suggestions.\\n\\n Answer [Yes] with the most related block if any or [No] if not.'}, {'role': 'assistant', 'content': 'Yes, Block 1 is related to the task \"Open twitter\" as it mentions the presence of social media on the home screen that can be accessed by clicking on it.'}, {'role': 'user', 'content': 'For scrollable blocks, is it possible that the UI elements related to the task would show up after scroll? Answer [Yes] with the most related block if any or [No] if not'}, {'role': 'assistant', 'content': 'Yes, for scrollable blocks it is possible that the UI elements related to the task would show up after scroll. This means that even if the initial visible UI elements do not directly relate to the task, there is a possibility that the related UI elements exist but are not initially visible until scrolled.'}, {'role': 'user', 'content': 'The task may take multiple steps to complete, is there any block likely to jump to the UI that is related to the task? Answer [Yes] with the most related block if any or [No] if not'}]\n"
     ]
    },
    {
     "name": "stdout",
     "output_type": "stream",
     "text": [
      "\n",
      "*** Answer ***\n",
      " {\n",
      "  \"content\": \"No, none of the provided blocks mention any functionality or feature that can directly jump to the UI related to the task of opening Twitter. The task would likely involve multiple steps such as searching for the Twitter app, launching it, and possibly logging in if needed.\",\n",
      "  \"role\": \"assistant\"\n",
      "} \n",
      "\n"
     ]
    }
   ],
   "source": [
    "from Automator import Automator\n",
    "aut = Automator(gui)\n",
    "aut.ai_chain_block('Open twitter')"
   ]
  },
  {
   "cell_type": "markdown",
   "id": "3d0d246c",
   "metadata": {},
   "source": [
    "## [Option 2] (For testing) Directly load GUI from image and json"
   ]
  },
  {
   "cell_type": "markdown",
   "id": "4309f1bd",
   "metadata": {},
   "source": [
    "### 1. Load GUI"
   ]
  },
  {
   "cell_type": "code",
   "execution_count": 1,
   "id": "5a112b5e",
   "metadata": {},
   "outputs": [],
   "source": [
    "load = True"
   ]
  },
  {
   "cell_type": "code",
   "execution_count": 5,
   "id": "85553631",
   "metadata": {},
   "outputs": [
    {
     "name": "stdout",
     "output_type": "stream",
     "text": [
      "Load elements from data/twitter/testcase1\\guidata\\0_elements.json\n",
      "Load element tree from data/twitter/testcase1\\guidata\\0_tree.json\n"
     ]
    }
   ],
   "source": [
    "from GUIData import GUIData\n",
    "gui = GUIData(gui_img_file='data/twitter/testcase1/device/0.png',\n",
    "              gui_json_file='data/twitter/testcase1/device/0.json',\n",
    "              output_file_root='data/twitter/testcase1')\n",
    "# load previous result\n",
    "if load:\n",
    "    gui.load_elements()\n",
    "# process from scratch\n",
    "else:\n",
    "    gui.ui_info_extraction()\n",
    "    gui.ui_analysis_elements_description()\n",
    "    gui.ui_element_block_tree()\n",
    "gui.show_all_elements(only_leaves=False)\n",
    "# gui.show_each_element(only_leaves=False)"
   ]
  },
  {
   "cell_type": "code",
   "execution_count": 7,
   "id": "f5dc188e",
   "metadata": {},
   "outputs": [
    {
     "data": {
      "text/plain": [
       "{'resource-id': 'google.apps.nexuslauncher:id/workspace',\n",
       " 'class': 'widget.ScrollView',\n",
       " 'clickable': False,\n",
       " 'id': 2,\n",
       " 'children': [{'class': 'view.ViewGroup',\n",
       "   'clickable': False,\n",
       "   'id': 3,\n",
       "   'children': [{'class': 'view.ViewGroup',\n",
       "     'clickable': False,\n",
       "     'id': 4,\n",
       "     'children': [{'resource-id': 'google.apps.nexuslauncher:id/smartspace_card_pager',\n",
       "       'class': 'androidx.viewpager.widget.ViewPager',\n",
       "       'clickable': False,\n",
       "       'id': 5,\n",
       "       'children': [{'class': 'view.ViewGroup',\n",
       "         'clickable': True,\n",
       "         'id': 6,\n",
       "         'children': [{'resource-id': 'google.apps.nexuslauncher:id/date',\n",
       "           'class': 'widget.TextView',\n",
       "           'clickable': True,\n",
       "           'id': 7,\n",
       "           'description': 'Thu, Mar 9 / Thu, Mar 9'},\n",
       "          {'resource-id': 'google.apps.nexuslauncher:id/smartspace_subtitle_group',\n",
       "           'class': 'view.ViewGroup',\n",
       "           'clickable': True,\n",
       "           'id': 8,\n",
       "           'description': 'navigate up'}]}]},\n",
       "      {'class': 'widget.TextView',\n",
       "       'clickable': True,\n",
       "       'id': 9,\n",
       "       'description': 'Twitter / Twitter'}]}]}]}"
      ]
     },
     "execution_count": 7,
     "metadata": {},
     "output_type": "execute_result"
    }
   ],
   "source": [
    "gui.blocks[1]"
   ]
  },
  {
   "cell_type": "code",
   "execution_count": 3,
   "id": "82923c7c",
   "metadata": {},
   "outputs": [
    {
     "data": {
      "text/plain": [
       "[{'resource-id': 'google.apps.nexuslauncher:id/workspace',\n",
       "  'class': 'widget.ScrollView',\n",
       "  'clickable': False,\n",
       "  'id': 2},\n",
       " {'class': 'view.ViewGroup', 'clickable': False, 'id': 3},\n",
       " {'class': 'view.ViewGroup', 'clickable': False, 'id': 4},\n",
       " {'class': 'widget.TextView',\n",
       "  'clickable': True,\n",
       "  'id': 9,\n",
       "  'description': 'Twitter / Twitter'},\n",
       " {'resource-id': 'google.apps.nexuslauncher:id/smartspace_card_pager',\n",
       "  'class': 'androidx.viewpager.widget.ViewPager',\n",
       "  'clickable': False,\n",
       "  'id': 5},\n",
       " {'class': 'view.ViewGroup', 'clickable': True, 'id': 6},\n",
       " {'resource-id': 'google.apps.nexuslauncher:id/smartspace_subtitle_group',\n",
       "  'class': 'view.ViewGroup',\n",
       "  'clickable': True,\n",
       "  'id': 8,\n",
       "  'description': 'navigate up'},\n",
       " {'resource-id': 'google.apps.nexuslauncher:id/date',\n",
       "  'class': 'widget.TextView',\n",
       "  'clickable': True,\n",
       "  'id': 7,\n",
       "  'description': 'Thu, Mar 9 / Thu, Mar 9'}]"
      ]
     },
     "execution_count": 3,
     "metadata": {},
     "output_type": "execute_result"
    }
   ],
   "source": [
    "gui.flatten_block_to_elements(gui.blocks[1])"
   ]
  },
  {
   "cell_type": "code",
   "execution_count": 10,
   "id": "3342782a",
   "metadata": {},
   "outputs": [
    {
     "data": {
      "text/plain": [
       "[{'class': 'root', 'clickable': False, 'id': 0},\n",
       " {'resource-id': 'google.apps.nexuslauncher:id/hotseat',\n",
       "  'class': 'view.ViewGroup',\n",
       "  'clickable': False,\n",
       "  'id': 12},\n",
       " {'resource-id': 'google.apps.nexuslauncher:id/search_container_hotseat',\n",
       "  'class': 'widget.FrameLayout',\n",
       "  'clickable': True,\n",
       "  'id': 19},\n",
       " {'resource-id': 'google.apps.nexuslauncher:id/lens_icon',\n",
       "  'class': 'widget.ImageButton',\n",
       "  'clickable': True,\n",
       "  'id': 22,\n",
       "  'description': 'Google Lens'},\n",
       " {'resource-id': 'google.apps.nexuslauncher:id/mic_icon',\n",
       "  'class': 'widget.ImageView',\n",
       "  'clickable': True,\n",
       "  'id': 21,\n",
       "  'description': 'Voice search'},\n",
       " {'resource-id': 'google.apps.nexuslauncher:id/g_icon',\n",
       "  'class': 'widget.ImageView',\n",
       "  'clickable': True,\n",
       "  'id': 20,\n",
       "  'description': 'refresh'},\n",
       " {'class': 'view.ViewGroup', 'clickable': False, 'id': 13},\n",
       " {'class': 'widget.TextView',\n",
       "  'clickable': True,\n",
       "  'id': 18,\n",
       "  'description': 'Camera / Camera'},\n",
       " {'class': 'widget.TextView',\n",
       "  'clickable': True,\n",
       "  'id': 17,\n",
       "  'description': 'Chrome / Chrome'},\n",
       " {'class': 'widget.TextView',\n",
       "  'clickable': True,\n",
       "  'id': 16,\n",
       "  'description': 'Play Store / Play Store'},\n",
       " {'class': 'widget.TextView',\n",
       "  'clickable': True,\n",
       "  'id': 15,\n",
       "  'description': 'Messages / Messages'},\n",
       " {'class': 'widget.TextView',\n",
       "  'clickable': True,\n",
       "  'id': 14,\n",
       "  'description': 'Phone / Phone'},\n",
       " {'resource-id': 'google.apps.nexuslauncher:id/page_indicator',\n",
       "  'class': 'view.View',\n",
       "  'clickable': False,\n",
       "  'id': 11,\n",
       "  'description': 'navigate up'},\n",
       " {'class': 'view.View', 'clickable': False, 'id': 10, 'description': 'Home'},\n",
       " {'resource-id': 'google.apps.nexuslauncher:id/workspace',\n",
       "  'class': 'widget.ScrollView',\n",
       "  'clickable': False,\n",
       "  'id': 2},\n",
       " {'class': 'view.ViewGroup', 'clickable': False, 'id': 3},\n",
       " {'class': 'view.ViewGroup', 'clickable': False, 'id': 4},\n",
       " {'class': 'widget.TextView',\n",
       "  'clickable': True,\n",
       "  'id': 9,\n",
       "  'description': 'Twitter / Twitter'},\n",
       " {'resource-id': 'google.apps.nexuslauncher:id/smartspace_card_pager',\n",
       "  'class': 'androidx.viewpager.widget.ViewPager',\n",
       "  'clickable': False,\n",
       "  'id': 5},\n",
       " {'class': 'view.ViewGroup', 'clickable': True, 'id': 6},\n",
       " {'resource-id': 'google.apps.nexuslauncher:id/smartspace_subtitle_group',\n",
       "  'class': 'view.ViewGroup',\n",
       "  'clickable': True,\n",
       "  'id': 8,\n",
       "  'description': 'navigate up'},\n",
       " {'resource-id': 'google.apps.nexuslauncher:id/date',\n",
       "  'class': 'widget.TextView',\n",
       "  'clickable': True,\n",
       "  'id': 7,\n",
       "  'description': 'Thu, Mar 9 / Thu, Mar 9'},\n",
       " {'resource-id': 'google.apps.nexuslauncher:id/scrim_view',\n",
       "  'class': 'view.View',\n",
       "  'clickable': False,\n",
       "  'id': 1,\n",
       "  'description': 'more'}]"
      ]
     },
     "execution_count": 10,
     "metadata": {},
     "output_type": "execute_result"
    }
   ],
   "source": [
    "gui.flatten_block_to_elements(gui.element_tree)"
   ]
  },
  {
   "cell_type": "code",
   "execution_count": null,
   "id": "e5606c3d",
   "metadata": {},
   "outputs": [],
   "source": []
  },
  {
   "cell_type": "code",
   "execution_count": null,
   "id": "6f6c84d8",
   "metadata": {},
   "outputs": [],
   "source": []
  },
  {
   "cell_type": "code",
   "execution_count": null,
   "id": "6abf218c",
   "metadata": {},
   "outputs": [],
   "source": []
  },
  {
   "cell_type": "markdown",
   "id": "bdbe9cb8",
   "metadata": {},
   "source": [
    "### 2. Load automator"
   ]
  },
  {
   "cell_type": "code",
   "execution_count": 4,
   "id": "ba49063e",
   "metadata": {},
   "outputs": [
    {
     "name": "stdout",
     "output_type": "stream",
     "text": [
      "------ Generate Block Descriptions ------\n",
      "[Not Scrollable] This code snippet refers to an element in the Google Nexus Launcher UI known as the 'scrim view'. The scrim view is a non-clickable view that serves as a background layer for other UI elements. Its purpose is to provide a darkened or blurred overlay effect to enhance the visibility of other elements on top of it. In this specific code snippet, the scrim view has an ID of 1, and a description of 'more', suggesting that it may be used in conjunction with a 'more' button or text label as a visual indicator to let users know that there is additional content available beyond what is currently visible.\n",
      "[Scrollable] This UI element appears to be a scrollable container for app shortcuts and widgets, with a particular section dedicated to a \"smartspace\" widget. The smartspace widget provides useful information such as the current date and a subtitle, which can be interacted with via touch. Additionally, there is a text section for a Twitter app shortcut. Overall, this UI element allows the user to quickly access commonly used apps and glanceable information.\n",
      "[Not Scrollable] This code snippet describes a view in the user interface with an ID of 10 and a description of 'Home'. The view is not clickable, indicating that it likely serves as a non-interactive element on the screen, providing information or acting as a visual container for other UI elements. The view may be part of an app's main menu or home screen, providing users with visual feedback and organization of the app's content.\n",
      "[Not Scrollable] The UI element described by this code snippet is the page indicator in the Google Nexus Launcher app. This indicator appears at the bottom of the app screen and provides visual cues to the user about which page they are currently on. The indicator is a clickable view, but this particular instance is not clickable. The description, \"navigate up,\" suggests that this element is part of a larger navigation system within the app. Overall, the page indicator helps users keep track of their location within the app, and the \"navigate up\" feature likely facilitates easy movement to higher-level screens in the app hierarchy.\n",
      "[Not Scrollable] The code snippet describes the hotseat section of the user interface, which contains frequently used app icons such as Phone, Messages, Play Store, Chrome, and Camera. These icons are displayed within a view group and are clickable, allowing the user to launch the corresponding app. In addition, there is a search container within the hotseat which contains icons for refreshing the search, performing a voice search, and launching Google Lens. The hotseat is an essential part of the UI as it provides quick access to frequently used apps and search functionalities.\n",
      "\n",
      "------ Target Block Identification ------\n",
      "Yes, Block 1 is the most related block to complete the task \"Open Twitter\" as it contains a text section for the Twitter app shortcut, allowing the user to quickly access the Twitter app.\n",
      "\n",
      "====== Identify the target element in Block 1 ======\n",
      "\n",
      "------ Task Completion Check ------\n",
      "No, there are no elements in the given UI block that can directly complete the task \"Open Twitter\".\n",
      "\n",
      "------ Intermediate Element Check ------\n",
      "Based on the given UI block, there is no related UI block that can directly jump to the Twitter app or its related UI. However, there could be different UI blocks or a combination of UI blocks that could be used to navigate to or open the Twitter app/screen. It would depend on the device and the current configuration of the UI.\n"
     ]
    },
    {
     "ename": "IndexError",
     "evalue": "list index out of range",
     "output_type": "error",
     "traceback": [
      "\u001b[1;31m---------------------------------------------------------------------------\u001b[0m",
      "\u001b[1;31mIndexError\u001b[0m                                Traceback (most recent call last)",
      "Cell \u001b[1;32mIn[4], line 4\u001b[0m\n\u001b[0;32m      2\u001b[0m aut \u001b[38;5;241m=\u001b[39m Automator(gui)\n\u001b[0;32m      3\u001b[0m \u001b[38;5;66;03m# aut.ai_chain_block('Open twitter', show_block=True)\u001b[39;00m\n\u001b[1;32m----> 4\u001b[0m \u001b[43maut\u001b[49m\u001b[38;5;241;43m.\u001b[39;49m\u001b[43mai_chain\u001b[49m\u001b[43m(\u001b[49m\u001b[38;5;124;43m'\u001b[39;49m\u001b[38;5;124;43mOpen twitter\u001b[39;49m\u001b[38;5;124;43m'\u001b[39;49m\u001b[43m,\u001b[49m\u001b[43m \u001b[49m\u001b[43mshow_block\u001b[49m\u001b[38;5;241;43m=\u001b[39;49m\u001b[38;5;28;43;01mFalse\u001b[39;49;00m\u001b[43m)\u001b[49m\n",
      "File \u001b[1;32mC:\\Mulong\\Code\\UI-Automation\\Automator.py:63\u001b[0m, in \u001b[0;36mAutomator.ai_chain\u001b[1;34m(self, task, show_block)\u001b[0m\n\u001b[0;32m     61\u001b[0m \u001b[38;5;66;03m# *** Identify target element in related block\u001b[39;00m\n\u001b[0;32m     62\u001b[0m \u001b[38;5;28;01melif\u001b[39;00m \u001b[38;5;124m'\u001b[39m\u001b[38;5;124mYes\u001b[39m\u001b[38;5;124m'\u001b[39m \u001b[38;5;129;01min\u001b[39;00m \u001b[38;5;28mself\u001b[39m\u001b[38;5;241m.\u001b[39mblock_identification:\n\u001b[1;32m---> 63\u001b[0m     \u001b[38;5;28;01mreturn\u001b[39;00m \u001b[38;5;28;43mself\u001b[39;49m\u001b[38;5;241;43m.\u001b[39;49m\u001b[43mai_chain_element\u001b[49m\u001b[43m(\u001b[49m\u001b[43mblock_id\u001b[49m\u001b[38;5;241;43m=\u001b[39;49m\u001b[38;5;28;43mself\u001b[39;49m\u001b[38;5;241;43m.\u001b[39;49m\u001b[43mextract_block_id_from_sentence\u001b[49m\u001b[43m(\u001b[49m\u001b[38;5;28;43mself\u001b[39;49m\u001b[38;5;241;43m.\u001b[39;49m\u001b[43mblock_identification\u001b[49m\u001b[43m)\u001b[49m\u001b[43m,\u001b[49m\u001b[43m \u001b[49m\u001b[43mtask\u001b[49m\u001b[38;5;241;43m=\u001b[39;49m\u001b[43mtask\u001b[49m\u001b[43m)\u001b[49m\n",
      "File \u001b[1;32mC:\\Mulong\\Code\\UI-Automation\\Automator.py:140\u001b[0m, in \u001b[0;36mAutomator.ai_chain_element\u001b[1;34m(self, block_id, task)\u001b[0m\n\u001b[0;32m    137\u001b[0m \u001b[38;5;66;03m# if no, select the most related element\u001b[39;00m\n\u001b[0;32m    138\u001b[0m \u001b[38;5;28;01melse\u001b[39;00m:\n\u001b[0;32m    139\u001b[0m     \u001b[38;5;28mself\u001b[39m\u001b[38;5;241m.\u001b[39mintermediate_element_check()\n\u001b[1;32m--> 140\u001b[0m     element_id \u001b[38;5;241m=\u001b[39m \u001b[38;5;28;43mself\u001b[39;49m\u001b[38;5;241;43m.\u001b[39;49m\u001b[43mextract_element_id_from_sentence\u001b[49m\u001b[43m(\u001b[49m\u001b[38;5;28;43mself\u001b[39;49m\u001b[38;5;241;43m.\u001b[39;49m\u001b[43melement_intermediate\u001b[49m\u001b[43m)\u001b[49m\n\u001b[0;32m    141\u001b[0m     \u001b[38;5;28mprint\u001b[39m(\u001b[38;5;124m'\u001b[39m\u001b[38;5;124m*** [Element \u001b[39m\u001b[38;5;132;01m%d\u001b[39;00m\u001b[38;5;124m] can complete the task ***\u001b[39m\u001b[38;5;124m'\u001b[39m \u001b[38;5;241m%\u001b[39m element_id)\n\u001b[0;32m    142\u001b[0m \u001b[38;5;28;01mreturn\u001b[39;00m element_id\n",
      "File \u001b[1;32mC:\\Mulong\\Code\\UI-Automation\\Automator.py:176\u001b[0m, in \u001b[0;36mAutomator.extract_element_id_from_sentence\u001b[1;34m(self, sentence)\u001b[0m\n\u001b[0;32m    175\u001b[0m \u001b[38;5;28;01mdef\u001b[39;00m \u001b[38;5;21mextract_element_id_from_sentence\u001b[39m(\u001b[38;5;28mself\u001b[39m, sentence):\n\u001b[1;32m--> 176\u001b[0m     e \u001b[38;5;241m=\u001b[39m \u001b[43mre\u001b[49m\u001b[38;5;241;43m.\u001b[39;49m\u001b[43mfindall\u001b[49m\u001b[43m(\u001b[49m\u001b[38;5;124;43m'\u001b[39;49m\u001b[38;5;124;43m[Ee]lement\u001b[39;49m\u001b[38;5;124;43m\\\u001b[39;49m\u001b[38;5;124;43ms*\u001b[39;49m\u001b[38;5;124;43m\\\u001b[39;49m\u001b[38;5;124;43md+\u001b[39;49m\u001b[38;5;124;43m'\u001b[39;49m\u001b[43m,\u001b[49m\u001b[43m \u001b[49m\u001b[43msentence\u001b[49m\u001b[43m)\u001b[49m\u001b[43m[\u001b[49m\u001b[38;5;241;43m0\u001b[39;49m\u001b[43m]\u001b[49m\n\u001b[0;32m    177\u001b[0m     \u001b[38;5;28;01mreturn\u001b[39;00m \u001b[38;5;28mint\u001b[39m(re\u001b[38;5;241m.\u001b[39mfindall(\u001b[38;5;124m'\u001b[39m\u001b[38;5;124m\\\u001b[39m\u001b[38;5;124md+\u001b[39m\u001b[38;5;124m'\u001b[39m, e)[\u001b[38;5;241m0\u001b[39m])\n",
      "\u001b[1;31mIndexError\u001b[0m: list index out of range"
     ]
    }
   ],
   "source": [
    "from Automator import Automator\n",
    "aut = Automator(gui)\n",
    "# aut.ai_chain_block('Open twitter', show_block=True)\n",
    "aut.ai_chain('Open twitter', show_block=False)"
   ]
  },
  {
   "cell_type": "code",
   "execution_count": 5,
   "id": "a692e7a7",
   "metadata": {},
   "outputs": [
    {
     "data": {
      "text/plain": [
       "[{'role': 'system',\n",
       "  'content': 'You are a mobile virtual assistant that understands and interacts with the user interface to complete given task.'},\n",
       " {'role': 'user',\n",
       "  'content': \"Can any elements in the given UI block complete the task 'Open twitter' directly? \\nUI block: {'resource-id': 'google.apps.nexuslauncher:id/workspace', 'class': 'widget.ScrollView', 'clickable': False, 'id': 2, 'children': [{'class': 'view.ViewGroup', 'clickable': False, 'id': 3, 'children': [{'class': 'view.ViewGroup', 'clickable': False, 'id': 4, 'children': [{'resource-id': 'google.apps.nexuslauncher:id/smartspace_card_pager', 'class': 'androidx.viewpager.widget.ViewPager', 'clickable': False, 'id': 5, 'children': [{'class': 'view.ViewGroup', 'clickable': True, 'id': 6, 'children': [{'resource-id': 'google.apps.nexuslauncher:id/date', 'class': 'widget.TextView', 'clickable': True, 'id': 7, 'description': 'Thu, Mar 9 / Thu, Mar 9'}, {'resource-id': 'google.apps.nexuslauncher:id/smartspace_subtitle_group', 'class': 'view.ViewGroup', 'clickable': True, 'id': 8, 'description': 'navigate up'}]}]}, {'class': 'widget.TextView', 'clickable': True, 'id': 9, 'description': 'Twitter / Twitter'}]}]}]}\\nAnswer [Yes] with the target element if any or [No] if not\"},\n",
       " {'role': 'assistant',\n",
       "  'content': 'No, there are no elements in the given UI block that can directly complete the task \"Open Twitter\".'},\n",
       " {'role': 'user',\n",
       "  'content': 'The task may take multiple steps to complete, is there any UI element in the block likely to jump to the UI that is related to the task? Answer [Yes] with the most related block if any or [No] if not'},\n",
       " {'role': 'assistant',\n",
       "  'content': 'Based on the given UI block, there is no related UI block that can directly jump to the Twitter app or its related UI. However, there could be different UI blocks or a combination of UI blocks that could be used to navigate to or open the Twitter app/screen. It would depend on the device and the current configuration of the UI.'}]"
      ]
     },
     "execution_count": 5,
     "metadata": {},
     "output_type": "execute_result"
    }
   ],
   "source": [
    "aut.chain_element"
   ]
  },
  {
   "cell_type": "code",
   "execution_count": 7,
   "id": "b4efecec",
   "metadata": {},
   "outputs": [
    {
     "data": {
      "text/plain": [
       "{'resource-id': 'google.apps.nexuslauncher:id/workspace',\n",
       " 'class': 'widget.ScrollView',\n",
       " 'clickable': False,\n",
       " 'id': 2,\n",
       " 'children': [{'class': 'view.ViewGroup',\n",
       "   'clickable': False,\n",
       "   'id': 3,\n",
       "   'children': [{'class': 'view.ViewGroup',\n",
       "     'clickable': False,\n",
       "     'id': 4,\n",
       "     'children': [{'resource-id': 'google.apps.nexuslauncher:id/smartspace_card_pager',\n",
       "       'class': 'androidx.viewpager.widget.ViewPager',\n",
       "       'clickable': False,\n",
       "       'id': 5,\n",
       "       'children': [{'class': 'view.ViewGroup',\n",
       "         'clickable': True,\n",
       "         'id': 6,\n",
       "         'children': [{'resource-id': 'google.apps.nexuslauncher:id/date',\n",
       "           'class': 'widget.TextView',\n",
       "           'clickable': True,\n",
       "           'id': 7,\n",
       "           'description': 'Thu, Mar 9 / Thu, Mar 9'},\n",
       "          {'resource-id': 'google.apps.nexuslauncher:id/smartspace_subtitle_group',\n",
       "           'class': 'view.ViewGroup',\n",
       "           'clickable': True,\n",
       "           'id': 8,\n",
       "           'description': 'navigate up'}]}]},\n",
       "      {'class': 'widget.TextView',\n",
       "       'clickable': True,\n",
       "       'id': 9,\n",
       "       'description': 'Twitter / Twitter'}]}]}]}"
      ]
     },
     "execution_count": 7,
     "metadata": {},
     "output_type": "execute_result"
    }
   ],
   "source": [
    "b = gui.blocks[1]"
   ]
  },
  {
   "cell_type": "code",
   "execution_count": 8,
   "id": "94daafc9",
   "metadata": {},
   "outputs": [],
   "source": [
    "l = [1,2,3]"
   ]
  },
  {
   "cell_type": "code",
   "execution_count": 9,
   "id": "8ac8452b",
   "metadata": {},
   "outputs": [
    {
     "data": {
      "text/plain": [
       "3"
      ]
     },
     "execution_count": 9,
     "metadata": {},
     "output_type": "execute_result"
    }
   ],
   "source": [
    "l.pop()"
   ]
  },
  {
   "cell_type": "code",
   "execution_count": 10,
   "id": "e8420a77",
   "metadata": {},
   "outputs": [
    {
     "data": {
      "text/plain": [
       "[1, 2]"
      ]
     },
     "execution_count": 10,
     "metadata": {},
     "output_type": "execute_result"
    }
   ],
   "source": [
    "l"
   ]
  },
  {
   "cell_type": "code",
   "execution_count": null,
   "id": "b2659b3e",
   "metadata": {},
   "outputs": [],
   "source": []
  },
  {
   "cell_type": "code",
   "execution_count": null,
   "id": "64607f46",
   "metadata": {},
   "outputs": [],
   "source": []
  },
  {
   "cell_type": "code",
   "execution_count": null,
   "id": "12ec0bf4",
   "metadata": {},
   "outputs": [],
   "source": []
  },
  {
   "cell_type": "code",
   "execution_count": 8,
   "id": "40d38c78",
   "metadata": {},
   "outputs": [],
   "source": [
    "l = str(gui.element_tree)"
   ]
  },
  {
   "cell_type": "code",
   "execution_count": 14,
   "id": "6d2502be",
   "metadata": {},
   "outputs": [],
   "source": [
    "from Automator import Automator"
   ]
  },
  {
   "cell_type": "code",
   "execution_count": 15,
   "id": "dd6b11bd",
   "metadata": {},
   "outputs": [],
   "source": [
    "aut = Automator()"
   ]
  },
  {
   "cell_type": "code",
   "execution_count": 17,
   "id": "e92903bb",
   "metadata": {},
   "outputs": [
    {
     "data": {
      "text/plain": [
       "{'resource-id': 'google.apps.nexuslauncher:id/scrim_view',\n",
       " 'class': 'view.View',\n",
       " 'clickable': False,\n",
       " 'id': 1,\n",
       " 'description': 'more'}"
      ]
     },
     "execution_count": 17,
     "metadata": {},
     "output_type": "execute_result"
    }
   ],
   "source": [
    "gui.blocks[0]"
   ]
  },
  {
   "cell_type": "code",
   "execution_count": 16,
   "id": "2d88fdd3",
   "metadata": {},
   "outputs": [
    {
     "name": "stdout",
     "output_type": "stream",
     "text": [
      "*** Asking ***\n",
      " [{'role': 'user', 'content': 'Can any elements in the given UI block complete the task \"Open twitter\" directly?{\\'class\\': \\'root\\', \\'clickable\\': False, \\'id\\': 0, \\'children\\': [{\\'resource-id\\': \\'google.apps.nexuslauncher:id/scrim_view\\', \\'class\\': \\'view.View\\', \\'clickable\\': False, \\'id\\': 1, \\'description\\': \\'more\\'}, {\\'resource-id\\': \\'google.apps.nexuslauncher:id/workspace\\', \\'class\\': \\'widget.ScrollView\\', \\'clickable\\': False, \\'id\\': 2, \\'children\\': [{\\'class\\': \\'view.ViewGroup\\', \\'clickable\\': False, \\'id\\': 3, \\'children\\': [{\\'class\\': \\'view.ViewGroup\\', \\'clickable\\': False, \\'id\\': 4, \\'children\\': [{\\'resource-id\\': \\'google.apps.nexuslauncher:id/smartspace_card_pager\\', \\'class\\': \\'androidx.viewpager.widget.ViewPager\\', \\'clickable\\': False, \\'id\\': 5, \\'children\\': [{\\'class\\': \\'view.ViewGroup\\', \\'clickable\\': True, \\'id\\': 6, \\'children\\': [{\\'resource-id\\': \\'google.apps.nexuslauncher:id/date\\', \\'class\\': \\'widget.TextView\\', \\'clickable\\': True, \\'id\\': 7, \\'description\\': \\'Thu, Mar 9 / Thu, Mar 9\\'}, {\\'resource-id\\': \\'google.apps.nexuslauncher:id/smartspace_subtitle_group\\', \\'class\\': \\'view.ViewGroup\\', \\'clickable\\': True, \\'id\\': 8, \\'description\\': \\'navigate up\\'}]}]}, {\\'class\\': \\'widget.TextView\\', \\'clickable\\': True, \\'id\\': 9, \\'description\\': \\'Twitter / Twitter\\'}]}]}]}, {\\'class\\': \\'view.View\\', \\'clickable\\': False, \\'id\\': 10, \\'description\\': \\'Home\\'}, {\\'resource-id\\': \\'google.apps.nexuslauncher:id/page_indicator\\', \\'class\\': \\'view.View\\', \\'clickable\\': False, \\'id\\': 11, \\'description\\': \\'navigate up\\'}, {\\'resource-id\\': \\'google.apps.nexuslauncher:id/hotseat\\', \\'class\\': \\'view.ViewGroup\\', \\'clickable\\': False, \\'id\\': 12, \\'children\\': [{\\'class\\': \\'view.ViewGroup\\', \\'clickable\\': False, \\'id\\': 13, \\'children\\': [{\\'class\\': \\'widget.TextView\\', \\'clickable\\': True, \\'id\\': 14, \\'description\\': \\'Phone / Phone\\'}, {\\'class\\': \\'widget.TextView\\', \\'clickable\\': True, \\'id\\': 15, \\'description\\': \\'Messages / Messages\\'}, {\\'class\\': \\'widget.TextView\\', \\'clickable\\': True, \\'id\\': 16, \\'description\\': \\'Play Store / Play Store\\'}, {\\'class\\': \\'widget.TextView\\', \\'clickable\\': True, \\'id\\': 17, \\'description\\': \\'Chrome / Chrome\\'}, {\\'class\\': \\'widget.TextView\\', \\'clickable\\': True, \\'id\\': 18, \\'description\\': \\'Camera / Camera\\'}]}, {\\'resource-id\\': \\'google.apps.nexuslauncher:id/search_container_hotseat\\', \\'class\\': \\'widget.FrameLayout\\', \\'clickable\\': True, \\'id\\': 19, \\'children\\': [{\\'resource-id\\': \\'google.apps.nexuslauncher:id/g_icon\\', \\'class\\': \\'widget.ImageView\\', \\'clickable\\': True, \\'id\\': 20, \\'description\\': \\'refresh\\'}, {\\'resource-id\\': \\'google.apps.nexuslauncher:id/mic_icon\\', \\'class\\': \\'widget.ImageView\\', \\'clickable\\': True, \\'id\\': 21, \\'description\\': \\'Voice search\\'}, {\\'resource-id\\': \\'google.apps.nexuslauncher:id/lens_icon\\', \\'class\\': \\'widget.ImageButton\\', \\'clickable\\': True, \\'id\\': 22, \\'description\\': \\'Google Lens\\'}]}]}]}'}]\n",
      "\n",
      "*** Answer ***\n",
      " {\n",
      "  \"content\": \"\\n\\nYes, the element with the description \\\"Twitter / Twitter\\\" (id = 9) can complete the task \\\"Open Twitter\\\" directly.\",\n",
      "  \"role\": \"assistant\"\n",
      "} \n",
      "\n"
     ]
    },
    {
     "data": {
      "text/plain": [
       "{'role': 'assistant',\n",
       " 'content': '\\n\\nYes, the element with the description \"Twitter / Twitter\" (id = 9) can complete the task \"Open Twitter\" directly.'}"
      ]
     },
     "execution_count": 16,
     "metadata": {},
     "output_type": "execute_result"
    }
   ],
   "source": [
    "aut.ask_openai_prompt(l, None, True)"
   ]
  },
  {
   "cell_type": "code",
   "execution_count": null,
   "id": "b967e00a",
   "metadata": {},
   "outputs": [],
   "source": []
  }
 ],
 "metadata": {
  "kernelspec": {
   "display_name": "Python 3 (ipykernel)",
   "language": "python",
   "name": "python3"
  },
  "language_info": {
   "codemirror_mode": {
    "name": "ipython",
    "version": 3
   },
   "file_extension": ".py",
   "mimetype": "text/x-python",
   "name": "python",
   "nbconvert_exporter": "python",
   "pygments_lexer": "ipython3",
   "version": "3.10.10"
  }
 },
 "nbformat": 4,
 "nbformat_minor": 5
}
