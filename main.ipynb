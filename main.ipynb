{
 "cells": [
  {
   "cell_type": "markdown",
   "id": "5e74037e",
   "metadata": {},
   "source": [
    "## [Option 1] Load virtual device to collect the screenshot and vh"
   ]
  },
  {
   "cell_type": "markdown",
   "id": "a7e3bf30",
   "metadata": {},
   "source": [
    "### 1. Start emulator in Android studio first and run to capture screenshot and view hierarchy"
   ]
  },
  {
   "cell_type": "markdown",
   "id": "79601a65",
   "metadata": {},
   "source": [
    "Save vh `xml`, `json` and `screenshot image` to \"data/app_name/test_case_no/device\""
   ]
  },
  {
   "cell_type": "code",
   "execution_count": 1,
   "id": "7ac2619d",
   "metadata": {},
   "outputs": [
    {
     "name": "stdout",
     "output_type": "stream",
     "text": [
      "*** Save data to dir data\\twitter\\testcase1\\device ***\n",
      "Save screenshot to data\\twitter\\testcase1\\device\\0.png\n",
      "Save xml to data\\twitter\\testcase1\\device\\0.xml\n",
      "Save view hierarchy to data\\twitter\\testcase1\\device\\0.json\n",
      "Save reformatted vh to data\\twitter\\testcase1\\device\\0.json\n"
     ]
    }
   ],
   "source": [
    "from ppadb.client import Client as AdbClient\n",
    "from Device import Device\n",
    "client = AdbClient(host=\"127.0.0.1\", port=5037)\n",
    "\n",
    "device = Device(client.devices()[0], app_name='twitter', test_case_no=1)\n",
    "device.cap_screenshot()\n",
    "device.cap_vh()\n",
    "device.reformat_vh_json()"
   ]
  },
  {
   "cell_type": "markdown",
   "id": "5cd531ee",
   "metadata": {},
   "source": [
    "### 2. GUI information extraction and analysis"
   ]
  },
  {
   "cell_type": "markdown",
   "id": "922c43cb",
   "metadata": {},
   "source": [
    "Extract `elements` and `element_tree` and save to \"data/app_name/test_case_no/guidata\""
   ]
  },
  {
   "cell_type": "code",
   "execution_count": 2,
   "id": "ba9ceb4f",
   "metadata": {},
   "outputs": [],
   "source": [
    "load = False"
   ]
  },
  {
   "cell_type": "code",
   "execution_count": 3,
   "id": "80db21c2",
   "metadata": {},
   "outputs": [
    {
     "name": "stderr",
     "output_type": "stream",
     "text": [
      "C:\\Users\\xie029\\AppData\\Local\\Programs\\Python\\Python310\\lib\\site-packages\\tqdm\\auto.py:22: TqdmWarning: IProgress not found. Please update jupyter and ipywidgets. See https://ipywidgets.readthedocs.io/en/stable/user_install.html\n",
      "  from .autonotebook import tqdm as notebook_tqdm\n"
     ]
    },
    {
     "name": "stdout",
     "output_type": "stream",
     "text": [
      "Save elements to data\\twitter\\testcase1\\guidata\\0_elements.json\n"
     ]
    },
    {
     "name": "stderr",
     "output_type": "stream",
     "text": [
      "C:\\Users\\xie029\\AppData\\Local\\Programs\\Python\\Python310\\lib\\site-packages\\torch\\serialization.py:868: SourceChangeWarning: source code of class 'models.image_models.ResNetFeats' has changed. you can retrieve the original source code by accessing the object's source attribute or set `torch.nn.Module.dump_patches = True` and use the patch tool to revert the changes.\n",
      "  warnings.warn(msg, SourceChangeWarning)\n",
      "C:\\Users\\xie029\\AppData\\Local\\Programs\\Python\\Python310\\lib\\site-packages\\torch\\serialization.py:868: SourceChangeWarning: source code of class 'torch.nn.modules.container.Sequential' has changed. you can retrieve the original source code by accessing the object's source attribute or set `torch.nn.Module.dump_patches = True` and use the patch tool to revert the changes.\n",
      "  warnings.warn(msg, SourceChangeWarning)\n",
      "C:\\Users\\xie029\\AppData\\Local\\Programs\\Python\\Python310\\lib\\site-packages\\torch\\serialization.py:868: SourceChangeWarning: source code of class 'torch.nn.modules.conv.Conv2d' has changed. you can retrieve the original source code by accessing the object's source attribute or set `torch.nn.Module.dump_patches = True` and use the patch tool to revert the changes.\n",
      "  warnings.warn(msg, SourceChangeWarning)\n",
      "C:\\Users\\xie029\\AppData\\Local\\Programs\\Python\\Python310\\lib\\site-packages\\torch\\serialization.py:868: SourceChangeWarning: source code of class 'torch.nn.modules.batchnorm.BatchNorm2d' has changed. you can retrieve the original source code by accessing the object's source attribute or set `torch.nn.Module.dump_patches = True` and use the patch tool to revert the changes.\n",
      "  warnings.warn(msg, SourceChangeWarning)\n",
      "C:\\Users\\xie029\\AppData\\Local\\Programs\\Python\\Python310\\lib\\site-packages\\torch\\serialization.py:868: SourceChangeWarning: source code of class 'torch.nn.modules.activation.ReLU' has changed. you can retrieve the original source code by accessing the object's source attribute or set `torch.nn.Module.dump_patches = True` and use the patch tool to revert the changes.\n",
      "  warnings.warn(msg, SourceChangeWarning)\n",
      "C:\\Users\\xie029\\AppData\\Local\\Programs\\Python\\Python310\\lib\\site-packages\\torch\\serialization.py:868: SourceChangeWarning: source code of class 'torch.nn.modules.pooling.MaxPool2d' has changed. you can retrieve the original source code by accessing the object's source attribute or set `torch.nn.Module.dump_patches = True` and use the patch tool to revert the changes.\n",
      "  warnings.warn(msg, SourceChangeWarning)\n",
      "C:\\Users\\xie029\\AppData\\Local\\Programs\\Python\\Python310\\lib\\site-packages\\torch\\serialization.py:868: SourceChangeWarning: source code of class 'torchvision.models.resnet.Bottleneck' has changed. you can retrieve the original source code by accessing the object's source attribute or set `torch.nn.Module.dump_patches = True` and use the patch tool to revert the changes.\n",
      "  warnings.warn(msg, SourceChangeWarning)\n",
      "C:\\Users\\xie029\\AppData\\Local\\Programs\\Python\\Python310\\lib\\site-packages\\torch\\serialization.py:868: SourceChangeWarning: source code of class 'torch.nn.modules.pooling.AvgPool2d' has changed. you can retrieve the original source code by accessing the object's source attribute or set `torch.nn.Module.dump_patches = True` and use the patch tool to revert the changes.\n",
      "  warnings.warn(msg, SourceChangeWarning)\n",
      "C:\\Users\\xie029\\AppData\\Local\\Programs\\Python\\Python310\\lib\\site-packages\\torch\\serialization.py:868: SourceChangeWarning: source code of class 'torch.nn.modules.pooling.AdaptiveAvgPool2d' has changed. you can retrieve the original source code by accessing the object's source attribute or set `torch.nn.Module.dump_patches = True` and use the patch tool to revert the changes.\n",
      "  warnings.warn(msg, SourceChangeWarning)\n",
      "C:\\Users\\xie029\\AppData\\Local\\Programs\\Python\\Python310\\lib\\site-packages\\torch\\serialization.py:868: SourceChangeWarning: source code of class 'torch.nn.modules.linear.Linear' has changed. you can retrieve the original source code by accessing the object's source attribute or set `torch.nn.Module.dump_patches = True` and use the patch tool to revert the changes.\n",
      "  warnings.warn(msg, SourceChangeWarning)\n",
      "C:\\Users\\xie029\\AppData\\Local\\Programs\\Python\\Python310\\lib\\site-packages\\torch\\serialization.py:868: SourceChangeWarning: source code of class 'torch.nn.modules.batchnorm.BatchNorm1d' has changed. you can retrieve the original source code by accessing the object's source attribute or set `torch.nn.Module.dump_patches = True` and use the patch tool to revert the changes.\n",
      "  warnings.warn(msg, SourceChangeWarning)\n",
      "C:\\Users\\xie029\\AppData\\Local\\Programs\\Python\\Python310\\lib\\site-packages\\torch\\serialization.py:868: SourceChangeWarning: source code of class 'models.Transformer.Transformer' has changed. you can retrieve the original source code by accessing the object's source attribute or set `torch.nn.Module.dump_patches = True` and use the patch tool to revert the changes.\n",
      "  warnings.warn(msg, SourceChangeWarning)\n",
      "C:\\Users\\xie029\\AppData\\Local\\Programs\\Python\\Python310\\lib\\site-packages\\torch\\serialization.py:868: SourceChangeWarning: source code of class 'torch.nn.modules.dropout.Dropout' has changed. you can retrieve the original source code by accessing the object's source attribute or set `torch.nn.Module.dump_patches = True` and use the patch tool to revert the changes.\n",
      "  warnings.warn(msg, SourceChangeWarning)\n",
      "C:\\Users\\xie029\\AppData\\Local\\Programs\\Python\\Python310\\lib\\site-packages\\torch\\serialization.py:868: SourceChangeWarning: source code of class 'torch.nn.modules.container.ModuleList' has changed. you can retrieve the original source code by accessing the object's source attribute or set `torch.nn.Module.dump_patches = True` and use the patch tool to revert the changes.\n",
      "  warnings.warn(msg, SourceChangeWarning)\n",
      "C:\\Users\\xie029\\AppData\\Local\\Programs\\Python\\Python310\\lib\\site-packages\\torch\\serialization.py:868: SourceChangeWarning: source code of class 'torch.nn.modules.linear.Identity' has changed. you can retrieve the original source code by accessing the object's source attribute or set `torch.nn.Module.dump_patches = True` and use the patch tool to revert the changes.\n",
      "  warnings.warn(msg, SourceChangeWarning)\n",
      "C:\\Users\\xie029\\AppData\\Local\\Programs\\Python\\Python310\\lib\\site-packages\\torch\\serialization.py:868: SourceChangeWarning: source code of class 'torch.nn.modules.sparse.Embedding' has changed. you can retrieve the original source code by accessing the object's source attribute or set `torch.nn.Module.dump_patches = True` and use the patch tool to revert the changes.\n",
      "  warnings.warn(msg, SourceChangeWarning)\n"
     ]
    },
    {
     "name": "stdout",
     "output_type": "stream",
     "text": [
      "Save elements to data\\twitter\\testcase1\\guidata\\0_elements.json\n",
      "Save element tree to data\\twitter\\testcase1\\guidata\\0_tree.json\n"
     ]
    }
   ],
   "source": [
    "from GUIData import GUIData\n",
    "gui = GUIData(gui_img_file=device.output_file_path_screenshot,\n",
    "             gui_json_file=device.output_file_path_json,\n",
    "             output_file_root=device.testcase_save_dir)\n",
    "# load previous result\n",
    "if load:\n",
    "    gui.load_elements()\n",
    "# process from scratch\n",
    "else:\n",
    "    gui.ui_info_extraction()\n",
    "    gui.ui_analysis_elements_description()\n",
    "    gui.ui_element_block_tree()\n",
    "gui.show_all_elements(only_leaves=True)"
   ]
  },
  {
   "cell_type": "markdown",
   "id": "6056908d",
   "metadata": {},
   "source": [
    "### 3. UI Automator to connect with ChatGPT and ask AI Chain questions"
   ]
  },
  {
   "cell_type": "markdown",
   "id": "2889b158",
   "metadata": {},
   "source": [
    "Generate `description for blocks` and ask a chain of questions to identify `target block` and `target element` related to the task, save to \"data/app_name/test_case_no/automator\""
   ]
  },
  {
   "cell_type": "code",
   "execution_count": 4,
   "id": "4551a89a",
   "metadata": {},
   "outputs": [
    {
     "name": "stdout",
     "output_type": "stream",
     "text": [
      "------ Generate Block Descriptions ------\n",
      "*** Asking ***\n",
      " [{'role': 'system', 'content': 'You are a mobile virtual assistant that understands and interacts with the user interface to complete given task.'}, {'role': 'user', 'content': \"This is a code snippet that descript a part of UI, summarize its functionalities in one paragraph.\\n{'resource-id': 'google.apps.nexuslauncher:id/scrim_view', 'class': 'view.View', 'clickable': False, 'id': 1, 'description': 'more'}\"}]\n",
      "\n",
      "*** Answer ***\n",
      " {\n",
      "  \"content\": \"This code snippet is describing a UI element with the resource ID \\\"google.apps.nexuslauncher:id/scrim_view\\\" and class \\\"view.View\\\". The element is not clickable and has an ID of 1. It is also described as having a description of \\\"more\\\". Based on this information alone, it is difficult to determine the specific functionality of this UI element without also considering the surrounding UI elements and the app in which it appears. However, the description \\\"more\\\" may suggest that it is a button or link that leads to additional options or information within the app.\",\n",
      "  \"role\": \"assistant\"\n",
      "} \n",
      "\n",
      "*** Asking ***\n",
      " [{'role': 'system', 'content': 'You are a mobile virtual assistant that understands and interacts with the user interface to complete given task.'}, {'role': 'user', 'content': \"This is a code snippet that descript a part of UI, summarize its functionalities in one paragraph.\\n{'resource-id': 'google.apps.nexuslauncher:id/workspace', 'class': 'widget.ScrollView', 'clickable': False, 'id': 2, 'children': [{'class': 'view.ViewGroup', 'clickable': False, 'id': 3, 'children': [{'class': 'view.ViewGroup', 'clickable': False, 'id': 4, 'children': [{'resource-id': 'google.apps.nexuslauncher:id/smartspace_card_pager', 'class': 'androidx.viewpager.widget.ViewPager', 'clickable': False, 'id': 5, 'children': [{'class': 'view.ViewGroup', 'clickable': True, 'id': 6, 'children': [{'resource-id': 'google.apps.nexuslauncher:id/date', 'class': 'widget.TextView', 'clickable': True, 'id': 7, 'description': 'Thu, Mar 9 / Thu, Mar 9'}, {'resource-id': 'google.apps.nexuslauncher:id/smartspace_subtitle_group', 'class': 'view.ViewGroup', 'clickable': True, 'id': 8, 'description': 'navigate up'}]}]}, {'class': 'widget.TextView', 'clickable': True, 'id': 9, 'description': 'Twitter / Twitter'}]}]}]}\"}]\n",
      "\n",
      "*** Answer ***\n",
      " {\n",
      "  \"content\": \"This code represents a UI element on a mobile device's home screen. Specifically, it is a scrollable view that contains a view pager which displays information related to a user's schedule (date information) and social media (Twitter), along with corresponding navigation options. The user can interact with this element by clicking on the date or social media options, as well as the navigation options. Overall, this UI element aims to provide the user with a quick and convenient way to access important information and apps.\",\n",
      "  \"role\": \"assistant\"\n",
      "} \n",
      "\n",
      "*** Asking ***\n",
      " [{'role': 'system', 'content': 'You are a mobile virtual assistant that understands and interacts with the user interface to complete given task.'}, {'role': 'user', 'content': \"This is a code snippet that descript a part of UI, summarize its functionalities in one paragraph.\\n{'class': 'view.View', 'clickable': False, 'id': 10, 'description': 'Home'}\"}]\n",
      "\n",
      "*** Answer ***\n",
      " {\n",
      "  \"content\": \"This code snippet describes a UI element identified as a \\\"View\\\". It has the ID of 10 and is not clickable. The description given for this UI element is \\\"Home\\\". Based on this information, we can infer that this \\\"View\\\" element might represent the home screen or homepage of an application or website that the UI belongs to. The fact that it is not clickable could suggest that it is a non-interactive element, serving only as an indicator of the current location or page.\",\n",
      "  \"role\": \"assistant\"\n",
      "} \n",
      "\n",
      "*** Asking ***\n",
      " [{'role': 'system', 'content': 'You are a mobile virtual assistant that understands and interacts with the user interface to complete given task.'}, {'role': 'user', 'content': \"This is a code snippet that descript a part of UI, summarize its functionalities in one paragraph.\\n{'resource-id': 'google.apps.nexuslauncher:id/page_indicator', 'class': 'view.View', 'clickable': False, 'id': 11, 'description': 'navigate up'}\"}]\n",
      "\n",
      "*** Answer ***\n",
      " {\n",
      "  \"content\": \"This UI element is a page indicator on the Google Nexus Launcher app, which helps the user keep track of their current location in the app's navigation hierarchy. It is represented by a view object that is not clickable and has a resource ID of 'google.apps.nexuslauncher:id/page_indicator'. This element also has an ID of 11 and a description of 'navigate up', implying that it may have a functionality that allows the user to move up in the navigation hierarchy. However, further examination of the app's source code or documentation is necessary to fully understand all of the features and interactions associated with this UI element.\",\n",
      "  \"role\": \"assistant\"\n",
      "} \n",
      "\n",
      "*** Asking ***\n",
      " [{'role': 'system', 'content': 'You are a mobile virtual assistant that understands and interacts with the user interface to complete given task.'}, {'role': 'user', 'content': \"This is a code snippet that descript a part of UI, summarize its functionalities in one paragraph.\\n{'resource-id': 'google.apps.nexuslauncher:id/hotseat', 'class': 'view.ViewGroup', 'clickable': False, 'id': 12, 'children': [{'class': 'view.ViewGroup', 'clickable': False, 'id': 13, 'children': [{'class': 'widget.TextView', 'clickable': True, 'id': 14, 'description': 'Phone / Phone'}, {'class': 'widget.TextView', 'clickable': True, 'id': 15, 'description': 'Messages / Messages'}, {'class': 'widget.TextView', 'clickable': True, 'id': 16, 'description': 'Play Store / Play Store'}, {'class': 'widget.TextView', 'clickable': True, 'id': 17, 'description': 'Chrome / Chrome'}, {'class': 'widget.TextView', 'clickable': True, 'id': 18, 'description': 'Camera / Camera'}]}, {'resource-id': 'google.apps.nexuslauncher:id/search_container_hotseat', 'class': 'widget.FrameLayout', 'clickable': True, 'id': 19, 'children': [{'resource-id': 'google.apps.nexuslauncher:id/g_icon', 'class': 'widget.ImageView', 'clickable': True, 'id': 20, 'description': 'refresh'}, {'resource-id': 'google.apps.nexuslauncher:id/mic_icon', 'class': 'widget.ImageView', 'clickable': True, 'id': 21, 'description': 'Voice search'}, {'resource-id': 'google.apps.nexuslauncher:id/lens_icon', 'class': 'widget.ImageButton', 'clickable': True, 'id': 22, 'description': 'Google Lens'}]}]}\"}]\n",
      "\n",
      "*** Answer ***\n",
      " {\n",
      "  \"content\": \"This UI component is called \\\"hotseat\\\" and is a bar located at the bottom of the screen on an Android device. It contains icons for frequently used apps such as Phone, Messages, Play Store, Chrome, and Camera. Tapping on these icons will launch their corresponding apps. Additionally, it has a search feature that includes a refresh button, voice search, and Google Lens. The search feature allows users to search for apps, contacts, or other content on their device, and also offers relevant suggestions.\",\n",
      "  \"role\": \"assistant\"\n",
      "} \n",
      "\n",
      "------ Target Block Identification ------\n",
      "*** Asking ***\n",
      " [{'role': 'system', 'content': 'You are a mobile virtual assistant that understands and interacts with the user interface to complete given task.'}, {'role': 'user', 'content': 'I will give you a list of blocks in the UI, is any of them related to the task \"Open twitter\"? If yes, which block is the most related to complete the task?\\n[Block 0]:[Not Scrollable] This code snippet is describing a UI element with the resource ID \"google.apps.nexuslauncher:id/scrim_view\" and class \"view.View\". The element is not clickable and has an ID of 1. It is also described as having a description of \"more\". Based on this information alone, it is difficult to determine the specific functionality of this UI element without also considering the surrounding UI elements and the app in which it appears. However, the description \"more\" may suggest that it is a button or link that leads to additional options or information within the app.\\n[Block 1]:[Scrollable] This code represents a UI element on a mobile device\\'s home screen. Specifically, it is a scrollable view that contains a view pager which displays information related to a user\\'s schedule (date information) and social media (Twitter), along with corresponding navigation options. The user can interact with this element by clicking on the date or social media options, as well as the navigation options. Overall, this UI element aims to provide the user with a quick and convenient way to access important information and apps.\\n[Block 2]:[Not Scrollable] This code snippet describes a UI element identified as a \"View\". It has the ID of 10 and is not clickable. The description given for this UI element is \"Home\". Based on this information, we can infer that this \"View\" element might represent the home screen or homepage of an application or website that the UI belongs to. The fact that it is not clickable could suggest that it is a non-interactive element, serving only as an indicator of the current location or page.\\n[Block 3]:[Not Scrollable] This UI element is a page indicator on the Google Nexus Launcher app, which helps the user keep track of their current location in the app\\'s navigation hierarchy. It is represented by a view object that is not clickable and has a resource ID of \\'google.apps.nexuslauncher:id/page_indicator\\'. This element also has an ID of 11 and a description of \\'navigate up\\', implying that it may have a functionality that allows the user to move up in the navigation hierarchy. However, further examination of the app\\'s source code or documentation is necessary to fully understand all of the features and interactions associated with this UI element.\\n[Block 4]:[Not Scrollable] This UI component is called \"hotseat\" and is a bar located at the bottom of the screen on an Android device. It contains icons for frequently used apps such as Phone, Messages, Play Store, Chrome, and Camera. Tapping on these icons will launch their corresponding apps. Additionally, it has a search feature that includes a refresh button, voice search, and Google Lens. The search feature allows users to search for apps, contacts, or other content on their device, and also offers relevant suggestions.\\n\\n Answer [Yes] with the most related block if any or [No] if not.'}]\n"
     ]
    },
    {
     "name": "stdout",
     "output_type": "stream",
     "text": [
      "\n",
      "*** Answer ***\n",
      " {\n",
      "  \"content\": \"Yes, Block 1 is related to the task \\\"Open twitter\\\" as it mentions the presence of social media on the home screen that can be accessed by clicking on it.\",\n",
      "  \"role\": \"assistant\"\n",
      "} \n",
      "\n",
      "------ Scrollable Block Check ------\n",
      "*** Asking ***\n",
      " [{'role': 'system', 'content': 'You are a mobile virtual assistant that understands and interacts with the user interface to complete given task.'}, {'role': 'user', 'content': 'I will give you a list of blocks in the UI, is any of them related to the task \"Open twitter\"? If yes, which block is the most related to complete the task?\\n[Block 0]:[Not Scrollable] This code snippet is describing a UI element with the resource ID \"google.apps.nexuslauncher:id/scrim_view\" and class \"view.View\". The element is not clickable and has an ID of 1. It is also described as having a description of \"more\". Based on this information alone, it is difficult to determine the specific functionality of this UI element without also considering the surrounding UI elements and the app in which it appears. However, the description \"more\" may suggest that it is a button or link that leads to additional options or information within the app.\\n[Block 1]:[Scrollable] This code represents a UI element on a mobile device\\'s home screen. Specifically, it is a scrollable view that contains a view pager which displays information related to a user\\'s schedule (date information) and social media (Twitter), along with corresponding navigation options. The user can interact with this element by clicking on the date or social media options, as well as the navigation options. Overall, this UI element aims to provide the user with a quick and convenient way to access important information and apps.\\n[Block 2]:[Not Scrollable] This code snippet describes a UI element identified as a \"View\". It has the ID of 10 and is not clickable. The description given for this UI element is \"Home\". Based on this information, we can infer that this \"View\" element might represent the home screen or homepage of an application or website that the UI belongs to. The fact that it is not clickable could suggest that it is a non-interactive element, serving only as an indicator of the current location or page.\\n[Block 3]:[Not Scrollable] This UI element is a page indicator on the Google Nexus Launcher app, which helps the user keep track of their current location in the app\\'s navigation hierarchy. It is represented by a view object that is not clickable and has a resource ID of \\'google.apps.nexuslauncher:id/page_indicator\\'. This element also has an ID of 11 and a description of \\'navigate up\\', implying that it may have a functionality that allows the user to move up in the navigation hierarchy. However, further examination of the app\\'s source code or documentation is necessary to fully understand all of the features and interactions associated with this UI element.\\n[Block 4]:[Not Scrollable] This UI component is called \"hotseat\" and is a bar located at the bottom of the screen on an Android device. It contains icons for frequently used apps such as Phone, Messages, Play Store, Chrome, and Camera. Tapping on these icons will launch their corresponding apps. Additionally, it has a search feature that includes a refresh button, voice search, and Google Lens. The search feature allows users to search for apps, contacts, or other content on their device, and also offers relevant suggestions.\\n\\n Answer [Yes] with the most related block if any or [No] if not.'}, {'role': 'assistant', 'content': 'Yes, Block 1 is related to the task \"Open twitter\" as it mentions the presence of social media on the home screen that can be accessed by clicking on it.'}, {'role': 'user', 'content': 'For scrollable blocks, is it possible that the UI elements related to the task would show up after scroll? Answer [Yes] with the most related block if any or [No] if not'}]\n",
      "\n",
      "*** Answer ***\n",
      " {\n",
      "  \"content\": \"Yes, for scrollable blocks it is possible that the UI elements related to the task would show up after scroll. This means that even if the initial visible UI elements do not directly relate to the task, there is a possibility that the related UI elements exist but are not initially visible until scrolled.\",\n",
      "  \"role\": \"assistant\"\n",
      "} \n",
      "\n",
      "------ Intermediate Block Check ------\n",
      "*** Asking ***\n",
      " [{'role': 'system', 'content': 'You are a mobile virtual assistant that understands and interacts with the user interface to complete given task.'}, {'role': 'user', 'content': 'I will give you a list of blocks in the UI, is any of them related to the task \"Open twitter\"? If yes, which block is the most related to complete the task?\\n[Block 0]:[Not Scrollable] This code snippet is describing a UI element with the resource ID \"google.apps.nexuslauncher:id/scrim_view\" and class \"view.View\". The element is not clickable and has an ID of 1. It is also described as having a description of \"more\". Based on this information alone, it is difficult to determine the specific functionality of this UI element without also considering the surrounding UI elements and the app in which it appears. However, the description \"more\" may suggest that it is a button or link that leads to additional options or information within the app.\\n[Block 1]:[Scrollable] This code represents a UI element on a mobile device\\'s home screen. Specifically, it is a scrollable view that contains a view pager which displays information related to a user\\'s schedule (date information) and social media (Twitter), along with corresponding navigation options. The user can interact with this element by clicking on the date or social media options, as well as the navigation options. Overall, this UI element aims to provide the user with a quick and convenient way to access important information and apps.\\n[Block 2]:[Not Scrollable] This code snippet describes a UI element identified as a \"View\". It has the ID of 10 and is not clickable. The description given for this UI element is \"Home\". Based on this information, we can infer that this \"View\" element might represent the home screen or homepage of an application or website that the UI belongs to. The fact that it is not clickable could suggest that it is a non-interactive element, serving only as an indicator of the current location or page.\\n[Block 3]:[Not Scrollable] This UI element is a page indicator on the Google Nexus Launcher app, which helps the user keep track of their current location in the app\\'s navigation hierarchy. It is represented by a view object that is not clickable and has a resource ID of \\'google.apps.nexuslauncher:id/page_indicator\\'. This element also has an ID of 11 and a description of \\'navigate up\\', implying that it may have a functionality that allows the user to move up in the navigation hierarchy. However, further examination of the app\\'s source code or documentation is necessary to fully understand all of the features and interactions associated with this UI element.\\n[Block 4]:[Not Scrollable] This UI component is called \"hotseat\" and is a bar located at the bottom of the screen on an Android device. It contains icons for frequently used apps such as Phone, Messages, Play Store, Chrome, and Camera. Tapping on these icons will launch their corresponding apps. Additionally, it has a search feature that includes a refresh button, voice search, and Google Lens. The search feature allows users to search for apps, contacts, or other content on their device, and also offers relevant suggestions.\\n\\n Answer [Yes] with the most related block if any or [No] if not.'}, {'role': 'assistant', 'content': 'Yes, Block 1 is related to the task \"Open twitter\" as it mentions the presence of social media on the home screen that can be accessed by clicking on it.'}, {'role': 'user', 'content': 'For scrollable blocks, is it possible that the UI elements related to the task would show up after scroll? Answer [Yes] with the most related block if any or [No] if not'}, {'role': 'assistant', 'content': 'Yes, for scrollable blocks it is possible that the UI elements related to the task would show up after scroll. This means that even if the initial visible UI elements do not directly relate to the task, there is a possibility that the related UI elements exist but are not initially visible until scrolled.'}, {'role': 'user', 'content': 'The task may take multiple steps to complete, is there any block likely to jump to the UI that is related to the task? Answer [Yes] with the most related block if any or [No] if not'}]\n"
     ]
    },
    {
     "name": "stdout",
     "output_type": "stream",
     "text": [
      "\n",
      "*** Answer ***\n",
      " {\n",
      "  \"content\": \"No, none of the provided blocks mention any functionality or feature that can directly jump to the UI related to the task of opening Twitter. The task would likely involve multiple steps such as searching for the Twitter app, launching it, and possibly logging in if needed.\",\n",
      "  \"role\": \"assistant\"\n",
      "} \n",
      "\n"
     ]
    }
   ],
   "source": [
    "from Automator import Automator\n",
    "aut = Automator(gui)\n",
    "aut.ai_chain_block('Open twitter')"
   ]
  },
  {
   "cell_type": "markdown",
   "id": "3d0d246c",
   "metadata": {},
   "source": [
    "## [Option 2] (For testing) Directly load GUI from image and json"
   ]
  },
  {
   "cell_type": "markdown",
   "id": "2ad2ab10",
   "metadata": {},
   "source": [
    "### 1. Load GUI"
   ]
  },
  {
   "cell_type": "code",
   "execution_count": 1,
   "id": "994d5517",
   "metadata": {},
   "outputs": [],
   "source": [
    "load = True"
   ]
  },
  {
   "cell_type": "code",
   "execution_count": 2,
   "id": "85553631",
   "metadata": {},
   "outputs": [
    {
     "name": "stderr",
     "output_type": "stream",
     "text": [
      "C:\\Users\\xie029\\AppData\\Local\\Programs\\Python\\Python310\\lib\\site-packages\\tqdm\\auto.py:22: TqdmWarning: IProgress not found. Please update jupyter and ipywidgets. See https://ipywidgets.readthedocs.io/en/stable/user_install.html\n",
      "  from .autonotebook import tqdm as notebook_tqdm\n"
     ]
    },
    {
     "name": "stdout",
     "output_type": "stream",
     "text": [
      "Load elements from data/twitter/testcase1\\guidata\\0_elements.json\n",
      "Load element tree from data/twitter/testcase1\\guidata\\0_tree.json\n"
     ]
    }
   ],
   "source": [
    "from GUIData import GUIData\n",
    "gui = GUIData(gui_img_file='data/twitter/testcase1/device/0.png',\n",
    "              gui_json_file='data/twitter/testcase1/device/0.json',\n",
    "              output_file_root='data/twitter/testcase1')\n",
    "# load previous result\n",
    "if load:\n",
    "    gui.load_elements()\n",
    "# process from scratch\n",
    "else:\n",
    "    gui.ui_info_extraction()\n",
    "    gui.ui_analysis_elements_description()\n",
    "    gui.ui_element_block_tree()\n",
    "gui.show_all_elements(only_leaves=True)\n",
    "# gui.show_each_element(only_leaves=False)"
   ]
  },
  {
   "cell_type": "code",
   "execution_count": 8,
   "id": "eedce32d",
   "metadata": {},
   "outputs": [
    {
     "data": {
      "text/plain": [
       "\"{'resource-id': 'google.apps.nexuslauncher:id/workspace', 'class': 'widget.ScrollView', 'clickable': False, 'id': 2, 'children': [{'class': 'view.ViewGroup', 'clickable': False, 'id': 3, 'children': [{'class': 'view.ViewGroup', 'clickable': False, 'id': 4, 'children': [{'resource-id': 'google.apps.nexuslauncher:id/smartspace_card_pager', 'class': 'androidx.viewpager.widget.ViewPager', 'clickable': False, 'id': 5, 'children': [{'class': 'view.ViewGroup', 'clickable': True, 'id': 6, 'children': [{'resource-id': 'google.apps.nexuslauncher:id/date', 'class': 'widget.TextView', 'clickable': True, 'id': 7, 'description': 'Thu, Mar 9 / Thu, Mar 9'}, {'resource-id': 'google.apps.nexuslauncher:id/smartspace_subtitle_group', 'class': 'view.ViewGroup', 'clickable': True, 'id': 8, 'description': 'navigate up'}]}]}, {'class': 'widget.TextView', 'clickable': True, 'id': 9, 'description': 'Twitter / Twitter'}]}]}]}\""
      ]
     },
     "execution_count": 8,
     "metadata": {},
     "output_type": "execute_result"
    }
   ],
   "source": [
    "str(gui.blocks[1])"
   ]
  },
  {
   "cell_type": "markdown",
   "id": "bdbe9cb8",
   "metadata": {},
   "source": [
    "### 2. Load automator"
   ]
  },
  {
   "cell_type": "code",
   "execution_count": 3,
   "id": "ba49063e",
   "metadata": {},
   "outputs": [
    {
     "name": "stdout",
     "output_type": "stream",
     "text": [
      "------ Generate Block Descriptions ------\n",
      "[Not Scrollable] The code snippet represents a UI element in the Google Nexus Launcher app called \"scrim_view\". This element is not clickable and has an ID of 1. The \"description\" property suggests that it may be a button labeled \"more\", but this cannot be confirmed without further context. It is likely that this button is used to access additional options or information within the app.\n",
      "[Scrollable] The code snippet describes a portion of the UI that consists of a scrollable view that contains a view group. The view group is made up of two elements: A view pager and a text view. The view pager is non-clickable and displays information cards that the user can swipe through while the text view displays a heading for the information card currently being viewed. The text view is clickable and allows the user to navigate up. The second text view below the view pager is also clickable and displays the name of a social media app. The overall functionality of this UI portion appears to be displaying and navigating through information cards and displaying the name of a social media app.\n",
      "[Not Scrollable] This code refers to a View element in a UI, identified by an ID of 10, which is not clickable. The label of the View is \"Home\". It is likely that this View serves as a home screen or a main menu for the application, allowing the user to access various features or functions. It may contain other interactive elements or be used as a reference point for navigation within the app.\n",
      "[Not Scrollable] This code snippet describes a UI element in the Google Nexus Launcher app. It appears to be a page indicator, with a non-clickable view and an ID of 11. The element displays an icon representing the action of navigating up, likely a back or home button. This button is likely used to go back to the previous screen or return to the home screen of the app or device.\n",
      "[Not Scrollable] This code snippet describes a UI element called hotseat in the Google Nexus launcher app. The hotseat provides quick access to commonly used apps such as Phone, Messages, Play Store, Chrome, and Camera. These app icons can be clicked to launch the respective app. Additionally, the hotseat also contains a search container that allows users to input search queries via text, voice, or through Google Lens. The search container consists of icons for refreshing the search results, initiating a voice search, or using Google Lens to search for objects in the real world.\n",
      "\n",
      "------ Target Block Identification ------\n",
      "Yes, Block 1 is related to the task \"Open Twitter\" as it displays the name of a social media app and allows the user to navigate to it by clicking on the text view.\n",
      "\n",
      "====== Identify the target element in Block 1 ======\n",
      "\n",
      "------ Task Completion Check ------\n",
      "No. The given UI block does not have any element that can directly complete the task \"Open Twitter\".\n",
      "\n",
      "------ Intermediate Element Check ------\n",
      "Based on the given UI block, there is no element that seems to directly relate to opening Twitter. It is possible that the user may need to open the app drawer or use the search bar to access the Twitter app. Without further context or information, it is difficult to identify a single UI block that is most likely to help with this task.\n"
     ]
    },
    {
     "ename": "IndexError",
     "evalue": "list index out of range",
     "output_type": "error",
     "traceback": [
      "\u001b[1;31m---------------------------------------------------------------------------\u001b[0m",
      "\u001b[1;31mIndexError\u001b[0m                                Traceback (most recent call last)",
      "Cell \u001b[1;32mIn[3], line 4\u001b[0m\n\u001b[0;32m      2\u001b[0m aut \u001b[38;5;241m=\u001b[39m Automator(gui)\n\u001b[0;32m      3\u001b[0m \u001b[38;5;66;03m# aut.ai_chain_block('Open twitter', show_block=True)\u001b[39;00m\n\u001b[1;32m----> 4\u001b[0m \u001b[43maut\u001b[49m\u001b[38;5;241;43m.\u001b[39;49m\u001b[43mai_chain\u001b[49m\u001b[43m(\u001b[49m\u001b[38;5;124;43m'\u001b[39;49m\u001b[38;5;124;43mOpen twitter\u001b[39;49m\u001b[38;5;124;43m'\u001b[39;49m\u001b[43m,\u001b[49m\u001b[43m \u001b[49m\u001b[43mshow_block\u001b[49m\u001b[38;5;241;43m=\u001b[39;49m\u001b[38;5;28;43;01mTrue\u001b[39;49;00m\u001b[43m)\u001b[49m\n",
      "File \u001b[1;32mC:\\Mulong\\Code\\UI-Automation\\Automator.py:63\u001b[0m, in \u001b[0;36mAutomator.ai_chain\u001b[1;34m(self, task, show_block)\u001b[0m\n\u001b[0;32m     61\u001b[0m \u001b[38;5;66;03m# *** Identify target element in related block\u001b[39;00m\n\u001b[0;32m     62\u001b[0m \u001b[38;5;28;01melif\u001b[39;00m \u001b[38;5;124m'\u001b[39m\u001b[38;5;124mYes\u001b[39m\u001b[38;5;124m'\u001b[39m \u001b[38;5;129;01min\u001b[39;00m \u001b[38;5;28mself\u001b[39m\u001b[38;5;241m.\u001b[39mblock_identification:\n\u001b[1;32m---> 63\u001b[0m     \u001b[38;5;28;01mreturn\u001b[39;00m \u001b[38;5;28;43mself\u001b[39;49m\u001b[38;5;241;43m.\u001b[39;49m\u001b[43mai_chain_element\u001b[49m\u001b[43m(\u001b[49m\u001b[43mblock_id\u001b[49m\u001b[38;5;241;43m=\u001b[39;49m\u001b[38;5;28;43mself\u001b[39;49m\u001b[38;5;241;43m.\u001b[39;49m\u001b[43mextract_block_id_from_sentence\u001b[49m\u001b[43m(\u001b[49m\u001b[38;5;28;43mself\u001b[39;49m\u001b[38;5;241;43m.\u001b[39;49m\u001b[43mblock_identification\u001b[49m\u001b[43m)\u001b[49m\u001b[43m,\u001b[49m\u001b[43m \u001b[49m\u001b[43mtask\u001b[49m\u001b[38;5;241;43m=\u001b[39;49m\u001b[43mtask\u001b[49m\u001b[43m)\u001b[49m\n",
      "File \u001b[1;32mC:\\Mulong\\Code\\UI-Automation\\Automator.py:140\u001b[0m, in \u001b[0;36mAutomator.ai_chain_element\u001b[1;34m(self, block_id, task)\u001b[0m\n\u001b[0;32m    137\u001b[0m \u001b[38;5;66;03m# if no, select the most related element\u001b[39;00m\n\u001b[0;32m    138\u001b[0m \u001b[38;5;28;01melse\u001b[39;00m:\n\u001b[0;32m    139\u001b[0m     \u001b[38;5;28mself\u001b[39m\u001b[38;5;241m.\u001b[39mintermediate_element_check()\n\u001b[1;32m--> 140\u001b[0m     element_id \u001b[38;5;241m=\u001b[39m \u001b[38;5;28;43mself\u001b[39;49m\u001b[38;5;241;43m.\u001b[39;49m\u001b[43mextract_element_id_from_sentence\u001b[49m\u001b[43m(\u001b[49m\u001b[38;5;28;43mself\u001b[39;49m\u001b[38;5;241;43m.\u001b[39;49m\u001b[43melement_intermediate\u001b[49m\u001b[43m)\u001b[49m\n\u001b[0;32m    141\u001b[0m     \u001b[38;5;28mprint\u001b[39m(\u001b[38;5;124m'\u001b[39m\u001b[38;5;124m*** [Element \u001b[39m\u001b[38;5;132;01m%d\u001b[39;00m\u001b[38;5;124m] can complete the task ***\u001b[39m\u001b[38;5;124m'\u001b[39m \u001b[38;5;241m%\u001b[39m element_id)\n\u001b[0;32m    142\u001b[0m \u001b[38;5;28;01mreturn\u001b[39;00m element_id\n",
      "File \u001b[1;32mC:\\Mulong\\Code\\UI-Automation\\Automator.py:176\u001b[0m, in \u001b[0;36mAutomator.extract_element_id_from_sentence\u001b[1;34m(self, sentence)\u001b[0m\n\u001b[0;32m    175\u001b[0m \u001b[38;5;28;01mdef\u001b[39;00m \u001b[38;5;21mextract_element_id_from_sentence\u001b[39m(\u001b[38;5;28mself\u001b[39m, sentence):\n\u001b[1;32m--> 176\u001b[0m     e \u001b[38;5;241m=\u001b[39m \u001b[43mre\u001b[49m\u001b[38;5;241;43m.\u001b[39;49m\u001b[43mfindall\u001b[49m\u001b[43m(\u001b[49m\u001b[38;5;124;43m'\u001b[39;49m\u001b[38;5;124;43m[Ee]lement\u001b[39;49m\u001b[38;5;124;43m\\\u001b[39;49m\u001b[38;5;124;43ms*\u001b[39;49m\u001b[38;5;124;43m\\\u001b[39;49m\u001b[38;5;124;43md+\u001b[39;49m\u001b[38;5;124;43m'\u001b[39;49m\u001b[43m,\u001b[49m\u001b[43m \u001b[49m\u001b[43msentence\u001b[49m\u001b[43m)\u001b[49m\u001b[43m[\u001b[49m\u001b[38;5;241;43m0\u001b[39;49m\u001b[43m]\u001b[49m\n\u001b[0;32m    177\u001b[0m     \u001b[38;5;28;01mreturn\u001b[39;00m \u001b[38;5;28mint\u001b[39m(re\u001b[38;5;241m.\u001b[39mfindall(\u001b[38;5;124m'\u001b[39m\u001b[38;5;124m\\\u001b[39m\u001b[38;5;124md+\u001b[39m\u001b[38;5;124m'\u001b[39m, e)[\u001b[38;5;241m0\u001b[39m])\n",
      "\u001b[1;31mIndexError\u001b[0m: list index out of range"
     ]
    }
   ],
   "source": [
    "from Automator import Automator\n",
    "aut = Automator(gui)\n",
    "# aut.ai_chain_block('Open twitter', show_block=True)\n",
    "aut.ai_chain('Open twitter', show_block=False)"
   ]
  },
  {
   "cell_type": "code",
   "execution_count": 4,
   "id": "a692e7a7",
   "metadata": {},
   "outputs": [
    {
     "data": {
      "text/plain": [
       "[{'role': 'system',\n",
       "  'content': 'You are a mobile virtual assistant that understands and interacts with the user interface to complete given task.'},\n",
       " {'role': 'user',\n",
       "  'content': 'Can any elements in the given UI block complete the task \"Open twitter\" directly? \\nUI block: {\\'resource-id\\': \\'google.apps.nexuslauncher:id/workspace\\', \\'class\\': \\'widget.ScrollView\\', \\'clickable\\': False, \\'id\\': 2, \\'children\\': [{\\'class\\': \\'view.ViewGroup\\', \\'clickable\\': False, \\'id\\': 3, \\'children\\': [{\\'class\\': \\'view.ViewGroup\\', \\'clickable\\': False, \\'id\\': 4, \\'children\\': [{\\'resource-id\\': \\'google.apps.nexuslauncher:id/smartspace_card_pager\\', \\'class\\': \\'androidx.viewpager.widget.ViewPager\\', \\'clickable\\': False, \\'id\\': 5, \\'children\\': [{\\'class\\': \\'view.ViewGroup\\', \\'clickable\\': True, \\'id\\': 6, \\'children\\': [{\\'resource-id\\': \\'google.apps.nexuslauncher:id/date\\', \\'class\\': \\'widget.TextView\\', \\'clickable\\': True, \\'id\\': 7, \\'description\\': \\'Thu, Mar 9 / Thu, Mar 9\\'}, {\\'resource-id\\': \\'google.apps.nexuslauncher:id/smartspace_subtitle_group\\', \\'class\\': \\'view.ViewGroup\\', \\'clickable\\': True, \\'id\\': 8, \\'description\\': \\'navigate up\\'}]}]}, {\\'class\\': \\'widget.TextView\\', \\'clickable\\': True, \\'id\\': 9, \\'description\\': \\'Twitter / Twitter\\'}]}]}]}\\nAnswer [Yes] with the target element if any or [No] if not'},\n",
       " {'role': 'assistant',\n",
       "  'content': 'No, there is no element in the given UI block that can directly complete the task \"Open Twitter\".'},\n",
       " {'role': 'user',\n",
       "  'content': 'The task may take multiple steps to complete, is there any UI element in the block likely to jump to the UI that is related to the task? Answer [Yes] with the most related block if any or [No] if not'},\n",
       " {'role': 'assistant',\n",
       "  'content': \"Based on the given UI block, there is no related block that can directly jump to the Twitter app or its icon. However, if the Twitter app is already installed and available on the device, the user can try to swipe up from the bottom of the screen to access the app drawer or use the device's search functionality to locate the Twitter app. Depending on the device, this may involve interacting with different UI elements that are not listed in the given block.\"}]"
      ]
     },
     "execution_count": 4,
     "metadata": {},
     "output_type": "execute_result"
    }
   ],
   "source": [
    "aut.chain_element"
   ]
  },
  {
   "cell_type": "code",
   "execution_count": null,
   "id": "b0097f6d",
   "metadata": {},
   "outputs": [],
   "source": []
  },
  {
   "cell_type": "code",
   "execution_count": 4,
   "id": "871ff2f3",
   "metadata": {},
   "outputs": [
    {
     "data": {
      "text/plain": [
       "{'resource-id': 'google.apps.nexuslauncher:id/workspace',\n",
       " 'class': 'widget.ScrollView',\n",
       " 'clickable': False,\n",
       " 'id': 2,\n",
       " 'children': [{'class': 'view.ViewGroup',\n",
       "   'clickable': False,\n",
       "   'id': 3,\n",
       "   'children': [{'class': 'view.ViewGroup',\n",
       "     'clickable': False,\n",
       "     'id': 4,\n",
       "     'children': [{'resource-id': 'google.apps.nexuslauncher:id/smartspace_card_pager',\n",
       "       'class': 'androidx.viewpager.widget.ViewPager',\n",
       "       'clickable': False,\n",
       "       'id': 5,\n",
       "       'children': [{'class': 'view.ViewGroup',\n",
       "         'clickable': True,\n",
       "         'id': 6,\n",
       "         'children': [{'resource-id': 'google.apps.nexuslauncher:id/date',\n",
       "           'class': 'widget.TextView',\n",
       "           'clickable': True,\n",
       "           'id': 7,\n",
       "           'description': 'Thu, Mar 9 / Thu, Mar 9'},\n",
       "          {'resource-id': 'google.apps.nexuslauncher:id/smartspace_subtitle_group',\n",
       "           'class': 'view.ViewGroup',\n",
       "           'clickable': True,\n",
       "           'id': 8,\n",
       "           'description': 'navigate up'}]}]},\n",
       "      {'class': 'widget.TextView',\n",
       "       'clickable': True,\n",
       "       'id': 9,\n",
       "       'description': 'Twitter / Twitter'}]}]}]}"
      ]
     },
     "execution_count": 4,
     "metadata": {},
     "output_type": "execute_result"
    }
   ],
   "source": [
    "aut.gui.blocks[1]"
   ]
  },
  {
   "cell_type": "code",
   "execution_count": 9,
   "id": "e67ed7f4",
   "metadata": {},
   "outputs": [],
   "source": [
    "l = 'Can any elements in the given UI block complete the task \"Open twitter\" directly? \\nUI block: {\\'resource-id\\': \\'google.apps.nexuslauncher:id/workspace\\', \\'class\\': \\'widget.ScrollView\\', \\'clickable\\': False, \\'id\\': 2, \\'children\\': [{\\'class\\': \\'view.ViewGroup\\', \\'clickable\\': False, \\'id\\': 3, \\'children\\': [{\\'class\\': \\'view.ViewGroup\\', \\'clickable\\': False, \\'id\\': 4, \\'children\\': [{\\'resource-id\\': \\'google.apps.nexuslauncher:id/smartspace_card_pager\\', \\'class\\': \\'androidx.viewpager.widget.ViewPager\\', \\'clickable\\': False, \\'id\\': 5, \\'children\\': [{\\'class\\': \\'view.ViewGroup\\', \\'clickable\\': True, \\'id\\': 6, \\'children\\': [{\\'resource-id\\': \\'google.apps.nexuslauncher:id/date\\', \\'class\\': \\'widget.TextView\\', \\'clickable\\': True, \\'id\\': 7, \\'description\\': \\'Thu, Mar 9 / Thu, Mar 9\\'}, {\\'resource-id\\': \\'google.apps.nexuslauncher:id/smartspace_subtitle_group\\', \\'class\\': \\'view.ViewGroup\\', \\'clickable\\': True, \\'id\\': 8, \\'description\\': \\'navigate up\\'}]}]}, {\\'class\\': \\'widget.TextView\\', \\'clickable\\': True, \\'id\\': 9, \\'description\\': \\'Twitter / Twitter\\'}]}]}]}\\nAnswer [Yes] with the target element if any or [No] if not'"
   ]
  },
  {
   "cell_type": "code",
   "execution_count": 11,
   "id": "2d34eb8c",
   "metadata": {},
   "outputs": [],
   "source": [
    "from Automator import Automator"
   ]
  },
  {
   "cell_type": "code",
   "execution_count": 12,
   "id": "a330cf78",
   "metadata": {},
   "outputs": [],
   "source": [
    "aut = Automator()"
   ]
  },
  {
   "cell_type": "code",
   "execution_count": 14,
   "id": "73a4df9f",
   "metadata": {},
   "outputs": [
    {
     "name": "stdout",
     "output_type": "stream",
     "text": [
      "*** Asking ***\n",
      " [{'role': 'user', 'content': 'Can any elements in the given UI block complete the task \"Open twitter\" directly? \\nUI block: {\\'resource-id\\': \\'google.apps.nexuslauncher:id/workspace\\', \\'class\\': \\'widget.ScrollView\\', \\'clickable\\': False, \\'id\\': 2, \\'children\\': [{\\'class\\': \\'view.ViewGroup\\', \\'clickable\\': False, \\'id\\': 3, \\'children\\': [{\\'class\\': \\'view.ViewGroup\\', \\'clickable\\': False, \\'id\\': 4, \\'children\\': [{\\'resource-id\\': \\'google.apps.nexuslauncher:id/smartspace_card_pager\\', \\'class\\': \\'androidx.viewpager.widget.ViewPager\\', \\'clickable\\': False, \\'id\\': 5, \\'children\\': [{\\'class\\': \\'view.ViewGroup\\', \\'clickable\\': True, \\'id\\': 6, \\'children\\': [{\\'resource-id\\': \\'google.apps.nexuslauncher:id/date\\', \\'class\\': \\'widget.TextView\\', \\'clickable\\': True, \\'id\\': 7, \\'description\\': \\'Thu, Mar 9 / Thu, Mar 9\\'}, {\\'resource-id\\': \\'google.apps.nexuslauncher:id/smartspace_subtitle_group\\', \\'class\\': \\'view.ViewGroup\\', \\'clickable\\': True, \\'id\\': 8, \\'description\\': \\'navigate up\\'}]}]}, {\\'class\\': \\'widget.TextView\\', \\'clickable\\': True, \\'id\\': 9, \\'description\\': \\'Twitter / Twitter\\'}]}]}]}\\nAnswer [Yes] with the target element if any or [No] if not'}]\n",
      "\n",
      "*** Answer ***\n",
      " {\n",
      "  \"content\": \"\\n\\nNo\",\n",
      "  \"role\": \"assistant\"\n",
      "} \n",
      "\n"
     ]
    },
    {
     "data": {
      "text/plain": [
       "{'role': 'assistant', 'content': '\\n\\nNo'}"
      ]
     },
     "execution_count": 14,
     "metadata": {},
     "output_type": "execute_result"
    }
   ],
   "source": [
    "aut.ask_openai_prompt(l, None, True)"
   ]
  },
  {
   "cell_type": "code",
   "execution_count": null,
   "id": "37f2af51",
   "metadata": {},
   "outputs": [],
   "source": []
  }
 ],
 "metadata": {
  "kernelspec": {
   "display_name": "Python 3 (ipykernel)",
   "language": "python",
   "name": "python3"
  },
  "language_info": {
   "codemirror_mode": {
    "name": "ipython",
    "version": 3
   },
   "file_extension": ".py",
   "mimetype": "text/x-python",
   "name": "python",
   "nbconvert_exporter": "python",
   "pygments_lexer": "ipython3",
   "version": "3.10.10"
  }
 },
 "nbformat": 4,
 "nbformat_minor": 5
}
