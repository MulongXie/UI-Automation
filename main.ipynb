{
 "cells": [
  {
   "cell_type": "markdown",
   "id": "5e74037e",
   "metadata": {},
   "source": [
    "## [Option 1] Load virtual device to collect the screenshot and vh"
   ]
  },
  {
   "cell_type": "markdown",
   "id": "63865543",
   "metadata": {},
   "source": [
    "### 1. Start emulator in Android studio first and run to capture screenshot and view hierarchy"
   ]
  },
  {
   "cell_type": "markdown",
   "id": "744083c1",
   "metadata": {},
   "source": [
    "Save vh `xml`, `json` and `screenshot image` to \"data/app_name/test_case_no/device\""
   ]
  },
  {
   "cell_type": "code",
   "execution_count": 1,
   "id": "7ac2619d",
   "metadata": {},
   "outputs": [
    {
     "name": "stdout",
     "output_type": "stream",
     "text": [
      "*** Save data to dir data\\twitter\\testcase1\\device ***\n",
      "Save screenshot to data\\twitter\\testcase1\\device\\0.png\n",
      "Save xml to data\\twitter\\testcase1\\device\\0.xml\n",
      "Save view hierarchy to data\\twitter\\testcase1\\device\\0.json\n",
      "Save reformatted vh to data\\twitter\\testcase1\\device\\0.json\n"
     ]
    }
   ],
   "source": [
    "from ppadb.client import Client as AdbClient\n",
    "from Device import Device\n",
    "client = AdbClient(host=\"127.0.0.1\", port=5037)\n",
    "\n",
    "device = Device(client.devices()[0], app_name='twitter', test_case_no=1)\n",
    "device.cap_screenshot()\n",
    "device.cap_vh()\n",
    "device.reformat_vh_json()"
   ]
  },
  {
   "cell_type": "markdown",
   "id": "db39844b",
   "metadata": {},
   "source": [
    "### 2. GUI information extraction and analysis"
   ]
  },
  {
   "cell_type": "markdown",
   "id": "eaef1bba",
   "metadata": {},
   "source": [
    "Extract `elements` and `element_tree` and save to \"data/app_name/test_case_no/guidata\""
   ]
  },
  {
   "cell_type": "code",
   "execution_count": 3,
   "id": "2ed8a1e1",
   "metadata": {},
   "outputs": [],
   "source": [
    "load = False"
   ]
  },
  {
   "cell_type": "code",
   "execution_count": 4,
   "id": "56542304",
   "metadata": {
    "scrolled": false
   },
   "outputs": [
    {
     "name": "stderr",
     "output_type": "stream",
     "text": [
      "C:\\Users\\xie029\\AppData\\Local\\Programs\\Python\\Python310\\lib\\site-packages\\tqdm\\auto.py:22: TqdmWarning: IProgress not found. Please update jupyter and ipywidgets. See https://ipywidgets.readthedocs.io/en/stable/user_install.html\n",
      "  from .autonotebook import tqdm as notebook_tqdm\n"
     ]
    },
    {
     "name": "stdout",
     "output_type": "stream",
     "text": [
      "Save elements to data\\twitter\\testcase1\\guidata\\0_elements.json\n"
     ]
    },
    {
     "name": "stderr",
     "output_type": "stream",
     "text": [
      "C:\\Users\\xie029\\AppData\\Local\\Programs\\Python\\Python310\\lib\\site-packages\\torch\\serialization.py:868: SourceChangeWarning: source code of class 'models.image_models.ResNetFeats' has changed. you can retrieve the original source code by accessing the object's source attribute or set `torch.nn.Module.dump_patches = True` and use the patch tool to revert the changes.\n",
      "  warnings.warn(msg, SourceChangeWarning)\n",
      "C:\\Users\\xie029\\AppData\\Local\\Programs\\Python\\Python310\\lib\\site-packages\\torch\\serialization.py:868: SourceChangeWarning: source code of class 'torch.nn.modules.container.Sequential' has changed. you can retrieve the original source code by accessing the object's source attribute or set `torch.nn.Module.dump_patches = True` and use the patch tool to revert the changes.\n",
      "  warnings.warn(msg, SourceChangeWarning)\n",
      "C:\\Users\\xie029\\AppData\\Local\\Programs\\Python\\Python310\\lib\\site-packages\\torch\\serialization.py:868: SourceChangeWarning: source code of class 'torch.nn.modules.conv.Conv2d' has changed. you can retrieve the original source code by accessing the object's source attribute or set `torch.nn.Module.dump_patches = True` and use the patch tool to revert the changes.\n",
      "  warnings.warn(msg, SourceChangeWarning)\n",
      "C:\\Users\\xie029\\AppData\\Local\\Programs\\Python\\Python310\\lib\\site-packages\\torch\\serialization.py:868: SourceChangeWarning: source code of class 'torch.nn.modules.batchnorm.BatchNorm2d' has changed. you can retrieve the original source code by accessing the object's source attribute or set `torch.nn.Module.dump_patches = True` and use the patch tool to revert the changes.\n",
      "  warnings.warn(msg, SourceChangeWarning)\n",
      "C:\\Users\\xie029\\AppData\\Local\\Programs\\Python\\Python310\\lib\\site-packages\\torch\\serialization.py:868: SourceChangeWarning: source code of class 'torch.nn.modules.activation.ReLU' has changed. you can retrieve the original source code by accessing the object's source attribute or set `torch.nn.Module.dump_patches = True` and use the patch tool to revert the changes.\n",
      "  warnings.warn(msg, SourceChangeWarning)\n",
      "C:\\Users\\xie029\\AppData\\Local\\Programs\\Python\\Python310\\lib\\site-packages\\torch\\serialization.py:868: SourceChangeWarning: source code of class 'torch.nn.modules.pooling.MaxPool2d' has changed. you can retrieve the original source code by accessing the object's source attribute or set `torch.nn.Module.dump_patches = True` and use the patch tool to revert the changes.\n",
      "  warnings.warn(msg, SourceChangeWarning)\n",
      "C:\\Users\\xie029\\AppData\\Local\\Programs\\Python\\Python310\\lib\\site-packages\\torch\\serialization.py:868: SourceChangeWarning: source code of class 'torchvision.models.resnet.Bottleneck' has changed. you can retrieve the original source code by accessing the object's source attribute or set `torch.nn.Module.dump_patches = True` and use the patch tool to revert the changes.\n",
      "  warnings.warn(msg, SourceChangeWarning)\n",
      "C:\\Users\\xie029\\AppData\\Local\\Programs\\Python\\Python310\\lib\\site-packages\\torch\\serialization.py:868: SourceChangeWarning: source code of class 'torch.nn.modules.pooling.AvgPool2d' has changed. you can retrieve the original source code by accessing the object's source attribute or set `torch.nn.Module.dump_patches = True` and use the patch tool to revert the changes.\n",
      "  warnings.warn(msg, SourceChangeWarning)\n",
      "C:\\Users\\xie029\\AppData\\Local\\Programs\\Python\\Python310\\lib\\site-packages\\torch\\serialization.py:868: SourceChangeWarning: source code of class 'torch.nn.modules.pooling.AdaptiveAvgPool2d' has changed. you can retrieve the original source code by accessing the object's source attribute or set `torch.nn.Module.dump_patches = True` and use the patch tool to revert the changes.\n",
      "  warnings.warn(msg, SourceChangeWarning)\n",
      "C:\\Users\\xie029\\AppData\\Local\\Programs\\Python\\Python310\\lib\\site-packages\\torch\\serialization.py:868: SourceChangeWarning: source code of class 'torch.nn.modules.linear.Linear' has changed. you can retrieve the original source code by accessing the object's source attribute or set `torch.nn.Module.dump_patches = True` and use the patch tool to revert the changes.\n",
      "  warnings.warn(msg, SourceChangeWarning)\n",
      "C:\\Users\\xie029\\AppData\\Local\\Programs\\Python\\Python310\\lib\\site-packages\\torch\\serialization.py:868: SourceChangeWarning: source code of class 'torch.nn.modules.batchnorm.BatchNorm1d' has changed. you can retrieve the original source code by accessing the object's source attribute or set `torch.nn.Module.dump_patches = True` and use the patch tool to revert the changes.\n",
      "  warnings.warn(msg, SourceChangeWarning)\n",
      "C:\\Users\\xie029\\AppData\\Local\\Programs\\Python\\Python310\\lib\\site-packages\\torch\\serialization.py:868: SourceChangeWarning: source code of class 'models.Transformer.Transformer' has changed. you can retrieve the original source code by accessing the object's source attribute or set `torch.nn.Module.dump_patches = True` and use the patch tool to revert the changes.\n",
      "  warnings.warn(msg, SourceChangeWarning)\n",
      "C:\\Users\\xie029\\AppData\\Local\\Programs\\Python\\Python310\\lib\\site-packages\\torch\\serialization.py:868: SourceChangeWarning: source code of class 'torch.nn.modules.dropout.Dropout' has changed. you can retrieve the original source code by accessing the object's source attribute or set `torch.nn.Module.dump_patches = True` and use the patch tool to revert the changes.\n",
      "  warnings.warn(msg, SourceChangeWarning)\n",
      "C:\\Users\\xie029\\AppData\\Local\\Programs\\Python\\Python310\\lib\\site-packages\\torch\\serialization.py:868: SourceChangeWarning: source code of class 'torch.nn.modules.container.ModuleList' has changed. you can retrieve the original source code by accessing the object's source attribute or set `torch.nn.Module.dump_patches = True` and use the patch tool to revert the changes.\n",
      "  warnings.warn(msg, SourceChangeWarning)\n",
      "C:\\Users\\xie029\\AppData\\Local\\Programs\\Python\\Python310\\lib\\site-packages\\torch\\serialization.py:868: SourceChangeWarning: source code of class 'torch.nn.modules.linear.Identity' has changed. you can retrieve the original source code by accessing the object's source attribute or set `torch.nn.Module.dump_patches = True` and use the patch tool to revert the changes.\n",
      "  warnings.warn(msg, SourceChangeWarning)\n",
      "C:\\Users\\xie029\\AppData\\Local\\Programs\\Python\\Python310\\lib\\site-packages\\torch\\serialization.py:868: SourceChangeWarning: source code of class 'torch.nn.modules.sparse.Embedding' has changed. you can retrieve the original source code by accessing the object's source attribute or set `torch.nn.Module.dump_patches = True` and use the patch tool to revert the changes.\n",
      "  warnings.warn(msg, SourceChangeWarning)\n"
     ]
    },
    {
     "name": "stdout",
     "output_type": "stream",
     "text": [
      "Save elements to data\\twitter\\testcase1\\guidata\\0_elements.json\n",
      "Save element tree to data\\twitter\\testcase1\\guidata\\0_tree.json\n"
     ]
    }
   ],
   "source": [
    "from GUIData import GUIData\n",
    "gui = GUIData(gui_img_file=device.output_file_path_screenshot,\n",
    "             gui_json_file=device.output_file_path_json,\n",
    "             output_file_root=device.testcase_save_dir)\n",
    "# load previous result\n",
    "if load:\n",
    "    gui.load_elements()\n",
    "# process from scratch\n",
    "else:\n",
    "    gui.ui_info_extraction()\n",
    "    gui.ui_analysis_elements_description()\n",
    "    gui.ui_element_block_tree()\n",
    "gui.show_all_elements(only_leaves=True)"
   ]
  },
  {
   "cell_type": "markdown",
   "id": "3470a9cd",
   "metadata": {},
   "source": [
    "### 3. UI Automator to connect with ChatGPT and ask AI Chain questions"
   ]
  },
  {
   "cell_type": "markdown",
   "id": "2c93a159",
   "metadata": {},
   "source": [
    "Generate `description for blocks` and ask a chain of questions to identify `target block` and `target element` related to the task, save to \"data/app_name/test_case_no/automator\""
   ]
  },
  {
   "cell_type": "code",
   "execution_count": 5,
   "id": "468d5e97",
   "metadata": {},
   "outputs": [
    {
     "name": "stdout",
     "output_type": "stream",
     "text": [
      "------ Generate Block Descriptions ------\n",
      "[Not Scrollable] The code snippet is describing a UI element with the resource ID 'google.apps.nexuslauncher:id/scrim_view'. This element is a View object that cannot be clicked, as indicated by the \"clickable\" attribute being set to \"False\". The \"description\" attribute is set to \"more\", which might suggest that this UI element functions as a button or link that expands or reveals additional content when clicked. Without additional context, however, it is difficult to determine the full extent of this UI element's functionality.\n",
      "[Scrollable] This code snippet describes a part of the UI in the Nexus Launcher app for Android. It is a scrollable view that contains a ViewPager widget, which displays content such as the date and time and social media updates. The user can interact with the ViewPager by swiping left or right to view different pieces of content. The UI also includes clickable text elements such as the date and social media updates, which allow the user to navigate to other parts of the app or external links. Overall, this UI section provides a convenient way for the user to access and view personalized information in a single location.\n",
      "[Not Scrollable] This code snippet describes a view element in the user interface. The view is called \"Home\" and has an ID of 10. The clickable property is set to false, meaning that the user cannot interact with the view by clicking on it. The description property provides a brief description of the view. Overall, this view element serves as a non-interactive display element in the UI that provides information or content to the user.\n",
      "[Not Scrollable] This code snippet describes a UI component represented by a page indicator on the Google Nexus Launcher app. The page indicator does not have the attribute \"clickable\" set to True, which means that it is not designed to be interacted with. It is identified by a unique resource ID for the purpose of locating and manipulating it within the app's UI. Additionally, the component has a descriptive text attribute that reads \"navigate up\" which may provide a hint to the user about its intended use. Overall, the page indicator serves to visually communicate to the user their current position and available options within the app.\n",
      "[Not Scrollable] The code snippet describes the hotseat section of the Google Nexus Launcher UI. The hotseat section is the fixed rows of applications or widgets that appear at the bottom of the screen of most Android devices. The hotseat contains five icons (Phone, Messages, Play Store, Chrome, and Camera) that can be clicked to launch the respective app. Additionally, the hotseat contains a search container which allows the user to perform a Google search or activate Google Assistant via voice search or Google Lens. The hotseat section provides easy access to frequently used applications and quick search functionality.\n",
      "\n",
      "------ Target Block Identification ------\n",
      "No, none of the blocks seem related to the task \"Open twitter\".\n",
      "\n",
      "------ Scrollable Block Check ------\n",
      "Yes, it is possible that the UI elements related to the task \"Open twitter\" could be within a scrollable block and they would show up after a scroll. The most related block for this task would be Block 1, as it contains a ViewPager widget that displays social media updates, which could potentially include a Twitter update. However, without additional context, it is impossible to determine if this block contains UI elements specifically related to the task of opening Twitter.\n",
      "*** Scroll [BLock 1] ***\n",
      "\n",
      "====== Identify the target element in Block 1 ======\n",
      "\n",
      "------ Task Completion Check ------\n",
      "No, there doesn't seem to be a direct element in the UI block that can be clicked to open Twitter.\n",
      "\n",
      "------ Intermediate Element Check ------\n",
      "No, unfortunately, the UI block provided doesn't contain any elements related to opening Twitter. Could you please provide me with a UI block that is more specific to the task at hand?\n",
      "*** No related elements ***\n"
     ]
    }
   ],
   "source": [
    "from Automator import Automator\n",
    "aut = Automator(gui)\n",
    "aut.ai_chain('Open twitter')"
   ]
  },
  {
   "cell_type": "code",
   "execution_count": null,
   "id": "08130814",
   "metadata": {},
   "outputs": [
    {
     "name": "stdout",
     "output_type": "stream",
     "text": [
      "{'resource-id': 'google.apps.nexuslauncher:id/scrim_view', 'class': 'view.View', 'clickable': False, 'id': 1, 'description': 'more'}\n",
      "{'resource-id': 'google.apps.nexuslauncher:id/workspace', 'class': 'widget.ScrollView', 'clickable': False, 'id': 2, 'children': [{'class': 'view.ViewGroup', 'clickable': False, 'id': 3, 'children': [{'class': 'view.ViewGroup', 'clickable': False, 'id': 4, 'children': [{'resource-id': 'google.apps.nexuslauncher:id/smartspace_card_pager', 'class': 'androidx.viewpager.widget.ViewPager', 'clickable': False, 'id': 5, 'children': [{'class': 'view.ViewGroup', 'clickable': True, 'id': 6, 'children': [{'resource-id': 'google.apps.nexuslauncher:id/date', 'class': 'widget.TextView', 'clickable': True, 'id': 7, 'description': 'Sat, Mar 11 / Sat, Mar 11'}, {'resource-id': 'google.apps.nexuslauncher:id/smartspace_subtitle_group', 'class': 'view.ViewGroup', 'clickable': True, 'id': 8, 'description': 'navigate up'}]}]}, {'class': 'widget.TextView', 'clickable': True, 'id': 9, 'description': 'Twitter / Twitter'}]}]}]}\n"
     ]
    }
   ],
   "source": [
    "gui.show_blocks()"
   ]
  },
  {
   "cell_type": "markdown",
   "id": "3d0d246c",
   "metadata": {},
   "source": [
    "## [Option 2] (For testing) Directly load GUI from image and json"
   ]
  },
  {
   "cell_type": "markdown",
   "id": "4309f1bd",
   "metadata": {},
   "source": [
    "### 1. Load GUI"
   ]
  },
  {
   "cell_type": "code",
   "execution_count": 1,
   "id": "5a112b5e",
   "metadata": {},
   "outputs": [],
   "source": [
    "load = True"
   ]
  },
  {
   "cell_type": "code",
   "execution_count": 2,
   "id": "85553631",
   "metadata": {
    "scrolled": false
   },
   "outputs": [
    {
     "name": "stderr",
     "output_type": "stream",
     "text": [
      "C:\\Users\\xie029\\AppData\\Local\\Programs\\Python\\Python310\\lib\\site-packages\\tqdm\\auto.py:22: TqdmWarning: IProgress not found. Please update jupyter and ipywidgets. See https://ipywidgets.readthedocs.io/en/stable/user_install.html\n",
      "  from .autonotebook import tqdm as notebook_tqdm\n"
     ]
    },
    {
     "name": "stdout",
     "output_type": "stream",
     "text": [
      "Load elements from data/twitter/testcase1\\guidata\\0_elements.json\n",
      "Load element tree from data/twitter/testcase1\\guidata\\0_tree.json\n"
     ]
    }
   ],
   "source": [
    "from GUIData import GUIData\n",
    "gui = GUIData(gui_img_file='data/twitter/testcase1/device/0.png',\n",
    "              gui_json_file='data/twitter/testcase1/device/0.json',\n",
    "              output_file_root='data/twitter/testcase1')\n",
    "# load previous result\n",
    "if load:\n",
    "    gui.load_elements()\n",
    "# process from scratch\n",
    "else:\n",
    "    gui.ui_info_extraction()\n",
    "    gui.ui_analysis_elements_description()\n",
    "    gui.ui_element_block_tree()\n",
    "gui.show_all_elements(only_leaves=True)\n",
    "# gui.show_each_element(only_leaves=False)"
   ]
  },
  {
   "cell_type": "markdown",
   "id": "bdbe9cb8",
   "metadata": {},
   "source": [
    "### 2. Load automator"
   ]
  },
  {
   "cell_type": "code",
   "execution_count": 3,
   "id": "ba49063e",
   "metadata": {},
   "outputs": [
    {
     "name": "stdout",
     "output_type": "stream",
     "text": [
      "Load block description from data/twitter/testcase1\\automator\\0_block_desc.json\n",
      "\n",
      "------ Target Block Identification ------\n",
      "Yes, Block 1 is related to the task \"Open Twitter\" as it contains a TextView that links to Twitter with clickable functionality.\n",
      "\n",
      "====== Identify the target element in Block 1 ======\n",
      "\n",
      "------ Task Completion Check ------\n",
      "Yes, Element 9 can be clicked to open Twitter.\n",
      "*** [Element 9] can complete the task ***\n"
     ]
    },
    {
     "data": {
      "text/plain": [
       "('click', 9)"
      ]
     },
     "execution_count": 3,
     "metadata": {},
     "output_type": "execute_result"
    }
   ],
   "source": [
    "from Automator import Automator\n",
    "aut = Automator(gui)\n",
    "if load:\n",
    "    aut.load_block_descriptions()\n",
    "aut.ai_chain('Open Twitter', show_block=False, load_block_desc=load)"
   ]
  },
  {
   "cell_type": "code",
   "execution_count": null,
   "id": "12ec0bf4",
   "metadata": {},
   "outputs": [],
   "source": []
  },
  {
   "cell_type": "code",
   "execution_count": 3,
   "id": "b967e00a",
   "metadata": {},
   "outputs": [],
   "source": [
    "from Automator import Automator\n",
    "aut = Automator(gui)\n",
    "\n",
    "from ppadb.client import Client as AdbClient\n",
    "client = AdbClient(host=\"127.0.0.1\", port=5037)\n",
    "device = client.devices()[0]"
   ]
  },
  {
   "cell_type": "code",
   "execution_count": 5,
   "id": "1840b952",
   "metadata": {},
   "outputs": [],
   "source": [
    "aut.execute_action(('scroll', 2), device, True)"
   ]
  },
  {
   "cell_type": "code",
   "execution_count": 5,
   "id": "8e613f85",
   "metadata": {},
   "outputs": [
    {
     "data": {
      "text/plain": [
       "{'resource-id': 'google.apps.nexuslauncher:id/workspace',\n",
       " 'class': 'widget.ScrollView',\n",
       " 'clickable': False,\n",
       " 'id': 2,\n",
       " 'children': [{'class': 'view.ViewGroup',\n",
       "   'clickable': False,\n",
       "   'id': 3,\n",
       "   'children': [{'class': 'view.ViewGroup',\n",
       "     'clickable': False,\n",
       "     'id': 4,\n",
       "     'children': [{'resource-id': 'google.apps.nexuslauncher:id/smartspace_card_pager',\n",
       "       'class': 'androidx.viewpager.widget.ViewPager',\n",
       "       'clickable': False,\n",
       "       'id': 5,\n",
       "       'children': [{'class': 'view.ViewGroup',\n",
       "         'clickable': True,\n",
       "         'id': 6,\n",
       "         'children': [{'resource-id': 'google.apps.nexuslauncher:id/date',\n",
       "           'class': 'widget.TextView',\n",
       "           'clickable': True,\n",
       "           'id': 7,\n",
       "           'description': 'Sat, Mar 11 / Sat, Mar 11'},\n",
       "          {'resource-id': 'google.apps.nexuslauncher:id/smartspace_subtitle_group',\n",
       "           'class': 'view.ViewGroup',\n",
       "           'clickable': True,\n",
       "           'id': 8,\n",
       "           'description': 'navigate up'}]}]},\n",
       "      {'class': 'widget.TextView',\n",
       "       'clickable': True,\n",
       "       'id': 9,\n",
       "       'description': 'Twitter / Twitter'}]}]}]}"
      ]
     },
     "execution_count": 5,
     "metadata": {},
     "output_type": "execute_result"
    }
   ],
   "source": [
    "gui.blocks[1]"
   ]
  },
  {
   "cell_type": "code",
   "execution_count": null,
   "id": "95bd0eac",
   "metadata": {},
   "outputs": [],
   "source": []
  }
 ],
 "metadata": {
  "kernelspec": {
   "display_name": "Python 3 (ipykernel)",
   "language": "python",
   "name": "python3"
  },
  "language_info": {
   "codemirror_mode": {
    "name": "ipython",
    "version": 3
   },
   "file_extension": ".py",
   "mimetype": "text/x-python",
   "name": "python",
   "nbconvert_exporter": "python",
   "pygments_lexer": "ipython3",
   "version": "3.10.10"
  }
 },
 "nbformat": 4,
 "nbformat_minor": 5
}
