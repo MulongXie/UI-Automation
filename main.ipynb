{
 "cells": [
  {
   "cell_type": "markdown",
   "id": "5e74037e",
   "metadata": {},
   "source": [
    "## [Option 1] Load virtual device to collect the screenshot and vh"
   ]
  },
  {
   "cell_type": "code",
   "execution_count": 6,
   "id": "7ac2619d",
   "metadata": {},
   "outputs": [
    {
     "name": "stdout",
     "output_type": "stream",
     "text": [
      "Save screenshot to data\\emulator-5554.png\n",
      "Save view hierarchy to data\\emulator-5554.json\n",
      "Save reformatted vh to data\\emulator-5554.json\n",
      "[INFO] Loading idx2word classification/model_results/vocab_idx2word.json\n",
      "[INFO] Loading checkpoint classification/model_results/labeldroid.pt\n"
     ]
    }
   ],
   "source": [
    "from GUIData import GUIData\n",
    "from Device import Device\n",
    "from ppadb.client import Client as AdbClient\n",
    "client = AdbClient(host=\"127.0.0.1\", port=5037)\n",
    "\n",
    "# connect emulator and collect vh and screenshot\n",
    "device = Device(client.devices()[0], 'data')\n",
    "device.cap_screenshot()\n",
    "device.cap_vh()\n",
    "device.cvt_vh_to_rico_format()\n",
    "\n",
    "# load vh and screenshot to GUI object\n",
    "gui = GUIData(device.screenshot_path, device.vh_json_path)\n",
    "gui.ui_info_extraction()\n",
    "gui.ui_analysis_elements_description()\n",
    "gui.ui_analysis_element_tree()\n",
    "gui.show_all_elements()\n",
    "gui.show_all_elements(only_leaves=True)"
   ]
  },
  {
   "cell_type": "markdown",
   "id": "3d0d246c",
   "metadata": {},
   "source": [
    "## [Option 2] Directly load GUI from image and json"
   ]
  },
  {
   "cell_type": "code",
   "execution_count": 1,
   "id": "85553631",
   "metadata": {},
   "outputs": [
    {
     "name": "stderr",
     "output_type": "stream",
     "text": [
      "C:\\Users\\xie029\\AppData\\Local\\Programs\\Python\\Python310\\lib\\site-packages\\tqdm\\auto.py:22: TqdmWarning: IProgress not found. Please update jupyter and ipywidgets. See https://ipywidgets.readthedocs.io/en/stable/user_install.html\n",
      "  from .autonotebook import tqdm as notebook_tqdm\n"
     ]
    },
    {
     "name": "stdout",
     "output_type": "stream",
     "text": [
      "[INFO] Loading idx2word classification/model_results/vocab_idx2word.json\n",
      "[INFO] Loading checkpoint classification/model_results/labeldroid.pt\n"
     ]
    },
    {
     "name": "stderr",
     "output_type": "stream",
     "text": [
      "C:\\Users\\xie029\\AppData\\Local\\Programs\\Python\\Python310\\lib\\site-packages\\torch\\serialization.py:868: SourceChangeWarning: source code of class 'models.image_models.ResNetFeats' has changed. you can retrieve the original source code by accessing the object's source attribute or set `torch.nn.Module.dump_patches = True` and use the patch tool to revert the changes.\n",
      "  warnings.warn(msg, SourceChangeWarning)\n",
      "C:\\Users\\xie029\\AppData\\Local\\Programs\\Python\\Python310\\lib\\site-packages\\torch\\serialization.py:868: SourceChangeWarning: source code of class 'torch.nn.modules.container.Sequential' has changed. you can retrieve the original source code by accessing the object's source attribute or set `torch.nn.Module.dump_patches = True` and use the patch tool to revert the changes.\n",
      "  warnings.warn(msg, SourceChangeWarning)\n",
      "C:\\Users\\xie029\\AppData\\Local\\Programs\\Python\\Python310\\lib\\site-packages\\torch\\serialization.py:868: SourceChangeWarning: source code of class 'torch.nn.modules.conv.Conv2d' has changed. you can retrieve the original source code by accessing the object's source attribute or set `torch.nn.Module.dump_patches = True` and use the patch tool to revert the changes.\n",
      "  warnings.warn(msg, SourceChangeWarning)\n",
      "C:\\Users\\xie029\\AppData\\Local\\Programs\\Python\\Python310\\lib\\site-packages\\torch\\serialization.py:868: SourceChangeWarning: source code of class 'torch.nn.modules.batchnorm.BatchNorm2d' has changed. you can retrieve the original source code by accessing the object's source attribute or set `torch.nn.Module.dump_patches = True` and use the patch tool to revert the changes.\n",
      "  warnings.warn(msg, SourceChangeWarning)\n",
      "C:\\Users\\xie029\\AppData\\Local\\Programs\\Python\\Python310\\lib\\site-packages\\torch\\serialization.py:868: SourceChangeWarning: source code of class 'torch.nn.modules.activation.ReLU' has changed. you can retrieve the original source code by accessing the object's source attribute or set `torch.nn.Module.dump_patches = True` and use the patch tool to revert the changes.\n",
      "  warnings.warn(msg, SourceChangeWarning)\n",
      "C:\\Users\\xie029\\AppData\\Local\\Programs\\Python\\Python310\\lib\\site-packages\\torch\\serialization.py:868: SourceChangeWarning: source code of class 'torch.nn.modules.pooling.MaxPool2d' has changed. you can retrieve the original source code by accessing the object's source attribute or set `torch.nn.Module.dump_patches = True` and use the patch tool to revert the changes.\n",
      "  warnings.warn(msg, SourceChangeWarning)\n",
      "C:\\Users\\xie029\\AppData\\Local\\Programs\\Python\\Python310\\lib\\site-packages\\torch\\serialization.py:868: SourceChangeWarning: source code of class 'torchvision.models.resnet.Bottleneck' has changed. you can retrieve the original source code by accessing the object's source attribute or set `torch.nn.Module.dump_patches = True` and use the patch tool to revert the changes.\n",
      "  warnings.warn(msg, SourceChangeWarning)\n",
      "C:\\Users\\xie029\\AppData\\Local\\Programs\\Python\\Python310\\lib\\site-packages\\torch\\serialization.py:868: SourceChangeWarning: source code of class 'torch.nn.modules.pooling.AvgPool2d' has changed. you can retrieve the original source code by accessing the object's source attribute or set `torch.nn.Module.dump_patches = True` and use the patch tool to revert the changes.\n",
      "  warnings.warn(msg, SourceChangeWarning)\n",
      "C:\\Users\\xie029\\AppData\\Local\\Programs\\Python\\Python310\\lib\\site-packages\\torch\\serialization.py:868: SourceChangeWarning: source code of class 'torch.nn.modules.pooling.AdaptiveAvgPool2d' has changed. you can retrieve the original source code by accessing the object's source attribute or set `torch.nn.Module.dump_patches = True` and use the patch tool to revert the changes.\n",
      "  warnings.warn(msg, SourceChangeWarning)\n",
      "C:\\Users\\xie029\\AppData\\Local\\Programs\\Python\\Python310\\lib\\site-packages\\torch\\serialization.py:868: SourceChangeWarning: source code of class 'torch.nn.modules.linear.Linear' has changed. you can retrieve the original source code by accessing the object's source attribute or set `torch.nn.Module.dump_patches = True` and use the patch tool to revert the changes.\n",
      "  warnings.warn(msg, SourceChangeWarning)\n",
      "C:\\Users\\xie029\\AppData\\Local\\Programs\\Python\\Python310\\lib\\site-packages\\torch\\serialization.py:868: SourceChangeWarning: source code of class 'torch.nn.modules.batchnorm.BatchNorm1d' has changed. you can retrieve the original source code by accessing the object's source attribute or set `torch.nn.Module.dump_patches = True` and use the patch tool to revert the changes.\n",
      "  warnings.warn(msg, SourceChangeWarning)\n",
      "C:\\Users\\xie029\\AppData\\Local\\Programs\\Python\\Python310\\lib\\site-packages\\torch\\serialization.py:868: SourceChangeWarning: source code of class 'models.Transformer.Transformer' has changed. you can retrieve the original source code by accessing the object's source attribute or set `torch.nn.Module.dump_patches = True` and use the patch tool to revert the changes.\n",
      "  warnings.warn(msg, SourceChangeWarning)\n",
      "C:\\Users\\xie029\\AppData\\Local\\Programs\\Python\\Python310\\lib\\site-packages\\torch\\serialization.py:868: SourceChangeWarning: source code of class 'torch.nn.modules.dropout.Dropout' has changed. you can retrieve the original source code by accessing the object's source attribute or set `torch.nn.Module.dump_patches = True` and use the patch tool to revert the changes.\n",
      "  warnings.warn(msg, SourceChangeWarning)\n",
      "C:\\Users\\xie029\\AppData\\Local\\Programs\\Python\\Python310\\lib\\site-packages\\torch\\serialization.py:868: SourceChangeWarning: source code of class 'torch.nn.modules.container.ModuleList' has changed. you can retrieve the original source code by accessing the object's source attribute or set `torch.nn.Module.dump_patches = True` and use the patch tool to revert the changes.\n",
      "  warnings.warn(msg, SourceChangeWarning)\n",
      "C:\\Users\\xie029\\AppData\\Local\\Programs\\Python\\Python310\\lib\\site-packages\\torch\\serialization.py:868: SourceChangeWarning: source code of class 'torch.nn.modules.linear.Identity' has changed. you can retrieve the original source code by accessing the object's source attribute or set `torch.nn.Module.dump_patches = True` and use the patch tool to revert the changes.\n",
      "  warnings.warn(msg, SourceChangeWarning)\n",
      "C:\\Users\\xie029\\AppData\\Local\\Programs\\Python\\Python310\\lib\\site-packages\\torch\\serialization.py:868: SourceChangeWarning: source code of class 'torch.nn.modules.sparse.Embedding' has changed. you can retrieve the original source code by accessing the object's source attribute or set `torch.nn.Module.dump_patches = True` and use the patch tool to revert the changes.\n",
      "  warnings.warn(msg, SourceChangeWarning)\n"
     ]
    },
    {
     "name": "stdout",
     "output_type": "stream",
     "text": [
      "widget.scrollviewtwitter.android:id/root_coordinator_layout False False\n",
      "view.viewandroid:id/statusbarbackground True True\n"
     ]
    }
   ],
   "source": [
    "from GUIData import GUIData\n",
    "import json\n",
    "gui = GUIData('data/emulator-5554.png', 'data/emulator-5554.json')\n",
    "gui.ui_info_extraction()\n",
    "gui.ui_analysis_elements_description()\n",
    "gui.ui_element_block_tree()\n",
    "gui.show_all_elements()\n",
    "gui.show_all_elements(only_leaves=True)"
   ]
  },
  {
   "cell_type": "code",
   "execution_count": 3,
   "id": "3ee579dc",
   "metadata": {},
   "outputs": [
    {
     "name": "stdout",
     "output_type": "stream",
     "text": [
      "root\n",
      "{'text': '', 'resource-id': '', 'class': 'root', 'package': 'com.twitter.android', 'content-desc': '', 'checkable': False, 'checked': False, 'clickable': False, 'enabled': True, 'focusable': False, 'focused': False, 'scrollable': False, 'long-clickable': False, 'password': False, 'selected': False, 'bounds': [0, 0, 1080, 2214], 'id': 0, 'children-id': [1, 105]} \n",
      "\n",
      "android.widget.ScrollView\n",
      "{'text': '', 'resource-id': 'com.twitter.android:id/root_coordinator_layout', 'class': 'android.widget.ScrollView', 'package': 'com.twitter.android', 'content-desc': '', 'checkable': False, 'checked': False, 'clickable': False, 'enabled': True, 'focusable': False, 'focused': False, 'scrollable': True, 'long-clickable': False, 'password': False, 'selected': False, 'bounds': [0, 66, 1080, 2214], 'id': 1, 'children-id': [2, 5, 93, 95]} \n",
      "\n",
      "android.view.ViewGroup\n",
      "{'text': '', 'resource-id': 'com.twitter.android:id/toolbar', 'class': 'android.view.ViewGroup', 'package': 'com.twitter.android', 'content-desc': '', 'checkable': False, 'checked': False, 'clickable': True, 'enabled': True, 'focusable': True, 'focused': False, 'scrollable': False, 'long-clickable': False, 'password': False, 'selected': False, 'bounds': [0, 66, 1080, 220], 'id': 2, 'children-id': [3, 4]} \n",
      "\n",
      "android.widget.ImageButton\n",
      "{'text': '', 'resource-id': '', 'class': 'android.widget.ImageButton', 'package': 'com.twitter.android', 'content-desc': 'Show navigation drawer', 'checkable': False, 'checked': False, 'clickable': True, 'enabled': True, 'focusable': True, 'focused': False, 'scrollable': False, 'long-clickable': False, 'password': False, 'selected': False, 'bounds': [0, 66, 150, 220], 'id': 3, 'leaf-id': 0, 'caption': 'thumbnail', 'icon-cls': 'avatar', 'description': 'Show navigation drawer'} \n",
      "\n",
      "android.widget.ImageView\n",
      "{'text': '', 'resource-id': 'com.twitter.android:id/logo', 'class': 'android.widget.ImageView', 'package': 'com.twitter.android', 'content-desc': '', 'checkable': False, 'checked': False, 'clickable': True, 'enabled': True, 'focusable': False, 'focused': False, 'scrollable': False, 'long-clickable': False, 'password': False, 'selected': False, 'bounds': [507, 110, 573, 176], 'id': 4, 'leaf-id': 1, 'caption': 'twitter', 'icon-cls': 'twitter', 'description': 'twitter'} \n",
      "\n",
      "androidx.viewpager.widget.ViewPager\n",
      "{'text': '', 'resource-id': 'com.twitter.android:id/pager', 'class': 'androidx.viewpager.widget.ViewPager', 'package': 'com.twitter.android', 'content-desc': '', 'checkable': False, 'checked': False, 'clickable': False, 'enabled': True, 'focusable': True, 'focused': False, 'scrollable': True, 'long-clickable': False, 'password': False, 'selected': False, 'bounds': [0, 220, 1080, 2214], 'id': 5, 'children-id': [6]} \n",
      "\n",
      "androidx.viewpager.widget.ViewPager\n",
      "{'text': '', 'resource-id': 'com.twitter.android:id/view_pager', 'class': 'androidx.viewpager.widget.ViewPager', 'package': 'com.twitter.android', 'content-desc': '', 'checkable': False, 'checked': False, 'clickable': False, 'enabled': True, 'focusable': True, 'focused': False, 'scrollable': True, 'long-clickable': False, 'password': False, 'selected': False, 'bounds': [0, 220, 1080, 2214], 'id': 6, 'children-id': [7, 11]} \n",
      "\n",
      "android.widget.HorizontalScrollView\n",
      "{'text': '', 'resource-id': 'com.twitter.android:id/tab_layout', 'class': 'android.widget.HorizontalScrollView', 'package': 'com.twitter.android', 'content-desc': '', 'checkable': False, 'checked': False, 'clickable': False, 'enabled': True, 'focusable': True, 'focused': False, 'scrollable': False, 'long-clickable': False, 'password': False, 'selected': False, 'bounds': [0, 220, 1080, 352], 'id': 7, 'children-id': [8, 9]} \n",
      "\n",
      "android.widget.TextView\n",
      "{'text': 'For you', 'resource-id': '', 'class': 'android.widget.TextView', 'package': 'com.twitter.android', 'content-desc': '', 'checkable': False, 'checked': False, 'clickable': False, 'enabled': True, 'focusable': False, 'focused': False, 'scrollable': False, 'long-clickable': False, 'password': False, 'selected': True, 'bounds': [187, 261, 341, 311], 'id': 8, 'leaf-id': 2, 'caption': 'close', 'icon-cls': None, 'description': 'For you'} \n",
      "\n",
      "android.widget.LinearLayout\n",
      "{'text': '', 'resource-id': '', 'class': 'android.widget.LinearLayout', 'package': 'com.twitter.android', 'content-desc': 'Following', 'checkable': False, 'checked': False, 'clickable': True, 'enabled': True, 'focusable': True, 'focused': False, 'scrollable': False, 'long-clickable': False, 'password': False, 'selected': False, 'bounds': [528, 220, 1080, 352], 'id': 9, 'children-id': [10]} \n",
      "\n",
      "android.widget.TextView\n",
      "{'text': 'Following', 'resource-id': '', 'class': 'android.widget.TextView', 'package': 'com.twitter.android', 'content-desc': '', 'checkable': False, 'checked': False, 'clickable': True, 'enabled': True, 'focusable': False, 'focused': False, 'scrollable': False, 'long-clickable': False, 'password': False, 'selected': False, 'bounds': [715, 261, 893, 311], 'id': 10, 'leaf-id': 3, 'caption': '<unk>', 'icon-cls': None, 'description': 'Following'} \n",
      "\n",
      "android.widget.ScrollView\n",
      "{'text': '', 'resource-id': 'com.twitter.android:id/nested_coordinator_layout', 'class': 'android.widget.ScrollView', 'package': 'com.twitter.android', 'content-desc': '', 'checkable': False, 'checked': False, 'clickable': False, 'enabled': True, 'focusable': False, 'focused': False, 'scrollable': True, 'long-clickable': False, 'password': False, 'selected': False, 'bounds': [0, 352, 1080, 2214], 'id': 11, 'children-id': [12]} \n",
      "\n",
      "android.view.ViewGroup\n",
      "{'text': '', 'resource-id': '', 'class': 'android.view.ViewGroup', 'package': 'com.twitter.android', 'content-desc': '', 'checkable': False, 'checked': False, 'clickable': False, 'enabled': True, 'focusable': False, 'focused': False, 'scrollable': False, 'long-clickable': False, 'password': False, 'selected': False, 'bounds': [0, 353, 1080, 2214], 'id': 12, 'children-id': [13]} \n",
      "\n",
      "androidx.recyclerview.widget.RecyclerView\n",
      "{'text': '', 'resource-id': 'android:id/list', 'class': 'androidx.recyclerview.widget.RecyclerView', 'package': 'com.twitter.android', 'content-desc': 'Home timeline list', 'checkable': False, 'checked': False, 'clickable': False, 'enabled': True, 'focusable': True, 'focused': False, 'scrollable': True, 'long-clickable': False, 'password': False, 'selected': False, 'bounds': [0, 353, 1080, 2214], 'id': 13, 'children-id': [14, 53, 77]} \n",
      "\n",
      "android.view.ViewGroup\n",
      "{'text': '', 'resource-id': '', 'class': 'android.view.ViewGroup', 'package': 'com.twitter.android', 'content-desc': '', 'checkable': False, 'checked': False, 'clickable': True, 'enabled': True, 'focusable': True, 'focused': False, 'scrollable': False, 'long-clickable': True, 'password': False, 'selected': False, 'bounds': [0, 353, 1080, 1324], 'id': 14, 'children-id': [15]} \n",
      "\n",
      "android.view.ViewGroup\n",
      "{'text': '', 'resource-id': 'com.twitter.android:id/row', 'class': 'android.view.ViewGroup', 'package': 'com.twitter.android', 'content-desc': 'David Sacks @DavidSacks Verified The All-In Podcast.    BREAKING: NBC News / MSNBC concedes that Zelensky’s goal of retaking Crimea is unrealistic and dangerous..        Elon Musk replied.      1 day ago.  1391 replies.  3083 retweets.  14551 likes.  4898446 verified views. ', 'checkable': False, 'checked': False, 'clickable': True, 'enabled': True, 'focusable': False, 'focused': False, 'scrollable': False, 'long-clickable': False, 'password': False, 'selected': False, 'bounds': [0, 353, 1080, 1324], 'id': 15, 'children-id': [16, 17, 19, 21, 22, 23, 25, 26, 33, 34, 35, 38]} \n",
      "\n",
      "android.widget.ImageView\n",
      "{'text': '', 'resource-id': 'com.twitter.android:id/social_context_badge', 'class': 'android.widget.ImageView', 'package': 'com.twitter.android', 'content-desc': '', 'checkable': False, 'checked': False, 'clickable': True, 'enabled': True, 'focusable': False, 'focused': False, 'scrollable': False, 'long-clickable': False, 'password': False, 'selected': False, 'bounds': [138, 381, 182, 425], 'id': 16, 'leaf-id': 4, 'caption': 'paint', 'icon-cls': 'chat', 'description': 'chat'} \n",
      "\n",
      "android.view.ViewGroup\n",
      "{'text': '', 'resource-id': 'com.twitter.android:id/tweet_social_context', 'class': 'android.view.ViewGroup', 'package': 'com.twitter.android', 'content-desc': '', 'checkable': False, 'checked': False, 'clickable': True, 'enabled': True, 'focusable': False, 'focused': False, 'scrollable': False, 'long-clickable': False, 'password': False, 'selected': False, 'bounds': [210, 353, 1080, 430], 'id': 17, 'children-id': [18]} \n",
      "\n"
     ]
    },
    {
     "name": "stdout",
     "output_type": "stream",
     "text": [
      "android.widget.TextView\n",
      "{'text': 'Elon Musk replied', 'resource-id': 'com.twitter.android:id/social_context_text', 'class': 'android.widget.TextView', 'package': 'com.twitter.android', 'content-desc': '', 'checkable': False, 'checked': False, 'clickable': True, 'enabled': True, 'focusable': True, 'focused': False, 'scrollable': False, 'long-clickable': False, 'password': False, 'selected': False, 'bounds': [210, 353, 512, 430], 'id': 18, 'leaf-id': 5, 'caption': '<unk>', 'icon-cls': None, 'description': 'Elon Musk replied'} \n",
      "\n",
      "android.widget.FrameLayout\n",
      "{'text': '', 'resource-id': 'com.twitter.android:id/tweet_profile_image', 'class': 'android.widget.FrameLayout', 'package': 'com.twitter.android', 'content-desc': 'Profile image', 'checkable': False, 'checked': False, 'clickable': True, 'enabled': True, 'focusable': True, 'focused': False, 'scrollable': False, 'long-clickable': False, 'password': False, 'selected': False, 'bounds': [33, 452, 182, 601], 'id': 19, 'children-id': [20]} \n",
      "\n",
      "android.widget.ImageView\n",
      "{'text': '', 'resource-id': '', 'class': 'android.widget.ImageView', 'package': 'com.twitter.android', 'content-desc': '', 'checkable': False, 'checked': False, 'clickable': True, 'enabled': True, 'focusable': False, 'focused': False, 'scrollable': False, 'long-clickable': False, 'password': False, 'selected': False, 'bounds': [33, 452, 182, 601], 'id': 20, 'leaf-id': 6, 'caption': 'logo', 'icon-cls': 'avatar', 'description': 'avatar'} \n",
      "\n",
      "android.view.ViewGroup\n",
      "{'text': '', 'resource-id': 'com.twitter.android:id/tweet_header', 'class': 'android.view.ViewGroup', 'package': 'com.twitter.android', 'content-desc': '', 'checkable': False, 'checked': False, 'clickable': True, 'enabled': True, 'focusable': False, 'focused': False, 'scrollable': False, 'long-clickable': False, 'password': False, 'selected': False, 'bounds': [210, 452, 981, 493], 'id': 21, 'leaf-id': 7, 'caption': '<unk>', 'icon-cls': None, 'description': None} \n",
      "\n",
      "android.widget.ImageView\n",
      "{'NAF': True, 'text': '', 'resource-id': 'com.twitter.android:id/tweet_curation_action', 'class': 'android.widget.ImageView', 'package': 'com.twitter.android', 'content-desc': '', 'checkable': False, 'checked': False, 'clickable': True, 'enabled': True, 'focusable': True, 'focused': False, 'scrollable': False, 'long-clickable': False, 'password': False, 'selected': False, 'bounds': [981, 423, 1069, 511], 'id': 22, 'leaf-id': 8, 'caption': 'more options', 'icon-cls': 'more', 'description': 'more'} \n",
      "\n",
      "android.view.View\n",
      "{'text': '', 'resource-id': 'com.twitter.android:id/tweet_content_text', 'class': 'android.view.View', 'package': 'com.twitter.android', 'content-desc': '', 'checkable': False, 'checked': False, 'clickable': True, 'enabled': True, 'focusable': True, 'focused': False, 'scrollable': False, 'long-clickable': False, 'password': False, 'selected': False, 'bounds': [210, 499, 1047, 658], 'id': 23, 'children-id': [24]} \n",
      "\n",
      "android.view.View\n",
      "{'text': 'BREAKING: NBC News / MSNBC concedes that Zelensky’s goal of retaking Crimea is unrealistic and dangerous.', 'resource-id': '', 'class': 'android.view.View', 'package': 'com.twitter.android', 'content-desc': '', 'checkable': False, 'checked': False, 'clickable': True, 'enabled': True, 'focusable': True, 'focused': False, 'scrollable': False, 'long-clickable': False, 'password': False, 'selected': False, 'bounds': [210, 499, 1047, 658], 'id': 24, 'leaf-id': 9, 'caption': '<unk> <unk> <unk> <unk> <unk> <unk> <unk> <unk> <unk> <unk> <unk> <unk> <unk> <unk>', 'icon-cls': None, 'description': 'BREAKING: NBC News / MSNBC concedes that Zelensky’s goal of retaking Crimea is unrealistic and dangerous.'} \n",
      "\n",
      "android.view.View\n",
      "{'text': '', 'resource-id': 'com.twitter.android:id/tweet_connector_bottom', 'class': 'android.view.View', 'package': 'com.twitter.android', 'content-desc': '', 'checkable': False, 'checked': False, 'clickable': True, 'enabled': True, 'focusable': False, 'focused': False, 'scrollable': False, 'long-clickable': False, 'password': False, 'selected': False, 'bounds': [105, 607, 111, 1324], 'id': 25, 'leaf-id': 10, 'caption': 'loading', 'icon-cls': None, 'description': 'loading'} \n",
      "\n",
      "android.widget.FrameLayout\n",
      "{'text': '', 'resource-id': 'com.twitter.android:id/player', 'class': 'android.widget.FrameLayout', 'package': 'com.twitter.android', 'content-desc': '', 'checkable': False, 'checked': False, 'clickable': True, 'enabled': True, 'focusable': True, 'focused': False, 'scrollable': False, 'long-clickable': False, 'password': False, 'selected': False, 'bounds': [210, 677, 1047, 1148], 'id': 26, 'children-id': [27, 29]} \n",
      "\n",
      "android.view.ViewGroup\n",
      "{'text': '', 'resource-id': '', 'class': 'android.view.ViewGroup', 'package': 'com.twitter.android', 'content-desc': '', 'checkable': False, 'checked': False, 'clickable': True, 'enabled': True, 'focusable': False, 'focused': False, 'scrollable': False, 'long-clickable': False, 'password': False, 'selected': False, 'bounds': [210, 677, 1047, 1148], 'id': 27, 'children-id': [28]} \n",
      "\n",
      "ddw\n",
      "{'text': '', 'resource-id': '', 'class': 'ddw', 'package': 'com.twitter.android', 'content-desc': '', 'checkable': False, 'checked': False, 'clickable': True, 'enabled': True, 'focusable': False, 'focused': False, 'scrollable': False, 'long-clickable': False, 'password': False, 'selected': False, 'bounds': [210, 677, 1047, 1148], 'id': 28, 'leaf-id': 11, 'caption': 'thumbnail', 'icon-cls': None, 'description': 'thumbnail'} \n",
      "\n",
      "android.view.ViewGroup\n",
      "{'text': '', 'resource-id': '', 'class': 'android.view.ViewGroup', 'package': 'com.twitter.android', 'content-desc': '', 'checkable': False, 'checked': False, 'clickable': True, 'enabled': True, 'focusable': False, 'focused': False, 'scrollable': False, 'long-clickable': False, 'password': False, 'selected': False, 'bounds': [210, 677, 1047, 1148], 'id': 29, 'children-id': [30, 31]} \n",
      "\n",
      "android.view.View\n",
      "{'text': '', 'resource-id': '', 'class': 'android.view.View', 'package': 'com.twitter.android', 'content-desc': '', 'checkable': False, 'checked': False, 'clickable': True, 'enabled': True, 'focusable': False, 'focused': False, 'scrollable': False, 'long-clickable': False, 'password': False, 'selected': False, 'bounds': [254, 721, 1003, 1104], 'id': 30, 'leaf-id': 12, 'caption': 'http mediacms01 digiturkplay com int play mobil andro <unk> <unk> <unk> <unk> <unk> <unk>', 'icon-cls': None, 'description': None} \n",
      "\n",
      "android.widget.FrameLayout\n",
      "{'text': '', 'resource-id': 'com.twitter.android:id/audio_toggle_view', 'class': 'android.widget.FrameLayout', 'package': 'com.twitter.android', 'content-desc': '', 'checkable': False, 'checked': False, 'clickable': True, 'enabled': True, 'focusable': True, 'focused': False, 'scrollable': False, 'long-clickable': False, 'password': False, 'selected': False, 'bounds': [942, 1054, 1014, 1126], 'id': 31, 'children-id': [32]} \n",
      "\n",
      "android.widget.ImageView\n",
      "{'text': '', 'resource-id': 'com.twitter.android:id/audio_toggle_icon', 'class': 'android.widget.ImageView', 'package': 'com.twitter.android', 'content-desc': 'Unmute audio', 'checkable': False, 'checked': False, 'clickable': True, 'enabled': True, 'focusable': False, 'focused': False, 'scrollable': False, 'long-clickable': False, 'password': False, 'selected': False, 'bounds': [959, 1071, 997, 1109], 'id': 32, 'leaf-id': 13, 'caption': 'navigate up', 'icon-cls': None, 'description': 'Unmute audio'} \n",
      "\n",
      "android.widget.TextView\n",
      "{'text': '1.5M views', 'resource-id': 'com.twitter.android:id/view_counts', 'class': 'android.widget.TextView', 'package': 'com.twitter.android', 'content-desc': '', 'checkable': False, 'checked': False, 'clickable': True, 'enabled': True, 'focusable': False, 'focused': False, 'scrollable': False, 'long-clickable': False, 'password': False, 'selected': False, 'bounds': [210, 1170, 385, 1214], 'id': 33, 'leaf-id': 14, 'caption': 'logo', 'icon-cls': None, 'description': '1.5M views'} \n",
      "\n",
      "android.widget.TextView\n",
      "{'text': '•', 'resource-id': 'com.twitter.android:id/divider_interpunct', 'class': 'android.widget.TextView', 'package': 'com.twitter.android', 'content-desc': '', 'checkable': False, 'checked': False, 'clickable': True, 'enabled': True, 'focusable': False, 'focused': False, 'scrollable': False, 'long-clickable': False, 'password': False, 'selected': False, 'bounds': [385, 1170, 422, 1214], 'id': 34, 'leaf-id': 15, 'caption': 'more', 'icon-cls': None, 'description': '•'} \n",
      "\n"
     ]
    },
    {
     "name": "stdout",
     "output_type": "stream",
     "text": [
      "android.widget.RelativeLayout\n",
      "{'text': '', 'resource-id': 'com.twitter.android:id/site_user', 'class': 'android.widget.RelativeLayout', 'package': 'com.twitter.android', 'content-desc': '', 'checkable': False, 'checked': False, 'clickable': True, 'enabled': True, 'focusable': True, 'focused': False, 'scrollable': False, 'long-clickable': False, 'password': False, 'selected': False, 'bounds': [422, 1170, 896, 1214], 'id': 35, 'children-id': [36, 37]} \n",
      "\n",
      "android.widget.TextView\n",
      "{'text': 'From', 'resource-id': 'com.twitter.android:id/default_text', 'class': 'android.widget.TextView', 'package': 'com.twitter.android', 'content-desc': '', 'checkable': False, 'checked': False, 'clickable': True, 'enabled': True, 'focusable': False, 'focused': False, 'scrollable': False, 'long-clickable': False, 'password': False, 'selected': False, 'bounds': [425, 1170, 507, 1214], 'id': 36, 'leaf-id': 16, 'caption': 'choose stream', 'icon-cls': None, 'description': 'From'} \n",
      "\n"
     ]
    }
   ],
   "source": [
    "gui.show_each_element(only_leaves=False)"
   ]
  },
  {
   "cell_type": "markdown",
   "id": "bdbe9cb8",
   "metadata": {},
   "source": [
    "## Load automator"
   ]
  },
  {
   "cell_type": "code",
   "execution_count": 3,
   "id": "dec4afb5",
   "metadata": {},
   "outputs": [
    {
     "name": "stdout",
     "output_type": "stream",
     "text": [
      "*** Asking ***\n",
      " You are a mobile virtual assistant that understands and interacts with the user interface to complete given task. \n",
      " This is a code snippet that descript a part of UI, summarize its functionalities in one paragraph.\n",
      "{'resource-id': 'twitter.android:id/toolbar', 'class': 'view.ViewGroup', 'clickable': True, 'id': 2, 'children': [{'class': 'widget.ImageButton', 'clickable': True, 'id': 3, 'description': 'Show navigation drawer'}, {'resource-id': 'twitter.android:id/logo', 'class': 'widget.ImageView', 'clickable': True, 'id': 4, 'description': 'twitter'}]}\n",
      "\n",
      "*** Answer ***\n",
      " {\n",
      "  \"content\": \"This UI element is a toolbar that belongs to the Twitter Android application. It consists of an image button and an image view which correspond to the navigation drawer and the Twitter logo, respectively. The toolbar is clickable and can be used to access the navigation drawer or to return to the home screen. Additionally, the Twitter logo may serve as a link to the Twitter profile or homepage. Overall, the toolbar provides a simple and convenient way for users to quickly access important features of the Twitter app.\",\n",
      "  \"role\": \"assistant\"\n",
      "}\n",
      "*** Asking ***\n",
      " You are a mobile virtual assistant that understands and interacts with the user interface to complete given task. \n",
      " This is a code snippet that descript a part of UI, summarize its functionalities in one paragraph.\n",
      "{'resource-id': 'twitter.android:id/pager', 'class': 'androidx.viewpager.widget.ViewPager', 'clickable': False, 'id': 5, 'children': [{'resource-id': 'twitter.android:id/view_pager', 'class': 'androidx.viewpager.widget.ViewPager', 'clickable': False, 'id': 6, 'children': [{'resource-id': 'twitter.android:id/tab_layout', 'class': 'widget.HorizontalScrollView', 'clickable': False, 'id': 7, 'children': [{'class': 'widget.TextView', 'clickable': False, 'id': 8, 'description': 'For you'}, {'class': 'widget.LinearLayout', 'clickable': True, 'id': 9, 'children': [{'class': 'widget.TextView', 'clickable': True, 'id': 10, 'description': 'Following'}]}]}, {'resource-id': 'twitter.android:id/nested_coordinator_layout', 'class': 'widget.ScrollView', 'clickable': False, 'id': 11, 'children': [{'class': 'view.ViewGroup', 'clickable': False, 'id': 12, 'children': [{'resource-id': 'android:id/list', 'class': 'androidx.recyclerview.widget.RecyclerView', 'clickable': False, 'id': 13, 'children': [{'class': 'view.ViewGroup', 'clickable': True, 'id': 14, 'children': [{'resource-id': 'twitter.android:id/row', 'class': 'view.ViewGroup', 'clickable': True, 'id': 15, 'children': [{'resource-id': 'twitter.android:id/social_context_badge', 'class': 'widget.ImageView', 'clickable': True, 'id': 16, 'description': 'chat'}, {'resource-id': 'twitter.android:id/tweet_social_context', 'class': 'view.ViewGroup', 'clickable': True, 'id': 17, 'children': [{'resource-id': 'twitter.android:id/social_context_text', 'class': 'widget.TextView', 'clickable': True, 'id': 18, 'description': 'Elon Musk replied'}]}, {'resource-id': 'twitter.android:id/tweet_profile_image', 'class': 'widget.FrameLayout', 'clickable': True, 'id': 19, 'children': [{'class': 'widget.ImageView', 'clickable': True, 'id': 20, 'description': 'avatar'}]}, {'resource-id': 'twitter.android:id/tweet_header', 'class': 'view.ViewGroup', 'clickable': True, 'id': 21}, {'resource-id': 'twitter.android:id/tweet_curation_action', 'class': 'widget.ImageView', 'clickable': True, 'id': 22, 'description': 'more'}, {'resource-id': 'twitter.android:id/tweet_content_text', 'class': 'view.View', 'clickable': True, 'id': 23, 'children': [{'class': 'view.View', 'clickable': True, 'id': 24, 'description': 'BREAKING: NBC News / MSNBC concedes that Zelensky’s goal of retaking Crimea is unrealistic and dangerous.'}]}, {'resource-id': 'twitter.android:id/tweet_connector_bottom', 'class': 'view.View', 'clickable': True, 'id': 25, 'description': 'loading'}, {'resource-id': 'twitter.android:id/player', 'class': 'widget.FrameLayout', 'clickable': True, 'id': 26, 'children': [{'class': 'view.ViewGroup', 'clickable': True, 'id': 27, 'children': [{'class': 'ddw', 'clickable': True, 'id': 28, 'description': 'thumbnail'}]}, {'class': 'view.ViewGroup', 'clickable': True, 'id': 29, 'children': [{'class': 'view.View', 'clickable': True, 'id': 30}, {'resource-id': 'twitter.android:id/audio_toggle_view', 'class': 'widget.FrameLayout', 'clickable': True, 'id': 31, 'children': [{'resource-id': 'twitter.android:id/audio_toggle_icon', 'class': 'widget.ImageView', 'clickable': True, 'id': 32, 'description': 'Unmute audio'}]}]}]}, {'resource-id': 'twitter.android:id/view_counts', 'class': 'widget.TextView', 'clickable': True, 'id': 33, 'description': '1.5M views'}, {'resource-id': 'twitter.android:id/divider_interpunct', 'class': 'widget.TextView', 'clickable': True, 'id': 34, 'description': '•'}, {'resource-id': 'twitter.android:id/site_user', 'class': 'widget.RelativeLayout', 'clickable': True, 'id': 35, 'children': [{'resource-id': 'twitter.android:id/default_text', 'class': 'widget.TextView', 'clickable': True, 'id': 36, 'description': 'From'}, {'resource-id': 'twitter.android:id/screenname_item', 'class': 'widget.TextView', 'clickable': True, 'id': 37, 'description': 'kanekoa.substack.com'}]}, {'class': 'view.ViewGroup', 'clickable': True, 'id': 38, 'children': [{'resource-id': 'twitter.android:id/inline_reply', 'class': 'view.ViewGroup', 'clickable': True, 'id': 39, 'children': [{'resource-id': 'twitter.android:id/inline_action_item_icon', 'class': 'widget.ImageView', 'clickable': True, 'id': 40, 'description': 'chat'}, {'class': 'widget.TextView', 'clickable': True, 'id': 41, 'description': '1,391'}]}, {'resource-id': 'twitter.android:id/inline_retweet', 'class': 'view.ViewGroup', 'clickable': True, 'id': 42, 'children': [{'resource-id': 'twitter.android:id/inline_action_item_icon', 'class': 'widget.ImageView', 'clickable': True, 'id': 43, 'description': 'switch direction'}, {'class': 'widget.TextView', 'clickable': True, 'id': 44, 'description': '3,083'}]}, {'resource-id': 'twitter.android:id/inline_like', 'class': 'view.ViewGroup', 'clickable': True, 'id': 45, 'children': [{'resource-id': 'twitter.android:id/inline_action_item_icon', 'class': 'widget.ImageView', 'clickable': True, 'id': 46, 'description': 'favorite'}, {'class': 'widget.TextView', 'clickable': True, 'id': 47, 'description': '14.5K'}]}, {'resource-id': 'twitter.android:id/inline_view_count', 'class': 'view.ViewGroup', 'clickable': True, 'id': 48, 'children': [{'resource-id': 'twitter.android:id/inline_action_item_icon', 'class': 'widget.ImageView', 'clickable': True, 'id': 49, 'description': 'settings'}, {'class': 'widget.TextView', 'clickable': True, 'id': 50, 'description': '4.8M'}]}, {'resource-id': 'twitter.android:id/inline_twitter_share', 'class': 'view.ViewGroup', 'clickable': True, 'id': 51, 'children': [{'resource-id': 'twitter.android:id/inline_action_item_icon', 'class': 'widget.ImageView', 'clickable': True, 'id': 52, 'description': 'share'}]}]}]}]}, {'class': 'view.ViewGroup', 'clickable': True, 'id': 53, 'children': [{'resource-id': 'twitter.android:id/row', 'class': 'view.ViewGroup', 'clickable': True, 'id': 54, 'children': [{'resource-id': 'twitter.android:id/tweet_connector_top', 'class': 'view.View', 'clickable': True, 'id': 55, 'description': 'search'}, {'resource-id': 'twitter.android:id/tweet_profile_image', 'class': 'widget.FrameLayout', 'clickable': True, 'id': 56, 'children': [{'class': 'widget.ImageView', 'clickable': True, 'id': 57, 'description': 'avatar'}]}, {'resource-id': 'twitter.android:id/tweet_header', 'class': 'view.ViewGroup', 'clickable': True, 'id': 58}, {'resource-id': 'twitter.android:id/tweet_curation_action', 'class': 'widget.ImageView', 'clickable': True, 'id': 59, 'description': 'more'}, {'resource-id': 'twitter.android:id/tweet_content_text', 'class': 'view.View', 'clickable': True, 'id': 60, 'children': [{'class': 'view.View', 'clickable': True, 'id': 61, 'description': 'Accurate'}]}, {'class': 'view.ViewGroup', 'clickable': True, 'id': 62, 'children': [{'resource-id': 'twitter.android:id/inline_reply', 'class': 'view.ViewGroup', 'clickable': True, 'id': 63, 'children': [{'resource-id': 'twitter.android:id/inline_action_item_icon', 'class': 'widget.ImageView', 'clickable': True, 'id': 64, 'description': 'chat'}, {'class': 'widget.TextView', 'clickable': True, 'id': 65, 'description': '1,086'}]}, {'resource-id': 'twitter.android:id/inline_retweet', 'class': 'view.ViewGroup', 'clickable': True, 'id': 66, 'children': [{'resource-id': 'twitter.android:id/inline_action_item_icon', 'class': 'widget.ImageView', 'clickable': True, 'id': 67, 'description': 'switch direction'}, {'class': 'widget.TextView', 'clickable': True, 'id': 68, 'description': '717'}]}, {'resource-id': 'twitter.android:id/inline_like', 'class': 'view.ViewGroup', 'clickable': True, 'id': 69, 'children': [{'resource-id': 'twitter.android:id/inline_action_item_icon', 'class': 'widget.ImageView', 'clickable': True, 'id': 70, 'description': 'favorite'}, {'class': 'widget.TextView', 'clickable': True, 'id': 71, 'description': '14.6K'}]}, {'resource-id': 'twitter.android:id/inline_view_count', 'class': 'view.ViewGroup', 'clickable': True, 'id': 72, 'children': [{'resource-id': 'twitter.android:id/inline_action_item_icon', 'class': 'widget.ImageView', 'clickable': True, 'id': 73, 'description': 'settings'}, {'class': 'widget.TextView', 'clickable': True, 'id': 74, 'description': '2.6M'}]}, {'resource-id': 'twitter.android:id/inline_twitter_share', 'class': 'view.ViewGroup', 'clickable': True, 'id': 75, 'children': [{'resource-id': 'twitter.android:id/inline_action_item_icon', 'class': 'widget.ImageView', 'clickable': True, 'id': 76, 'description': 'share'}]}]}]}]}, {'class': 'view.ViewGroup', 'clickable': True, 'id': 77, 'children': [{'resource-id': 'twitter.android:id/row', 'class': 'view.ViewGroup', 'clickable': True, 'id': 78, 'children': [{'resource-id': 'twitter.android:id/tweet_profile_image', 'class': 'widget.FrameLayout', 'clickable': True, 'id': 79, 'children': [{'class': 'widget.ImageView', 'clickable': True, 'id': 80, 'description': 'avatar'}]}, {'resource-id': 'twitter.android:id/tweet_header', 'class': 'view.ViewGroup', 'clickable': True, 'id': 81}, {'resource-id': 'twitter.android:id/tweet_curation_action', 'class': 'widget.ImageView', 'clickable': True, 'id': 82, 'description': 'more'}, {'resource-id': 'twitter.android:id/tweet_content_text', 'class': 'view.View', 'clickable': True, 'id': 83, 'children': [{'class': 'view.View', 'clickable': True, 'id': 84, 'description': \"LET'S CATCH A CEREAL KILLER BEFORE IT'S TOO LATE.\\nYou've made it through Harvest. Now is the time to test, plan ahead and manage your crown rot risk for 2023.\"}]}, {'class': 'widget.FrameLayout', 'clickable': True, 'id': 85, 'children': [{'class': 'widget.FrameLayout', 'clickable': True, 'id': 86, 'children': [{'resource-id': 'twitter.android:id/video_container', 'class': 'widget.FrameLayout', 'clickable': True, 'id': 87, 'children': [{'class': 'view.ViewGroup', 'clickable': True, 'id': 88, 'description': 'splashscreen'}, {'class': 'view.ViewGroup', 'clickable': True, 'id': 89, 'children': [{'class': 'widget.ImageView', 'clickable': True, 'id': 90, 'description': 'splashscreen'}]}, {'class': 'view.ViewGroup', 'clickable': True, 'id': 91, 'children': [{'class': 'view.View', 'clickable': True, 'id': 92, 'description': 'splashscreen'}]}]}]}]}]}]}]}]}]}]}]}\n"
     ]
    },
    {
     "name": "stdout",
     "output_type": "stream",
     "text": [
      "\n",
      "*** Answer ***\n",
      " {\n",
      "  \"content\": \"This code snippet describes a part of the Twitter app's UI that displays a feed of tweets. The feed is positioned within a ViewPager and can be scrolled horizontally between two tabs: \\\"For you\\\" and \\\"Following\\\". Each tweet in the feed is displayed as a row and includes the tweet author's avatar, screen name, tweet text, and information on the tweet's engagement (replies, retweets, likes, views, and shares). Users can interact with each tweet row using buttons to reply, retweet, like, view counts, and share the tweet. Additionally, tweet rows may include embedded media (such as videos).\",\n",
      "  \"role\": \"assistant\"\n",
      "}\n",
      "*** Asking ***\n",
      " You are a mobile virtual assistant that understands and interacts with the user interface to complete given task. \n",
      " This is a code snippet that descript a part of UI, summarize its functionalities in one paragraph.\n",
      "{'class': 'view.ViewGroup', 'clickable': False, 'id': 93, 'children': [{'resource-id': 'twitter.android:id/composer_write', 'class': 'widget.ImageButton', 'clickable': True, 'id': 94, 'description': 'New Tweet'}]}\n",
      "\n",
      "*** Answer ***\n",
      " {\n",
      "  \"content\": \"This code snippet defines a user interface element of a Twitter app that represents the 'New Tweet' button. The element is of the type 'widget.ImageButton' and its resource-id is 'twitter.android:id/composer_write'. When clicked, it triggers the functionality for the user to start composing a new tweet. This element is contained within a parent layout of the type 'view.ViewGroup', and has an ID of 93.\",\n",
      "  \"role\": \"assistant\"\n",
      "}\n",
      "*** Asking ***\n",
      " You are a mobile virtual assistant that understands and interacts with the user interface to complete given task. \n",
      " This is a code snippet that descript a part of UI, summarize its functionalities in one paragraph.\n",
      "{'resource-id': 'twitter.android:id/tabs', 'class': 'widget.HorizontalScrollView', 'clickable': False, 'id': 95, 'children': [{'resource-id': 'twitter.android:id/channels', 'class': 'view.View', 'clickable': False, 'id': 96}, {'class': 'widget.LinearLayout', 'clickable': True, 'id': 97, 'children': [{'class': 'view.View', 'clickable': True, 'id': 98, 'description': 'search'}]}, {'class': 'widget.LinearLayout', 'clickable': True, 'id': 99, 'children': [{'resource-id': 'twitter.android:id/spaces', 'class': 'view.View', 'clickable': True, 'id': 100}]}, {'class': 'widget.LinearLayout', 'clickable': True, 'id': 101, 'children': [{'resource-id': 'twitter.android:id/notifications', 'class': 'view.View', 'clickable': True, 'id': 102, 'description': 'notifications'}]}, {'class': 'widget.LinearLayout', 'clickable': True, 'id': 103, 'children': [{'resource-id': 'twitter.android:id/dms', 'class': 'view.View', 'clickable': True, 'id': 104, 'description': 'email'}]}]}\n",
      "\n",
      "*** Answer ***\n",
      " {\n",
      "  \"content\": \"This code snippet describes a part of a UI for the Twitter Android app, which includes various clickable options in a horizontal scroll view. The options include channels, a search function, spaces, notifications, and direct messages. Clicking on any of these options would perform specific actions within the app, such as displaying certain channels or opening the notifications tab.\",\n",
      "  \"role\": \"assistant\"\n",
      "}\n"
     ]
    }
   ],
   "source": [
    "from Automator import Automator\n",
    "aut = Automator(gui)\n",
    "aut.generate_descriptions_for_blocks()"
   ]
  },
  {
   "cell_type": "code",
   "execution_count": 4,
   "id": "c8cee39a",
   "metadata": {},
   "outputs": [
    {
     "data": {
      "text/plain": [
       "['This UI element is a toolbar that belongs to the Twitter Android application. It consists of an image button and an image view which correspond to the navigation drawer and the Twitter logo, respectively. The toolbar is clickable and can be used to access the navigation drawer or to return to the home screen. Additionally, the Twitter logo may serve as a link to the Twitter profile or homepage. Overall, the toolbar provides a simple and convenient way for users to quickly access important features of the Twitter app.',\n",
       " 'This code snippet describes a part of the Twitter app\\'s UI that displays a feed of tweets. The feed is positioned within a ViewPager and can be scrolled horizontally between two tabs: \"For you\" and \"Following\". Each tweet in the feed is displayed as a row and includes the tweet author\\'s avatar, screen name, tweet text, and information on the tweet\\'s engagement (replies, retweets, likes, views, and shares). Users can interact with each tweet row using buttons to reply, retweet, like, view counts, and share the tweet. Additionally, tweet rows may include embedded media (such as videos).',\n",
       " \"This code snippet defines a user interface element of a Twitter app that represents the 'New Tweet' button. The element is of the type 'widget.ImageButton' and its resource-id is 'twitter.android:id/composer_write'. When clicked, it triggers the functionality for the user to start composing a new tweet. This element is contained within a parent layout of the type 'view.ViewGroup', and has an ID of 93.\",\n",
       " 'This code snippet describes a part of a UI for the Twitter Android app, which includes various clickable options in a horizontal scroll view. The options include channels, a search function, spaces, notifications, and direct messages. Clicking on any of these options would perform specific actions within the app, such as displaying certain channels or opening the notifications tab.']"
      ]
     },
     "execution_count": 4,
     "metadata": {},
     "output_type": "execute_result"
    }
   ],
   "source": [
    "aut.block_description"
   ]
  },
  {
   "cell_type": "code",
   "execution_count": 5,
   "id": "50c3f038",
   "metadata": {},
   "outputs": [
    {
     "name": "stdout",
     "output_type": "stream",
     "text": [
      "*** Asking ***\n",
      " [{'role': 'system', 'content': 'You are a mobile virtual assistant that understands and interacts with the user interface to complete given task.'}, {'role': 'user', 'content': 'I will give you a list of blocks in the UI, is any of them related to the task \"log out current user\"? If yes, which block is the most related to complete the task?\\n[Block 0:This UI element is a toolbar that belongs to the Twitter Android application. It consists of an image button and an image view which correspond to the navigation drawer and the Twitter logo, respectively. The toolbar is clickable and can be used to access the navigation drawer or to return to the home screen. Additionally, the Twitter logo may serve as a link to the Twitter profile or homepage. Overall, the toolbar provides a simple and convenient way for users to quickly access important features of the Twitter app.\\n[Block 1:This code snippet describes a part of the Twitter app\\'s UI that displays a feed of tweets. The feed is positioned within a ViewPager and can be scrolled horizontally between two tabs: \"For you\" and \"Following\". Each tweet in the feed is displayed as a row and includes the tweet author\\'s avatar, screen name, tweet text, and information on the tweet\\'s engagement (replies, retweets, likes, views, and shares). Users can interact with each tweet row using buttons to reply, retweet, like, view counts, and share the tweet. Additionally, tweet rows may include embedded media (such as videos).\\n[Block 2:This code snippet defines a user interface element of a Twitter app that represents the \\'New Tweet\\' button. The element is of the type \\'widget.ImageButton\\' and its resource-id is \\'twitter.android:id/composer_write\\'. When clicked, it triggers the functionality for the user to start composing a new tweet. This element is contained within a parent layout of the type \\'view.ViewGroup\\', and has an ID of 93.\\n[Block 3:This code snippet describes a part of a UI for the Twitter Android app, which includes various clickable options in a horizontal scroll view. The options include channels, a search function, spaces, notifications, and direct messages. Clicking on any of these options would perform specific actions within the app, such as displaying certain channels or opening the notifications tab.\\n\\n Just ask [Yes, Block id] if any block is related or [No] if not.'}]\n"
     ]
    },
    {
     "ename": "InvalidRequestError",
     "evalue": "[{'role': 'system', 'content': 'You are a mobile virtual assistant that understands and interacts with the user interface to complete given task.'}, {'role': 'user', 'content': 'I will give you a list of blocks in the UI, is any of them related to the task \"log out current user\"? If yes, which block is the most related to complete the task?\\n[Block 0:This UI element is a toolbar that belongs to the Twitter Android application. It consists of an image button and an image view which correspond to the navigation drawer and the Twitter logo, respectively. The toolbar is clickable and can be used to access the navigation drawer or to return to the home screen. Additionally, the Twitter logo may serve as a link to the Twitter profile or homepage. Overall, the toolbar provides a simple and convenient way for users to quickly access important features of the Twitter app.\\n[Block 1:This code snippet describes a part of the Twitter app\\'s UI that displays a feed of tweets. The feed is positioned within a ViewPager and can be scrolled horizontally between two tabs: \"For you\" and \"Following\". Each tweet in the feed is displayed as a row and includes the tweet author\\'s avatar, screen name, tweet text, and information on the tweet\\'s engagement (replies, retweets, likes, views, and shares). Users can interact with each tweet row using buttons to reply, retweet, like, view counts, and share the tweet. Additionally, tweet rows may include embedded media (such as videos).\\n[Block 2:This code snippet defines a user interface element of a Twitter app that represents the \\'New Tweet\\' button. The element is of the type \\'widget.ImageButton\\' and its resource-id is \\'twitter.android:id/composer_write\\'. When clicked, it triggers the functionality for the user to start composing a new tweet. This element is contained within a parent layout of the type \\'view.ViewGroup\\', and has an ID of 93.\\n[Block 3:This code snippet describes a part of a UI for the Twitter Android app, which includes various clickable options in a horizontal scroll view. The options include channels, a search function, spaces, notifications, and direct messages. Clicking on any of these options would perform specific actions within the app, such as displaying certain channels or opening the notifications tab.\\n\\n Just ask [Yes, Block id] if any block is related or [No] if not.'}] is not of type 'object' - 'messages.0'",
     "output_type": "error",
     "traceback": [
      "\u001b[1;31m---------------------------------------------------------------------------\u001b[0m",
      "\u001b[1;31mInvalidRequestError\u001b[0m                       Traceback (most recent call last)",
      "Cell \u001b[1;32mIn[5], line 1\u001b[0m\n\u001b[1;32m----> 1\u001b[0m \u001b[43maut\u001b[49m\u001b[38;5;241;43m.\u001b[39;49m\u001b[43mtarget_block_identification\u001b[49m\u001b[43m(\u001b[49m\u001b[38;5;124;43m'\u001b[39;49m\u001b[38;5;124;43mlog out current user\u001b[39;49m\u001b[38;5;124;43m'\u001b[39;49m\u001b[43m)\u001b[49m\n",
      "File \u001b[1;32mC:\\Mulong\\Code\\UI-Automation\\Automator.py:39\u001b[0m, in \u001b[0;36mAutomator.target_block_identification\u001b[1;34m(self, task)\u001b[0m\n\u001b[0;32m     37\u001b[0m prompt \u001b[38;5;241m+\u001b[39m\u001b[38;5;241m=\u001b[39m \u001b[38;5;124m'\u001b[39m\u001b[38;5;130;01m\\n\u001b[39;00m\u001b[38;5;124m Just ask [Yes, Block id] if any block is related or [No] if not.\u001b[39m\u001b[38;5;124m'\u001b[39m\n\u001b[0;32m     38\u001b[0m \u001b[38;5;28mself\u001b[39m\u001b[38;5;241m.\u001b[39mconversation\u001b[38;5;241m.\u001b[39mappend({\u001b[38;5;124m'\u001b[39m\u001b[38;5;124mrole\u001b[39m\u001b[38;5;124m'\u001b[39m: \u001b[38;5;124m'\u001b[39m\u001b[38;5;124muser\u001b[39m\u001b[38;5;124m'\u001b[39m, \u001b[38;5;124m'\u001b[39m\u001b[38;5;124mcontent\u001b[39m\u001b[38;5;124m'\u001b[39m: prompt})\n\u001b[1;32m---> 39\u001b[0m \u001b[38;5;28mself\u001b[39m\u001b[38;5;241m.\u001b[39mconversation\u001b[38;5;241m.\u001b[39mappend(\u001b[38;5;28;43mself\u001b[39;49m\u001b[38;5;241;43m.\u001b[39;49m\u001b[43mask_openai_conversation\u001b[49m\u001b[43m(\u001b[49m\u001b[43m)\u001b[49m)\n\u001b[0;32m     40\u001b[0m \u001b[38;5;28mself\u001b[39m\u001b[38;5;241m.\u001b[39mblock_identification \u001b[38;5;241m=\u001b[39m \u001b[38;5;28mself\u001b[39m\u001b[38;5;241m.\u001b[39mconversation[\u001b[38;5;241m-\u001b[39m\u001b[38;5;241m1\u001b[39m][\u001b[38;5;124m'\u001b[39m\u001b[38;5;124mcontent\u001b[39m\u001b[38;5;124m'\u001b[39m]\n",
      "File \u001b[1;32mC:\\Mulong\\Code\\UI-Automation\\Automator.py:65\u001b[0m, in \u001b[0;36mAutomator.ask_openai_conversation\u001b[1;34m(self, conversation)\u001b[0m\n\u001b[0;32m     63\u001b[0m \u001b[38;5;28;01mif\u001b[39;00m \u001b[38;5;129;01mnot\u001b[39;00m conversation: conversation \u001b[38;5;241m=\u001b[39m \u001b[38;5;28mself\u001b[39m\u001b[38;5;241m.\u001b[39mconversation\n\u001b[0;32m     64\u001b[0m \u001b[38;5;28mprint\u001b[39m(\u001b[38;5;124m'\u001b[39m\u001b[38;5;124m*** Asking ***\u001b[39m\u001b[38;5;130;01m\\n\u001b[39;00m\u001b[38;5;124m'\u001b[39m, conversation)\n\u001b[1;32m---> 65\u001b[0m resp \u001b[38;5;241m=\u001b[39m \u001b[43mopenai\u001b[49m\u001b[38;5;241;43m.\u001b[39;49m\u001b[43mChatCompletion\u001b[49m\u001b[38;5;241;43m.\u001b[39;49m\u001b[43mcreate\u001b[49m\u001b[43m(\u001b[49m\n\u001b[0;32m     66\u001b[0m \u001b[43m        \u001b[49m\u001b[43mmodel\u001b[49m\u001b[38;5;241;43m=\u001b[39;49m\u001b[38;5;124;43m\"\u001b[39;49m\u001b[38;5;124;43mgpt-3.5-turbo\u001b[39;49m\u001b[38;5;124;43m\"\u001b[39;49m\u001b[43m,\u001b[49m\n\u001b[0;32m     67\u001b[0m \u001b[43m        \u001b[49m\u001b[43mmessages\u001b[49m\u001b[38;5;241;43m=\u001b[39;49m\u001b[43m[\u001b[49m\n\u001b[0;32m     68\u001b[0m \u001b[43m            \u001b[49m\u001b[43mconversation\u001b[49m\n\u001b[0;32m     69\u001b[0m \u001b[43m        \u001b[49m\u001b[43m]\u001b[49m\n\u001b[0;32m     70\u001b[0m \u001b[43m    \u001b[49m\u001b[43m)\u001b[49m\n\u001b[0;32m     71\u001b[0m \u001b[38;5;28mprint\u001b[39m(\u001b[38;5;124m'\u001b[39m\u001b[38;5;130;01m\\n\u001b[39;00m\u001b[38;5;124m*** Answer ***\u001b[39m\u001b[38;5;130;01m\\n\u001b[39;00m\u001b[38;5;124m'\u001b[39m, resp[\u001b[38;5;124m'\u001b[39m\u001b[38;5;124mchoices\u001b[39m\u001b[38;5;124m'\u001b[39m][\u001b[38;5;241m0\u001b[39m]\u001b[38;5;241m.\u001b[39mmessage)\n\u001b[0;32m     72\u001b[0m \u001b[38;5;28;01mreturn\u001b[39;00m resp[\u001b[38;5;124m'\u001b[39m\u001b[38;5;124mchoices\u001b[39m\u001b[38;5;124m'\u001b[39m][\u001b[38;5;241m0\u001b[39m]\u001b[38;5;241m.\u001b[39mmessage\n",
      "File \u001b[1;32m~\\AppData\\Local\\Programs\\Python\\Python310\\lib\\site-packages\\openai\\api_resources\\chat_completion.py:25\u001b[0m, in \u001b[0;36mChatCompletion.create\u001b[1;34m(cls, *args, **kwargs)\u001b[0m\n\u001b[0;32m     23\u001b[0m \u001b[38;5;28;01mwhile\u001b[39;00m \u001b[38;5;28;01mTrue\u001b[39;00m:\n\u001b[0;32m     24\u001b[0m     \u001b[38;5;28;01mtry\u001b[39;00m:\n\u001b[1;32m---> 25\u001b[0m         \u001b[38;5;28;01mreturn\u001b[39;00m \u001b[38;5;28msuper\u001b[39m()\u001b[38;5;241m.\u001b[39mcreate(\u001b[38;5;241m*\u001b[39margs, \u001b[38;5;241m*\u001b[39m\u001b[38;5;241m*\u001b[39mkwargs)\n\u001b[0;32m     26\u001b[0m     \u001b[38;5;28;01mexcept\u001b[39;00m TryAgain \u001b[38;5;28;01mas\u001b[39;00m e:\n\u001b[0;32m     27\u001b[0m         \u001b[38;5;28;01mif\u001b[39;00m timeout \u001b[38;5;129;01mis\u001b[39;00m \u001b[38;5;129;01mnot\u001b[39;00m \u001b[38;5;28;01mNone\u001b[39;00m \u001b[38;5;129;01mand\u001b[39;00m time\u001b[38;5;241m.\u001b[39mtime() \u001b[38;5;241m>\u001b[39m start \u001b[38;5;241m+\u001b[39m timeout:\n",
      "File \u001b[1;32m~\\AppData\\Local\\Programs\\Python\\Python310\\lib\\site-packages\\openai\\api_resources\\abstract\\engine_api_resource.py:153\u001b[0m, in \u001b[0;36mEngineAPIResource.create\u001b[1;34m(cls, api_key, api_base, api_type, request_id, api_version, organization, **params)\u001b[0m\n\u001b[0;32m    127\u001b[0m \u001b[38;5;129m@classmethod\u001b[39m\n\u001b[0;32m    128\u001b[0m \u001b[38;5;28;01mdef\u001b[39;00m \u001b[38;5;21mcreate\u001b[39m(\n\u001b[0;32m    129\u001b[0m     \u001b[38;5;28mcls\u001b[39m,\n\u001b[1;32m   (...)\u001b[0m\n\u001b[0;32m    136\u001b[0m     \u001b[38;5;241m*\u001b[39m\u001b[38;5;241m*\u001b[39mparams,\n\u001b[0;32m    137\u001b[0m ):\n\u001b[0;32m    138\u001b[0m     (\n\u001b[0;32m    139\u001b[0m         deployment_id,\n\u001b[0;32m    140\u001b[0m         engine,\n\u001b[1;32m   (...)\u001b[0m\n\u001b[0;32m    150\u001b[0m         api_key, api_base, api_type, api_version, organization, \u001b[38;5;241m*\u001b[39m\u001b[38;5;241m*\u001b[39mparams\n\u001b[0;32m    151\u001b[0m     )\n\u001b[1;32m--> 153\u001b[0m     response, _, api_key \u001b[38;5;241m=\u001b[39m \u001b[43mrequestor\u001b[49m\u001b[38;5;241;43m.\u001b[39;49m\u001b[43mrequest\u001b[49m\u001b[43m(\u001b[49m\n\u001b[0;32m    154\u001b[0m \u001b[43m        \u001b[49m\u001b[38;5;124;43m\"\u001b[39;49m\u001b[38;5;124;43mpost\u001b[39;49m\u001b[38;5;124;43m\"\u001b[39;49m\u001b[43m,\u001b[49m\n\u001b[0;32m    155\u001b[0m \u001b[43m        \u001b[49m\u001b[43murl\u001b[49m\u001b[43m,\u001b[49m\n\u001b[0;32m    156\u001b[0m \u001b[43m        \u001b[49m\u001b[43mparams\u001b[49m\u001b[38;5;241;43m=\u001b[39;49m\u001b[43mparams\u001b[49m\u001b[43m,\u001b[49m\n\u001b[0;32m    157\u001b[0m \u001b[43m        \u001b[49m\u001b[43mheaders\u001b[49m\u001b[38;5;241;43m=\u001b[39;49m\u001b[43mheaders\u001b[49m\u001b[43m,\u001b[49m\n\u001b[0;32m    158\u001b[0m \u001b[43m        \u001b[49m\u001b[43mstream\u001b[49m\u001b[38;5;241;43m=\u001b[39;49m\u001b[43mstream\u001b[49m\u001b[43m,\u001b[49m\n\u001b[0;32m    159\u001b[0m \u001b[43m        \u001b[49m\u001b[43mrequest_id\u001b[49m\u001b[38;5;241;43m=\u001b[39;49m\u001b[43mrequest_id\u001b[49m\u001b[43m,\u001b[49m\n\u001b[0;32m    160\u001b[0m \u001b[43m        \u001b[49m\u001b[43mrequest_timeout\u001b[49m\u001b[38;5;241;43m=\u001b[39;49m\u001b[43mrequest_timeout\u001b[49m\u001b[43m,\u001b[49m\n\u001b[0;32m    161\u001b[0m \u001b[43m    \u001b[49m\u001b[43m)\u001b[49m\n\u001b[0;32m    163\u001b[0m     \u001b[38;5;28;01mif\u001b[39;00m stream:\n\u001b[0;32m    164\u001b[0m         \u001b[38;5;66;03m# must be an iterator\u001b[39;00m\n\u001b[0;32m    165\u001b[0m         \u001b[38;5;28;01massert\u001b[39;00m \u001b[38;5;129;01mnot\u001b[39;00m \u001b[38;5;28misinstance\u001b[39m(response, OpenAIResponse)\n",
      "File \u001b[1;32m~\\AppData\\Local\\Programs\\Python\\Python310\\lib\\site-packages\\openai\\api_requestor.py:226\u001b[0m, in \u001b[0;36mAPIRequestor.request\u001b[1;34m(self, method, url, params, headers, files, stream, request_id, request_timeout)\u001b[0m\n\u001b[0;32m    205\u001b[0m \u001b[38;5;28;01mdef\u001b[39;00m \u001b[38;5;21mrequest\u001b[39m(\n\u001b[0;32m    206\u001b[0m     \u001b[38;5;28mself\u001b[39m,\n\u001b[0;32m    207\u001b[0m     method,\n\u001b[1;32m   (...)\u001b[0m\n\u001b[0;32m    214\u001b[0m     request_timeout: Optional[Union[\u001b[38;5;28mfloat\u001b[39m, Tuple[\u001b[38;5;28mfloat\u001b[39m, \u001b[38;5;28mfloat\u001b[39m]]] \u001b[38;5;241m=\u001b[39m \u001b[38;5;28;01mNone\u001b[39;00m,\n\u001b[0;32m    215\u001b[0m ) \u001b[38;5;241m-\u001b[39m\u001b[38;5;241m>\u001b[39m Tuple[Union[OpenAIResponse, Iterator[OpenAIResponse]], \u001b[38;5;28mbool\u001b[39m, \u001b[38;5;28mstr\u001b[39m]:\n\u001b[0;32m    216\u001b[0m     result \u001b[38;5;241m=\u001b[39m \u001b[38;5;28mself\u001b[39m\u001b[38;5;241m.\u001b[39mrequest_raw(\n\u001b[0;32m    217\u001b[0m         method\u001b[38;5;241m.\u001b[39mlower(),\n\u001b[0;32m    218\u001b[0m         url,\n\u001b[1;32m   (...)\u001b[0m\n\u001b[0;32m    224\u001b[0m         request_timeout\u001b[38;5;241m=\u001b[39mrequest_timeout,\n\u001b[0;32m    225\u001b[0m     )\n\u001b[1;32m--> 226\u001b[0m     resp, got_stream \u001b[38;5;241m=\u001b[39m \u001b[38;5;28;43mself\u001b[39;49m\u001b[38;5;241;43m.\u001b[39;49m\u001b[43m_interpret_response\u001b[49m\u001b[43m(\u001b[49m\u001b[43mresult\u001b[49m\u001b[43m,\u001b[49m\u001b[43m \u001b[49m\u001b[43mstream\u001b[49m\u001b[43m)\u001b[49m\n\u001b[0;32m    227\u001b[0m     \u001b[38;5;28;01mreturn\u001b[39;00m resp, got_stream, \u001b[38;5;28mself\u001b[39m\u001b[38;5;241m.\u001b[39mapi_key\n",
      "File \u001b[1;32m~\\AppData\\Local\\Programs\\Python\\Python310\\lib\\site-packages\\openai\\api_requestor.py:619\u001b[0m, in \u001b[0;36mAPIRequestor._interpret_response\u001b[1;34m(self, result, stream)\u001b[0m\n\u001b[0;32m    611\u001b[0m     \u001b[38;5;28;01mreturn\u001b[39;00m (\n\u001b[0;32m    612\u001b[0m         \u001b[38;5;28mself\u001b[39m\u001b[38;5;241m.\u001b[39m_interpret_response_line(\n\u001b[0;32m    613\u001b[0m             line, result\u001b[38;5;241m.\u001b[39mstatus_code, result\u001b[38;5;241m.\u001b[39mheaders, stream\u001b[38;5;241m=\u001b[39m\u001b[38;5;28;01mTrue\u001b[39;00m\n\u001b[0;32m    614\u001b[0m         )\n\u001b[0;32m    615\u001b[0m         \u001b[38;5;28;01mfor\u001b[39;00m line \u001b[38;5;129;01min\u001b[39;00m parse_stream(result\u001b[38;5;241m.\u001b[39miter_lines())\n\u001b[0;32m    616\u001b[0m     ), \u001b[38;5;28;01mTrue\u001b[39;00m\n\u001b[0;32m    617\u001b[0m \u001b[38;5;28;01melse\u001b[39;00m:\n\u001b[0;32m    618\u001b[0m     \u001b[38;5;28;01mreturn\u001b[39;00m (\n\u001b[1;32m--> 619\u001b[0m         \u001b[38;5;28;43mself\u001b[39;49m\u001b[38;5;241;43m.\u001b[39;49m\u001b[43m_interpret_response_line\u001b[49m\u001b[43m(\u001b[49m\n\u001b[0;32m    620\u001b[0m \u001b[43m            \u001b[49m\u001b[43mresult\u001b[49m\u001b[38;5;241;43m.\u001b[39;49m\u001b[43mcontent\u001b[49m\u001b[38;5;241;43m.\u001b[39;49m\u001b[43mdecode\u001b[49m\u001b[43m(\u001b[49m\u001b[38;5;124;43m\"\u001b[39;49m\u001b[38;5;124;43mutf-8\u001b[39;49m\u001b[38;5;124;43m\"\u001b[39;49m\u001b[43m)\u001b[49m\u001b[43m,\u001b[49m\n\u001b[0;32m    621\u001b[0m \u001b[43m            \u001b[49m\u001b[43mresult\u001b[49m\u001b[38;5;241;43m.\u001b[39;49m\u001b[43mstatus_code\u001b[49m\u001b[43m,\u001b[49m\n\u001b[0;32m    622\u001b[0m \u001b[43m            \u001b[49m\u001b[43mresult\u001b[49m\u001b[38;5;241;43m.\u001b[39;49m\u001b[43mheaders\u001b[49m\u001b[43m,\u001b[49m\n\u001b[0;32m    623\u001b[0m \u001b[43m            \u001b[49m\u001b[43mstream\u001b[49m\u001b[38;5;241;43m=\u001b[39;49m\u001b[38;5;28;43;01mFalse\u001b[39;49;00m\u001b[43m,\u001b[49m\n\u001b[0;32m    624\u001b[0m \u001b[43m        \u001b[49m\u001b[43m)\u001b[49m,\n\u001b[0;32m    625\u001b[0m         \u001b[38;5;28;01mFalse\u001b[39;00m,\n\u001b[0;32m    626\u001b[0m     )\n",
      "File \u001b[1;32m~\\AppData\\Local\\Programs\\Python\\Python310\\lib\\site-packages\\openai\\api_requestor.py:679\u001b[0m, in \u001b[0;36mAPIRequestor._interpret_response_line\u001b[1;34m(self, rbody, rcode, rheaders, stream)\u001b[0m\n\u001b[0;32m    677\u001b[0m stream_error \u001b[38;5;241m=\u001b[39m stream \u001b[38;5;129;01mand\u001b[39;00m \u001b[38;5;124m\"\u001b[39m\u001b[38;5;124merror\u001b[39m\u001b[38;5;124m\"\u001b[39m \u001b[38;5;129;01min\u001b[39;00m resp\u001b[38;5;241m.\u001b[39mdata\n\u001b[0;32m    678\u001b[0m \u001b[38;5;28;01mif\u001b[39;00m stream_error \u001b[38;5;129;01mor\u001b[39;00m \u001b[38;5;129;01mnot\u001b[39;00m \u001b[38;5;241m200\u001b[39m \u001b[38;5;241m<\u001b[39m\u001b[38;5;241m=\u001b[39m rcode \u001b[38;5;241m<\u001b[39m \u001b[38;5;241m300\u001b[39m:\n\u001b[1;32m--> 679\u001b[0m     \u001b[38;5;28;01mraise\u001b[39;00m \u001b[38;5;28mself\u001b[39m\u001b[38;5;241m.\u001b[39mhandle_error_response(\n\u001b[0;32m    680\u001b[0m         rbody, rcode, resp\u001b[38;5;241m.\u001b[39mdata, rheaders, stream_error\u001b[38;5;241m=\u001b[39mstream_error\n\u001b[0;32m    681\u001b[0m     )\n\u001b[0;32m    682\u001b[0m \u001b[38;5;28;01mreturn\u001b[39;00m resp\n",
      "\u001b[1;31mInvalidRequestError\u001b[0m: [{'role': 'system', 'content': 'You are a mobile virtual assistant that understands and interacts with the user interface to complete given task.'}, {'role': 'user', 'content': 'I will give you a list of blocks in the UI, is any of them related to the task \"log out current user\"? If yes, which block is the most related to complete the task?\\n[Block 0:This UI element is a toolbar that belongs to the Twitter Android application. It consists of an image button and an image view which correspond to the navigation drawer and the Twitter logo, respectively. The toolbar is clickable and can be used to access the navigation drawer or to return to the home screen. Additionally, the Twitter logo may serve as a link to the Twitter profile or homepage. Overall, the toolbar provides a simple and convenient way for users to quickly access important features of the Twitter app.\\n[Block 1:This code snippet describes a part of the Twitter app\\'s UI that displays a feed of tweets. The feed is positioned within a ViewPager and can be scrolled horizontally between two tabs: \"For you\" and \"Following\". Each tweet in the feed is displayed as a row and includes the tweet author\\'s avatar, screen name, tweet text, and information on the tweet\\'s engagement (replies, retweets, likes, views, and shares). Users can interact with each tweet row using buttons to reply, retweet, like, view counts, and share the tweet. Additionally, tweet rows may include embedded media (such as videos).\\n[Block 2:This code snippet defines a user interface element of a Twitter app that represents the \\'New Tweet\\' button. The element is of the type \\'widget.ImageButton\\' and its resource-id is \\'twitter.android:id/composer_write\\'. When clicked, it triggers the functionality for the user to start composing a new tweet. This element is contained within a parent layout of the type \\'view.ViewGroup\\', and has an ID of 93.\\n[Block 3:This code snippet describes a part of a UI for the Twitter Android app, which includes various clickable options in a horizontal scroll view. The options include channels, a search function, spaces, notifications, and direct messages. Clicking on any of these options would perform specific actions within the app, such as displaying certain channels or opening the notifications tab.\\n\\n Just ask [Yes, Block id] if any block is related or [No] if not.'}] is not of type 'object' - 'messages.0'"
     ]
    }
   ],
   "source": [
    "aut.target_block_identification('log out current user')"
   ]
  },
  {
   "cell_type": "code",
   "execution_count": null,
   "id": "517b16ce",
   "metadata": {},
   "outputs": [],
   "source": []
  },
  {
   "cell_type": "code",
   "execution_count": 1,
   "id": "944b5f91",
   "metadata": {},
   "outputs": [],
   "source": [
    "from Automator import Automator\n",
    "aut = Automator()"
   ]
  },
  {
   "cell_type": "code",
   "execution_count": 2,
   "id": "01a1e763",
   "metadata": {},
   "outputs": [],
   "source": [
    "aut.load_conversation()"
   ]
  },
  {
   "cell_type": "code",
   "execution_count": 3,
   "id": "ce2e380b",
   "metadata": {},
   "outputs": [
    {
     "data": {
      "text/plain": [
       "[{'role': 'system',\n",
       "  'content': 'You are a mobile virtual assistant that understands and interacts with the user interface to complete given task.'},\n",
       " {'role': 'user',\n",
       "  'content': 'I will give you a list of blocks in the UI, is any of them related to the task \"log out current user\"? If yes, which block is the most related to complete the task?\\n[Block 0:This UI element is a toolbar that belongs to the Twitter Android application. It consists of an image button and an image view which correspond to the navigation drawer and the Twitter logo, respectively. The toolbar is clickable and can be used to access the navigation drawer or to return to the home screen. Additionally, the Twitter logo may serve as a link to the Twitter profile or homepage. Overall, the toolbar provides a simple and convenient way for users to quickly access important features of the Twitter app.\\n[Block 1]:This code snippet describes a part of the Twitter app\\'s UI that displays a feed of tweets. The feed is positioned within a ViewPager and can be scrolled horizontally between two tabs: \"For you\" and \"Following\". Each tweet in the feed is displayed as a row and includes the tweet author\\'s avatar, screen name, tweet text, and information on the tweet\\'s engagement (replies, retweets, likes, views, and shares). Users can interact with each tweet row using buttons to reply, retweet, like, view counts, and share the tweet. Additionally, tweet rows may include embedded media (such as videos).\\n[Block 2]:This code snippet defines a user interface element of a Twitter app that represents the \\'New Tweet\\' button. The element is of the type \\'widget.ImageButton\\' and its resource-id is \\'twitter.android:id/composer_write\\'. When clicked, it triggers the functionality for the user to start composing a new tweet. This element is contained within a parent layout of the type \\'view.ViewGroup\\', and has an ID of 93.\\n[Block 3]:This code snippet describes a part of a UI for the Twitter Android app, which includes various clickable options in a horizontal scroll view. The options include channels, a search function, spaces, notifications, and direct messages. Clicking on any of these options would perform specific actions within the app, such as displaying certain channels or opening the notifications tab.\\n\\n Just ask [Yes, Block id] if any block is related or [No] if not.'}]"
      ]
     },
     "execution_count": 3,
     "metadata": {},
     "output_type": "execute_result"
    }
   ],
   "source": [
    "aut.conversation"
   ]
  },
  {
   "cell_type": "code",
   "execution_count": 4,
   "id": "c04e42b5",
   "metadata": {},
   "outputs": [
    {
     "name": "stdout",
     "output_type": "stream",
     "text": [
      "*** Asking ***\n",
      " [{'role': 'system', 'content': 'You are a mobile virtual assistant that understands and interacts with the user interface to complete given task.'}, {'role': 'user', 'content': 'I will give you a list of blocks in the UI, is any of them related to the task \"log out current user\"? If yes, which block is the most related to complete the task?\\n[Block 0:This UI element is a toolbar that belongs to the Twitter Android application. It consists of an image button and an image view which correspond to the navigation drawer and the Twitter logo, respectively. The toolbar is clickable and can be used to access the navigation drawer or to return to the home screen. Additionally, the Twitter logo may serve as a link to the Twitter profile or homepage. Overall, the toolbar provides a simple and convenient way for users to quickly access important features of the Twitter app.\\n[Block 1]:This code snippet describes a part of the Twitter app\\'s UI that displays a feed of tweets. The feed is positioned within a ViewPager and can be scrolled horizontally between two tabs: \"For you\" and \"Following\". Each tweet in the feed is displayed as a row and includes the tweet author\\'s avatar, screen name, tweet text, and information on the tweet\\'s engagement (replies, retweets, likes, views, and shares). Users can interact with each tweet row using buttons to reply, retweet, like, view counts, and share the tweet. Additionally, tweet rows may include embedded media (such as videos).\\n[Block 2]:This code snippet defines a user interface element of a Twitter app that represents the \\'New Tweet\\' button. The element is of the type \\'widget.ImageButton\\' and its resource-id is \\'twitter.android:id/composer_write\\'. When clicked, it triggers the functionality for the user to start composing a new tweet. This element is contained within a parent layout of the type \\'view.ViewGroup\\', and has an ID of 93.\\n[Block 3]:This code snippet describes a part of a UI for the Twitter Android app, which includes various clickable options in a horizontal scroll view. The options include channels, a search function, spaces, notifications, and direct messages. Clicking on any of these options would perform specific actions within the app, such as displaying certain channels or opening the notifications tab.\\n\\n Just ask [Yes, Block id] if any block is related or [No] if not.'}]\n",
      "\n",
      "*** Answer ***\n",
      " {\n",
      "  \"content\": \"Yes, Block 0 is related to the task \\\"log out current user\\\" as it contains the toolbar that provides a convenient way for accessing important features of the Twitter app, including the option to log out.\",\n",
      "  \"role\": \"assistant\"\n",
      "}\n"
     ]
    },
    {
     "data": {
      "text/plain": [
       "<OpenAIObject at 0x21d7f93efc0> JSON: {\n",
       "  \"content\": \"Yes, Block 0 is related to the task \\\"log out current user\\\" as it contains the toolbar that provides a convenient way for accessing important features of the Twitter app, including the option to log out.\",\n",
       "  \"role\": \"assistant\"\n",
       "}"
      ]
     },
     "execution_count": 4,
     "metadata": {},
     "output_type": "execute_result"
    }
   ],
   "source": [
    "aut.ask_openai_conversation()"
   ]
  },
  {
   "cell_type": "code",
   "execution_count": 5,
   "id": "48734fb3",
   "metadata": {},
   "outputs": [
    {
     "data": {
      "text/plain": [
       "''"
      ]
     },
     "execution_count": 5,
     "metadata": {},
     "output_type": "execute_result"
    }
   ],
   "source": [
    "aut.block_identification"
   ]
  },
  {
   "cell_type": "code",
   "execution_count": null,
   "id": "654d567c",
   "metadata": {},
   "outputs": [],
   "source": []
  }
 ],
 "metadata": {
  "kernelspec": {
   "display_name": "Python 3 (ipykernel)",
   "language": "python",
   "name": "python3"
  },
  "language_info": {
   "codemirror_mode": {
    "name": "ipython",
    "version": 3
   },
   "file_extension": ".py",
   "mimetype": "text/x-python",
   "name": "python",
   "nbconvert_exporter": "python",
   "pygments_lexer": "ipython3",
   "version": "3.10.10"
  }
 },
 "nbformat": 4,
 "nbformat_minor": 5
}
