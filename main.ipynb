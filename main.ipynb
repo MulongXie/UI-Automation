{
 "cells": [
  {
   "cell_type": "code",
   "execution_count": 1,
   "metadata": {},
   "outputs": [],
   "source": [
    "from GUI import GUI\n",
    "import layout.lib.repetition_recognition as rep"
   ]
  },
  {
   "cell_type": "code",
   "execution_count": 56,
   "metadata": {},
   "outputs": [],
   "source": [
    "gui = GUI(img_file='data/input/v2.jpg')"
   ]
  },
  {
   "cell_type": "code",
   "execution_count": 57,
   "metadata": {
    "scrolled": true
   },
   "outputs": [
    {
     "name": "stdout",
     "output_type": "stream",
     "text": [
      "[Text Detection Completed in 0.974 s] Input: data/input/v2.jpg Output: data/output\\ocr\\v2.json\n",
      "[Compo Detection Completed in 0.594 s] Input: data/input/v2.jpg Output: data/output\\ip\\v2.json\n",
      "[Merge Completed] Input: data/input/v2.jpg Output: data/output\\uied\\v2.jpg\n"
     ]
    }
   ],
   "source": [
    "gui.detect_element()\n",
    "# gui.load_detection_result()\n",
    "gui.visualize_element_detection()"
   ]
  },
  {
   "cell_type": "code",
   "execution_count": 58,
   "metadata": {
    "scrolled": false
   },
   "outputs": [
    {
     "name": "stdout",
     "output_type": "stream",
     "text": [
      "[Layout Recognition Completed in 1.425 s] Input: data/input/v2.jpg Output: data/output\\layout\\v2.json\n"
     ]
    }
   ],
   "source": [
    "gui.recognize_layout()\n",
    "gui.visualize_layout_recognition()"
   ]
  },
  {
   "cell_type": "code",
   "execution_count": 85,
   "metadata": {},
   "outputs": [],
   "source": [
    "gui.visualize_element_detection()"
   ]
  },
  {
   "cell_type": "code",
   "execution_count": 70,
   "metadata": {},
   "outputs": [],
   "source": [
    "gui.visualize_layout_recognition()"
   ]
  }
 ],
 "metadata": {
  "kernelspec": {
   "display_name": "Python 3",
   "language": "python",
   "name": "python3"
  },
  "language_info": {
   "codemirror_mode": {
    "name": "ipython",
    "version": 3
   },
   "file_extension": ".py",
   "mimetype": "text/x-python",
   "name": "python",
   "nbconvert_exporter": "python",
   "pygments_lexer": "ipython3",
   "version": "3.5.6"
  }
 },
 "nbformat": 4,
 "nbformat_minor": 2
}
