{
 "cells": [
  {
   "cell_type": "markdown",
   "id": "5e74037e",
   "metadata": {},
   "source": [
    "## [Option 1] Load virtual device to collect the screenshot and vh"
   ]
  },
  {
   "cell_type": "markdown",
   "id": "3e03752d",
   "metadata": {},
   "source": [
    "### 1. Start emulator in Android studio first and run to capture screenshot and view hierarchy"
   ]
  },
  {
   "cell_type": "markdown",
   "id": "48ca7d15",
   "metadata": {},
   "source": [
    "Save vh `xml`, `json` and `screenshot image` to \"data/app_name/test_case_no/device\""
   ]
  },
  {
   "cell_type": "code",
   "execution_count": 1,
   "id": "7ac2619d",
   "metadata": {},
   "outputs": [
    {
     "name": "stdout",
     "output_type": "stream",
     "text": [
      "*** Save data to dir data\\twitter\\testcase1\\device ***\n",
      "Save screenshot to data\\twitter\\testcase1\\device\\0.png\n",
      "Save xml to data\\twitter\\testcase1\\device\\0.xml\n",
      "Save view hierarchy to data\\twitter\\testcase1\\device\\0.json\n",
      "Save reformatted vh to data\\twitter\\testcase1\\device\\0.json\n"
     ]
    }
   ],
   "source": [
    "from ppadb.client import Client as AdbClient\n",
    "from Device import Device\n",
    "client = AdbClient(host=\"127.0.0.1\", port=5037)\n",
    "\n",
    "device = Device(client.devices()[0], app_name='twitter', test_case_no=1)\n",
    "device.cap_screenshot()\n",
    "device.cap_vh()\n",
    "device.reformat_vh_json()"
   ]
  },
  {
   "cell_type": "markdown",
   "id": "6707c0d7",
   "metadata": {},
   "source": [
    "### 2. GUI information extraction and analysis"
   ]
  },
  {
   "cell_type": "markdown",
   "id": "54f4c798",
   "metadata": {},
   "source": [
    "Extract `elements` and `element_tree` and save to \"data/app_name/test_case_no/guidata\""
   ]
  },
  {
   "cell_type": "code",
   "execution_count": 2,
   "id": "b6ce127f",
   "metadata": {},
   "outputs": [],
   "source": [
    "load = False"
   ]
  },
  {
   "cell_type": "code",
   "execution_count": 3,
   "id": "926e4ac5",
   "metadata": {},
   "outputs": [
    {
     "name": "stderr",
     "output_type": "stream",
     "text": [
      "C:\\Users\\xie029\\AppData\\Local\\Programs\\Python\\Python310\\lib\\site-packages\\tqdm\\auto.py:22: TqdmWarning: IProgress not found. Please update jupyter and ipywidgets. See https://ipywidgets.readthedocs.io/en/stable/user_install.html\n",
      "  from .autonotebook import tqdm as notebook_tqdm\n"
     ]
    },
    {
     "name": "stdout",
     "output_type": "stream",
     "text": [
      "Save elements to data\\twitter\\testcase1\\guidata\\0_elements.json\n"
     ]
    },
    {
     "name": "stderr",
     "output_type": "stream",
     "text": [
      "C:\\Users\\xie029\\AppData\\Local\\Programs\\Python\\Python310\\lib\\site-packages\\torch\\serialization.py:868: SourceChangeWarning: source code of class 'models.image_models.ResNetFeats' has changed. you can retrieve the original source code by accessing the object's source attribute or set `torch.nn.Module.dump_patches = True` and use the patch tool to revert the changes.\n",
      "  warnings.warn(msg, SourceChangeWarning)\n",
      "C:\\Users\\xie029\\AppData\\Local\\Programs\\Python\\Python310\\lib\\site-packages\\torch\\serialization.py:868: SourceChangeWarning: source code of class 'torch.nn.modules.container.Sequential' has changed. you can retrieve the original source code by accessing the object's source attribute or set `torch.nn.Module.dump_patches = True` and use the patch tool to revert the changes.\n",
      "  warnings.warn(msg, SourceChangeWarning)\n",
      "C:\\Users\\xie029\\AppData\\Local\\Programs\\Python\\Python310\\lib\\site-packages\\torch\\serialization.py:868: SourceChangeWarning: source code of class 'torch.nn.modules.conv.Conv2d' has changed. you can retrieve the original source code by accessing the object's source attribute or set `torch.nn.Module.dump_patches = True` and use the patch tool to revert the changes.\n",
      "  warnings.warn(msg, SourceChangeWarning)\n",
      "C:\\Users\\xie029\\AppData\\Local\\Programs\\Python\\Python310\\lib\\site-packages\\torch\\serialization.py:868: SourceChangeWarning: source code of class 'torch.nn.modules.batchnorm.BatchNorm2d' has changed. you can retrieve the original source code by accessing the object's source attribute or set `torch.nn.Module.dump_patches = True` and use the patch tool to revert the changes.\n",
      "  warnings.warn(msg, SourceChangeWarning)\n",
      "C:\\Users\\xie029\\AppData\\Local\\Programs\\Python\\Python310\\lib\\site-packages\\torch\\serialization.py:868: SourceChangeWarning: source code of class 'torch.nn.modules.activation.ReLU' has changed. you can retrieve the original source code by accessing the object's source attribute or set `torch.nn.Module.dump_patches = True` and use the patch tool to revert the changes.\n",
      "  warnings.warn(msg, SourceChangeWarning)\n",
      "C:\\Users\\xie029\\AppData\\Local\\Programs\\Python\\Python310\\lib\\site-packages\\torch\\serialization.py:868: SourceChangeWarning: source code of class 'torch.nn.modules.pooling.MaxPool2d' has changed. you can retrieve the original source code by accessing the object's source attribute or set `torch.nn.Module.dump_patches = True` and use the patch tool to revert the changes.\n",
      "  warnings.warn(msg, SourceChangeWarning)\n",
      "C:\\Users\\xie029\\AppData\\Local\\Programs\\Python\\Python310\\lib\\site-packages\\torch\\serialization.py:868: SourceChangeWarning: source code of class 'torchvision.models.resnet.Bottleneck' has changed. you can retrieve the original source code by accessing the object's source attribute or set `torch.nn.Module.dump_patches = True` and use the patch tool to revert the changes.\n",
      "  warnings.warn(msg, SourceChangeWarning)\n",
      "C:\\Users\\xie029\\AppData\\Local\\Programs\\Python\\Python310\\lib\\site-packages\\torch\\serialization.py:868: SourceChangeWarning: source code of class 'torch.nn.modules.pooling.AvgPool2d' has changed. you can retrieve the original source code by accessing the object's source attribute or set `torch.nn.Module.dump_patches = True` and use the patch tool to revert the changes.\n",
      "  warnings.warn(msg, SourceChangeWarning)\n",
      "C:\\Users\\xie029\\AppData\\Local\\Programs\\Python\\Python310\\lib\\site-packages\\torch\\serialization.py:868: SourceChangeWarning: source code of class 'torch.nn.modules.pooling.AdaptiveAvgPool2d' has changed. you can retrieve the original source code by accessing the object's source attribute or set `torch.nn.Module.dump_patches = True` and use the patch tool to revert the changes.\n",
      "  warnings.warn(msg, SourceChangeWarning)\n",
      "C:\\Users\\xie029\\AppData\\Local\\Programs\\Python\\Python310\\lib\\site-packages\\torch\\serialization.py:868: SourceChangeWarning: source code of class 'torch.nn.modules.linear.Linear' has changed. you can retrieve the original source code by accessing the object's source attribute or set `torch.nn.Module.dump_patches = True` and use the patch tool to revert the changes.\n",
      "  warnings.warn(msg, SourceChangeWarning)\n",
      "C:\\Users\\xie029\\AppData\\Local\\Programs\\Python\\Python310\\lib\\site-packages\\torch\\serialization.py:868: SourceChangeWarning: source code of class 'torch.nn.modules.batchnorm.BatchNorm1d' has changed. you can retrieve the original source code by accessing the object's source attribute or set `torch.nn.Module.dump_patches = True` and use the patch tool to revert the changes.\n",
      "  warnings.warn(msg, SourceChangeWarning)\n",
      "C:\\Users\\xie029\\AppData\\Local\\Programs\\Python\\Python310\\lib\\site-packages\\torch\\serialization.py:868: SourceChangeWarning: source code of class 'models.Transformer.Transformer' has changed. you can retrieve the original source code by accessing the object's source attribute or set `torch.nn.Module.dump_patches = True` and use the patch tool to revert the changes.\n",
      "  warnings.warn(msg, SourceChangeWarning)\n",
      "C:\\Users\\xie029\\AppData\\Local\\Programs\\Python\\Python310\\lib\\site-packages\\torch\\serialization.py:868: SourceChangeWarning: source code of class 'torch.nn.modules.dropout.Dropout' has changed. you can retrieve the original source code by accessing the object's source attribute or set `torch.nn.Module.dump_patches = True` and use the patch tool to revert the changes.\n",
      "  warnings.warn(msg, SourceChangeWarning)\n",
      "C:\\Users\\xie029\\AppData\\Local\\Programs\\Python\\Python310\\lib\\site-packages\\torch\\serialization.py:868: SourceChangeWarning: source code of class 'torch.nn.modules.container.ModuleList' has changed. you can retrieve the original source code by accessing the object's source attribute or set `torch.nn.Module.dump_patches = True` and use the patch tool to revert the changes.\n",
      "  warnings.warn(msg, SourceChangeWarning)\n",
      "C:\\Users\\xie029\\AppData\\Local\\Programs\\Python\\Python310\\lib\\site-packages\\torch\\serialization.py:868: SourceChangeWarning: source code of class 'torch.nn.modules.linear.Identity' has changed. you can retrieve the original source code by accessing the object's source attribute or set `torch.nn.Module.dump_patches = True` and use the patch tool to revert the changes.\n",
      "  warnings.warn(msg, SourceChangeWarning)\n",
      "C:\\Users\\xie029\\AppData\\Local\\Programs\\Python\\Python310\\lib\\site-packages\\torch\\serialization.py:868: SourceChangeWarning: source code of class 'torch.nn.modules.sparse.Embedding' has changed. you can retrieve the original source code by accessing the object's source attribute or set `torch.nn.Module.dump_patches = True` and use the patch tool to revert the changes.\n",
      "  warnings.warn(msg, SourceChangeWarning)\n"
     ]
    },
    {
     "name": "stdout",
     "output_type": "stream",
     "text": [
      "Save elements to data\\twitter\\testcase1\\guidata\\0_elements.json\n",
      "Save element tree to data\\twitter\\testcase1\\guidata\\0_tree.json\n"
     ]
    }
   ],
   "source": [
    "from GUIData import GUIData\n",
    "gui = GUIData(gui_img_file=device.output_file_path_screenshot,\n",
    "             gui_json_file=device.output_file_path_json,\n",
    "             output_file_root=device.testcase_save_dir)\n",
    "# load previous result\n",
    "if load:\n",
    "    gui.load_elements()\n",
    "# process from scratch\n",
    "else:\n",
    "    gui.ui_info_extraction()\n",
    "    gui.ui_analysis_elements_description()\n",
    "    gui.ui_element_block_tree()\n",
    "gui.show_all_elements(only_leaves=True)"
   ]
  },
  {
   "cell_type": "markdown",
   "id": "8555f715",
   "metadata": {},
   "source": [
    "### 3. UI Automator to connect with ChatGPT and ask AI Chain questions"
   ]
  },
  {
   "cell_type": "markdown",
   "id": "bb9fcee7",
   "metadata": {},
   "source": [
    "Generate `description for blocks` and ask a chain of questions to identify `target block` and `target element` related to the task, save to \"data/app_name/test_case_no/automator\""
   ]
  },
  {
   "cell_type": "code",
   "execution_count": 4,
   "id": "ff72ca15",
   "metadata": {},
   "outputs": [
    {
     "name": "stdout",
     "output_type": "stream",
     "text": [
      "------ Generate Block Descriptions ------\n",
      "*** Asking ***\n",
      " [{'role': 'system', 'content': 'You are a mobile virtual assistant that understands and interacts with the user interface to complete given task.'}, {'role': 'user', 'content': \"This is a code snippet that descript a part of UI, summarize its functionalities in one paragraph.\\n{'resource-id': 'google.apps.nexuslauncher:id/scrim_view', 'class': 'view.View', 'clickable': False, 'id': 1, 'description': 'more'}\"}]\n",
      "\n",
      "*** Answer ***\n",
      " {\n",
      "  \"content\": \"This code snippet is describing a UI element with the resource ID \\\"google.apps.nexuslauncher:id/scrim_view\\\" and class \\\"view.View\\\". The element is not clickable and has an ID of 1. It is also described as having a description of \\\"more\\\". Based on this information alone, it is difficult to determine the specific functionality of this UI element without also considering the surrounding UI elements and the app in which it appears. However, the description \\\"more\\\" may suggest that it is a button or link that leads to additional options or information within the app.\",\n",
      "  \"role\": \"assistant\"\n",
      "} \n",
      "\n",
      "*** Asking ***\n",
      " [{'role': 'system', 'content': 'You are a mobile virtual assistant that understands and interacts with the user interface to complete given task.'}, {'role': 'user', 'content': \"This is a code snippet that descript a part of UI, summarize its functionalities in one paragraph.\\n{'resource-id': 'google.apps.nexuslauncher:id/workspace', 'class': 'widget.ScrollView', 'clickable': False, 'id': 2, 'children': [{'class': 'view.ViewGroup', 'clickable': False, 'id': 3, 'children': [{'class': 'view.ViewGroup', 'clickable': False, 'id': 4, 'children': [{'resource-id': 'google.apps.nexuslauncher:id/smartspace_card_pager', 'class': 'androidx.viewpager.widget.ViewPager', 'clickable': False, 'id': 5, 'children': [{'class': 'view.ViewGroup', 'clickable': True, 'id': 6, 'children': [{'resource-id': 'google.apps.nexuslauncher:id/date', 'class': 'widget.TextView', 'clickable': True, 'id': 7, 'description': 'Thu, Mar 9 / Thu, Mar 9'}, {'resource-id': 'google.apps.nexuslauncher:id/smartspace_subtitle_group', 'class': 'view.ViewGroup', 'clickable': True, 'id': 8, 'description': 'navigate up'}]}]}, {'class': 'widget.TextView', 'clickable': True, 'id': 9, 'description': 'Twitter / Twitter'}]}]}]}\"}]\n",
      "\n",
      "*** Answer ***\n",
      " {\n",
      "  \"content\": \"This code represents a UI element on a mobile device's home screen. Specifically, it is a scrollable view that contains a view pager which displays information related to a user's schedule (date information) and social media (Twitter), along with corresponding navigation options. The user can interact with this element by clicking on the date or social media options, as well as the navigation options. Overall, this UI element aims to provide the user with a quick and convenient way to access important information and apps.\",\n",
      "  \"role\": \"assistant\"\n",
      "} \n",
      "\n",
      "*** Asking ***\n",
      " [{'role': 'system', 'content': 'You are a mobile virtual assistant that understands and interacts with the user interface to complete given task.'}, {'role': 'user', 'content': \"This is a code snippet that descript a part of UI, summarize its functionalities in one paragraph.\\n{'class': 'view.View', 'clickable': False, 'id': 10, 'description': 'Home'}\"}]\n",
      "\n",
      "*** Answer ***\n",
      " {\n",
      "  \"content\": \"This code snippet describes a UI element identified as a \\\"View\\\". It has the ID of 10 and is not clickable. The description given for this UI element is \\\"Home\\\". Based on this information, we can infer that this \\\"View\\\" element might represent the home screen or homepage of an application or website that the UI belongs to. The fact that it is not clickable could suggest that it is a non-interactive element, serving only as an indicator of the current location or page.\",\n",
      "  \"role\": \"assistant\"\n",
      "} \n",
      "\n",
      "*** Asking ***\n",
      " [{'role': 'system', 'content': 'You are a mobile virtual assistant that understands and interacts with the user interface to complete given task.'}, {'role': 'user', 'content': \"This is a code snippet that descript a part of UI, summarize its functionalities in one paragraph.\\n{'resource-id': 'google.apps.nexuslauncher:id/page_indicator', 'class': 'view.View', 'clickable': False, 'id': 11, 'description': 'navigate up'}\"}]\n",
      "\n",
      "*** Answer ***\n",
      " {\n",
      "  \"content\": \"This UI element is a page indicator on the Google Nexus Launcher app, which helps the user keep track of their current location in the app's navigation hierarchy. It is represented by a view object that is not clickable and has a resource ID of 'google.apps.nexuslauncher:id/page_indicator'. This element also has an ID of 11 and a description of 'navigate up', implying that it may have a functionality that allows the user to move up in the navigation hierarchy. However, further examination of the app's source code or documentation is necessary to fully understand all of the features and interactions associated with this UI element.\",\n",
      "  \"role\": \"assistant\"\n",
      "} \n",
      "\n",
      "*** Asking ***\n",
      " [{'role': 'system', 'content': 'You are a mobile virtual assistant that understands and interacts with the user interface to complete given task.'}, {'role': 'user', 'content': \"This is a code snippet that descript a part of UI, summarize its functionalities in one paragraph.\\n{'resource-id': 'google.apps.nexuslauncher:id/hotseat', 'class': 'view.ViewGroup', 'clickable': False, 'id': 12, 'children': [{'class': 'view.ViewGroup', 'clickable': False, 'id': 13, 'children': [{'class': 'widget.TextView', 'clickable': True, 'id': 14, 'description': 'Phone / Phone'}, {'class': 'widget.TextView', 'clickable': True, 'id': 15, 'description': 'Messages / Messages'}, {'class': 'widget.TextView', 'clickable': True, 'id': 16, 'description': 'Play Store / Play Store'}, {'class': 'widget.TextView', 'clickable': True, 'id': 17, 'description': 'Chrome / Chrome'}, {'class': 'widget.TextView', 'clickable': True, 'id': 18, 'description': 'Camera / Camera'}]}, {'resource-id': 'google.apps.nexuslauncher:id/search_container_hotseat', 'class': 'widget.FrameLayout', 'clickable': True, 'id': 19, 'children': [{'resource-id': 'google.apps.nexuslauncher:id/g_icon', 'class': 'widget.ImageView', 'clickable': True, 'id': 20, 'description': 'refresh'}, {'resource-id': 'google.apps.nexuslauncher:id/mic_icon', 'class': 'widget.ImageView', 'clickable': True, 'id': 21, 'description': 'Voice search'}, {'resource-id': 'google.apps.nexuslauncher:id/lens_icon', 'class': 'widget.ImageButton', 'clickable': True, 'id': 22, 'description': 'Google Lens'}]}]}\"}]\n",
      "\n",
      "*** Answer ***\n",
      " {\n",
      "  \"content\": \"This UI component is called \\\"hotseat\\\" and is a bar located at the bottom of the screen on an Android device. It contains icons for frequently used apps such as Phone, Messages, Play Store, Chrome, and Camera. Tapping on these icons will launch their corresponding apps. Additionally, it has a search feature that includes a refresh button, voice search, and Google Lens. The search feature allows users to search for apps, contacts, or other content on their device, and also offers relevant suggestions.\",\n",
      "  \"role\": \"assistant\"\n",
      "} \n",
      "\n",
      "------ Target Block Identification ------\n",
      "*** Asking ***\n",
      " [{'role': 'system', 'content': 'You are a mobile virtual assistant that understands and interacts with the user interface to complete given task.'}, {'role': 'user', 'content': 'I will give you a list of blocks in the UI, is any of them related to the task \"Open twitter\"? If yes, which block is the most related to complete the task?\\n[Block 0]:[Not Scrollable] This code snippet is describing a UI element with the resource ID \"google.apps.nexuslauncher:id/scrim_view\" and class \"view.View\". The element is not clickable and has an ID of 1. It is also described as having a description of \"more\". Based on this information alone, it is difficult to determine the specific functionality of this UI element without also considering the surrounding UI elements and the app in which it appears. However, the description \"more\" may suggest that it is a button or link that leads to additional options or information within the app.\\n[Block 1]:[Scrollable] This code represents a UI element on a mobile device\\'s home screen. Specifically, it is a scrollable view that contains a view pager which displays information related to a user\\'s schedule (date information) and social media (Twitter), along with corresponding navigation options. The user can interact with this element by clicking on the date or social media options, as well as the navigation options. Overall, this UI element aims to provide the user with a quick and convenient way to access important information and apps.\\n[Block 2]:[Not Scrollable] This code snippet describes a UI element identified as a \"View\". It has the ID of 10 and is not clickable. The description given for this UI element is \"Home\". Based on this information, we can infer that this \"View\" element might represent the home screen or homepage of an application or website that the UI belongs to. The fact that it is not clickable could suggest that it is a non-interactive element, serving only as an indicator of the current location or page.\\n[Block 3]:[Not Scrollable] This UI element is a page indicator on the Google Nexus Launcher app, which helps the user keep track of their current location in the app\\'s navigation hierarchy. It is represented by a view object that is not clickable and has a resource ID of \\'google.apps.nexuslauncher:id/page_indicator\\'. This element also has an ID of 11 and a description of \\'navigate up\\', implying that it may have a functionality that allows the user to move up in the navigation hierarchy. However, further examination of the app\\'s source code or documentation is necessary to fully understand all of the features and interactions associated with this UI element.\\n[Block 4]:[Not Scrollable] This UI component is called \"hotseat\" and is a bar located at the bottom of the screen on an Android device. It contains icons for frequently used apps such as Phone, Messages, Play Store, Chrome, and Camera. Tapping on these icons will launch their corresponding apps. Additionally, it has a search feature that includes a refresh button, voice search, and Google Lens. The search feature allows users to search for apps, contacts, or other content on their device, and also offers relevant suggestions.\\n\\n Answer [Yes] with the most related block if any or [No] if not.'}]\n"
     ]
    },
    {
     "name": "stdout",
     "output_type": "stream",
     "text": [
      "\n",
      "*** Answer ***\n",
      " {\n",
      "  \"content\": \"Yes, Block 1 is related to the task \\\"Open twitter\\\" as it mentions the presence of social media on the home screen that can be accessed by clicking on it.\",\n",
      "  \"role\": \"assistant\"\n",
      "} \n",
      "\n",
      "------ Scrollable Block Check ------\n",
      "*** Asking ***\n",
      " [{'role': 'system', 'content': 'You are a mobile virtual assistant that understands and interacts with the user interface to complete given task.'}, {'role': 'user', 'content': 'I will give you a list of blocks in the UI, is any of them related to the task \"Open twitter\"? If yes, which block is the most related to complete the task?\\n[Block 0]:[Not Scrollable] This code snippet is describing a UI element with the resource ID \"google.apps.nexuslauncher:id/scrim_view\" and class \"view.View\". The element is not clickable and has an ID of 1. It is also described as having a description of \"more\". Based on this information alone, it is difficult to determine the specific functionality of this UI element without also considering the surrounding UI elements and the app in which it appears. However, the description \"more\" may suggest that it is a button or link that leads to additional options or information within the app.\\n[Block 1]:[Scrollable] This code represents a UI element on a mobile device\\'s home screen. Specifically, it is a scrollable view that contains a view pager which displays information related to a user\\'s schedule (date information) and social media (Twitter), along with corresponding navigation options. The user can interact with this element by clicking on the date or social media options, as well as the navigation options. Overall, this UI element aims to provide the user with a quick and convenient way to access important information and apps.\\n[Block 2]:[Not Scrollable] This code snippet describes a UI element identified as a \"View\". It has the ID of 10 and is not clickable. The description given for this UI element is \"Home\". Based on this information, we can infer that this \"View\" element might represent the home screen or homepage of an application or website that the UI belongs to. The fact that it is not clickable could suggest that it is a non-interactive element, serving only as an indicator of the current location or page.\\n[Block 3]:[Not Scrollable] This UI element is a page indicator on the Google Nexus Launcher app, which helps the user keep track of their current location in the app\\'s navigation hierarchy. It is represented by a view object that is not clickable and has a resource ID of \\'google.apps.nexuslauncher:id/page_indicator\\'. This element also has an ID of 11 and a description of \\'navigate up\\', implying that it may have a functionality that allows the user to move up in the navigation hierarchy. However, further examination of the app\\'s source code or documentation is necessary to fully understand all of the features and interactions associated with this UI element.\\n[Block 4]:[Not Scrollable] This UI component is called \"hotseat\" and is a bar located at the bottom of the screen on an Android device. It contains icons for frequently used apps such as Phone, Messages, Play Store, Chrome, and Camera. Tapping on these icons will launch their corresponding apps. Additionally, it has a search feature that includes a refresh button, voice search, and Google Lens. The search feature allows users to search for apps, contacts, or other content on their device, and also offers relevant suggestions.\\n\\n Answer [Yes] with the most related block if any or [No] if not.'}, {'role': 'assistant', 'content': 'Yes, Block 1 is related to the task \"Open twitter\" as it mentions the presence of social media on the home screen that can be accessed by clicking on it.'}, {'role': 'user', 'content': 'For scrollable blocks, is it possible that the UI elements related to the task would show up after scroll? Answer [Yes] with the most related block if any or [No] if not'}]\n",
      "\n",
      "*** Answer ***\n",
      " {\n",
      "  \"content\": \"Yes, for scrollable blocks it is possible that the UI elements related to the task would show up after scroll. This means that even if the initial visible UI elements do not directly relate to the task, there is a possibility that the related UI elements exist but are not initially visible until scrolled.\",\n",
      "  \"role\": \"assistant\"\n",
      "} \n",
      "\n",
      "------ Intermediate Block Check ------\n",
      "*** Asking ***\n",
      " [{'role': 'system', 'content': 'You are a mobile virtual assistant that understands and interacts with the user interface to complete given task.'}, {'role': 'user', 'content': 'I will give you a list of blocks in the UI, is any of them related to the task \"Open twitter\"? If yes, which block is the most related to complete the task?\\n[Block 0]:[Not Scrollable] This code snippet is describing a UI element with the resource ID \"google.apps.nexuslauncher:id/scrim_view\" and class \"view.View\". The element is not clickable and has an ID of 1. It is also described as having a description of \"more\". Based on this information alone, it is difficult to determine the specific functionality of this UI element without also considering the surrounding UI elements and the app in which it appears. However, the description \"more\" may suggest that it is a button or link that leads to additional options or information within the app.\\n[Block 1]:[Scrollable] This code represents a UI element on a mobile device\\'s home screen. Specifically, it is a scrollable view that contains a view pager which displays information related to a user\\'s schedule (date information) and social media (Twitter), along with corresponding navigation options. The user can interact with this element by clicking on the date or social media options, as well as the navigation options. Overall, this UI element aims to provide the user with a quick and convenient way to access important information and apps.\\n[Block 2]:[Not Scrollable] This code snippet describes a UI element identified as a \"View\". It has the ID of 10 and is not clickable. The description given for this UI element is \"Home\". Based on this information, we can infer that this \"View\" element might represent the home screen or homepage of an application or website that the UI belongs to. The fact that it is not clickable could suggest that it is a non-interactive element, serving only as an indicator of the current location or page.\\n[Block 3]:[Not Scrollable] This UI element is a page indicator on the Google Nexus Launcher app, which helps the user keep track of their current location in the app\\'s navigation hierarchy. It is represented by a view object that is not clickable and has a resource ID of \\'google.apps.nexuslauncher:id/page_indicator\\'. This element also has an ID of 11 and a description of \\'navigate up\\', implying that it may have a functionality that allows the user to move up in the navigation hierarchy. However, further examination of the app\\'s source code or documentation is necessary to fully understand all of the features and interactions associated with this UI element.\\n[Block 4]:[Not Scrollable] This UI component is called \"hotseat\" and is a bar located at the bottom of the screen on an Android device. It contains icons for frequently used apps such as Phone, Messages, Play Store, Chrome, and Camera. Tapping on these icons will launch their corresponding apps. Additionally, it has a search feature that includes a refresh button, voice search, and Google Lens. The search feature allows users to search for apps, contacts, or other content on their device, and also offers relevant suggestions.\\n\\n Answer [Yes] with the most related block if any or [No] if not.'}, {'role': 'assistant', 'content': 'Yes, Block 1 is related to the task \"Open twitter\" as it mentions the presence of social media on the home screen that can be accessed by clicking on it.'}, {'role': 'user', 'content': 'For scrollable blocks, is it possible that the UI elements related to the task would show up after scroll? Answer [Yes] with the most related block if any or [No] if not'}, {'role': 'assistant', 'content': 'Yes, for scrollable blocks it is possible that the UI elements related to the task would show up after scroll. This means that even if the initial visible UI elements do not directly relate to the task, there is a possibility that the related UI elements exist but are not initially visible until scrolled.'}, {'role': 'user', 'content': 'The task may take multiple steps to complete, is there any block likely to jump to the UI that is related to the task? Answer [Yes] with the most related block if any or [No] if not'}]\n"
     ]
    },
    {
     "name": "stdout",
     "output_type": "stream",
     "text": [
      "\n",
      "*** Answer ***\n",
      " {\n",
      "  \"content\": \"No, none of the provided blocks mention any functionality or feature that can directly jump to the UI related to the task of opening Twitter. The task would likely involve multiple steps such as searching for the Twitter app, launching it, and possibly logging in if needed.\",\n",
      "  \"role\": \"assistant\"\n",
      "} \n",
      "\n"
     ]
    }
   ],
   "source": [
    "from Automator import Automator\n",
    "aut = Automator(gui)\n",
    "aut.ai_chain_block('Open twitter')"
   ]
  },
  {
   "cell_type": "markdown",
   "id": "3d0d246c",
   "metadata": {},
   "source": [
    "## [Option 2] (For testing) Directly load GUI from image and json"
   ]
  },
  {
   "cell_type": "markdown",
   "id": "c417d3fb",
   "metadata": {},
   "source": [
    "### 1. Load GUI"
   ]
  },
  {
   "cell_type": "code",
   "execution_count": 1,
   "id": "3c97792f",
   "metadata": {},
   "outputs": [],
   "source": [
    "load = True"
   ]
  },
  {
   "cell_type": "code",
   "execution_count": 2,
   "id": "85553631",
   "metadata": {},
   "outputs": [
    {
     "name": "stderr",
     "output_type": "stream",
     "text": [
      "C:\\Users\\xie029\\AppData\\Local\\Programs\\Python\\Python310\\lib\\site-packages\\tqdm\\auto.py:22: TqdmWarning: IProgress not found. Please update jupyter and ipywidgets. See https://ipywidgets.readthedocs.io/en/stable/user_install.html\n",
      "  from .autonotebook import tqdm as notebook_tqdm\n"
     ]
    },
    {
     "name": "stdout",
     "output_type": "stream",
     "text": [
      "Load elements from data/twitter/testcase1\\guidata\\0_elements.json\n",
      "Load element tree from data/twitter/testcase1\\guidata\\0_tree.json\n"
     ]
    }
   ],
   "source": [
    "from GUIData import GUIData\n",
    "gui = GUIData(gui_img_file='data/twitter/testcase1/device/0.png',\n",
    "              gui_json_file='data/twitter/testcase1/device/0.json',\n",
    "              output_file_root='data/twitter/testcase1')\n",
    "# load previous result\n",
    "if load:\n",
    "    gui.load_elements()\n",
    "# process from scratch\n",
    "else:\n",
    "    gui.ui_info_extraction()\n",
    "    gui.ui_analysis_elements_description()\n",
    "    gui.ui_element_block_tree()\n",
    "gui.show_all_elements(only_leaves=True)"
   ]
  },
  {
   "cell_type": "code",
   "execution_count": 3,
   "id": "3ee579dc",
   "metadata": {},
   "outputs": [
    {
     "name": "stdout",
     "output_type": "stream",
     "text": [
      "root\n",
      "{'text': '', 'resource-id': '', 'class': 'root', 'package': 'com.google.android.apps.nexuslauncher', 'content-desc': '', 'checkable': False, 'checked': False, 'clickable': False, 'enabled': True, 'focusable': False, 'focused': False, 'scrollable': False, 'long-clickable': False, 'password': False, 'selected': False, 'bounds': [0, 0, 1080, 2214], 'id': 0, 'children-id': [1, 2, 10, 11, 12]} \n",
      "\n"
     ]
    }
   ],
   "source": [
    "gui.show_each_element(only_leaves=False)"
   ]
  },
  {
   "cell_type": "markdown",
   "id": "bdbe9cb8",
   "metadata": {},
   "source": [
    "### 2. Load automator"
   ]
  },
  {
   "cell_type": "code",
   "execution_count": 3,
   "id": "ba49063e",
   "metadata": {},
   "outputs": [
    {
     "name": "stdout",
     "output_type": "stream",
     "text": [
      "------ Generate Block Descriptions ------\n",
      "[Not Scrollable] This code snippet describes a view element in the Google Nexus Launcher application identified by its resource ID 'scrim_view'. This view element is not clickable and has a description of 'more'. It is possible that this view element is used as a background element or a placeholder for other UI components. The purpose or functionality of this specific view element cannot be determined without additional context or information about the application's design and user interface.\n",
      "[Scrollable] This code snippet describes a part of the UI that appears to be a scrolling workspace or home screen of an Android device. The workspace contains a section for a smart space card pager, which appears to display information such as the date and social media updates. The card pager can be clicked on to navigate or access more information. Additionally, there is a Twitter widget that can also be clicked on to access that social media app. Overall, this workspace provides a quick glance at important information and access to frequently used apps.\n",
      "[Not Scrollable] This code snippet describes a view in a graphical user interface (GUI) that is not clickable and has an identifier of 10. The view is labeled as \"Home\", likely indicating that it is the main landing page of an application or website. \n",
      "\n",
      "While this code snippet does not provide full details on the specific functionalities of the UI element, it suggests that the \"Home\" view serves as a starting point for the user to navigate to other parts of the application or website. The view may also potentially display important information or provide access to frequently used features.\n",
      "[Not Scrollable] This code snippet represents the page indicator UI element in the Nexus Launcher app. It is a non-clickable view that visually displays which page the user is currently on in the launcher. The ID of the element is 'google.apps.nexuslauncher:id/page_indicator' and its clickable property is set to False. The element also has a description of 'navigate up', which suggests that it may assist in navigating through the app's pages or screens.\n",
      "[Not Scrollable] This code snippet describes a UI element called \"hotseat\" that contains a collection of icons representing commonly used apps such as phone, messages, play store, chrome, and camera. The icons are clickable, meaning tapping on them will open the corresponding app. The hotseat also has a search feature represented by a search bar at the bottom with three clickable icons for refreshing, voice search, and Google Lens. The search feature allows the user to search for apps, contacts, or anything on the device.\n",
      "------ Target Block Identification ------\n",
      "Yes, Block 1 is related to the task \"Open Twitter\" as it mentions the presence of a Twitter widget that can be clicked on to access the social media app.\n",
      "------ Scrollable Block Check ------\n",
      "Yes, it is possible that UI elements related to the task may show up after a scroll in a scrollable block. However, based on the provided blocks, only Block 1 is related to the task of opening Twitter, and it is already visible and described without requiring any scroll.\n",
      "------ Intermediate Block Check ------\n",
      "No, there is no block provided that suggests a direct jump to the UI related to the task of opening Twitter. However, if a search feature is available in the app, Block 4 describes a UI element called \"hotseat\" that includes a search bar. The user can use the search bar to look for Twitter and access it directly.\n"
     ]
    }
   ],
   "source": [
    "from Automator import Automator\n",
    "aut = Automator(gui)\n",
    "aut.ai_chain_block('Open twitter', show_block=True)"
   ]
  },
  {
   "cell_type": "code",
   "execution_count": 3,
   "id": "a118e46e",
   "metadata": {},
   "outputs": [
    {
     "data": {
      "text/plain": [
       "[\"[Not Scrollable]This code snippet describes a part of the user interface in the Twitter Android app. The toolbar appears to contain a navigation drawer button and a logo for the Twitter app. The navigation drawer button allows the user to open and access a side menu with various options, and the Twitter logo serves as a home button, bringing the user back to the app's main screen. Overall, this toolbar provides important navigation options for the user to interact with the Twitter app.\",\n",
       " '[Scrollable]This code snippet describes the UI of the Twitter mobile app. The UI is composed of a ViewPager that contains a TabLayout for switching between different content views. The content views are ScrollViews containing RecyclerViews with Tweet objects that can be interacted with, such as liking, retweeting, and replying. The Tweets contain information such as the username, profile image, timestamp, and text content. Some Tweets also contain media content such as videos, which can be played within the Tweet. The UI also shows engagement metrics such as view counts and like counts for each Tweet.',\n",
       " '[Not Scrollable]This code snippet describes a part of the UI that contains an image button labeled \"New Tweet\". The button is clickable, so when the user clicks on it, they will likely be able to compose and publish a new tweet on Twitter. The button is within a view group, which means that there may be other user interface elements surrounding it. However, we cannot deduce its exact functionalities from this code snippet alone as it only provides information on one part of the UI.',\n",
       " '[Not Scrollable]This code snippet is describing a part of a Twitter mobile UI that contains various tabs: channels, search, spaces, notifications, and direct messages. Each tab is a clickable button located within a horizontal scroll view container. Clicking on the different tabs allows the user to access different features or functionalities of Twitter, such as searching for something specific, checking notifications, checking emails, and accessing different channels or spaces.']"
      ]
     },
     "execution_count": 3,
     "metadata": {},
     "output_type": "execute_result"
    }
   ],
   "source": [
    "aut.block_descriptions"
   ]
  },
  {
   "cell_type": "code",
   "execution_count": 6,
   "id": "af0e1596",
   "metadata": {},
   "outputs": [],
   "source": [
    "l = aut.block_identification"
   ]
  },
  {
   "cell_type": "code",
   "execution_count": 8,
   "id": "1d10b061",
   "metadata": {},
   "outputs": [],
   "source": [
    "import re"
   ]
  },
  {
   "cell_type": "code",
   "execution_count": 9,
   "id": "ab66a16c",
   "metadata": {},
   "outputs": [],
   "source": [
    "pattern = '[bB]lock \\d+'"
   ]
  },
  {
   "cell_type": "code",
   "execution_count": 14,
   "id": "f79799c7",
   "metadata": {},
   "outputs": [],
   "source": [
    "matches = re.findall(pattern, 'Block 202312')"
   ]
  },
  {
   "cell_type": "code",
   "execution_count": 15,
   "id": "7ba11597",
   "metadata": {},
   "outputs": [
    {
     "data": {
      "text/plain": [
       "['Block 202312']"
      ]
     },
     "execution_count": 15,
     "metadata": {},
     "output_type": "execute_result"
    }
   ],
   "source": [
    "matches"
   ]
  },
  {
   "cell_type": "code",
   "execution_count": 22,
   "id": "9d5afe71",
   "metadata": {},
   "outputs": [
    {
     "name": "stdout",
     "output_type": "stream",
     "text": [
      "202312\n"
     ]
    }
   ],
   "source": [
    "for m in re.finditer(pattern, 'Block 202312'):\n",
    "    print(int(re.findall('\\d+', m.string)[0]))"
   ]
  },
  {
   "cell_type": "code",
   "execution_count": null,
   "id": "eab90aad",
   "metadata": {},
   "outputs": [],
   "source": []
  },
  {
   "cell_type": "code",
   "execution_count": null,
   "id": "a06d5476",
   "metadata": {},
   "outputs": [],
   "source": []
  },
  {
   "cell_type": "code",
   "execution_count": 5,
   "id": "6754c815",
   "metadata": {},
   "outputs": [
    {
     "name": "stdout",
     "output_type": "stream",
     "text": [
      "*** Asking ***\n",
      " [{'role': 'system', 'content': 'You are a mobile virtual assistant that understands and interacts with the user interface to complete given task.'}, {'role': 'user', 'content': 'I will give you a list of blocks in the UI, is any of them related to the task \"log out current user\"? If yes, which block is the most related to complete the task?\\n[Block 0]:[Not Scrollable]This code snippet describes a part of the user interface in the Twitter Android app. The toolbar appears to contain a navigation drawer button and a logo for the Twitter app. The navigation drawer button allows the user to open and access a side menu with various options, and the Twitter logo serves as a home button, bringing the user back to the app\\'s main screen. Overall, this toolbar provides important navigation options for the user to interact with the Twitter app.\\n[Block 1]:[Scrollable]This code snippet describes the UI of the Twitter mobile app. The UI is composed of a ViewPager that contains a TabLayout for switching between different content views. The content views are ScrollViews containing RecyclerViews with Tweet objects that can be interacted with, such as liking, retweeting, and replying. The Tweets contain information such as the username, profile image, timestamp, and text content. Some Tweets also contain media content such as videos, which can be played within the Tweet. The UI also shows engagement metrics such as view counts and like counts for each Tweet.\\n[Block 2]:[Not Scrollable]This code snippet describes a part of the UI that contains an image button labeled \"New Tweet\". The button is clickable, so when the user clicks on it, they will likely be able to compose and publish a new tweet on Twitter. The button is within a view group, which means that there may be other user interface elements surrounding it. However, we cannot deduce its exact functionalities from this code snippet alone as it only provides information on one part of the UI.\\n[Block 3]:[Not Scrollable]This code snippet is describing a part of a Twitter mobile UI that contains various tabs: channels, search, spaces, notifications, and direct messages. Each tab is a clickable button located within a horizontal scroll view container. Clicking on the different tabs allows the user to access different features or functionalities of Twitter, such as searching for something specific, checking notifications, checking emails, and accessing different channels or spaces.\\n\\n Just answer [Yes] with the most related block if any or [No] if not.'}]\n",
      "\n",
      "*** Answer ***\n",
      " {\n",
      "  \"content\": \"Yes, Block 0 is the most related to the task \\\"log out current user\\\" as the navigation drawer button in the toolbar often contains options for the user to log out.\",\n",
      "  \"role\": \"assistant\"\n",
      "} \n",
      "\n"
     ]
    }
   ],
   "source": [
    "aut.target_block_identification('log out current user')"
   ]
  },
  {
   "cell_type": "code",
   "execution_count": null,
   "id": "ae1c53e8",
   "metadata": {},
   "outputs": [],
   "source": []
  },
  {
   "cell_type": "code",
   "execution_count": null,
   "id": "20065fde",
   "metadata": {},
   "outputs": [],
   "source": []
  },
  {
   "cell_type": "code",
   "execution_count": null,
   "id": "4a8202e3",
   "metadata": {},
   "outputs": [],
   "source": []
  },
  {
   "cell_type": "code",
   "execution_count": null,
   "id": "fc07aab5",
   "metadata": {},
   "outputs": [],
   "source": []
  },
  {
   "cell_type": "code",
   "execution_count": 1,
   "id": "944b5f91",
   "metadata": {},
   "outputs": [],
   "source": [
    "from Automator import Automator\n",
    "aut = Automator()"
   ]
  },
  {
   "cell_type": "code",
   "execution_count": 2,
   "id": "01a1e763",
   "metadata": {},
   "outputs": [],
   "source": [
    "aut.load_block_descriptions()"
   ]
  },
  {
   "cell_type": "code",
   "execution_count": 3,
   "id": "d35e740b",
   "metadata": {},
   "outputs": [
    {
     "data": {
      "text/plain": [
       "[\"[Not Scrollable]This code snippet describes a part of the user interface in the Twitter Android app. The toolbar appears to contain a navigation drawer button and a logo for the Twitter app. The navigation drawer button allows the user to open and access a side menu with various options, and the Twitter logo serves as a home button, bringing the user back to the app's main screen. Overall, this toolbar provides important navigation options for the user to interact with the Twitter app.\",\n",
       " '[Scrollable]This code snippet describes the UI of the Twitter mobile app. The UI is composed of a ViewPager that contains a TabLayout for switching between different content views. The content views are ScrollViews containing RecyclerViews with Tweet objects that can be interacted with, such as liking, retweeting, and replying. The Tweets contain information such as the username, profile image, timestamp, and text content. Some Tweets also contain media content such as videos, which can be played within the Tweet. The UI also shows engagement metrics such as view counts and like counts for each Tweet.',\n",
       " '[Not Scrollable]This code snippet describes a part of the UI that contains an image button labeled \"New Tweet\". The button is clickable, so when the user clicks on it, they will likely be able to compose and publish a new tweet on Twitter. The button is within a view group, which means that there may be other user interface elements surrounding it. However, we cannot deduce its exact functionalities from this code snippet alone as it only provides information on one part of the UI.',\n",
       " '[Not Scrollable]This code snippet is describing a part of a Twitter mobile UI that contains various tabs: channels, search, spaces, notifications, and direct messages. Each tab is a clickable button located within a horizontal scroll view container. Clicking on the different tabs allows the user to access different features or functionalities of Twitter, such as searching for something specific, checking notifications, checking emails, and accessing different channels or spaces.']"
      ]
     },
     "execution_count": 3,
     "metadata": {},
     "output_type": "execute_result"
    }
   ],
   "source": [
    "aut.block_descriptions"
   ]
  },
  {
   "cell_type": "code",
   "execution_count": 6,
   "id": "9cfa1189",
   "metadata": {},
   "outputs": [
    {
     "name": "stdout",
     "output_type": "stream",
     "text": [
      "*** Asking ***\n",
      " [{'role': 'system', 'content': 'You are a mobile virtual assistant that understands and interacts with the user interface to complete given task.'}, {'role': 'user', 'content': 'I will give you a list of blocks in the UI, is any of them related to the task \"Change display language\"? If yes, which block is the most related to complete the task?\\n[Block 0]:[Not Scrollable]This code snippet describes a part of the user interface in the Twitter Android app. The toolbar appears to contain a navigation drawer button and a logo for the Twitter app. The navigation drawer button allows the user to open and access a side menu with various options, and the Twitter logo serves as a home button, bringing the user back to the app\\'s main screen. Overall, this toolbar provides important navigation options for the user to interact with the Twitter app.\\n[Block 1]:[Scrollable]This code snippet describes the UI of the Twitter mobile app. The UI is composed of a ViewPager that contains a TabLayout for switching between different content views. The content views are ScrollViews containing RecyclerViews with Tweet objects that can be interacted with, such as liking, retweeting, and replying. The Tweets contain information such as the username, profile image, timestamp, and text content. Some Tweets also contain media content such as videos, which can be played within the Tweet. The UI also shows engagement metrics such as view counts and like counts for each Tweet.\\n[Block 2]:[Not Scrollable]This code snippet describes a part of the UI that contains an image button labeled \"New Tweet\". The button is clickable, so when the user clicks on it, they will likely be able to compose and publish a new tweet on Twitter. The button is within a view group, which means that there may be other user interface elements surrounding it. However, we cannot deduce its exact functionalities from this code snippet alone as it only provides information on one part of the UI.\\n[Block 3]:[Not Scrollable]This code snippet is describing a part of a Twitter mobile UI that contains various tabs: channels, search, spaces, notifications, and direct messages. Each tab is a clickable button located within a horizontal scroll view container. Clicking on the different tabs allows the user to access different features or functionalities of Twitter, such as searching for something specific, checking notifications, checking emails, and accessing different channels or spaces.\\n\\n Just answer [Yes] with the most related block if any or [No] if not.'}]\n",
      "\n",
      "*** Answer ***\n",
      " {\n",
      "  \"content\": \"No.\",\n",
      "  \"role\": \"assistant\"\n",
      "} \n",
      "\n"
     ]
    }
   ],
   "source": [
    "aut.target_block_identification('Change display language')"
   ]
  },
  {
   "cell_type": "code",
   "execution_count": 7,
   "id": "de3b8f37",
   "metadata": {},
   "outputs": [
    {
     "data": {
      "text/plain": [
       "[{'role': 'system',\n",
       "  'content': 'You are a mobile virtual assistant that understands and interacts with the user interface to complete given task.'},\n",
       " {'role': 'user',\n",
       "  'content': 'I will give you a list of blocks in the UI, is any of them related to the task \"Change display language\"? If yes, which block is the most related to complete the task?\\n[Block 0]:[Not Scrollable]This code snippet describes a part of the user interface in the Twitter Android app. The toolbar appears to contain a navigation drawer button and a logo for the Twitter app. The navigation drawer button allows the user to open and access a side menu with various options, and the Twitter logo serves as a home button, bringing the user back to the app\\'s main screen. Overall, this toolbar provides important navigation options for the user to interact with the Twitter app.\\n[Block 1]:[Scrollable]This code snippet describes the UI of the Twitter mobile app. The UI is composed of a ViewPager that contains a TabLayout for switching between different content views. The content views are ScrollViews containing RecyclerViews with Tweet objects that can be interacted with, such as liking, retweeting, and replying. The Tweets contain information such as the username, profile image, timestamp, and text content. Some Tweets also contain media content such as videos, which can be played within the Tweet. The UI also shows engagement metrics such as view counts and like counts for each Tweet.\\n[Block 2]:[Not Scrollable]This code snippet describes a part of the UI that contains an image button labeled \"New Tweet\". The button is clickable, so when the user clicks on it, they will likely be able to compose and publish a new tweet on Twitter. The button is within a view group, which means that there may be other user interface elements surrounding it. However, we cannot deduce its exact functionalities from this code snippet alone as it only provides information on one part of the UI.\\n[Block 3]:[Not Scrollable]This code snippet is describing a part of a Twitter mobile UI that contains various tabs: channels, search, spaces, notifications, and direct messages. Each tab is a clickable button located within a horizontal scroll view container. Clicking on the different tabs allows the user to access different features or functionalities of Twitter, such as searching for something specific, checking notifications, checking emails, and accessing different channels or spaces.\\n\\n Just answer [Yes] with the most related block if any or [No] if not.'},\n",
       " {'role': 'assistant', 'content': 'No.'}]"
      ]
     },
     "execution_count": 7,
     "metadata": {},
     "output_type": "execute_result"
    }
   ],
   "source": [
    "aut.conversation"
   ]
  },
  {
   "cell_type": "code",
   "execution_count": 12,
   "id": "6bdcd90d",
   "metadata": {},
   "outputs": [],
   "source": [
    "p = {'role': 'user', 'content': 'For scrollable blocks, is it possible that the elements '\n",
    "     'related to the task would show up after scroll? Answer [Yes] with the most related block if any or [No] if not'}"
   ]
  },
  {
   "cell_type": "code",
   "execution_count": 13,
   "id": "60cbb4a0",
   "metadata": {},
   "outputs": [
    {
     "data": {
      "text/plain": [
       "{'role': 'user',\n",
       " 'content': 'For scrollable blocks, is it possible that the elementsrelated to the task would show up after scroll? Answer [Yes] with the most related block if any or [No] if not'}"
      ]
     },
     "execution_count": 13,
     "metadata": {},
     "output_type": "execute_result"
    }
   ],
   "source": [
    "p"
   ]
  },
  {
   "cell_type": "code",
   "execution_count": 9,
   "id": "c5f250b1",
   "metadata": {},
   "outputs": [],
   "source": [
    "aut.conversation.append(p)"
   ]
  },
  {
   "cell_type": "code",
   "execution_count": 10,
   "id": "c150367f",
   "metadata": {},
   "outputs": [
    {
     "data": {
      "text/plain": [
       "[{'role': 'system',\n",
       "  'content': 'You are a mobile virtual assistant that understands and interacts with the user interface to complete given task.'},\n",
       " {'role': 'user',\n",
       "  'content': 'I will give you a list of blocks in the UI, is any of them related to the task \"Change display language\"? If yes, which block is the most related to complete the task?\\n[Block 0]:[Not Scrollable]This code snippet describes a part of the user interface in the Twitter Android app. The toolbar appears to contain a navigation drawer button and a logo for the Twitter app. The navigation drawer button allows the user to open and access a side menu with various options, and the Twitter logo serves as a home button, bringing the user back to the app\\'s main screen. Overall, this toolbar provides important navigation options for the user to interact with the Twitter app.\\n[Block 1]:[Scrollable]This code snippet describes the UI of the Twitter mobile app. The UI is composed of a ViewPager that contains a TabLayout for switching between different content views. The content views are ScrollViews containing RecyclerViews with Tweet objects that can be interacted with, such as liking, retweeting, and replying. The Tweets contain information such as the username, profile image, timestamp, and text content. Some Tweets also contain media content such as videos, which can be played within the Tweet. The UI also shows engagement metrics such as view counts and like counts for each Tweet.\\n[Block 2]:[Not Scrollable]This code snippet describes a part of the UI that contains an image button labeled \"New Tweet\". The button is clickable, so when the user clicks on it, they will likely be able to compose and publish a new tweet on Twitter. The button is within a view group, which means that there may be other user interface elements surrounding it. However, we cannot deduce its exact functionalities from this code snippet alone as it only provides information on one part of the UI.\\n[Block 3]:[Not Scrollable]This code snippet is describing a part of a Twitter mobile UI that contains various tabs: channels, search, spaces, notifications, and direct messages. Each tab is a clickable button located within a horizontal scroll view container. Clicking on the different tabs allows the user to access different features or functionalities of Twitter, such as searching for something specific, checking notifications, checking emails, and accessing different channels or spaces.\\n\\n Just answer [Yes] with the most related block if any or [No] if not.'},\n",
       " {'role': 'assistant', 'content': 'No.'},\n",
       " {'role': 'user',\n",
       "  'content': 'For scrollable blocks, is it possible that the elements related to the task would show up after scroll? Answer [Yes] with the most related block if any or [No] if not'}]"
      ]
     },
     "execution_count": 10,
     "metadata": {},
     "output_type": "execute_result"
    }
   ],
   "source": [
    "aut.conversation"
   ]
  },
  {
   "cell_type": "code",
   "execution_count": 11,
   "id": "b4bc88bf",
   "metadata": {},
   "outputs": [
    {
     "name": "stdout",
     "output_type": "stream",
     "text": [
      "*** Asking ***\n",
      " [{'role': 'system', 'content': 'You are a mobile virtual assistant that understands and interacts with the user interface to complete given task.'}, {'role': 'user', 'content': 'I will give you a list of blocks in the UI, is any of them related to the task \"Change display language\"? If yes, which block is the most related to complete the task?\\n[Block 0]:[Not Scrollable]This code snippet describes a part of the user interface in the Twitter Android app. The toolbar appears to contain a navigation drawer button and a logo for the Twitter app. The navigation drawer button allows the user to open and access a side menu with various options, and the Twitter logo serves as a home button, bringing the user back to the app\\'s main screen. Overall, this toolbar provides important navigation options for the user to interact with the Twitter app.\\n[Block 1]:[Scrollable]This code snippet describes the UI of the Twitter mobile app. The UI is composed of a ViewPager that contains a TabLayout for switching between different content views. The content views are ScrollViews containing RecyclerViews with Tweet objects that can be interacted with, such as liking, retweeting, and replying. The Tweets contain information such as the username, profile image, timestamp, and text content. Some Tweets also contain media content such as videos, which can be played within the Tweet. The UI also shows engagement metrics such as view counts and like counts for each Tweet.\\n[Block 2]:[Not Scrollable]This code snippet describes a part of the UI that contains an image button labeled \"New Tweet\". The button is clickable, so when the user clicks on it, they will likely be able to compose and publish a new tweet on Twitter. The button is within a view group, which means that there may be other user interface elements surrounding it. However, we cannot deduce its exact functionalities from this code snippet alone as it only provides information on one part of the UI.\\n[Block 3]:[Not Scrollable]This code snippet is describing a part of a Twitter mobile UI that contains various tabs: channels, search, spaces, notifications, and direct messages. Each tab is a clickable button located within a horizontal scroll view container. Clicking on the different tabs allows the user to access different features or functionalities of Twitter, such as searching for something specific, checking notifications, checking emails, and accessing different channels or spaces.\\n\\n Just answer [Yes] with the most related block if any or [No] if not.'}, {'role': 'assistant', 'content': 'No.'}, {'role': 'user', 'content': 'For scrollable blocks, is it possible that the elements related to the task would show up after scroll? Answer [Yes] with the most related block if any or [No] if not'}]\n",
      "\n",
      "*** Answer ***\n",
      " {\n",
      "  \"content\": \"Yes, it's possible. Block 1 may have language settings hidden in the settings menu that can be accessed through scrolling.\",\n",
      "  \"role\": \"assistant\"\n",
      "} \n",
      "\n"
     ]
    },
    {
     "data": {
      "text/plain": [
       "{'role': 'assistant',\n",
       " 'content': \"Yes, it's possible. Block 1 may have language settings hidden in the settings menu that can be accessed through scrolling.\"}"
      ]
     },
     "execution_count": 11,
     "metadata": {},
     "output_type": "execute_result"
    }
   ],
   "source": [
    "aut.ask_openai_conversation()"
   ]
  },
  {
   "cell_type": "code",
   "execution_count": null,
   "id": "f70d3d88",
   "metadata": {},
   "outputs": [],
   "source": []
  },
  {
   "cell_type": "code",
   "execution_count": null,
   "id": "28e12151",
   "metadata": {},
   "outputs": [],
   "source": []
  },
  {
   "cell_type": "code",
   "execution_count": null,
   "id": "c91f28ac",
   "metadata": {},
   "outputs": [],
   "source": []
  },
  {
   "cell_type": "code",
   "execution_count": null,
   "id": "9ebcd17d",
   "metadata": {},
   "outputs": [],
   "source": []
  },
  {
   "cell_type": "code",
   "execution_count": 4,
   "id": "5c3757bb",
   "metadata": {},
   "outputs": [
    {
     "name": "stdout",
     "output_type": "stream",
     "text": [
      "*** Asking ***\n",
      " [{'role': 'system', 'content': 'You are a mobile virtual assistant that understands and interacts with the user interface to complete given task.'}, {'role': 'user', 'content': 'I will give you a list of blocks in the UI, is any of them related to the task \"log out current user\"? If yes, which block is the most related to complete the task?\\n[Block 0:This UI element is a toolbar that belongs to the Twitter Android application. It consists of an image button and an image view which correspond to the navigation drawer and the Twitter logo, respectively. The toolbar is clickable and can be used to access the navigation drawer or to return to the home screen. Additionally, the Twitter logo may serve as a link to the Twitter profile or homepage. Overall, the toolbar provides a simple and convenient way for users to quickly access important features of the Twitter app.\\n[Block 1]:This code snippet describes a part of the Twitter app\\'s UI that displays a feed of tweets. The feed is positioned within a ViewPager and can be scrolled horizontally between two tabs: \"For you\" and \"Following\". Each tweet in the feed is displayed as a row and includes the tweet author\\'s avatar, screen name, tweet text, and information on the tweet\\'s engagement (replies, retweets, likes, views, and shares). Users can interact with each tweet row using buttons to reply, retweet, like, view counts, and share the tweet. Additionally, tweet rows may include embedded media (such as videos).\\n[Block 2]:This code snippet defines a user interface element of a Twitter app that represents the \\'New Tweet\\' button. The element is of the type \\'widget.ImageButton\\' and its resource-id is \\'twitter.android:id/composer_write\\'. When clicked, it triggers the functionality for the user to start composing a new tweet. This element is contained within a parent layout of the type \\'view.ViewGroup\\', and has an ID of 93.\\n[Block 3]:This code snippet describes a part of a UI for the Twitter Android app, which includes various clickable options in a horizontal scroll view. The options include channels, a search function, spaces, notifications, and direct messages. Clicking on any of these options would perform specific actions within the app, such as displaying certain channels or opening the notifications tab.\\n\\n Just ask [Yes, Block id] if any block is related or [No] if not.'}]\n",
      "\n",
      "*** Answer ***\n",
      " {\n",
      "  \"content\": \"Yes, Block 0 is related to the task \\\"log out current user\\\" as it contains the toolbar that provides a convenient way for accessing important features of the Twitter app, including the option to log out.\",\n",
      "  \"role\": \"assistant\"\n",
      "}\n"
     ]
    },
    {
     "data": {
      "text/plain": [
       "<OpenAIObject at 0x21d7f93efc0> JSON: {\n",
       "  \"content\": \"Yes, Block 0 is related to the task \\\"log out current user\\\" as it contains the toolbar that provides a convenient way for accessing important features of the Twitter app, including the option to log out.\",\n",
       "  \"role\": \"assistant\"\n",
       "}"
      ]
     },
     "execution_count": 4,
     "metadata": {},
     "output_type": "execute_result"
    }
   ],
   "source": [
    "aut.ask_openai_conversation()"
   ]
  },
  {
   "cell_type": "code",
   "execution_count": 5,
   "id": "538a2ee2",
   "metadata": {},
   "outputs": [
    {
     "data": {
      "text/plain": [
       "''"
      ]
     },
     "execution_count": 5,
     "metadata": {},
     "output_type": "execute_result"
    }
   ],
   "source": [
    "aut.block_identification"
   ]
  },
  {
   "cell_type": "code",
   "execution_count": null,
   "id": "a692e7a7",
   "metadata": {},
   "outputs": [],
   "source": []
  }
 ],
 "metadata": {
  "kernelspec": {
   "display_name": "Python 3 (ipykernel)",
   "language": "python",
   "name": "python3"
  },
  "language_info": {
   "codemirror_mode": {
    "name": "ipython",
    "version": 3
   },
   "file_extension": ".py",
   "mimetype": "text/x-python",
   "name": "python",
   "nbconvert_exporter": "python",
   "pygments_lexer": "ipython3",
   "version": "3.10.10"
  }
 },
 "nbformat": 4,
 "nbformat_minor": 5
}
