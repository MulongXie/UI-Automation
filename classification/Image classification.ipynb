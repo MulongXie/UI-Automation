{
 "cells": [
  {
   "cell_type": "code",
   "execution_count": 2,
   "id": "b8f6fc56",
   "metadata": {
    "pycharm": {
     "name": "#%%\n"
    }
   },
   "outputs": [],
   "source": [
    "from cnn.ImgClassifier import ImgClassifier\n",
    "import cv2"
   ]
  },
  {
   "cell_type": "code",
   "execution_count": 2,
   "id": "a5f21946",
   "metadata": {
    "pycharm": {
     "name": "#%%\n"
    }
   },
   "outputs": [],
   "source": [
    "img_cls = ImgClassifier()"
   ]
  },
  {
   "cell_type": "code",
   "execution_count": 3,
   "id": "b2c7a8a0",
   "metadata": {
    "pycharm": {
     "name": "#%%\n"
    }
   },
   "outputs": [
    {
     "name": "stdout",
     "output_type": "stream",
     "text": [
      " cock\n",
      " leatherback turtle leatherback leathery turtle Dermochelys coriacea\n",
      " nematode nematode worm roundworm\n"
     ]
    },
    {
     "data": {
      "text/plain": [
       "[' cock',\n",
       " ' leatherback turtle leatherback leathery turtle Dermochelys coriacea',\n",
       " ' nematode nematode worm roundworm']"
      ]
     },
     "execution_count": 3,
     "metadata": {},
     "output_type": "execute_result"
    }
   ],
   "source": [
    "imgs = ['data/cock.jpeg', 'data/tench.jpeg', 'data/nematode.jpg']\n",
    "img_cls.predict_images(imgs, show=True)"
   ]
  },
  {
   "cell_type": "code",
   "execution_count": null,
   "id": "a7a645f8",
   "metadata": {
    "pycharm": {
     "name": "#%%\n"
    }
   },
   "outputs": [],
   "source": []
  },
  {
   "cell_type": "code",
   "execution_count": null,
   "id": "09c696c0",
   "metadata": {
    "pycharm": {
     "name": "#%%\n"
    }
   },
   "outputs": [],
   "source": []
  },
  {
   "cell_type": "code",
   "execution_count": 5,
   "id": "c55b298b",
   "metadata": {
    "pycharm": {
     "name": "#%%\n"
    }
   },
   "outputs": [],
   "source": [
    "from glob import glob"
   ]
  },
  {
   "cell_type": "code",
   "execution_count": 6,
   "id": "a174f8f2",
   "metadata": {
    "pycharm": {
     "name": "#%%\n"
    }
   },
   "outputs": [],
   "source": [
    "files = glob('/home/ml/Data/rico/component/Image/*')[:100]"
   ]
  },
  {
   "cell_type": "code",
   "execution_count": 8,
   "id": "2b7527fb",
   "metadata": {
    "pycharm": {
     "name": "#%%\n"
    }
   },
   "outputs": [],
   "source": [
    "img_cls.predict_images(files, show=True)"
   ]
  },
  {
   "cell_type": "code",
   "execution_count": null,
   "id": "67a5d7e0",
   "metadata": {
    "pycharm": {
     "name": "#%%\n"
    }
   },
   "outputs": [],
   "source": []
  },
  {
   "cell_type": "code",
   "execution_count": null,
   "id": "20d53b64",
   "metadata": {
    "pycharm": {
     "name": "#%%\n"
    }
   },
   "outputs": [],
   "source": [
    "import tensorflow as tf\n",
    "import tensorflow.keras as keras\n",
    "from keras_applications.resnet50 import ResNet50\n",
    "\n",
    "with tf.Graph().as_default():\n",
    "    img_cls = ImgClassifier()\n",
    "    imgs = ['data/cock.jpeg', 'data/tench.jpeg', 'data/nematode.jpg']\n",
    "    img_cls.predict_images(imgs, show=True)\n",
    "    \n",
    "with tf.Graph().as_default():\n",
    "    img_cls = ImgClassifier()    \n",
    "    imgs = ['data/cock.jpeg', 'data/tench.jpeg', 'data/nematode.jpg']\n",
    "    img_cls.predict_images(imgs, show=True)"
   ]
  }
 ],
 "metadata": {
  "kernelspec": {
   "display_name": "Python 3",
   "language": "python",
   "name": "python3"
  },
  "language_info": {
   "codemirror_mode": {
    "name": "ipython",
    "version": 3
   },
   "file_extension": ".py",
   "mimetype": "text/x-python",
   "name": "python",
   "nbconvert_exporter": "python",
   "pygments_lexer": "ipython3",
   "version": "3.6.9"
  }
 },
 "nbformat": 4,
 "nbformat_minor": 5
}