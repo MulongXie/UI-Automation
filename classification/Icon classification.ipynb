{
 "cells": [
  {
   "cell_type": "code",
   "execution_count": 2,
   "id": "96e08061",
   "metadata": {},
   "outputs": [],
   "source": [
    "from cnn.Data import Data\n",
    "from cnn.CNN import CNN"
   ]
  },
  {
   "cell_type": "code",
   "execution_count": 2,
   "id": "73d9a305",
   "metadata": {},
   "outputs": [],
   "source": [
    "# data = Data(cls='compo')\n",
    "data = Data(cls='icon')"
   ]
  },
  {
   "cell_type": "code",
   "execution_count": 3,
   "id": "6fd3d98b",
   "metadata": {},
   "outputs": [
    {
     "name": "stdout",
     "output_type": "stream",
     "text": [
      "836 \t /home/ml/Data/rico/icon/bluetooth\n",
      "3939 \t /home/ml/Data/rico/icon/share\n",
      "13081 \t /home/ml/Data/rico/icon/more\n",
      "730 \t /home/ml/Data/rico/icon/warning\n",
      "908 \t /home/ml/Data/rico/icon/file_download\n",
      "1308 \t /home/ml/Data/rico/icon/list\n",
      "441 \t /home/ml/Data/rico/icon/label\n",
      "860 \t /home/ml/Data/rico/icon/book\n",
      "2209 \t /home/ml/Data/rico/icon/facebook\n",
      "945 \t /home/ml/Data/rico/icon/bookmark\n",
      "345 \t /home/ml/Data/rico/icon/dialpad\n",
      "360 \t /home/ml/Data/rico/icon/swap\n",
      "16937 \t /home/ml/Data/rico/icon/arrow_backward\n",
      "283 \t /home/ml/Data/rico/icon/explore\n",
      "2192 \t /home/ml/Data/rico/icon/info\n",
      "102 \t /home/ml/Data/rico/icon/compare\n",
      "1497 \t /home/ml/Data/rico/icon/photo\n",
      "867 \t /home/ml/Data/rico/icon/delete\n",
      "388 \t /home/ml/Data/rico/icon/navigation\n",
      "510 \t /home/ml/Data/rico/icon/twitter\n",
      "3685 \t /home/ml/Data/rico/icon/chat\n",
      "260 \t /home/ml/Data/rico/icon/thumbs_down\n",
      "295 \t /home/ml/Data/rico/icon/av_rewind\n",
      "600 \t /home/ml/Data/rico/icon/copy\n",
      "1951 \t /home/ml/Data/rico/icon/date_range\n",
      "1061 \t /home/ml/Data/rico/icon/lock\n",
      "171 \t /home/ml/Data/rico/icon/playlist\n",
      "2625 \t /home/ml/Data/rico/icon/expand_more\n",
      "5324 \t /home/ml/Data/rico/icon/add\n",
      "589 \t /home/ml/Data/rico/icon/send\n",
      "1952 \t /home/ml/Data/rico/icon/home\n",
      "1930 \t /home/ml/Data/rico/icon/location\n",
      "391 \t /home/ml/Data/rico/icon/filter\n",
      "921 \t /home/ml/Data/rico/icon/thumbs_up\n",
      "289 \t /home/ml/Data/rico/icon/av_forward\n",
      "1533 \t /home/ml/Data/rico/icon/help\n",
      "958 \t /home/ml/Data/rico/icon/visibility\n",
      "954 \t /home/ml/Data/rico/icon/call\n",
      "1693 \t /home/ml/Data/rico/icon/wallpaper\n",
      "243 \t /home/ml/Data/rico/icon/history\n",
      "899 \t /home/ml/Data/rico/icon/microphone\n",
      "4007 \t /home/ml/Data/rico/icon/favorite\n",
      "1633 \t /home/ml/Data/rico/icon/emoji\n",
      "2463 \t /home/ml/Data/rico/icon/check\n",
      "2288 \t /home/ml/Data/rico/icon/refresh\n",
      "5702 \t /home/ml/Data/rico/icon/close\n",
      "1012 \t /home/ml/Data/rico/icon/folder\n",
      "346 \t /home/ml/Data/rico/icon/dashboard\n",
      "894 \t /home/ml/Data/rico/icon/music\n",
      "242 \t /home/ml/Data/rico/icon/power\n",
      "1228 \t /home/ml/Data/rico/icon/location_crosshair\n",
      "1847 \t /home/ml/Data/rico/icon/sliders\n",
      "6535 \t /home/ml/Data/rico/icon/star\n",
      "7709 \t /home/ml/Data/rico/icon/search\n",
      "1321 \t /home/ml/Data/rico/icon/email\n",
      "1603 \t /home/ml/Data/rico/icon/globe\n",
      "1618 \t /home/ml/Data/rico/icon/time\n",
      "1764 \t /home/ml/Data/rico/icon/weather\n",
      "959 \t /home/ml/Data/rico/icon/group\n",
      "456 \t /home/ml/Data/rico/icon/description\n",
      "9724 \t /home/ml/Data/rico/icon/avatar\n",
      "663 \t /home/ml/Data/rico/icon/arrow_upward\n",
      "291 \t /home/ml/Data/rico/icon/undo\n",
      "5101 \t /home/ml/Data/rico/icon/play\n",
      "11787 \t /home/ml/Data/rico/icon/menu\n",
      "172 \t /home/ml/Data/rico/icon/skip_previous\n",
      "326 \t /home/ml/Data/rico/icon/flight\n",
      "548 \t /home/ml/Data/rico/icon/expand_less\n",
      "5878 \t /home/ml/Data/rico/icon/arrow_forward\n",
      "375 \t /home/ml/Data/rico/icon/save\n",
      "336 \t /home/ml/Data/rico/icon/fullscreen\n",
      "213 \t /home/ml/Data/rico/icon/redo\n",
      "726 \t /home/ml/Data/rico/icon/shop\n",
      "503 \t /home/ml/Data/rico/icon/gift\n",
      "1461 \t /home/ml/Data/rico/icon/volume\n",
      "1323 \t /home/ml/Data/rico/icon/pause\n",
      "563 \t /home/ml/Data/rico/icon/filter_list\n",
      "1807 \t /home/ml/Data/rico/icon/cart\n",
      "155 \t /home/ml/Data/rico/icon/repeat\n",
      "78 \t /home/ml/Data/rico/icon/zoom_out\n",
      "1046 \t /home/ml/Data/rico/icon/switcher\n",
      "1163 \t /home/ml/Data/rico/icon/font\n",
      "1512 \t /home/ml/Data/rico/icon/notifications\n",
      "542 \t /home/ml/Data/rico/icon/arrow_downward\n",
      "3546 \t /home/ml/Data/rico/icon/settings\n",
      "318 \t /home/ml/Data/rico/icon/layers\n",
      "635 \t /home/ml/Data/rico/icon/follow\n",
      "172 \t /home/ml/Data/rico/icon/launch\n",
      "269 \t /home/ml/Data/rico/icon/flash\n",
      "145 \t /home/ml/Data/rico/icon/attach_file\n",
      "134 \t /home/ml/Data/rico/icon/reply\n",
      "1190 \t /home/ml/Data/rico/icon/minus\n",
      "1943 \t /home/ml/Data/rico/icon/national_flag\n",
      "1967 \t /home/ml/Data/rico/icon/edit\n",
      "433 \t /home/ml/Data/rico/icon/skip_next\n",
      "320 \t /home/ml/Data/rico/icon/videocam\n",
      "342 \t /home/ml/Data/rico/icon/build\n",
      "205 \t /home/ml/Data/rico/icon/network_wifi\n"
     ]
    }
   ],
   "source": [
    "data.count_data_in_data_dir()"
   ]
  },
  {
   "cell_type": "code",
   "execution_count": 1,
   "id": "e6ef8508",
   "metadata": {},
   "outputs": [
    {
     "ename": "NameError",
     "evalue": "name 'data' is not defined",
     "output_type": "error",
     "traceback": [
      "\u001b[0;31m---------------------------------------------------------------------------\u001b[0m",
      "\u001b[0;31mNameError\u001b[0m                                 Traceback (most recent call last)",
      "\u001b[0;32m<ipython-input-1-ef6e68558843>\u001b[0m in \u001b[0;36m<module>\u001b[0;34m\u001b[0m\n\u001b[0;32m----> 1\u001b[0;31m \u001b[0mdata\u001b[0m\u001b[0;34m.\u001b[0m\u001b[0mview_images_in_class\u001b[0m\u001b[0;34m(\u001b[0m\u001b[0;34m'launch'\u001b[0m\u001b[0;34m)\u001b[0m\u001b[0;34m\u001b[0m\u001b[0;34m\u001b[0m\u001b[0m\n\u001b[0m",
      "\u001b[0;31mNameError\u001b[0m: name 'data' is not defined"
     ]
    }
   ],
   "source": [
    "data.view_images_in_class('launch')"
   ]
  },
  {
   "cell_type": "code",
   "execution_count": null,
   "id": "97073b22",
   "metadata": {},
   "outputs": [],
   "source": []
  },
  {
   "cell_type": "code",
   "execution_count": 4,
   "id": "6231fb39",
   "metadata": {},
   "outputs": [
    {
     "name": "stdout",
     "output_type": "stream",
     "text": [
      "Total Images: 836; \t Load image in class of bluetooth [0]\n"
     ]
    },
    {
     "name": "stderr",
     "output_type": "stream",
     "text": [
      "100%|██████████| 836/836 [00:00<00:00, 2829.50it/s]\n"
     ]
    },
    {
     "name": "stdout",
     "output_type": "stream",
     "text": [
      "Total Images: 3939; \t Load image in class of share [1]\n"
     ]
    },
    {
     "name": "stderr",
     "output_type": "stream",
     "text": [
      "100%|██████████| 3939/3939 [00:01<00:00, 3706.55it/s]\n"
     ]
    },
    {
     "name": "stdout",
     "output_type": "stream",
     "text": [
      "Total Images: 13081; \t Load image in class of more [2]\n"
     ]
    },
    {
     "name": "stderr",
     "output_type": "stream",
     "text": [
      "100%|██████████| 13081/13081 [00:03<00:00, 4129.70it/s]\n"
     ]
    },
    {
     "name": "stdout",
     "output_type": "stream",
     "text": [
      "Total Images: 730; \t Load image in class of warning [3]\n"
     ]
    },
    {
     "name": "stderr",
     "output_type": "stream",
     "text": [
      "100%|██████████| 730/730 [00:00<00:00, 3786.21it/s]\n"
     ]
    },
    {
     "name": "stdout",
     "output_type": "stream",
     "text": [
      "Total Images: 908; \t Load image in class of file_download [4]\n"
     ]
    },
    {
     "name": "stderr",
     "output_type": "stream",
     "text": [
      "100%|██████████| 908/908 [00:00<00:00, 3884.24it/s]\n"
     ]
    },
    {
     "name": "stdout",
     "output_type": "stream",
     "text": [
      "Total Images: 1308; \t Load image in class of list [5]\n"
     ]
    },
    {
     "name": "stderr",
     "output_type": "stream",
     "text": [
      "100%|██████████| 1308/1308 [00:00<00:00, 3233.71it/s]\n"
     ]
    },
    {
     "name": "stdout",
     "output_type": "stream",
     "text": [
      "Total Images: 441; \t Load image in class of label [6]\n"
     ]
    },
    {
     "name": "stderr",
     "output_type": "stream",
     "text": [
      "100%|██████████| 441/441 [00:00<00:00, 3520.69it/s]\n"
     ]
    },
    {
     "name": "stdout",
     "output_type": "stream",
     "text": [
      "Total Images: 860; \t Load image in class of book [7]\n"
     ]
    },
    {
     "name": "stderr",
     "output_type": "stream",
     "text": [
      "100%|██████████| 860/860 [00:00<00:00, 3169.00it/s]\n"
     ]
    },
    {
     "name": "stdout",
     "output_type": "stream",
     "text": [
      "Total Images: 2209; \t Load image in class of facebook [8]\n"
     ]
    },
    {
     "name": "stderr",
     "output_type": "stream",
     "text": [
      "100%|██████████| 2209/2209 [00:00<00:00, 3162.89it/s]\n"
     ]
    },
    {
     "name": "stdout",
     "output_type": "stream",
     "text": [
      "Total Images: 945; \t Load image in class of bookmark [9]\n"
     ]
    },
    {
     "name": "stderr",
     "output_type": "stream",
     "text": [
      "100%|██████████| 945/945 [00:00<00:00, 3662.08it/s]\n"
     ]
    },
    {
     "name": "stdout",
     "output_type": "stream",
     "text": [
      "Total Images: 345; \t Load image in class of dialpad [10]\n"
     ]
    },
    {
     "name": "stderr",
     "output_type": "stream",
     "text": [
      "100%|██████████| 345/345 [00:00<00:00, 3048.21it/s]\n"
     ]
    },
    {
     "name": "stdout",
     "output_type": "stream",
     "text": [
      "Total Images: 360; \t Load image in class of swap [11]\n"
     ]
    },
    {
     "name": "stderr",
     "output_type": "stream",
     "text": [
      "100%|██████████| 360/360 [00:00<00:00, 3244.32it/s]\n"
     ]
    },
    {
     "name": "stdout",
     "output_type": "stream",
     "text": [
      "Total Images: 16937; \t Load image in class of arrow_backward [12]\n"
     ]
    },
    {
     "name": "stderr",
     "output_type": "stream",
     "text": [
      "100%|██████████| 16937/16937 [00:04<00:00, 3783.89it/s]\n"
     ]
    },
    {
     "name": "stdout",
     "output_type": "stream",
     "text": [
      "Total Images: 283; \t Load image in class of explore [13]\n"
     ]
    },
    {
     "name": "stderr",
     "output_type": "stream",
     "text": [
      "100%|██████████| 283/283 [00:00<00:00, 3642.26it/s]\n"
     ]
    },
    {
     "name": "stdout",
     "output_type": "stream",
     "text": [
      "Total Images: 2192; \t Load image in class of info [14]\n"
     ]
    },
    {
     "name": "stderr",
     "output_type": "stream",
     "text": [
      "100%|██████████| 2192/2192 [00:00<00:00, 3953.07it/s]\n"
     ]
    },
    {
     "name": "stdout",
     "output_type": "stream",
     "text": [
      "Total Images: 102; \t Load image in class of compare [15]\n"
     ]
    },
    {
     "name": "stderr",
     "output_type": "stream",
     "text": [
      "100%|██████████| 102/102 [00:00<00:00, 3949.18it/s]\n"
     ]
    },
    {
     "name": "stdout",
     "output_type": "stream",
     "text": [
      "Total Images: 1497; \t Load image in class of photo [16]\n"
     ]
    },
    {
     "name": "stderr",
     "output_type": "stream",
     "text": [
      "100%|██████████| 1497/1497 [00:00<00:00, 3100.99it/s]\n"
     ]
    },
    {
     "name": "stdout",
     "output_type": "stream",
     "text": [
      "Total Images: 867; \t Load image in class of delete [17]\n"
     ]
    },
    {
     "name": "stderr",
     "output_type": "stream",
     "text": [
      "100%|██████████| 867/867 [00:00<00:00, 3460.64it/s]\n"
     ]
    },
    {
     "name": "stdout",
     "output_type": "stream",
     "text": [
      "Total Images: 388; \t Load image in class of navigation [18]\n"
     ]
    },
    {
     "name": "stderr",
     "output_type": "stream",
     "text": [
      "100%|██████████| 388/388 [00:00<00:00, 3485.28it/s]\n"
     ]
    },
    {
     "name": "stdout",
     "output_type": "stream",
     "text": [
      "Total Images: 510; \t Load image in class of twitter [19]\n"
     ]
    },
    {
     "name": "stderr",
     "output_type": "stream",
     "text": [
      "100%|██████████| 510/510 [00:00<00:00, 3170.46it/s]\n"
     ]
    },
    {
     "name": "stdout",
     "output_type": "stream",
     "text": [
      "Total Images: 3685; \t Load image in class of chat [20]\n"
     ]
    },
    {
     "name": "stderr",
     "output_type": "stream",
     "text": [
      "100%|██████████| 3685/3685 [00:01<00:00, 3375.88it/s]\n"
     ]
    },
    {
     "name": "stdout",
     "output_type": "stream",
     "text": [
      "Total Images: 260; \t Load image in class of thumbs_down [21]\n"
     ]
    },
    {
     "name": "stderr",
     "output_type": "stream",
     "text": [
      "100%|██████████| 260/260 [00:00<00:00, 3762.25it/s]\n"
     ]
    },
    {
     "name": "stdout",
     "output_type": "stream",
     "text": [
      "Total Images: 295; \t Load image in class of av_rewind [22]\n"
     ]
    },
    {
     "name": "stderr",
     "output_type": "stream",
     "text": [
      "100%|██████████| 295/295 [00:00<00:00, 2297.17it/s]"
     ]
    },
    {
     "name": "stdout",
     "output_type": "stream",
     "text": [
      "Total Images: 600; \t Load image in class of copy [23]\n"
     ]
    },
    {
     "name": "stderr",
     "output_type": "stream",
     "text": [
      "\n",
      "100%|██████████| 600/600 [00:00<00:00, 4354.80it/s]\n"
     ]
    },
    {
     "name": "stdout",
     "output_type": "stream",
     "text": [
      "Total Images: 1951; \t Load image in class of date_range [24]\n"
     ]
    },
    {
     "name": "stderr",
     "output_type": "stream",
     "text": [
      "100%|██████████| 1951/1951 [00:00<00:00, 3039.05it/s]\n"
     ]
    },
    {
     "name": "stdout",
     "output_type": "stream",
     "text": [
      "Total Images: 1061; \t Load image in class of lock [25]\n"
     ]
    },
    {
     "name": "stderr",
     "output_type": "stream",
     "text": [
      "100%|██████████| 1061/1061 [00:00<00:00, 3512.75it/s]\n"
     ]
    },
    {
     "name": "stdout",
     "output_type": "stream",
     "text": [
      "Total Images: 171; \t Load image in class of playlist [26]\n"
     ]
    },
    {
     "name": "stderr",
     "output_type": "stream",
     "text": [
      "100%|██████████| 171/171 [00:00<00:00, 3287.87it/s]\n"
     ]
    },
    {
     "name": "stdout",
     "output_type": "stream",
     "text": [
      "Total Images: 2625; \t Load image in class of expand_more [27]\n"
     ]
    },
    {
     "name": "stderr",
     "output_type": "stream",
     "text": [
      "100%|██████████| 2625/2625 [00:00<00:00, 4893.17it/s]\n"
     ]
    },
    {
     "name": "stdout",
     "output_type": "stream",
     "text": [
      "Total Images: 5324; \t Load image in class of add [28]\n"
     ]
    },
    {
     "name": "stderr",
     "output_type": "stream",
     "text": [
      "100%|██████████| 5324/5324 [00:01<00:00, 3355.88it/s]\n"
     ]
    },
    {
     "name": "stdout",
     "output_type": "stream",
     "text": [
      "Total Images: 589; \t Load image in class of send [29]\n"
     ]
    },
    {
     "name": "stderr",
     "output_type": "stream",
     "text": [
      "100%|██████████| 589/589 [00:00<00:00, 4234.26it/s]\n"
     ]
    },
    {
     "name": "stdout",
     "output_type": "stream",
     "text": [
      "Total Images: 1952; \t Load image in class of home [30]\n"
     ]
    },
    {
     "name": "stderr",
     "output_type": "stream",
     "text": [
      "100%|██████████| 1952/1952 [00:00<00:00, 3378.81it/s]\n"
     ]
    },
    {
     "name": "stdout",
     "output_type": "stream",
     "text": [
      "Total Images: 1930; \t Load image in class of location [31]\n"
     ]
    },
    {
     "name": "stderr",
     "output_type": "stream",
     "text": [
      "100%|██████████| 1930/1930 [00:00<00:00, 3778.36it/s]\n"
     ]
    },
    {
     "name": "stdout",
     "output_type": "stream",
     "text": [
      "Total Images: 391; \t Load image in class of filter [32]\n"
     ]
    },
    {
     "name": "stderr",
     "output_type": "stream",
     "text": [
      "100%|██████████| 391/391 [00:00<00:00, 3484.00it/s]\n"
     ]
    },
    {
     "name": "stdout",
     "output_type": "stream",
     "text": [
      "Total Images: 921; \t Load image in class of thumbs_up [33]\n"
     ]
    },
    {
     "name": "stderr",
     "output_type": "stream",
     "text": [
      "100%|██████████| 921/921 [00:00<00:00, 4297.28it/s]\n"
     ]
    },
    {
     "name": "stdout",
     "output_type": "stream",
     "text": [
      "Total Images: 289; \t Load image in class of av_forward [34]\n"
     ]
    },
    {
     "name": "stderr",
     "output_type": "stream",
     "text": [
      "100%|██████████| 289/289 [00:00<00:00, 3091.72it/s]\n"
     ]
    },
    {
     "name": "stdout",
     "output_type": "stream",
     "text": [
      "Total Images: 1533; \t Load image in class of help [35]\n"
     ]
    },
    {
     "name": "stderr",
     "output_type": "stream",
     "text": [
      "100%|██████████| 1533/1533 [00:00<00:00, 3385.11it/s]\n"
     ]
    },
    {
     "name": "stdout",
     "output_type": "stream",
     "text": [
      "Total Images: 958; \t Load image in class of visibility [36]\n"
     ]
    },
    {
     "name": "stderr",
     "output_type": "stream",
     "text": [
      "100%|██████████| 958/958 [00:00<00:00, 3873.95it/s]\n"
     ]
    },
    {
     "name": "stdout",
     "output_type": "stream",
     "text": [
      "Total Images: 954; \t Load image in class of call [37]\n"
     ]
    },
    {
     "name": "stderr",
     "output_type": "stream",
     "text": [
      "100%|██████████| 954/954 [00:00<00:00, 3357.18it/s]\n"
     ]
    },
    {
     "name": "stdout",
     "output_type": "stream",
     "text": [
      "Total Images: 1693; \t Load image in class of wallpaper [38]\n"
     ]
    },
    {
     "name": "stderr",
     "output_type": "stream",
     "text": [
      "100%|██████████| 1693/1693 [00:00<00:00, 3948.04it/s]\n"
     ]
    },
    {
     "name": "stdout",
     "output_type": "stream",
     "text": [
      "Total Images: 243; \t Load image in class of history [39]\n"
     ]
    },
    {
     "name": "stderr",
     "output_type": "stream",
     "text": [
      "100%|██████████| 243/243 [00:00<00:00, 3686.28it/s]\n"
     ]
    },
    {
     "name": "stdout",
     "output_type": "stream",
     "text": [
      "Total Images: 899; \t Load image in class of microphone [40]\n"
     ]
    },
    {
     "name": "stderr",
     "output_type": "stream",
     "text": [
      "100%|██████████| 899/899 [00:00<00:00, 3395.26it/s]\n"
     ]
    },
    {
     "name": "stdout",
     "output_type": "stream",
     "text": [
      "Total Images: 4007; \t Load image in class of favorite [41]\n"
     ]
    },
    {
     "name": "stderr",
     "output_type": "stream",
     "text": [
      "100%|██████████| 4007/4007 [00:01<00:00, 3741.80it/s]\n"
     ]
    },
    {
     "name": "stdout",
     "output_type": "stream",
     "text": [
      "Total Images: 1633; \t Load image in class of emoji [42]\n"
     ]
    },
    {
     "name": "stderr",
     "output_type": "stream",
     "text": [
      "100%|██████████| 1633/1633 [00:00<00:00, 2844.05it/s]\n"
     ]
    },
    {
     "name": "stdout",
     "output_type": "stream",
     "text": [
      "Total Images: 2463; \t Load image in class of check [43]\n"
     ]
    },
    {
     "name": "stderr",
     "output_type": "stream",
     "text": [
      "100%|██████████| 2463/2463 [00:00<00:00, 3637.45it/s]\n"
     ]
    },
    {
     "name": "stdout",
     "output_type": "stream",
     "text": [
      "Total Images: 2288; \t Load image in class of refresh [44]\n"
     ]
    },
    {
     "name": "stderr",
     "output_type": "stream",
     "text": [
      "100%|██████████| 2288/2288 [00:00<00:00, 3397.60it/s]\n"
     ]
    },
    {
     "name": "stdout",
     "output_type": "stream",
     "text": [
      "Total Images: 5702; \t Load image in class of close [45]\n"
     ]
    },
    {
     "name": "stderr",
     "output_type": "stream",
     "text": [
      "100%|██████████| 5702/5702 [00:01<00:00, 3431.67it/s]\n"
     ]
    },
    {
     "name": "stdout",
     "output_type": "stream",
     "text": [
      "Total Images: 1012; \t Load image in class of folder [46]\n"
     ]
    },
    {
     "name": "stderr",
     "output_type": "stream",
     "text": [
      "100%|██████████| 1012/1012 [00:00<00:00, 3609.97it/s]\n"
     ]
    },
    {
     "name": "stdout",
     "output_type": "stream",
     "text": [
      "Total Images: 346; \t Load image in class of dashboard [47]\n"
     ]
    },
    {
     "name": "stderr",
     "output_type": "stream",
     "text": [
      "100%|██████████| 346/346 [00:00<00:00, 3378.94it/s]\n"
     ]
    },
    {
     "name": "stdout",
     "output_type": "stream",
     "text": [
      "Total Images: 894; \t Load image in class of music [48]\n"
     ]
    },
    {
     "name": "stderr",
     "output_type": "stream",
     "text": [
      "100%|██████████| 894/894 [00:00<00:00, 3034.57it/s]\n"
     ]
    },
    {
     "name": "stdout",
     "output_type": "stream",
     "text": [
      "Total Images: 242; \t Load image in class of power [49]\n"
     ]
    },
    {
     "name": "stderr",
     "output_type": "stream",
     "text": [
      "100%|██████████| 242/242 [00:00<00:00, 3027.38it/s]\n"
     ]
    },
    {
     "name": "stdout",
     "output_type": "stream",
     "text": [
      "Total Images: 1228; \t Load image in class of location_crosshair [50]\n"
     ]
    },
    {
     "name": "stderr",
     "output_type": "stream",
     "text": [
      "100%|██████████| 1228/1228 [00:00<00:00, 3025.40it/s]\n"
     ]
    },
    {
     "name": "stdout",
     "output_type": "stream",
     "text": [
      "Total Images: 1847; \t Load image in class of sliders [51]\n"
     ]
    },
    {
     "name": "stderr",
     "output_type": "stream",
     "text": [
      "100%|██████████| 1847/1847 [00:00<00:00, 2973.50it/s]\n"
     ]
    },
    {
     "name": "stdout",
     "output_type": "stream",
     "text": [
      "Total Images: 6535; \t Load image in class of star [52]\n"
     ]
    },
    {
     "name": "stderr",
     "output_type": "stream",
     "text": [
      "100%|██████████| 6535/6535 [00:01<00:00, 3897.11it/s]\n"
     ]
    },
    {
     "name": "stdout",
     "output_type": "stream",
     "text": [
      "Total Images: 7709; \t Load image in class of search [53]\n"
     ]
    },
    {
     "name": "stderr",
     "output_type": "stream",
     "text": [
      "100%|██████████| 7709/7709 [00:02<00:00, 3708.46it/s]\n"
     ]
    },
    {
     "name": "stdout",
     "output_type": "stream",
     "text": [
      "Total Images: 1321; \t Load image in class of email [54]\n"
     ]
    },
    {
     "name": "stderr",
     "output_type": "stream",
     "text": [
      "100%|██████████| 1321/1321 [00:00<00:00, 3067.46it/s]\n"
     ]
    },
    {
     "name": "stdout",
     "output_type": "stream",
     "text": [
      "Total Images: 1603; \t Load image in class of globe [55]\n"
     ]
    },
    {
     "name": "stderr",
     "output_type": "stream",
     "text": [
      "100%|██████████| 1603/1603 [00:00<00:00, 3713.02it/s]\n"
     ]
    },
    {
     "name": "stdout",
     "output_type": "stream",
     "text": [
      "Total Images: 1618; \t Load image in class of time [56]\n"
     ]
    },
    {
     "name": "stderr",
     "output_type": "stream",
     "text": [
      "100%|██████████| 1618/1618 [00:00<00:00, 3760.27it/s]\n"
     ]
    },
    {
     "name": "stdout",
     "output_type": "stream",
     "text": [
      "Total Images: 1764; \t Load image in class of weather [57]\n"
     ]
    },
    {
     "name": "stderr",
     "output_type": "stream",
     "text": [
      "100%|██████████| 1764/1764 [00:00<00:00, 3301.94it/s]\n"
     ]
    },
    {
     "name": "stdout",
     "output_type": "stream",
     "text": [
      "Total Images: 959; \t Load image in class of group [58]\n"
     ]
    },
    {
     "name": "stderr",
     "output_type": "stream",
     "text": [
      "100%|██████████| 959/959 [00:00<00:00, 3008.49it/s]\n"
     ]
    },
    {
     "name": "stdout",
     "output_type": "stream",
     "text": [
      "Total Images: 456; \t Load image in class of description [59]\n"
     ]
    },
    {
     "name": "stderr",
     "output_type": "stream",
     "text": [
      "100%|██████████| 456/456 [00:00<00:00, 3549.03it/s]\n"
     ]
    },
    {
     "name": "stdout",
     "output_type": "stream",
     "text": [
      "Total Images: 9724; \t Load image in class of avatar [60]\n"
     ]
    },
    {
     "name": "stderr",
     "output_type": "stream",
     "text": [
      "100%|██████████| 9724/9724 [00:03<00:00, 2871.67it/s]\n"
     ]
    },
    {
     "name": "stdout",
     "output_type": "stream",
     "text": [
      "Total Images: 663; \t Load image in class of arrow_upward [61]\n"
     ]
    },
    {
     "name": "stderr",
     "output_type": "stream",
     "text": [
      "100%|██████████| 663/663 [00:00<00:00, 4525.20it/s]\n"
     ]
    },
    {
     "name": "stdout",
     "output_type": "stream",
     "text": [
      "Total Images: 291; \t Load image in class of undo [62]\n"
     ]
    },
    {
     "name": "stderr",
     "output_type": "stream",
     "text": [
      "100%|██████████| 291/291 [00:00<00:00, 3249.84it/s]\n"
     ]
    },
    {
     "name": "stdout",
     "output_type": "stream",
     "text": [
      "Total Images: 5101; \t Load image in class of play [63]\n"
     ]
    },
    {
     "name": "stderr",
     "output_type": "stream",
     "text": [
      "100%|██████████| 5101/5101 [00:01<00:00, 3460.73it/s]\n"
     ]
    },
    {
     "name": "stdout",
     "output_type": "stream",
     "text": [
      "Total Images: 11787; \t Load image in class of menu [64]\n"
     ]
    },
    {
     "name": "stderr",
     "output_type": "stream",
     "text": [
      "100%|██████████| 11787/11787 [00:03<00:00, 3696.65it/s]\n"
     ]
    },
    {
     "name": "stdout",
     "output_type": "stream",
     "text": [
      "Total Images: 172; \t Load image in class of skip_previous [65]\n"
     ]
    },
    {
     "name": "stderr",
     "output_type": "stream",
     "text": [
      "100%|██████████| 172/172 [00:00<00:00, 3065.36it/s]\n"
     ]
    },
    {
     "name": "stdout",
     "output_type": "stream",
     "text": [
      "Total Images: 326; \t Load image in class of flight [66]\n"
     ]
    },
    {
     "name": "stderr",
     "output_type": "stream",
     "text": [
      "100%|██████████| 326/326 [00:00<00:00, 3727.11it/s]\n"
     ]
    },
    {
     "name": "stdout",
     "output_type": "stream",
     "text": [
      "Total Images: 548; \t Load image in class of expand_less [67]\n"
     ]
    },
    {
     "name": "stderr",
     "output_type": "stream",
     "text": [
      "100%|██████████| 548/548 [00:00<00:00, 4576.30it/s]\n"
     ]
    },
    {
     "name": "stdout",
     "output_type": "stream",
     "text": [
      "Total Images: 5878; \t Load image in class of arrow_forward [68]\n"
     ]
    },
    {
     "name": "stderr",
     "output_type": "stream",
     "text": [
      "100%|██████████| 5878/5878 [00:01<00:00, 4839.08it/s]\n"
     ]
    },
    {
     "name": "stdout",
     "output_type": "stream",
     "text": [
      "Total Images: 375; \t Load image in class of save [69]\n"
     ]
    },
    {
     "name": "stderr",
     "output_type": "stream",
     "text": [
      "100%|██████████| 375/375 [00:00<00:00, 3237.97it/s]\n"
     ]
    },
    {
     "name": "stdout",
     "output_type": "stream",
     "text": [
      "Total Images: 336; \t Load image in class of fullscreen [70]\n"
     ]
    },
    {
     "name": "stderr",
     "output_type": "stream",
     "text": [
      "100%|██████████| 336/336 [00:00<00:00, 3083.22it/s]\n"
     ]
    },
    {
     "name": "stdout",
     "output_type": "stream",
     "text": [
      "Total Images: 213; \t Load image in class of redo [71]\n"
     ]
    },
    {
     "name": "stderr",
     "output_type": "stream",
     "text": [
      "100%|██████████| 213/213 [00:00<00:00, 3713.58it/s]\n"
     ]
    },
    {
     "name": "stdout",
     "output_type": "stream",
     "text": [
      "Total Images: 726; \t Load image in class of shop [72]\n"
     ]
    },
    {
     "name": "stderr",
     "output_type": "stream",
     "text": [
      "100%|██████████| 726/726 [00:00<00:00, 3122.94it/s]\n"
     ]
    },
    {
     "name": "stdout",
     "output_type": "stream",
     "text": [
      "Total Images: 503; \t Load image in class of gift [73]\n"
     ]
    },
    {
     "name": "stderr",
     "output_type": "stream",
     "text": [
      "100%|██████████| 503/503 [00:00<00:00, 2876.61it/s]\n"
     ]
    },
    {
     "name": "stdout",
     "output_type": "stream",
     "text": [
      "Total Images: 1461; \t Load image in class of volume [74]\n"
     ]
    },
    {
     "name": "stderr",
     "output_type": "stream",
     "text": [
      "100%|██████████| 1461/1461 [00:00<00:00, 3526.33it/s]\n"
     ]
    },
    {
     "name": "stdout",
     "output_type": "stream",
     "text": [
      "Total Images: 1323; \t Load image in class of pause [75]\n"
     ]
    },
    {
     "name": "stderr",
     "output_type": "stream",
     "text": [
      "100%|██████████| 1323/1323 [00:00<00:00, 3199.53it/s]\n"
     ]
    },
    {
     "name": "stdout",
     "output_type": "stream",
     "text": [
      "Total Images: 563; \t Load image in class of filter_list [76]\n"
     ]
    },
    {
     "name": "stderr",
     "output_type": "stream",
     "text": [
      "100%|██████████| 563/563 [00:00<00:00, 3940.59it/s]\n"
     ]
    },
    {
     "name": "stdout",
     "output_type": "stream",
     "text": [
      "Total Images: 1807; \t Load image in class of cart [77]\n"
     ]
    },
    {
     "name": "stderr",
     "output_type": "stream",
     "text": [
      "100%|██████████| 1807/1807 [00:00<00:00, 3487.78it/s]\n"
     ]
    },
    {
     "name": "stdout",
     "output_type": "stream",
     "text": [
      "Total Images: 155; \t Load image in class of repeat [78]\n"
     ]
    },
    {
     "name": "stderr",
     "output_type": "stream",
     "text": [
      "100%|██████████| 155/155 [00:00<00:00, 3621.22it/s]\n"
     ]
    },
    {
     "name": "stdout",
     "output_type": "stream",
     "text": [
      "Total Images: 78; \t Load image in class of zoom_out [79]\n"
     ]
    },
    {
     "name": "stderr",
     "output_type": "stream",
     "text": [
      "100%|██████████| 78/78 [00:00<00:00, 3196.41it/s]\n"
     ]
    },
    {
     "name": "stdout",
     "output_type": "stream",
     "text": [
      "Total Images: 1046; \t Load image in class of switcher [80]\n"
     ]
    },
    {
     "name": "stderr",
     "output_type": "stream",
     "text": [
      "100%|██████████| 1046/1046 [00:00<00:00, 3667.43it/s]\n"
     ]
    },
    {
     "name": "stdout",
     "output_type": "stream",
     "text": [
      "Total Images: 1163; \t Load image in class of font [81]\n"
     ]
    },
    {
     "name": "stderr",
     "output_type": "stream",
     "text": [
      "100%|██████████| 1163/1163 [00:00<00:00, 3336.60it/s]\n"
     ]
    },
    {
     "name": "stdout",
     "output_type": "stream",
     "text": [
      "Total Images: 1512; \t Load image in class of notifications [82]\n"
     ]
    },
    {
     "name": "stderr",
     "output_type": "stream",
     "text": [
      "100%|██████████| 1512/1512 [00:00<00:00, 3823.41it/s]\n"
     ]
    },
    {
     "name": "stdout",
     "output_type": "stream",
     "text": [
      "Total Images: 542; \t Load image in class of arrow_downward [83]\n"
     ]
    },
    {
     "name": "stderr",
     "output_type": "stream",
     "text": [
      "100%|██████████| 542/542 [00:00<00:00, 4621.39it/s]\n"
     ]
    },
    {
     "name": "stdout",
     "output_type": "stream",
     "text": [
      "Total Images: 3546; \t Load image in class of settings [84]\n"
     ]
    },
    {
     "name": "stderr",
     "output_type": "stream",
     "text": [
      "100%|██████████| 3546/3546 [00:01<00:00, 3241.15it/s]\n"
     ]
    },
    {
     "name": "stdout",
     "output_type": "stream",
     "text": [
      "Total Images: 318; \t Load image in class of layers [85]\n"
     ]
    },
    {
     "name": "stderr",
     "output_type": "stream",
     "text": [
      "100%|██████████| 318/318 [00:00<00:00, 3121.00it/s]\n"
     ]
    },
    {
     "name": "stdout",
     "output_type": "stream",
     "text": [
      "Total Images: 635; \t Load image in class of follow [86]\n"
     ]
    },
    {
     "name": "stderr",
     "output_type": "stream",
     "text": [
      "100%|██████████| 635/635 [00:00<00:00, 3279.48it/s]\n"
     ]
    },
    {
     "name": "stdout",
     "output_type": "stream",
     "text": [
      "Total Images: 172; \t Load image in class of launch [87]\n"
     ]
    },
    {
     "name": "stderr",
     "output_type": "stream",
     "text": [
      "100%|██████████| 172/172 [00:00<00:00, 3733.63it/s]\n"
     ]
    },
    {
     "name": "stdout",
     "output_type": "stream",
     "text": [
      "Total Images: 269; \t Load image in class of flash [88]\n"
     ]
    },
    {
     "name": "stderr",
     "output_type": "stream",
     "text": [
      "100%|██████████| 269/269 [00:00<00:00, 3500.65it/s]\n"
     ]
    },
    {
     "name": "stdout",
     "output_type": "stream",
     "text": [
      "Total Images: 145; \t Load image in class of attach_file [89]\n"
     ]
    },
    {
     "name": "stderr",
     "output_type": "stream",
     "text": [
      "100%|██████████| 145/145 [00:00<00:00, 3340.99it/s]\n"
     ]
    },
    {
     "name": "stdout",
     "output_type": "stream",
     "text": [
      "Total Images: 134; \t Load image in class of reply [90]\n"
     ]
    },
    {
     "name": "stderr",
     "output_type": "stream",
     "text": [
      "100%|██████████| 134/134 [00:00<00:00, 3811.68it/s]\n"
     ]
    },
    {
     "name": "stdout",
     "output_type": "stream",
     "text": [
      "Total Images: 1190; \t Load image in class of minus [91]\n"
     ]
    },
    {
     "name": "stderr",
     "output_type": "stream",
     "text": [
      "100%|██████████| 1190/1190 [00:00<00:00, 4018.42it/s]\n"
     ]
    },
    {
     "name": "stdout",
     "output_type": "stream",
     "text": [
      "Total Images: 1943; \t Load image in class of national_flag [92]\n"
     ]
    },
    {
     "name": "stderr",
     "output_type": "stream",
     "text": [
      "100%|██████████| 1943/1943 [00:00<00:00, 3683.81it/s]\n"
     ]
    },
    {
     "name": "stdout",
     "output_type": "stream",
     "text": [
      "Total Images: 1967; \t Load image in class of edit [93]\n"
     ]
    },
    {
     "name": "stderr",
     "output_type": "stream",
     "text": [
      "100%|██████████| 1967/1967 [00:00<00:00, 3253.05it/s]\n"
     ]
    },
    {
     "name": "stdout",
     "output_type": "stream",
     "text": [
      "Total Images: 433; \t Load image in class of skip_next [94]\n"
     ]
    },
    {
     "name": "stderr",
     "output_type": "stream",
     "text": [
      "100%|██████████| 433/433 [00:00<00:00, 3019.44it/s]\n"
     ]
    },
    {
     "name": "stdout",
     "output_type": "stream",
     "text": [
      "Total Images: 320; \t Load image in class of videocam [95]\n"
     ]
    },
    {
     "name": "stderr",
     "output_type": "stream",
     "text": [
      "100%|██████████| 320/320 [00:00<00:00, 2850.24it/s]\n"
     ]
    },
    {
     "name": "stdout",
     "output_type": "stream",
     "text": [
      "Total Images: 342; \t Load image in class of build [96]\n"
     ]
    },
    {
     "name": "stderr",
     "output_type": "stream",
     "text": [
      "100%|██████████| 342/342 [00:00<00:00, 3405.60it/s]\n"
     ]
    },
    {
     "name": "stdout",
     "output_type": "stream",
     "text": [
      "Total Images: 205; \t Load image in class of network_wifi [97]\n"
     ]
    },
    {
     "name": "stderr",
     "output_type": "stream",
     "text": [
      "100%|██████████| 205/205 [00:00<00:00, 3246.55it/s]\n"
     ]
    }
   ],
   "source": [
    "data.load_data_in_class_map()"
   ]
  },
  {
   "cell_type": "code",
   "execution_count": 5,
   "id": "51156714",
   "metadata": {},
   "outputs": [
    {
     "name": "stdout",
     "output_type": "stream",
     "text": [
      "X_train:142880, Y_train:142880\n",
      "X_test:35721, Y_test:35721\n"
     ]
    }
   ],
   "source": [
    "data.generate_training_data()"
   ]
  },
  {
   "cell_type": "code",
   "execution_count": null,
   "id": "f06d3a06",
   "metadata": {},
   "outputs": [],
   "source": []
  },
  {
   "cell_type": "code",
   "execution_count": 3,
   "id": "c847e7fe",
   "metadata": {},
   "outputs": [],
   "source": [
    "cnn = CNN(data)"
   ]
  },
  {
   "cell_type": "code",
   "execution_count": 4,
   "id": "c8d01958",
   "metadata": {},
   "outputs": [
    {
     "name": "stdout",
     "output_type": "stream",
     "text": [
      "Model Loaded From /home/ml/Model/Rico/icon/resnet50_unfrozen_icon.h5\n",
      "Training History Loaded From /home/ml/Model/Rico/icon/resnet50_unfrozen_icon_history.json\n"
     ]
    }
   ],
   "source": [
    "cnn.load()"
   ]
  },
  {
   "cell_type": "code",
   "execution_count": 13,
   "id": "2b1bd2dc",
   "metadata": {},
   "outputs": [
    {
     "name": "stdout",
     "output_type": "stream",
     "text": [
      "Model Loaded From /home/ml/Model/Rico/icon/resnet50_unfrozen.h5\n",
      "Epoch 1/100\n",
      "2233/2233 [==============================] - 84s 37ms/step - loss: 0.2902 - accuracy: 0.9308 - val_loss: 0.5287 - val_accuracy: 0.9064\n",
      "Epoch 2/100\n",
      "2233/2233 [==============================] - 79s 35ms/step - loss: 0.2888 - accuracy: 0.9310 - val_loss: 0.5264 - val_accuracy: 0.9063\n",
      "Epoch 3/100\n",
      "2233/2233 [==============================] - 79s 35ms/step - loss: 0.2864 - accuracy: 0.9315 - val_loss: 0.5309 - val_accuracy: 0.9068\n",
      "Epoch 4/100\n",
      "2233/2233 [==============================] - 79s 35ms/step - loss: 0.2822 - accuracy: 0.9333 - val_loss: 0.5281 - val_accuracy: 0.9074\n",
      "Epoch 5/100\n",
      "2233/2233 [==============================] - 79s 35ms/step - loss: 0.2819 - accuracy: 0.9330 - val_loss: 0.5286 - val_accuracy: 0.9068\n",
      "Epoch 6/100\n",
      "2233/2233 [==============================] - 80s 36ms/step - loss: 0.2781 - accuracy: 0.9336 - val_loss: 0.5275 - val_accuracy: 0.9072\n",
      "Epoch 7/100\n",
      "2233/2233 [==============================] - 79s 35ms/step - loss: 0.2787 - accuracy: 0.9337 - val_loss: 0.5276 - val_accuracy: 0.9075\n",
      "Epoch 8/100\n",
      "2233/2233 [==============================] - 79s 35ms/step - loss: 0.2762 - accuracy: 0.9342 - val_loss: 0.5283 - val_accuracy: 0.9074\n",
      "Epoch 9/100\n",
      "2233/2233 [==============================] - 79s 35ms/step - loss: 0.2737 - accuracy: 0.9348 - val_loss: 0.5300 - val_accuracy: 0.9075\n",
      "Epoch 10/100\n",
      "2233/2233 [==============================] - 79s 35ms/step - loss: 0.2680 - accuracy: 0.9363 - val_loss: 0.5312 - val_accuracy: 0.9075\n",
      "Epoch 11/100\n",
      "2233/2233 [==============================] - 81s 36ms/step - loss: 0.2687 - accuracy: 0.9359 - val_loss: 0.5284 - val_accuracy: 0.9075\n",
      "Epoch 12/100\n",
      "2233/2233 [==============================] - 78s 35ms/step - loss: 0.2652 - accuracy: 0.9362 - val_loss: 0.5300 - val_accuracy: 0.9080\n",
      "Epoch 13/100\n",
      "2233/2233 [==============================] - 77s 34ms/step - loss: 0.2647 - accuracy: 0.9368 - val_loss: 0.5321 - val_accuracy: 0.9081\n",
      "Epoch 14/100\n",
      "2233/2233 [==============================] - 77s 34ms/step - loss: 0.2628 - accuracy: 0.9377 - val_loss: 0.5319 - val_accuracy: 0.9080\n",
      "Epoch 15/100\n",
      "2233/2233 [==============================] - 76s 34ms/step - loss: 0.2584 - accuracy: 0.9379 - val_loss: 0.5292 - val_accuracy: 0.9088\n",
      "Epoch 16/100\n",
      "2233/2233 [==============================] - 75s 34ms/step - loss: 0.2547 - accuracy: 0.9385 - val_loss: 0.5304 - val_accuracy: 0.9083\n",
      "Epoch 17/100\n",
      "2233/2233 [==============================] - 75s 34ms/step - loss: 0.2530 - accuracy: 0.9395 - val_loss: 0.5366 - val_accuracy: 0.9088\n",
      "Epoch 18/100\n",
      "2233/2233 [==============================] - 75s 34ms/step - loss: 0.2530 - accuracy: 0.9392 - val_loss: 0.5313 - val_accuracy: 0.9088\n",
      "Epoch 19/100\n",
      "2233/2233 [==============================] - 75s 34ms/step - loss: 0.2498 - accuracy: 0.9398 - val_loss: 0.5323 - val_accuracy: 0.9094\n",
      "Epoch 20/100\n",
      "2233/2233 [==============================] - 75s 34ms/step - loss: 0.2505 - accuracy: 0.9403 - val_loss: 0.5318 - val_accuracy: 0.9098\n",
      "Epoch 21/100\n",
      "2233/2233 [==============================] - 78s 35ms/step - loss: 0.2481 - accuracy: 0.9399 - val_loss: 0.5361 - val_accuracy: 0.9097\n",
      "Epoch 22/100\n",
      "2233/2233 [==============================] - 76s 34ms/step - loss: 0.2432 - accuracy: 0.9414 - val_loss: 0.5341 - val_accuracy: 0.9096\n",
      "Epoch 23/100\n",
      "2233/2233 [==============================] - 76s 34ms/step - loss: 0.2437 - accuracy: 0.9409 - val_loss: 0.5333 - val_accuracy: 0.9099\n",
      "Epoch 24/100\n",
      "2233/2233 [==============================] - 77s 34ms/step - loss: 0.2426 - accuracy: 0.9412 - val_loss: 0.5362 - val_accuracy: 0.9095\n",
      "Epoch 25/100\n",
      "2233/2233 [==============================] - 77s 34ms/step - loss: 0.2377 - accuracy: 0.9422 - val_loss: 0.5378 - val_accuracy: 0.9102\n",
      "Epoch 26/100\n",
      "2233/2233 [==============================] - 77s 34ms/step - loss: 0.2373 - accuracy: 0.9421 - val_loss: 0.5347 - val_accuracy: 0.9101\n",
      "Epoch 27/100\n",
      "2233/2233 [==============================] - 77s 34ms/step - loss: 0.2341 - accuracy: 0.9426 - val_loss: 0.5397 - val_accuracy: 0.9100\n",
      "Epoch 28/100\n",
      "2233/2233 [==============================] - 77s 35ms/step - loss: 0.2336 - accuracy: 0.9430 - val_loss: 0.5345 - val_accuracy: 0.9102\n",
      "Epoch 29/100\n",
      "2233/2233 [==============================] - 77s 35ms/step - loss: 0.2309 - accuracy: 0.9443 - val_loss: 0.5368 - val_accuracy: 0.9105\n",
      "Epoch 30/100\n",
      "2233/2233 [==============================] - 76s 34ms/step - loss: 0.2309 - accuracy: 0.9441 - val_loss: 0.5378 - val_accuracy: 0.9103\n",
      "Epoch 31/100\n",
      "2233/2233 [==============================] - 76s 34ms/step - loss: 0.2289 - accuracy: 0.9445 - val_loss: 0.5400 - val_accuracy: 0.9114\n",
      "Epoch 32/100\n",
      "2233/2233 [==============================] - 76s 34ms/step - loss: 0.2262 - accuracy: 0.9452 - val_loss: 0.5375 - val_accuracy: 0.9112\n",
      "Epoch 33/100\n",
      "2233/2233 [==============================] - 76s 34ms/step - loss: 0.2229 - accuracy: 0.9461 - val_loss: 0.5429 - val_accuracy: 0.9105\n",
      "Epoch 34/100\n",
      "2233/2233 [==============================] - 76s 34ms/step - loss: 0.2228 - accuracy: 0.9456 - val_loss: 0.5420 - val_accuracy: 0.9106\n",
      "Epoch 35/100\n",
      "2233/2233 [==============================] - 76s 34ms/step - loss: 0.2196 - accuracy: 0.9465 - val_loss: 0.5404 - val_accuracy: 0.9109\n",
      "Epoch 36/100\n",
      "2233/2233 [==============================] - 78s 35ms/step - loss: 0.2192 - accuracy: 0.9465 - val_loss: 0.5370 - val_accuracy: 0.9110\n",
      "Epoch 37/100\n",
      "2233/2233 [==============================] - 77s 34ms/step - loss: 0.2206 - accuracy: 0.9465 - val_loss: 0.5380 - val_accuracy: 0.9115\n",
      "Epoch 38/100\n",
      "2233/2233 [==============================] - 77s 35ms/step - loss: 0.2179 - accuracy: 0.9472 - val_loss: 0.5404 - val_accuracy: 0.9112\n",
      "Epoch 39/100\n",
      "2233/2233 [==============================] - 76s 34ms/step - loss: 0.2147 - accuracy: 0.9480 - val_loss: 0.5406 - val_accuracy: 0.9110\n",
      "Epoch 40/100\n",
      "2233/2233 [==============================] - 77s 34ms/step - loss: 0.2111 - accuracy: 0.9486 - val_loss: 0.5412 - val_accuracy: 0.9116\n",
      "Epoch 41/100\n",
      "2233/2233 [==============================] - 76s 34ms/step - loss: 0.2110 - accuracy: 0.9483 - val_loss: 0.5410 - val_accuracy: 0.9113\n",
      "Epoch 42/100\n",
      "2233/2233 [==============================] - 76s 34ms/step - loss: 0.2067 - accuracy: 0.9498 - val_loss: 0.5419 - val_accuracy: 0.9114\n",
      "Epoch 43/100\n",
      "2233/2233 [==============================] - 77s 34ms/step - loss: 0.2065 - accuracy: 0.9501 - val_loss: 0.5432 - val_accuracy: 0.9116\n",
      "Epoch 44/100\n",
      "2233/2233 [==============================] - 77s 34ms/step - loss: 0.2063 - accuracy: 0.9496 - val_loss: 0.5461 - val_accuracy: 0.9114\n",
      "Epoch 45/100\n",
      "2233/2233 [==============================] - 75s 34ms/step - loss: 0.2030 - accuracy: 0.9500 - val_loss: 0.5472 - val_accuracy: 0.9123\n",
      "Epoch 46/100\n",
      "2233/2233 [==============================] - 75s 34ms/step - loss: 0.2059 - accuracy: 0.9492 - val_loss: 0.5448 - val_accuracy: 0.9115\n",
      "Epoch 47/100\n",
      "2233/2233 [==============================] - 77s 35ms/step - loss: 0.2019 - accuracy: 0.9509 - val_loss: 0.5462 - val_accuracy: 0.9122\n",
      "Epoch 48/100\n",
      "2233/2233 [==============================] - 76s 34ms/step - loss: 0.2002 - accuracy: 0.9512 - val_loss: 0.5490 - val_accuracy: 0.9117\n",
      "Epoch 49/100\n",
      "2233/2233 [==============================] - 78s 35ms/step - loss: 0.1966 - accuracy: 0.9515 - val_loss: 0.5481 - val_accuracy: 0.9118\n",
      "Epoch 50/100\n",
      "2233/2233 [==============================] - 77s 35ms/step - loss: 0.1965 - accuracy: 0.9516 - val_loss: 0.5514 - val_accuracy: 0.9123\n",
      "Epoch 51/100\n",
      "2233/2233 [==============================] - 76s 34ms/step - loss: 0.1948 - accuracy: 0.9528 - val_loss: 0.5511 - val_accuracy: 0.9125\n",
      "Epoch 52/100\n",
      "2233/2233 [==============================] - 77s 34ms/step - loss: 0.1927 - accuracy: 0.9533 - val_loss: 0.5479 - val_accuracy: 0.9122\n",
      "Epoch 53/100\n",
      "2233/2233 [==============================] - 76s 34ms/step - loss: 0.1951 - accuracy: 0.9523 - val_loss: 0.5501 - val_accuracy: 0.9130\n",
      "Epoch 54/100\n",
      "2233/2233 [==============================] - 76s 34ms/step - loss: 0.1901 - accuracy: 0.9530 - val_loss: 0.5554 - val_accuracy: 0.9128\n",
      "Epoch 55/100\n",
      "2233/2233 [==============================] - 76s 34ms/step - loss: 0.1914 - accuracy: 0.9531 - val_loss: 0.5528 - val_accuracy: 0.9130\n"
     ]
    },
    {
     "name": "stdout",
     "output_type": "stream",
     "text": [
      "Epoch 56/100\n",
      "2233/2233 [==============================] - 77s 35ms/step - loss: 0.1878 - accuracy: 0.9532 - val_loss: 0.5548 - val_accuracy: 0.9132\n",
      "Epoch 57/100\n",
      "2233/2233 [==============================] - 77s 35ms/step - loss: 0.1865 - accuracy: 0.9538 - val_loss: 0.5596 - val_accuracy: 0.9132\n",
      "Epoch 58/100\n",
      "2233/2233 [==============================] - 76s 34ms/step - loss: 0.1832 - accuracy: 0.9543 - val_loss: 0.5541 - val_accuracy: 0.9139\n",
      "Epoch 59/100\n",
      "2233/2233 [==============================] - 75s 34ms/step - loss: 0.1835 - accuracy: 0.9551 - val_loss: 0.5574 - val_accuracy: 0.9135\n",
      "Epoch 60/100\n",
      "2233/2233 [==============================] - 76s 34ms/step - loss: 0.1852 - accuracy: 0.9544 - val_loss: 0.5557 - val_accuracy: 0.9138\n",
      "Epoch 61/100\n",
      "2233/2233 [==============================] - 77s 34ms/step - loss: 0.1824 - accuracy: 0.9549 - val_loss: 0.5582 - val_accuracy: 0.9136\n",
      "Epoch 62/100\n",
      "2233/2233 [==============================] - 76s 34ms/step - loss: 0.1803 - accuracy: 0.9556 - val_loss: 0.5587 - val_accuracy: 0.9138\n",
      "Epoch 63/100\n",
      "2233/2233 [==============================] - 77s 35ms/step - loss: 0.1809 - accuracy: 0.9557 - val_loss: 0.5623 - val_accuracy: 0.9136\n",
      "Epoch 64/100\n",
      "2233/2233 [==============================] - 77s 34ms/step - loss: 0.1784 - accuracy: 0.9558 - val_loss: 0.5545 - val_accuracy: 0.9144\n",
      "Epoch 65/100\n",
      "2233/2233 [==============================] - 76s 34ms/step - loss: 0.1770 - accuracy: 0.9557 - val_loss: 0.5590 - val_accuracy: 0.9138\n",
      "Epoch 66/100\n",
      "2233/2233 [==============================] - 77s 35ms/step - loss: 0.1737 - accuracy: 0.9569 - val_loss: 0.5623 - val_accuracy: 0.9142\n",
      "Epoch 67/100\n",
      "2233/2233 [==============================] - 76s 34ms/step - loss: 0.1752 - accuracy: 0.9566 - val_loss: 0.5610 - val_accuracy: 0.9143\n",
      "Epoch 68/100\n",
      "2233/2233 [==============================] - 75s 34ms/step - loss: 0.1731 - accuracy: 0.9574 - val_loss: 0.5629 - val_accuracy: 0.9140\n",
      "Epoch 69/100\n",
      "2233/2233 [==============================] - 75s 34ms/step - loss: 0.1726 - accuracy: 0.9574 - val_loss: 0.5618 - val_accuracy: 0.9142\n",
      "Epoch 70/100\n",
      "2233/2233 [==============================] - 76s 34ms/step - loss: 0.1723 - accuracy: 0.9576 - val_loss: 0.5667 - val_accuracy: 0.9146\n",
      "Epoch 71/100\n",
      "2233/2233 [==============================] - 76s 34ms/step - loss: 0.1680 - accuracy: 0.9581 - val_loss: 0.5634 - val_accuracy: 0.9144\n",
      "Epoch 72/100\n",
      "2233/2233 [==============================] - 75s 34ms/step - loss: 0.1693 - accuracy: 0.9578 - val_loss: 0.5618 - val_accuracy: 0.9143\n",
      "Epoch 73/100\n",
      "2233/2233 [==============================] - 76s 34ms/step - loss: 0.1673 - accuracy: 0.9587 - val_loss: 0.5634 - val_accuracy: 0.9148\n",
      "Epoch 74/100\n",
      "2233/2233 [==============================] - 77s 34ms/step - loss: 0.1635 - accuracy: 0.9593 - val_loss: 0.5711 - val_accuracy: 0.9151\n",
      "Epoch 75/100\n",
      "2233/2233 [==============================] - 78s 35ms/step - loss: 0.1657 - accuracy: 0.9583 - val_loss: 0.5670 - val_accuracy: 0.9150\n",
      "Epoch 76/100\n",
      "2233/2233 [==============================] - 76s 34ms/step - loss: 0.1638 - accuracy: 0.9594 - val_loss: 0.5656 - val_accuracy: 0.9145\n",
      "Epoch 77/100\n",
      "2233/2233 [==============================] - 77s 34ms/step - loss: 0.1629 - accuracy: 0.9595 - val_loss: 0.5719 - val_accuracy: 0.9149\n",
      "Epoch 78/100\n",
      "2233/2233 [==============================] - 77s 34ms/step - loss: 0.1621 - accuracy: 0.9594 - val_loss: 0.5680 - val_accuracy: 0.9152\n",
      "Epoch 79/100\n",
      "2233/2233 [==============================] - 77s 34ms/step - loss: 0.1621 - accuracy: 0.9598 - val_loss: 0.5708 - val_accuracy: 0.9152\n",
      "Epoch 80/100\n",
      "2233/2233 [==============================] - 76s 34ms/step - loss: 0.1612 - accuracy: 0.9600 - val_loss: 0.5715 - val_accuracy: 0.9153\n",
      "Epoch 81/100\n",
      "2233/2233 [==============================] - 76s 34ms/step - loss: 0.1587 - accuracy: 0.9606 - val_loss: 0.5744 - val_accuracy: 0.9150\n",
      "Epoch 82/100\n",
      "2233/2233 [==============================] - 77s 35ms/step - loss: 0.1574 - accuracy: 0.9605 - val_loss: 0.5690 - val_accuracy: 0.9160\n",
      "Epoch 83/100\n",
      "2233/2233 [==============================] - 77s 34ms/step - loss: 0.1565 - accuracy: 0.9610 - val_loss: 0.5749 - val_accuracy: 0.9157\n",
      "Epoch 84/100\n",
      "2233/2233 [==============================] - 76s 34ms/step - loss: 0.1573 - accuracy: 0.9611 - val_loss: 0.5706 - val_accuracy: 0.9159\n",
      "Epoch 85/100\n",
      "2233/2233 [==============================] - 77s 34ms/step - loss: 0.1555 - accuracy: 0.9613 - val_loss: 0.5747 - val_accuracy: 0.9156\n",
      "Epoch 86/100\n",
      "2233/2233 [==============================] - 76s 34ms/step - loss: 0.1539 - accuracy: 0.9615 - val_loss: 0.5683 - val_accuracy: 0.9153\n",
      "Epoch 87/100\n",
      "2233/2233 [==============================] - 75s 34ms/step - loss: 0.1527 - accuracy: 0.9625 - val_loss: 0.5729 - val_accuracy: 0.9157\n",
      "Epoch 88/100\n",
      "2233/2233 [==============================] - 76s 34ms/step - loss: 0.1505 - accuracy: 0.9625 - val_loss: 0.5741 - val_accuracy: 0.9157\n",
      "Epoch 89/100\n",
      "2233/2233 [==============================] - 75s 34ms/step - loss: 0.1498 - accuracy: 0.9627 - val_loss: 0.5751 - val_accuracy: 0.9156\n",
      "Epoch 90/100\n",
      "2233/2233 [==============================] - 75s 34ms/step - loss: 0.1527 - accuracy: 0.9622 - val_loss: 0.5774 - val_accuracy: 0.9152\n",
      "Epoch 91/100\n",
      "2233/2233 [==============================] - 75s 34ms/step - loss: 0.1473 - accuracy: 0.9634 - val_loss: 0.5856 - val_accuracy: 0.9154\n",
      "Epoch 92/100\n",
      "2233/2233 [==============================] - 75s 34ms/step - loss: 0.1487 - accuracy: 0.9628 - val_loss: 0.5838 - val_accuracy: 0.9159\n",
      "Epoch 93/100\n",
      "2233/2233 [==============================] - 76s 34ms/step - loss: 0.1495 - accuracy: 0.9625 - val_loss: 0.5782 - val_accuracy: 0.9158\n",
      "Epoch 94/100\n",
      "2233/2233 [==============================] - 77s 34ms/step - loss: 0.1467 - accuracy: 0.9637 - val_loss: 0.5855 - val_accuracy: 0.9159\n",
      "Epoch 95/100\n",
      "2233/2233 [==============================] - 76s 34ms/step - loss: 0.1449 - accuracy: 0.9635 - val_loss: 0.5848 - val_accuracy: 0.9158\n",
      "Epoch 96/100\n",
      "2233/2233 [==============================] - 77s 34ms/step - loss: 0.1455 - accuracy: 0.9638 - val_loss: 0.5781 - val_accuracy: 0.9162\n",
      "Epoch 97/100\n",
      "2233/2233 [==============================] - 78s 35ms/step - loss: 0.1421 - accuracy: 0.9637 - val_loss: 0.5809 - val_accuracy: 0.9163\n",
      "Epoch 98/100\n",
      "2233/2233 [==============================] - 76s 34ms/step - loss: 0.1420 - accuracy: 0.9642 - val_loss: 0.5819 - val_accuracy: 0.9158\n",
      "Epoch 99/100\n",
      "2233/2233 [==============================] - 77s 35ms/step - loss: 0.1418 - accuracy: 0.9646 - val_loss: 0.5849 - val_accuracy: 0.9164\n",
      "Epoch 100/100\n",
      "2233/2233 [==============================] - 77s 34ms/step - loss: 0.1416 - accuracy: 0.9645 - val_loss: 0.5882 - val_accuracy: 0.9163\n",
      "Trained model is saved to /home/ml/Model/Rico/icon/resnet50_unfrozen.h5\n"
     ]
    }
   ],
   "source": [
    "cnn.train(epoch_num=100, continue_with_loading=True)"
   ]
  },
  {
   "cell_type": "code",
   "execution_count": 8,
   "id": "6c3a7a3e",
   "metadata": {},
   "outputs": [
    {
     "data": {
      "image/png": "[encoded data removed]",
      "text/plain": [
       "<Figure size 432x288 with 1 Axes>"
      ]
     },
     "metadata": {
      "needs_background": "light"
     },
     "output_type": "display_data"
    },
    {
     "data": {
      "image/png": "[encoded data removed]",
      "text/plain": [
       "<Figure size 432x288 with 1 Axes>"
      ]
     },
     "metadata": {
      "needs_background": "light"
     },
     "output_type": "display_data"
    }
   ],
   "source": [
    "cnn.show_training_history()"
   ]
  },
  {
   "cell_type": "code",
   "execution_count": 9,
   "id": "e3167109",
   "metadata": {},
   "outputs": [
    {
     "name": "stdout",
     "output_type": "stream",
     "text": [
      "3213/3213 [==============================] - 27s 8ms/step\n",
      "[[19060   374    22  2256   186     1]\n",
      " [  503  2691    38   529    66   117]\n",
      " [   51    65   183   103     7     0]\n",
      " [ 1484   188    43 36073  3862     9]\n",
      " [  212    45     4  4495 29347     5]\n",
      " [   14    38     2    99    13   614]]\n",
      "Precision:0.856, Recall:0.856\n"
     ]
    }
   ],
   "source": [
    "cnn.evaluate(data)"
   ]
  }
 ],
 "metadata": {
  "kernelspec": {
   "display_name": "Python 3",
   "language": "python",
   "name": "python3"
  },
  "language_info": {
   "codemirror_mode": {
    "name": "ipython",
    "version": 3
   },
   "file_extension": ".py",
   "mimetype": "text/x-python",
   "name": "python",
   "nbconvert_exporter": "python",
   "pygments_lexer": "ipython3",
   "version": "3.6.9"
  }
 },
 "nbformat": 4,
 "nbformat_minor": 5
}
