{
 "cells": [
  {
   "cell_type": "markdown",
   "id": "3091791a",
   "metadata": {},
   "source": [
    "## Load virtual device to collect the screenshot and vh"
   ]
  },
  {
   "cell_type": "code",
   "execution_count": 2,
   "id": "7ac2619d",
   "metadata": {},
   "outputs": [
    {
     "name": "stdout",
     "output_type": "stream",
     "text": [
      "Save screenshot to data\\emulator-5554.png\n",
      "Save view hierarchy to data\\emulator-5554.json\n",
      "Save reformatted vh to data\\emulator-5554.json\n",
      "[INFO] Loading idx2word classification/model_results/vocab_idx2word.json\n",
      "[INFO] Loading checkpoint classification/model_results/labeldroid.pt\n"
     ]
    }
   ],
   "source": [
    "from GUIData import GUIData\n",
    "from Device import Device\n",
    "from ppadb.client import Client as AdbClient\n",
    "client = AdbClient(host=\"127.0.0.1\", port=5037)\n",
    "\n",
    "device = Device(client.devices()[0], 'data')\n",
    "device.cap_screenshot()\n",
    "device.cap_vh()\n",
    "device.cvt_vh_to_rico_format()\n",
    "\n",
    "gui = GUIData(device.screenshot_path, device.vh_json_path)\n",
    "gui.extract_elements_from_vh()\n",
    "gui.show_all_elements()\n",
    "gui.show_all_elements(only_leaves=True)\n",
    "gui.extract_elements_description()"
   ]
  },
  {
   "cell_type": "markdown",
   "id": "4bdf9d35",
   "metadata": {},
   "source": [
    "## Directly load GUI from image and json"
   ]
  },
  {
   "cell_type": "code",
   "execution_count": 3,
   "id": "85553631",
   "metadata": {},
   "outputs": [],
   "source": [
    "from GUIData import GUIData\n",
    "gui = GUIData('data/emulator-5554.png', 'data/emulator-5554.json')\n",
    "gui.extract_elements_from_vh()\n",
    "gui.show_all_elements()\n",
    "gui.show_all_elements(only_leaves=True)\n",
    "gui.extract_elements_description()"
   ]
  },
  {
   "cell_type": "code",
   "execution_count": 8,
   "id": "88625b2f",
   "metadata": {},
   "outputs": [
    {
     "name": "stdout",
     "output_type": "stream",
     "text": [
      "38\n",
      "android.widget.ImageView YouTube\n",
      "{'text': '', 'resource-id': 'com.google.android.youtube:id/youtube_logo', 'class': 'android.widget.ImageView', 'package': 'com.google.android.youtube', 'content-desc': 'YouTube', 'checkable': False, 'checked': False, 'clickable': False, 'enabled': True, 'focusable': False, 'focused': False, 'scrollable': False, 'long-clickable': False, 'password': False, 'selected': False, 'bounds': [0, 66, 336, 198], 'id': 5, 'leaf-id': 0, 'caption': 'flashlight toolkit', 'icon-cls': None, 'description': 'YouTube'} \n",
      "\n",
      "android.view.View Cast. Disconnected\n",
      "{'text': '', 'resource-id': 'com.google.android.youtube:id/media_route_button', 'class': 'android.view.View', 'package': 'com.google.android.youtube', 'content-desc': 'Cast. Disconnected', 'checkable': False, 'checked': False, 'clickable': True, 'enabled': True, 'focusable': True, 'focused': False, 'scrollable': False, 'long-clickable': False, 'password': False, 'selected': False, 'bounds': [541, 66, 673, 198], 'id': 6, 'leaf-id': 1, 'caption': 'about', 'icon-cls': None, 'description': 'Cast. Disconnected'} \n",
      "\n",
      "android.widget.ImageView Notifications\n",
      "{'text': '', 'resource-id': 'com.google.android.youtube:id/menu_item_view', 'class': 'android.widget.ImageView', 'package': 'com.google.android.youtube', 'content-desc': 'Notifications', 'checkable': False, 'checked': False, 'clickable': True, 'enabled': True, 'focusable': True, 'focused': False, 'scrollable': False, 'long-clickable': False, 'password': False, 'selected': False, 'bounds': [673, 66, 805, 198], 'id': 8, 'leaf-id': 2, 'caption': 'download', 'icon-cls': 'notifications', 'description': 'Notifications'} \n",
      "\n",
      "android.widget.ImageView Search\n",
      "{'text': '', 'resource-id': 'com.google.android.youtube:id/menu_item_view', 'class': 'android.widget.ImageView', 'package': 'com.google.android.youtube', 'content-desc': 'Search', 'checkable': False, 'checked': False, 'clickable': True, 'enabled': True, 'focusable': True, 'focused': False, 'scrollable': False, 'long-clickable': False, 'password': False, 'selected': False, 'bounds': [805, 66, 937, 198], 'id': 10, 'leaf-id': 3, 'caption': 'search', 'icon-cls': 'search', 'description': 'Search'} \n",
      "\n",
      "android.widget.ImageView Account\n",
      "{'text': '', 'resource-id': 'com.google.android.youtube:id/image', 'class': 'android.widget.ImageView', 'package': 'com.google.android.youtube', 'content-desc': 'Account', 'checkable': False, 'checked': False, 'clickable': True, 'enabled': True, 'focusable': False, 'focused': False, 'scrollable': False, 'long-clickable': False, 'password': False, 'selected': False, 'bounds': [970, 99, 1036, 165], 'id': 12, 'leaf-id': 4, 'caption': 'profile photo', 'icon-cls': 'avatar', 'description': 'Account'} \n",
      "\n",
      "android.widget.ImageView None\n",
      "{'text': '', 'resource-id': '', 'class': 'android.widget.ImageView', 'package': 'com.google.android.youtube', 'content-desc': '', 'checkable': False, 'checked': False, 'clickable': True, 'enabled': True, 'focusable': False, 'focused': False, 'scrollable': False, 'long-clickable': False, 'password': False, 'selected': False, 'bounds': [0, 198, 1080, 805], 'id': 17, 'leaf-id': 5, 'caption': 'http mediacms01 digiturkplay com int play mobil andro <unk> 270x405 jpg', 'icon-cls': None, 'description': None} \n",
      "\n",
      "android.widget.ImageView None\n",
      "{'text': '', 'resource-id': '', 'class': 'android.widget.ImageView', 'package': 'com.google.android.youtube', 'content-desc': '', 'checkable': False, 'checked': False, 'clickable': True, 'enabled': True, 'focusable': False, 'focused': False, 'scrollable': False, 'long-clickable': False, 'password': False, 'selected': False, 'bounds': [0, 198, 1080, 805], 'id': 19, 'leaf-id': 6, 'caption': 'http mediacms01 digiturkplay com int play mobil andro <unk> 270x405 jpg', 'icon-cls': None, 'description': None} \n",
      "\n",
      "android.widget.ImageView None\n",
      "{'text': '', 'resource-id': '', 'class': 'android.widget.ImageView', 'package': 'com.google.android.youtube', 'content-desc': '', 'checkable': False, 'checked': False, 'clickable': True, 'enabled': True, 'focusable': False, 'focused': False, 'scrollable': False, 'long-clickable': False, 'password': False, 'selected': False, 'bounds': [33, 849, 132, 948], 'id': 24, 'leaf-id': 7, 'caption': '<unk>', 'icon-cls': None, 'description': None} \n",
      "\n",
      "android.view.ViewGroup None\n",
      "{'text': '', 'resource-id': '', 'class': 'android.view.ViewGroup', 'package': 'com.google.android.youtube', 'content-desc': '', 'checkable': False, 'checked': False, 'clickable': True, 'enabled': True, 'focusable': False, 'focused': False, 'scrollable': False, 'long-clickable': False, 'password': False, 'selected': False, 'bounds': [165, 838, 1019, 950], 'id': 26, 'leaf-id': 8, 'caption': '<unk> <unk> <unk> <unk> <unk> <unk> <unk> <unk> <unk> <unk> <unk> <unk> <unk> <unk>', 'icon-cls': None, 'description': None} \n",
      "\n",
      "android.view.ViewGroup None\n",
      "{'text': '', 'resource-id': '', 'class': 'android.view.ViewGroup', 'package': 'com.google.android.youtube', 'content-desc': '', 'checkable': False, 'checked': False, 'clickable': True, 'enabled': True, 'focusable': False, 'focused': False, 'scrollable': False, 'long-clickable': False, 'password': False, 'selected': False, 'bounds': [165, 950, 797, 1009], 'id': 27, 'leaf-id': 9, 'caption': '<unk> wifi', 'icon-cls': None, 'description': None} \n",
      "\n",
      "android.widget.ImageView Action menu\n",
      "{'text': '', 'resource-id': '', 'class': 'android.widget.ImageView', 'package': 'com.google.android.youtube', 'content-desc': 'Action menu', 'checkable': False, 'checked': False, 'clickable': True, 'enabled': True, 'focusable': True, 'focused': False, 'scrollable': False, 'long-clickable': False, 'password': False, 'selected': False, 'bounds': [1019, 838, 1069, 888], 'id': 28, 'leaf-id': 10, 'caption': 'narando', 'icon-cls': 'more', 'description': 'Action menu'} \n",
      "\n",
      "android.view.ViewGroup search\n",
      "{'text': '', 'resource-id': '', 'class': 'android.view.ViewGroup', 'package': 'com.google.android.youtube', 'content-desc': '', 'checkable': False, 'checked': False, 'clickable': False, 'enabled': True, 'focusable': False, 'focused': False, 'scrollable': False, 'long-clickable': False, 'password': False, 'selected': False, 'bounds': [0, 1075, 1080, 1092], 'id': 29, 'leaf-id': 11, 'caption': 'search', 'icon-cls': None, 'description': 'search'} \n",
      "\n",
      " call\n",
      "{'text': '', 'resource-id': '', 'class': '', 'package': 'com.google.android.youtube', 'content-desc': '', 'checkable': False, 'checked': False, 'clickable': False, 'enabled': True, 'focusable': False, 'focused': False, 'scrollable': False, 'long-clickable': False, 'password': False, 'selected': False, 'bounds': [33, 1125, 99, 1191], 'id': 32, 'leaf-id': 12, 'caption': 'call', 'icon-cls': None, 'description': 'call'} \n",
      "\n",
      "android.view.ViewGroup Shorts\n",
      "{'text': '', 'resource-id': '', 'class': 'android.view.ViewGroup', 'package': 'com.google.android.youtube', 'content-desc': 'Shorts', 'checkable': False, 'checked': False, 'clickable': False, 'enabled': True, 'focusable': True, 'focused': False, 'scrollable': False, 'long-clickable': False, 'password': False, 'selected': False, 'bounds': [121, 1122, 260, 1195], 'id': 33, 'leaf-id': 13, 'caption': '<unk>', 'icon-cls': None, 'description': 'Shorts'} \n",
      "\n",
      "android.widget.ImageView image click to expand\n",
      "{'text': '', 'resource-id': '', 'class': 'android.widget.ImageView', 'package': 'com.google.android.youtube', 'content-desc': '', 'checkable': False, 'checked': False, 'clickable': True, 'enabled': True, 'focusable': False, 'focused': False, 'scrollable': False, 'long-clickable': False, 'password': False, 'selected': False, 'bounds': [33, 1224, 490, 1985], 'id': 38, 'leaf-id': 14, 'caption': 'image click to expand', 'icon-cls': None, 'description': 'image click to expand'} \n",
      "\n",
      "android.widget.ImageView More actions\n",
      "{'text': '', 'resource-id': '', 'class': 'android.widget.ImageView', 'package': 'com.google.android.youtube', 'content-desc': 'More actions', 'checkable': False, 'checked': False, 'clickable': True, 'enabled': True, 'focusable': True, 'focused': False, 'scrollable': False, 'long-clickable': False, 'password': False, 'selected': False, 'bounds': [429, 1246, 479, 1296], 'id': 39, 'leaf-id': 15, 'caption': 'more options', 'icon-cls': 'more', 'description': 'More actions'} \n",
      "\n"
     ]
    },
    {
     "name": "stdout",
     "output_type": "stream",
     "text": [
      "android.view.ViewGroup None\n",
      "{'text': '', 'resource-id': '', 'class': 'android.view.ViewGroup', 'package': 'com.google.android.youtube', 'content-desc': '', 'checkable': False, 'checked': False, 'clickable': True, 'enabled': True, 'focusable': False, 'focused': False, 'scrollable': False, 'long-clickable': False, 'password': False, 'selected': False, 'bounds': [55, 1809, 468, 1908], 'id': 42, 'leaf-id': 16, 'caption': '<unk> <unk> <unk> <unk> <unk> <unk> <unk> <unk> <unk> <unk> <unk> <unk> <unk> <unk>', 'icon-cls': None, 'description': None} \n",
      "\n",
      "android.view.ViewGroup close navigation drawer\n",
      "{'text': '', 'resource-id': '', 'class': 'android.view.ViewGroup', 'package': 'com.google.android.youtube', 'content-desc': '', 'checkable': False, 'checked': False, 'clickable': True, 'enabled': True, 'focusable': False, 'focused': False, 'scrollable': False, 'long-clickable': False, 'password': False, 'selected': False, 'bounds': [55, 1919, 468, 1963], 'id': 43, 'leaf-id': 17, 'caption': 'close navigation drawer', 'icon-cls': None, 'description': 'close navigation drawer'} \n",
      "\n",
      "android.widget.ImageView movie poster thumbnail\n",
      "{'text': '', 'resource-id': '', 'class': 'android.widget.ImageView', 'package': 'com.google.android.youtube', 'content-desc': '', 'checkable': False, 'checked': False, 'clickable': True, 'enabled': True, 'focusable': False, 'focused': False, 'scrollable': False, 'long-clickable': False, 'password': False, 'selected': False, 'bounds': [523, 1224, 980, 1985], 'id': 46, 'leaf-id': 18, 'caption': 'movie poster thumbnail', 'icon-cls': None, 'description': 'movie poster thumbnail'} \n",
      "\n",
      "android.widget.ImageView More actions\n",
      "{'text': '', 'resource-id': '', 'class': 'android.widget.ImageView', 'package': 'com.google.android.youtube', 'content-desc': 'More actions', 'checkable': False, 'checked': False, 'clickable': True, 'enabled': True, 'focusable': True, 'focused': False, 'scrollable': False, 'long-clickable': False, 'password': False, 'selected': False, 'bounds': [919, 1246, 969, 1296], 'id': 47, 'leaf-id': 19, 'caption': 'more options', 'icon-cls': 'more', 'description': 'More actions'} \n",
      "\n",
      "android.view.ViewGroup eleven\n",
      "{'text': '', 'resource-id': '', 'class': 'android.view.ViewGroup', 'package': 'com.google.android.youtube', 'content-desc': '', 'checkable': False, 'checked': False, 'clickable': True, 'enabled': True, 'focusable': False, 'focused': False, 'scrollable': False, 'long-clickable': False, 'password': False, 'selected': False, 'bounds': [545, 1796, 958, 1908], 'id': 50, 'leaf-id': 20, 'caption': 'eleven', 'icon-cls': None, 'description': 'eleven'} \n",
      "\n",
      "android.view.ViewGroup close navigation drawer\n",
      "{'text': '', 'resource-id': '', 'class': 'android.view.ViewGroup', 'package': 'com.google.android.youtube', 'content-desc': '', 'checkable': False, 'checked': False, 'clickable': True, 'enabled': True, 'focusable': False, 'focused': False, 'scrollable': False, 'long-clickable': False, 'password': False, 'selected': False, 'bounds': [545, 1919, 958, 1963], 'id': 51, 'leaf-id': 21, 'caption': 'close navigation drawer', 'icon-cls': None, 'description': 'close navigation drawer'} \n",
      "\n",
      "android.widget.ImageView image thumbnail\n",
      "{'text': '', 'resource-id': '', 'class': 'android.widget.ImageView', 'package': 'com.google.android.youtube', 'content-desc': '', 'checkable': False, 'checked': False, 'clickable': True, 'enabled': True, 'focusable': False, 'focused': False, 'scrollable': False, 'long-clickable': False, 'password': False, 'selected': False, 'bounds': [1013, 1224, 1080, 1985], 'id': 54, 'leaf-id': 22, 'caption': 'image thumbnail', 'icon-cls': None, 'description': 'image thumbnail'} \n",
      "\n",
      "android.view.ViewGroup navigate up\n",
      "{'text': '', 'resource-id': '', 'class': 'android.view.ViewGroup', 'package': 'com.google.android.youtube', 'content-desc': '', 'checkable': False, 'checked': False, 'clickable': True, 'enabled': True, 'focusable': False, 'focused': False, 'scrollable': False, 'long-clickable': False, 'password': False, 'selected': False, 'bounds': [1035, 1855, 1080, 1908], 'id': 57, 'leaf-id': 23, 'caption': 'navigate up', 'icon-cls': None, 'description': 'navigate up'} \n",
      "\n",
      "android.view.ViewGroup bookmark\n",
      "{'text': '', 'resource-id': '', 'class': 'android.view.ViewGroup', 'package': 'com.google.android.youtube', 'content-desc': '', 'checkable': False, 'checked': False, 'clickable': True, 'enabled': True, 'focusable': False, 'focused': False, 'scrollable': False, 'long-clickable': False, 'password': False, 'selected': False, 'bounds': [1035, 1919, 1080, 1963], 'id': 58, 'leaf-id': 24, 'caption': 'bookmark', 'icon-cls': None, 'description': 'bookmark'} \n",
      "\n",
      "android.view.ViewGroup navigate up\n",
      "{'text': '', 'resource-id': '', 'class': 'android.view.ViewGroup', 'package': 'com.google.android.youtube', 'content-desc': '', 'checkable': False, 'checked': False, 'clickable': False, 'enabled': True, 'focusable': False, 'focused': False, 'scrollable': False, 'long-clickable': False, 'password': False, 'selected': False, 'bounds': [0, 2040, 1080, 2057], 'id': 59, 'leaf-id': 25, 'caption': 'navigate up', 'icon-cls': None, 'description': 'navigate up'} \n",
      "\n",
      " next\n",
      "{'text': '', 'resource-id': '', 'class': '', 'package': 'com.google.android.youtube', 'content-desc': '', 'checkable': False, 'checked': False, 'clickable': False, 'enabled': True, 'focusable': False, 'focused': False, 'scrollable': False, 'long-clickable': False, 'password': False, 'selected': False, 'bounds': [33, 2123, 281, 2178], 'id': 63, 'leaf-id': 26, 'caption': 'next', 'icon-cls': 'pause', 'description': 'next'} \n",
      "\n",
      "android.widget.ImageView next\n",
      "{'text': '', 'resource-id': '', 'class': 'android.widget.ImageView', 'package': 'com.google.android.youtube', 'content-desc': '', 'checkable': False, 'checked': False, 'clickable': True, 'enabled': True, 'focusable': False, 'focused': False, 'scrollable': False, 'long-clickable': False, 'password': False, 'selected': False, 'bounds': [953, 2117, 1019, 2183], 'id': 65, 'leaf-id': 27, 'caption': 'next', 'icon-cls': None, 'description': 'next'} \n",
      "\n",
      "android.widget.ImageView dashboard\n",
      "{'text': '', 'resource-id': 'com.google.android.youtube:id/image', 'class': 'android.widget.ImageView', 'package': 'com.google.android.youtube', 'content-desc': '', 'checkable': False, 'checked': False, 'clickable': True, 'enabled': True, 'focusable': False, 'focused': False, 'scrollable': False, 'long-clickable': False, 'password': False, 'selected': True, 'bounds': [75, 2096, 141, 2162], 'id': 68, 'leaf-id': 28, 'caption': 'dashboard', 'icon-cls': 'home', 'description': 'dashboard'} \n",
      "\n",
      "android.widget.TextView Home\n",
      "{'text': 'Home', 'resource-id': 'com.google.android.youtube:id/text', 'class': 'android.widget.TextView', 'package': 'com.google.android.youtube', 'content-desc': '', 'checkable': False, 'checked': False, 'clickable': True, 'enabled': True, 'focusable': False, 'focused': False, 'scrollable': False, 'long-clickable': False, 'password': False, 'selected': True, 'bounds': [67, 2168, 149, 2201], 'id': 69, 'leaf-id': 29, 'caption': 'choose stream', 'icon-cls': None, 'description': 'Home'} \n",
      "\n",
      "android.widget.ImageView all\n",
      "{'text': '', 'resource-id': 'com.google.android.youtube:id/image', 'class': 'android.widget.ImageView', 'package': 'com.google.android.youtube', 'content-desc': '', 'checkable': False, 'checked': False, 'clickable': True, 'enabled': True, 'focusable': False, 'focused': False, 'scrollable': False, 'long-clickable': False, 'password': False, 'selected': False, 'bounds': [291, 2096, 357, 2162], 'id': 71, 'leaf-id': 30, 'caption': 'all', 'icon-cls': None, 'description': 'all'} \n",
      "\n",
      "android.widget.TextView Shorts\n",
      "{'text': 'Shorts', 'resource-id': 'com.google.android.youtube:id/text', 'class': 'android.widget.TextView', 'package': 'com.google.android.youtube', 'content-desc': '', 'checkable': False, 'checked': False, 'clickable': True, 'enabled': True, 'focusable': False, 'focused': False, 'scrollable': False, 'long-clickable': False, 'password': False, 'selected': False, 'bounds': [281, 2168, 368, 2201], 'id': 72, 'leaf-id': 31, 'caption': 'copy', 'icon-cls': None, 'description': 'Shorts'} \n",
      "\n",
      "android.widget.ImageView select final point\n",
      "{'text': '', 'resource-id': 'com.google.android.youtube:id/image', 'class': 'android.widget.ImageView', 'package': 'com.google.android.youtube', 'content-desc': '', 'checkable': False, 'checked': False, 'clickable': True, 'enabled': True, 'focusable': False, 'focused': False, 'scrollable': False, 'long-clickable': False, 'password': False, 'selected': False, 'bounds': [491, 2100, 590, 2199], 'id': 74, 'leaf-id': 32, 'caption': 'select final point', 'icon-cls': 'add', 'description': 'select final point'} \n",
      "\n"
     ]
    },
    {
     "name": "stdout",
     "output_type": "stream",
     "text": [
      "android.widget.ImageView None\n",
      "{'text': '', 'resource-id': 'com.google.android.youtube:id/image', 'class': 'android.widget.ImageView', 'package': 'com.google.android.youtube', 'content-desc': '', 'checkable': False, 'checked': False, 'clickable': True, 'enabled': True, 'focusable': False, 'focused': False, 'scrollable': False, 'long-clickable': False, 'password': False, 'selected': False, 'bounds': [723, 2096, 789, 2162], 'id': 76, 'leaf-id': 33, 'caption': '<unk>', 'icon-cls': None, 'description': None} \n",
      "\n",
      "android.view.View New content available\n",
      "{'text': '', 'resource-id': 'com.google.android.youtube:id/new_content_dot', 'class': 'android.view.View', 'package': 'com.google.android.youtube', 'content-desc': 'New content available', 'checkable': False, 'checked': False, 'clickable': True, 'enabled': True, 'focusable': False, 'focused': False, 'scrollable': False, 'long-clickable': False, 'password': False, 'selected': False, 'bounds': [761, 2090, 794, 2123], 'id': 77, 'leaf-id': 34, 'caption': 'record', 'icon-cls': None, 'description': 'New content available'} \n",
      "\n",
      "android.widget.TextView Subscriptions\n",
      "{'text': 'Subscriptions', 'resource-id': 'com.google.android.youtube:id/text', 'class': 'android.widget.TextView', 'package': 'com.google.android.youtube', 'content-desc': '', 'checkable': False, 'checked': False, 'clickable': True, 'enabled': True, 'focusable': False, 'focused': False, 'scrollable': False, 'long-clickable': False, 'password': False, 'selected': False, 'bounds': [668, 2168, 844, 2201], 'id': 78, 'leaf-id': 35, 'caption': 'logo', 'icon-cls': None, 'description': 'Subscriptions'} \n",
      "\n",
      "android.widget.ImageView english\n",
      "{'text': '', 'resource-id': 'com.google.android.youtube:id/image', 'class': 'android.widget.ImageView', 'package': 'com.google.android.youtube', 'content-desc': '', 'checkable': False, 'checked': False, 'clickable': True, 'enabled': True, 'focusable': False, 'focused': False, 'scrollable': False, 'long-clickable': False, 'password': False, 'selected': False, 'bounds': [939, 2096, 1005, 2162], 'id': 80, 'leaf-id': 36, 'caption': 'english', 'icon-cls': 'play', 'description': 'english'} \n",
      "\n",
      "android.widget.TextView Library\n",
      "{'text': 'Library', 'resource-id': 'com.google.android.youtube:id/text', 'class': 'android.widget.TextView', 'package': 'com.google.android.youtube', 'content-desc': '', 'checkable': False, 'checked': False, 'clickable': True, 'enabled': True, 'focusable': False, 'focused': False, 'scrollable': False, 'long-clickable': False, 'password': False, 'selected': False, 'bounds': [927, 2168, 1017, 2201], 'id': 81, 'leaf-id': 37, 'caption': 'choose', 'icon-cls': None, 'description': 'Library'} \n",
      "\n"
     ]
    }
   ],
   "source": [
    "gui.show_each_element(only_leaves=True)"
   ]
  },
  {
   "cell_type": "markdown",
   "id": "5a46066c",
   "metadata": {},
   "source": [
    "## Load automator"
   ]
  },
  {
   "cell_type": "code",
   "execution_count": 5,
   "id": "08bb1723",
   "metadata": {},
   "outputs": [],
   "source": [
    "gui.show_all_elements(only_leaves=True)"
   ]
  },
  {
   "cell_type": "code",
   "execution_count": 4,
   "id": "f40309c0",
   "metadata": {},
   "outputs": [],
   "source": [
    "from Automator import Automator\n",
    "aut = Automator(gui)\n",
    "aut.gather_element_descriptions()"
   ]
  },
  {
   "cell_type": "code",
   "execution_count": 7,
   "id": "89e67e96",
   "metadata": {},
   "outputs": [
    {
     "name": "stdout",
     "output_type": "stream",
     "text": [
      "*** Asking ***\n",
      " You have a list of UI components on the current UI page, which one of them is more related to the task \"Create a play list\"?\n",
      "Components:[(0, 'YouTube');(1, 'Cast. Disconnected');(2, 'Notifications');(3, 'Search');(4, 'Account');(10, 'Action menu');(11, 'search');(12, 'call');(13, 'Shorts');(14, 'image click to expand');(15, 'More actions');(17, 'close navigation drawer');(18, 'movie poster thumbnail');(19, 'More actions');(20, 'eleven');(21, 'close navigation drawer');(22, 'image thumbnail');(23, 'navigate up');(24, 'bookmark');(25, 'navigate up');(26, 'next');(27, 'next');(28, 'dashboard');(29, 'Home');(30, 'all');(31, 'Shorts');(32, 'select final point');(34, 'New content available');(35, 'Subscriptions');(36, 'english');(37, 'Library');]\n",
      "Note that it may take multiple steps to reach the target UI with the target component to complete the task. If no component in the current UI that directly related to the task, which of them is more possible to lead to the target UI?\n",
      "\n",
      "*** Answer ***\n",
      " {\n",
      "  \"content\": \"In the given list of UI components, the component that is most related to the task \\\"Create a playlist\\\" is the \\\"Dashboard\\\" component at index 28. However, it is possible that the user may need to navigate through other components such as \\\"Account\\\", \\\"Search\\\" or \\\"Library\\\" to get to the playlist creation feature.\\n\\nIf there is no component on the current UI page that directly relates to the task of playlist creation, it is possible that the \\\"Navigation Drawer\\\" component at indexes 17 and 21 may help the user navigate to another section of the app where playlist creation is available. Additionally, the \\\"More actions\\\" component at indexes 15 and 19 may also provide options to create a playlist.\",\n",
      "  \"role\": \"assistant\"\n",
      "}\n"
     ]
    }
   ],
   "source": [
    "aut.select_element_to_perform_task(task='Create a play list')"
   ]
  },
  {
   "cell_type": "code",
   "execution_count": null,
   "id": "a060885f",
   "metadata": {},
   "outputs": [],
   "source": []
  },
  {
   "cell_type": "code",
   "execution_count": 9,
   "id": "0f54a183",
   "metadata": {},
   "outputs": [
    {
     "data": {
      "text/plain": [
       "[<OpenAIObject at 0x22b6fad9760> JSON: {\n",
       "   \"content\": \"The UI component that is more related to the task \\\"Change display language\\\" is likely to be found under the \\\"Account\\\" component, as this is where language and other account settings are typically located. However, since the provided list of components does not include any sub-menus or dropdowns, it is possible that the specific component for changing the display language is not present on the current UI page.\\n\\nIn this case, it is more possible to lead to the target UI by clicking on the \\\"More actions\\\" component (numbered 19 and 15). This component often contains options for advanced settings, including changing the display language. Clicking on this component may reveal additional sub-menus and options for changing the language.\",\n",
       "   \"role\": \"assistant\"\n",
       " },\n",
       " <OpenAIObject at 0x22b703c2520> JSON: {\n",
       "   \"content\": \"In the given list of UI components, the component that is most related to the task \\\"Create a playlist\\\" is the \\\"Dashboard\\\" component at index 28. However, it is possible that the user may need to navigate through other components such as \\\"Account\\\", \\\"Search\\\" or \\\"Library\\\" to get to the playlist creation feature.\\n\\nIf there is no component on the current UI page that directly relates to the task of playlist creation, it is possible that the \\\"Navigation Drawer\\\" component at indexes 17 and 21 may help the user navigate to another section of the app where playlist creation is available. Additionally, the \\\"More actions\\\" component at indexes 15 and 19 may also provide options to create a playlist.\",\n",
       "   \"role\": \"assistant\"\n",
       " }]"
      ]
     },
     "execution_count": 9,
     "metadata": {},
     "output_type": "execute_result"
    }
   ],
   "source": [
    "aut.openai_answers"
   ]
  },
  {
   "cell_type": "code",
   "execution_count": null,
   "id": "c4688321",
   "metadata": {},
   "outputs": [],
   "source": []
  },
  {
   "cell_type": "code",
   "execution_count": null,
   "id": "02908993",
   "metadata": {},
   "outputs": [],
   "source": []
  },
  {
   "cell_type": "code",
   "execution_count": null,
   "id": "8471b548",
   "metadata": {},
   "outputs": [],
   "source": []
  },
  {
   "cell_type": "code",
   "execution_count": null,
   "id": "2103d0cc",
   "metadata": {},
   "outputs": [],
   "source": []
  },
  {
   "cell_type": "code",
   "execution_count": 3,
   "id": "8201e882",
   "metadata": {},
   "outputs": [
    {
     "name": "stdout",
     "output_type": "stream",
     "text": [
      "*** Asking ***\n",
      " What is the date of today?\n",
      "*** Answer ***\n",
      " {\n",
      "  \"content\": \"I'm sorry, but as a virtual assistant, I don't have access to the current date and time on your device. I suggest checking your device's clock or asking a voice assistant on your device. Is there anything else I can help you with?\",\n",
      "  \"role\": \"assistant\"\n",
      "}\n"
     ]
    }
   ],
   "source": [
    "aut.ask_openai('What is the date of today?')"
   ]
  },
  {
   "cell_type": "code",
   "execution_count": 7,
   "id": "0cd76f29",
   "metadata": {},
   "outputs": [
    {
     "name": "stdout",
     "output_type": "stream",
     "text": [
      "*** Asking ***\n",
      " I will give you several UI components on a UI page, which one of them is more related to the task \"change user profile\"?Components:[Show navigation drawer;For you;Following;Want to see who you know on Twitter?;Take a peek at your contacts.;Get started;Get started;Dismiss;You might like;Follow Topic;What are the strange lights over London? Too far South for the Northern Lights I think;Unmute audio;1.1M views;New Tweet;]\n",
      "*** Answer ***\n",
      " \n",
      "\n",
      "Take a peek at your\n"
     ]
    }
   ],
   "source": [
    "aut.ask_openai('change user profile')"
   ]
  }
 ],
 "metadata": {
  "kernelspec": {
   "display_name": "Python 3 (ipykernel)",
   "language": "python",
   "name": "python3"
  },
  "language_info": {
   "codemirror_mode": {
    "name": "ipython",
    "version": 3
   },
   "file_extension": ".py",
   "mimetype": "text/x-python",
   "name": "python",
   "nbconvert_exporter": "python",
   "pygments_lexer": "ipython3",
   "version": "3.10.10"
  }
 },
 "nbformat": 4,
 "nbformat_minor": 5
}
