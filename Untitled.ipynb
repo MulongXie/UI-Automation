{
 "cells": [
  {
   "cell_type": "code",
   "execution_count": 1,
   "id": "7ac2619d",
   "metadata": {},
   "outputs": [
    {
     "name": "stdout",
     "output_type": "stream",
     "text": [
      "Save screenshot to data\\emulator-5554.png\n",
      "Save view hierarchy to data\\emulator-5554.json\n",
      "Save reformatted vh to data\\emulator-5554.json\n"
     ]
    }
   ],
   "source": [
    "from GUIData import GUIData\n",
    "from Device import Device\n",
    "from ppadb.client import Client as AdbClient\n",
    "client = AdbClient(host=\"127.0.0.1\", port=5037)\n",
    "\n",
    "device = Device(client.devices()[0], 'data')\n",
    "device.cap_screenshot()\n",
    "device.cap_vh()\n",
    "device.cvt_vh_to_rico_format()\n",
    "\n",
    "gui = GUIData(device.screenshot_path, device.vh_json_path)\n",
    "gui.extract_elements_from_vh()\n",
    "gui.show_all_elements()\n",
    "gui.show_all_elements(only_leaves=True)"
   ]
  },
  {
   "cell_type": "code",
   "execution_count": null,
   "id": "d9d3f215",
   "metadata": {},
   "outputs": [],
   "source": []
  },
  {
   "cell_type": "code",
   "execution_count": 1,
   "id": "659af70a",
   "metadata": {},
   "outputs": [
    {
     "name": "stderr",
     "output_type": "stream",
     "text": [
      "C:\\Users\\xie029\\AppData\\Local\\Programs\\Python\\Python310\\lib\\site-packages\\tqdm\\auto.py:22: TqdmWarning: IProgress not found. Please update jupyter and ipywidgets. See https://ipywidgets.readthedocs.io/en/stable/user_install.html\n",
      "  from .autonotebook import tqdm as notebook_tqdm\n"
     ]
    }
   ],
   "source": [
    "from GUIData import GUIData"
   ]
  },
  {
   "cell_type": "code",
   "execution_count": 2,
   "id": "48c10073",
   "metadata": {},
   "outputs": [],
   "source": [
    "gui = GUIData('data/emulator-5554.png', 'data/emulator-5554.json')\n",
    "gui.extract_elements_from_vh()\n",
    "gui.show_all_elements()\n",
    "gui.show_all_elements(only_leaves=True)"
   ]
  },
  {
   "cell_type": "code",
   "execution_count": 3,
   "id": "aec23a56",
   "metadata": {},
   "outputs": [
    {
     "name": "stdout",
     "output_type": "stream",
     "text": [
      "[INFO] Loading idx2word classification/model_results/vocab_idx2word.json\n",
      "[INFO] Loading checkpoint classification/model_results/labeldroid.pt\n"
     ]
    },
    {
     "name": "stderr",
     "output_type": "stream",
     "text": [
      "C:\\Users\\xie029\\AppData\\Local\\Programs\\Python\\Python310\\lib\\site-packages\\torch\\serialization.py:868: SourceChangeWarning: source code of class 'models.image_models.ResNetFeats' has changed. you can retrieve the original source code by accessing the object's source attribute or set `torch.nn.Module.dump_patches = True` and use the patch tool to revert the changes.\n",
      "  warnings.warn(msg, SourceChangeWarning)\n",
      "C:\\Users\\xie029\\AppData\\Local\\Programs\\Python\\Python310\\lib\\site-packages\\torch\\serialization.py:868: SourceChangeWarning: source code of class 'torch.nn.modules.container.Sequential' has changed. you can retrieve the original source code by accessing the object's source attribute or set `torch.nn.Module.dump_patches = True` and use the patch tool to revert the changes.\n",
      "  warnings.warn(msg, SourceChangeWarning)\n",
      "C:\\Users\\xie029\\AppData\\Local\\Programs\\Python\\Python310\\lib\\site-packages\\torch\\serialization.py:868: SourceChangeWarning: source code of class 'torch.nn.modules.conv.Conv2d' has changed. you can retrieve the original source code by accessing the object's source attribute or set `torch.nn.Module.dump_patches = True` and use the patch tool to revert the changes.\n",
      "  warnings.warn(msg, SourceChangeWarning)\n",
      "C:\\Users\\xie029\\AppData\\Local\\Programs\\Python\\Python310\\lib\\site-packages\\torch\\serialization.py:868: SourceChangeWarning: source code of class 'torch.nn.modules.batchnorm.BatchNorm2d' has changed. you can retrieve the original source code by accessing the object's source attribute or set `torch.nn.Module.dump_patches = True` and use the patch tool to revert the changes.\n",
      "  warnings.warn(msg, SourceChangeWarning)\n",
      "C:\\Users\\xie029\\AppData\\Local\\Programs\\Python\\Python310\\lib\\site-packages\\torch\\serialization.py:868: SourceChangeWarning: source code of class 'torch.nn.modules.activation.ReLU' has changed. you can retrieve the original source code by accessing the object's source attribute or set `torch.nn.Module.dump_patches = True` and use the patch tool to revert the changes.\n",
      "  warnings.warn(msg, SourceChangeWarning)\n",
      "C:\\Users\\xie029\\AppData\\Local\\Programs\\Python\\Python310\\lib\\site-packages\\torch\\serialization.py:868: SourceChangeWarning: source code of class 'torch.nn.modules.pooling.MaxPool2d' has changed. you can retrieve the original source code by accessing the object's source attribute or set `torch.nn.Module.dump_patches = True` and use the patch tool to revert the changes.\n",
      "  warnings.warn(msg, SourceChangeWarning)\n",
      "C:\\Users\\xie029\\AppData\\Local\\Programs\\Python\\Python310\\lib\\site-packages\\torch\\serialization.py:868: SourceChangeWarning: source code of class 'torchvision.models.resnet.Bottleneck' has changed. you can retrieve the original source code by accessing the object's source attribute or set `torch.nn.Module.dump_patches = True` and use the patch tool to revert the changes.\n",
      "  warnings.warn(msg, SourceChangeWarning)\n",
      "C:\\Users\\xie029\\AppData\\Local\\Programs\\Python\\Python310\\lib\\site-packages\\torch\\serialization.py:868: SourceChangeWarning: source code of class 'torch.nn.modules.pooling.AvgPool2d' has changed. you can retrieve the original source code by accessing the object's source attribute or set `torch.nn.Module.dump_patches = True` and use the patch tool to revert the changes.\n",
      "  warnings.warn(msg, SourceChangeWarning)\n",
      "C:\\Users\\xie029\\AppData\\Local\\Programs\\Python\\Python310\\lib\\site-packages\\torch\\serialization.py:868: SourceChangeWarning: source code of class 'torch.nn.modules.pooling.AdaptiveAvgPool2d' has changed. you can retrieve the original source code by accessing the object's source attribute or set `torch.nn.Module.dump_patches = True` and use the patch tool to revert the changes.\n",
      "  warnings.warn(msg, SourceChangeWarning)\n",
      "C:\\Users\\xie029\\AppData\\Local\\Programs\\Python\\Python310\\lib\\site-packages\\torch\\serialization.py:868: SourceChangeWarning: source code of class 'torch.nn.modules.linear.Linear' has changed. you can retrieve the original source code by accessing the object's source attribute or set `torch.nn.Module.dump_patches = True` and use the patch tool to revert the changes.\n",
      "  warnings.warn(msg, SourceChangeWarning)\n",
      "C:\\Users\\xie029\\AppData\\Local\\Programs\\Python\\Python310\\lib\\site-packages\\torch\\serialization.py:868: SourceChangeWarning: source code of class 'torch.nn.modules.batchnorm.BatchNorm1d' has changed. you can retrieve the original source code by accessing the object's source attribute or set `torch.nn.Module.dump_patches = True` and use the patch tool to revert the changes.\n",
      "  warnings.warn(msg, SourceChangeWarning)\n",
      "C:\\Users\\xie029\\AppData\\Local\\Programs\\Python\\Python310\\lib\\site-packages\\torch\\serialization.py:868: SourceChangeWarning: source code of class 'models.Transformer.Transformer' has changed. you can retrieve the original source code by accessing the object's source attribute or set `torch.nn.Module.dump_patches = True` and use the patch tool to revert the changes.\n",
      "  warnings.warn(msg, SourceChangeWarning)\n",
      "C:\\Users\\xie029\\AppData\\Local\\Programs\\Python\\Python310\\lib\\site-packages\\torch\\serialization.py:868: SourceChangeWarning: source code of class 'torch.nn.modules.dropout.Dropout' has changed. you can retrieve the original source code by accessing the object's source attribute or set `torch.nn.Module.dump_patches = True` and use the patch tool to revert the changes.\n",
      "  warnings.warn(msg, SourceChangeWarning)\n",
      "C:\\Users\\xie029\\AppData\\Local\\Programs\\Python\\Python310\\lib\\site-packages\\torch\\serialization.py:868: SourceChangeWarning: source code of class 'torch.nn.modules.container.ModuleList' has changed. you can retrieve the original source code by accessing the object's source attribute or set `torch.nn.Module.dump_patches = True` and use the patch tool to revert the changes.\n",
      "  warnings.warn(msg, SourceChangeWarning)\n",
      "C:\\Users\\xie029\\AppData\\Local\\Programs\\Python\\Python310\\lib\\site-packages\\torch\\serialization.py:868: SourceChangeWarning: source code of class 'torch.nn.modules.linear.Identity' has changed. you can retrieve the original source code by accessing the object's source attribute or set `torch.nn.Module.dump_patches = True` and use the patch tool to revert the changes.\n",
      "  warnings.warn(msg, SourceChangeWarning)\n",
      "C:\\Users\\xie029\\AppData\\Local\\Programs\\Python\\Python310\\lib\\site-packages\\torch\\serialization.py:868: SourceChangeWarning: source code of class 'torch.nn.modules.sparse.Embedding' has changed. you can retrieve the original source code by accessing the object's source attribute or set `torch.nn.Module.dump_patches = True` and use the patch tool to revert the changes.\n",
      "  warnings.warn(msg, SourceChangeWarning)\n"
     ]
    },
    {
     "name": "stdout",
     "output_type": "stream",
     "text": [
      "['thumbnail', 'twitter', 'close', '<unk>', '<unk> <unk> <unk> <unk> <unk> <unk> <unk> <unk> <unk> <unk> <unk> <unk> <unk> <unk>', '<unk> <unk> <unk> <unk> <unk> <unk> <unk> <unk> <unk> <unk> <unk> <unk> <unk> <unk>', '<unk>', '<unk>', '<unk>', 'more options', 'select final point', '<unk>', 'like tweet', '<unk>', 'close tab', 'profile photo', '<unk>', 'more options', 'banner', 'loading wallpaper', 'loading wallpaper', 'sound', 'back', 'add alarm', 'close navigation drawer', 'search', '<unk>', '<unk>', '<unk>', '<unk>']\n"
     ]
    }
   ],
   "source": [
    "gui.get_caption_for_leaf_captions()"
   ]
  },
  {
   "cell_type": "code",
   "execution_count": null,
   "id": "48560fd1",
   "metadata": {},
   "outputs": [],
   "source": []
  },
  {
   "cell_type": "code",
   "execution_count": 4,
   "id": "6b4807f3",
   "metadata": {},
   "outputs": [
    {
     "name": "stdout",
     "output_type": "stream",
     "text": [
      "thumbnail\n",
      "twitter\n",
      "close\n",
      "<unk>\n",
      "<unk> <unk> <unk> <unk> <unk> <unk> <unk> <unk> <unk> <unk> <unk> <unk> <unk> <unk>\n",
      "<unk> <unk> <unk> <unk> <unk> <unk> <unk> <unk> <unk> <unk> <unk> <unk> <unk> <unk>\n",
      "<unk>\n",
      "<unk>\n",
      "<unk>\n",
      "more options\n",
      "select final point\n",
      "<unk>\n",
      "like tweet\n",
      "<unk>\n",
      "close tab\n",
      "profile photo\n",
      "<unk>\n",
      "more options\n",
      "banner\n",
      "loading wallpaper\n",
      "loading wallpaper\n",
      "sound\n",
      "back\n",
      "add alarm\n",
      "close navigation drawer\n",
      "search\n",
      "<unk>\n",
      "<unk>\n",
      "<unk>\n",
      "<unk>\n"
     ]
    }
   ],
   "source": [
    "for ele in gui.elements_leaves:\n",
    "    print(ele['caption'])\n",
    "    gui.show_element(ele)"
   ]
  },
  {
   "cell_type": "code",
   "execution_count": null,
   "id": "8f89e05d",
   "metadata": {},
   "outputs": [],
   "source": []
  },
  {
   "cell_type": "code",
   "execution_count": null,
   "id": "54c01f52",
   "metadata": {},
   "outputs": [],
   "source": []
  },
  {
   "cell_type": "code",
   "execution_count": 4,
   "id": "f40309c0",
   "metadata": {},
   "outputs": [
    {
     "name": "stderr",
     "output_type": "stream",
     "text": [
      "C:\\Users\\xie029\\AppData\\Local\\Programs\\Python\\Python310\\lib\\site-packages\\tqdm\\auto.py:22: TqdmWarning: IProgress not found. Please update jupyter and ipywidgets. See https://ipywidgets.readthedocs.io/en/stable/user_install.html\n",
      "  from .autonotebook import tqdm as notebook_tqdm\n"
     ]
    }
   ],
   "source": [
    "from Automator import Automator"
   ]
  },
  {
   "cell_type": "code",
   "execution_count": 5,
   "id": "9b839027",
   "metadata": {},
   "outputs": [],
   "source": [
    "aut = Automator(gui)"
   ]
  },
  {
   "cell_type": "code",
   "execution_count": 4,
   "id": "2ec774d0",
   "metadata": {},
   "outputs": [],
   "source": [
    "aut.get_textual_gui_elements()"
   ]
  },
  {
   "cell_type": "code",
   "execution_count": 5,
   "id": "7f77f4a4",
   "metadata": {},
   "outputs": [
    {
     "data": {
      "text/plain": [
       "['Show navigation drawer',\n",
       " 'For you',\n",
       " 'Following',\n",
       " 'Want to see who you know on Twitter?',\n",
       " 'Take a peek at your contacts.',\n",
       " 'Get started',\n",
       " 'Get started',\n",
       " 'Dismiss',\n",
       " 'You might like',\n",
       " 'Follow Topic',\n",
       " 'What are the strange lights over London? Too far South for the Northern Lights I think',\n",
       " 'Unmute audio',\n",
       " '1.1M views',\n",
       " 'New Tweet']"
      ]
     },
     "execution_count": 5,
     "metadata": {},
     "output_type": "execute_result"
    }
   ],
   "source": [
    "aut.textual_elements"
   ]
  },
  {
   "cell_type": "code",
   "execution_count": 6,
   "id": "f26c55eb",
   "metadata": {},
   "outputs": [
    {
     "name": "stdout",
     "output_type": "stream",
     "text": [
      "*** Asking ***\n",
      " I will give you several UI components on a UI page, which one of them is more related to the task \"change display language\"?Components:[Show navigation drawer;For you;Following;Want to see who you know on Twitter?;Take a peek at your contacts.;Get started;Get started;Dismiss;You might like;Follow Topic;What are the strange lights over London? Too far South for the Northern Lights I think;Unmute audio;1.1M views;New Tweet;]\n",
      "*** Answer ***\n",
      " \n",
      "\n",
      "Unmute audio\n"
     ]
    }
   ],
   "source": [
    "aut.ask_openai('change display language')"
   ]
  },
  {
   "cell_type": "code",
   "execution_count": 7,
   "id": "0cd76f29",
   "metadata": {},
   "outputs": [
    {
     "name": "stdout",
     "output_type": "stream",
     "text": [
      "*** Asking ***\n",
      " I will give you several UI components on a UI page, which one of them is more related to the task \"change user profile\"?Components:[Show navigation drawer;For you;Following;Want to see who you know on Twitter?;Take a peek at your contacts.;Get started;Get started;Dismiss;You might like;Follow Topic;What are the strange lights over London? Too far South for the Northern Lights I think;Unmute audio;1.1M views;New Tweet;]\n",
      "*** Answer ***\n",
      " \n",
      "\n",
      "Take a peek at your\n"
     ]
    }
   ],
   "source": [
    "aut.ask_openai('change user profile')"
   ]
  },
  {
   "cell_type": "code",
   "execution_count": null,
   "id": "35210506",
   "metadata": {},
   "outputs": [],
   "source": []
  }
 ],
 "metadata": {
  "kernelspec": {
   "display_name": "Python 3 (ipykernel)",
   "language": "python",
   "name": "python3"
  },
  "language_info": {
   "codemirror_mode": {
    "name": "ipython",
    "version": 3
   },
   "file_extension": ".py",
   "mimetype": "text/x-python",
   "name": "python",
   "nbconvert_exporter": "python",
   "pygments_lexer": "ipython3",
   "version": "3.10.10"
  }
 },
 "nbformat": 4,
 "nbformat_minor": 5
}
