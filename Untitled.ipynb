{
 "cells": [
  {
   "cell_type": "code",
   "execution_count": 1,
   "id": "7ac2619d",
   "metadata": {},
   "outputs": [
    {
     "name": "stdout",
     "output_type": "stream",
     "text": [
      "Save screenshot to data\\emulator-5554.png\n",
      "Save view hierarchy to data\\emulator-5554.json\n",
      "Save reformatted vh to data\\emulator-5554.json\n"
     ]
    }
   ],
   "source": [
    "from GUIData import GUIData\n",
    "from Device import Device\n",
    "from ppadb.client import Client as AdbClient\n",
    "client = AdbClient(host=\"127.0.0.1\", port=5037)\n",
    "\n",
    "device = Device(client.devices()[0], 'data')\n",
    "device.cap_screenshot()\n",
    "device.cap_vh()\n",
    "device.cvt_vh_to_rico_format()\n",
    "\n",
    "gui = GUIData(device.screenshot_path, device.vh_json_path)\n",
    "gui.extract_elements_from_vh()\n",
    "gui.show_all_elements()\n",
    "gui.show_all_elements(only_leaves=True)"
   ]
  },
  {
   "cell_type": "code",
   "execution_count": null,
   "id": "d9d3f215",
   "metadata": {},
   "outputs": [],
   "source": []
  },
  {
   "cell_type": "code",
   "execution_count": 1,
   "id": "ad93517b",
   "metadata": {},
   "outputs": [],
   "source": [
    "from GUIData import GUIData"
   ]
  },
  {
   "cell_type": "code",
   "execution_count": 3,
   "id": "8f319732",
   "metadata": {},
   "outputs": [],
   "source": [
    "gui = GUIData('data/emulator-5554.png', 'data/emulator-5554.json')\n",
    "gui.extract_elements_from_vh()\n",
    "gui.show_all_elements()\n",
    "gui.show_all_elements(only_leaves=True)"
   ]
  },
  {
   "cell_type": "code",
   "execution_count": null,
   "id": "a4893db9",
   "metadata": {},
   "outputs": [],
   "source": []
  },
  {
   "cell_type": "code",
   "execution_count": 6,
   "id": "4a2ae7bd",
   "metadata": {},
   "outputs": [
    {
     "name": "stdout",
     "output_type": "stream",
     "text": [
      "{'text': '', 'resource-id': '', 'class': 'android.widget.ImageButton', 'package': 'com.twitter.android', 'content-desc': 'Show navigation drawer', 'checkable': False, 'checked': False, 'clickable': True, 'enabled': True, 'focusable': True, 'focused': False, 'scrollable': False, 'long-clickable': False, 'password': False, 'selected': False, 'bounds': [0, 66, 150, 220], 'id': 3}\n",
      "{'text': '', 'resource-id': 'com.twitter.android:id/logo', 'class': 'android.widget.ImageView', 'package': 'com.twitter.android', 'content-desc': '', 'checkable': False, 'checked': False, 'clickable': True, 'enabled': True, 'focusable': False, 'focused': False, 'scrollable': False, 'long-clickable': False, 'password': False, 'selected': False, 'bounds': [507, 110, 573, 176], 'id': 4}\n",
      "{'text': 'For you', 'resource-id': '', 'class': 'android.widget.TextView', 'package': 'com.twitter.android', 'content-desc': '', 'checkable': False, 'checked': False, 'clickable': False, 'enabled': True, 'focusable': False, 'focused': False, 'scrollable': False, 'long-clickable': False, 'password': False, 'selected': True, 'bounds': [187, 261, 341, 311], 'id': 8}\n",
      "{'text': 'Following', 'resource-id': '', 'class': 'android.widget.TextView', 'package': 'com.twitter.android', 'content-desc': '', 'checkable': False, 'checked': False, 'clickable': True, 'enabled': True, 'focusable': False, 'focused': False, 'scrollable': False, 'long-clickable': False, 'password': False, 'selected': False, 'bounds': [715, 261, 893, 311], 'id': 10}\n",
      "{'text': '', 'resource-id': '', 'class': 'android.view.View', 'package': 'com.twitter.android', 'content-desc': '', 'checkable': False, 'checked': False, 'clickable': False, 'enabled': True, 'focusable': False, 'focused': False, 'scrollable': False, 'long-clickable': False, 'password': False, 'selected': False, 'bounds': [0, 352, 1080, 353], 'id': 12}\n",
      "{'text': 'Want to see who you know on Twitter?', 'resource-id': 'com.twitter.android:id/header', 'class': 'android.widget.TextView', 'package': 'com.twitter.android', 'content-desc': '', 'checkable': False, 'checked': False, 'clickable': False, 'enabled': True, 'focusable': False, 'focused': False, 'scrollable': False, 'long-clickable': False, 'password': False, 'selected': False, 'bounds': [88, 464, 992, 643], 'id': 16}\n",
      "{'text': 'Take a peek at your contacts.', 'resource-id': 'com.twitter.android:id/body', 'class': 'android.widget.TextView', 'package': 'com.twitter.android', 'content-desc': '', 'checkable': False, 'checked': False, 'clickable': False, 'enabled': True, 'focusable': False, 'focused': False, 'scrollable': False, 'long-clickable': False, 'password': False, 'selected': False, 'bounds': [88, 643, 992, 715], 'id': 17}\n",
      "{'text': '', 'resource-id': '', 'class': 'android.view.View', 'package': 'com.twitter.android', 'content-desc': 'Get started', 'checkable': False, 'checked': False, 'clickable': True, 'enabled': True, 'focusable': False, 'focused': False, 'scrollable': False, 'long-clickable': False, 'password': False, 'selected': False, 'bounds': [88, 765, 442, 886], 'id': 21}\n",
      "{'text': 'Get started', 'resource-id': '', 'class': 'android.widget.TextView', 'package': 'com.twitter.android', 'content-desc': '', 'checkable': False, 'checked': False, 'clickable': True, 'enabled': True, 'focusable': False, 'focused': False, 'scrollable': False, 'long-clickable': False, 'password': False, 'selected': False, 'bounds': [154, 801, 376, 851], 'id': 22}\n",
      "{'text': '', 'resource-id': '', 'class': 'android.widget.Button', 'package': 'com.twitter.android', 'content-desc': '', 'checkable': False, 'checked': False, 'clickable': True, 'enabled': True, 'focusable': False, 'focused': False, 'scrollable': False, 'long-clickable': False, 'password': False, 'selected': False, 'bounds': [88, 765, 442, 886], 'id': 23}\n",
      "{'text': '', 'resource-id': 'com.twitter.android:id/caret', 'class': 'android.widget.ImageView', 'package': 'com.twitter.android', 'content-desc': 'Dismiss', 'checkable': False, 'checked': False, 'clickable': True, 'enabled': True, 'focusable': True, 'focused': False, 'scrollable': False, 'long-clickable': False, 'password': False, 'selected': False, 'bounds': [970, 464, 1080, 552], 'id': 24}\n",
      "{'text': '', 'resource-id': 'com.twitter.android:id/social_context_badge', 'class': 'android.widget.ImageView', 'package': 'com.twitter.android', 'content-desc': '', 'checkable': False, 'checked': False, 'clickable': True, 'enabled': True, 'focusable': False, 'focused': False, 'scrollable': False, 'long-clickable': False, 'password': False, 'selected': False, 'bounds': [138, 1030, 182, 1074], 'id': 27}\n",
      "{'text': 'You might like', 'resource-id': 'com.twitter.android:id/social_context_text', 'class': 'android.widget.TextView', 'package': 'com.twitter.android', 'content-desc': '', 'checkable': False, 'checked': False, 'clickable': True, 'enabled': True, 'focusable': True, 'focused': False, 'scrollable': False, 'long-clickable': False, 'password': False, 'selected': False, 'bounds': [210, 1002, 446, 1079], 'id': 29}\n",
      "{'text': '', 'resource-id': 'com.twitter.android:id/social_context_dot_divider', 'class': 'android.widget.ImageView', 'package': 'com.twitter.android', 'content-desc': '', 'checkable': False, 'checked': False, 'clickable': True, 'enabled': True, 'focusable': False, 'focused': False, 'scrollable': False, 'long-clickable': False, 'password': False, 'selected': False, 'bounds': [446, 1002, 474, 1079], 'id': 30}\n",
      "{'text': 'Follow Topic', 'resource-id': 'com.twitter.android:id/social_context_button', 'class': 'android.widget.TextView', 'package': 'com.twitter.android', 'content-desc': '', 'checkable': False, 'checked': False, 'clickable': True, 'enabled': True, 'focusable': True, 'focused': False, 'scrollable': False, 'long-clickable': False, 'password': False, 'selected': False, 'bounds': [474, 1002, 686, 1079], 'id': 31}\n",
      "{'NAF': True, 'text': '', 'resource-id': 'com.twitter.android:id/social_context_curation_action', 'class': 'android.widget.ImageView', 'package': 'com.twitter.android', 'content-desc': '', 'checkable': False, 'checked': False, 'clickable': True, 'enabled': True, 'focusable': True, 'focused': False, 'scrollable': False, 'long-clickable': False, 'password': False, 'selected': False, 'bounds': [981, 1002, 1069, 1085], 'id': 32}\n",
      "{'text': '', 'resource-id': '', 'class': 'android.widget.ImageView', 'package': 'com.twitter.android', 'content-desc': '', 'checkable': False, 'checked': False, 'clickable': True, 'enabled': True, 'focusable': False, 'focused': False, 'scrollable': False, 'long-clickable': False, 'password': False, 'selected': False, 'bounds': [33, 1107, 182, 1256], 'id': 34}\n",
      "{'text': '', 'resource-id': 'com.twitter.android:id/tweet_header_default', 'class': 'android.view.ViewGroup', 'package': 'com.twitter.android', 'content-desc': '', 'checkable': False, 'checked': False, 'clickable': True, 'enabled': True, 'focusable': False, 'focused': False, 'scrollable': False, 'long-clickable': False, 'password': False, 'selected': False, 'bounds': [210, 1107, 981, 1153], 'id': 35}\n",
      "{'NAF': True, 'text': '', 'resource-id': 'com.twitter.android:id/tweet_curation_action', 'class': 'android.widget.ImageView', 'package': 'com.twitter.android', 'content-desc': '', 'checkable': False, 'checked': False, 'clickable': True, 'enabled': True, 'focusable': True, 'focused': False, 'scrollable': False, 'long-clickable': False, 'password': False, 'selected': False, 'bounds': [981, 1081, 1069, 1169], 'id': 36}\n",
      "{'text': 'What are the strange lights over London? Too far South for the Northern Lights I think', 'resource-id': '', 'class': 'android.view.View', 'package': 'com.twitter.android', 'content-desc': '', 'checkable': False, 'checked': False, 'clickable': True, 'enabled': True, 'focusable': True, 'focused': False, 'scrollable': False, 'long-clickable': False, 'password': False, 'selected': False, 'bounds': [210, 1159, 1047, 1263], 'id': 38}\n",
      "{'text': '', 'resource-id': '', 'class': 'ddw', 'package': 'com.twitter.android', 'content-desc': '', 'checkable': False, 'checked': False, 'clickable': True, 'enabled': True, 'focusable': False, 'focused': False, 'scrollable': False, 'long-clickable': False, 'password': False, 'selected': False, 'bounds': [210, 1282, 1047, 2119], 'id': 41}\n",
      "{'text': '', 'resource-id': '', 'class': 'android.view.View', 'package': 'com.twitter.android', 'content-desc': '', 'checkable': False, 'checked': False, 'clickable': True, 'enabled': True, 'focusable': False, 'focused': False, 'scrollable': False, 'long-clickable': False, 'password': False, 'selected': False, 'bounds': [254, 1326, 1003, 2075], 'id': 43}\n"
     ]
    },
    {
     "name": "stdout",
     "output_type": "stream",
     "text": [
      "{'text': '', 'resource-id': 'com.twitter.android:id/audio_toggle_icon', 'class': 'android.widget.ImageView', 'package': 'com.twitter.android', 'content-desc': 'Unmute audio', 'checkable': False, 'checked': False, 'clickable': True, 'enabled': True, 'focusable': False, 'focused': False, 'scrollable': False, 'long-clickable': False, 'password': False, 'selected': False, 'bounds': [959, 2042, 997, 2080], 'id': 45}\n",
      "{'text': '1.1M views', 'resource-id': 'com.twitter.android:id/view_counts', 'class': 'android.widget.TextView', 'package': 'com.twitter.android', 'content-desc': '', 'checkable': False, 'checked': False, 'clickable': True, 'enabled': True, 'focusable': False, 'focused': False, 'scrollable': False, 'long-clickable': False, 'password': False, 'selected': False, 'bounds': [210, 2141, 377, 2185], 'id': 46}\n",
      "{'text': '', 'resource-id': 'com.twitter.android:id/composer_write', 'class': 'android.widget.ImageButton', 'package': 'com.twitter.android', 'content-desc': 'New Tweet', 'checkable': False, 'checked': False, 'clickable': True, 'enabled': True, 'focusable': True, 'focused': False, 'scrollable': False, 'long-clickable': False, 'password': False, 'selected': False, 'bounds': [882, 1862, 1036, 2016], 'id': 54}\n",
      "{'text': '', 'resource-id': 'com.twitter.android:id/channels', 'class': 'android.view.View', 'package': 'com.twitter.android', 'content-desc': '', 'checkable': False, 'checked': False, 'clickable': False, 'enabled': True, 'focusable': False, 'focused': False, 'scrollable': False, 'long-clickable': False, 'password': False, 'selected': True, 'bounds': [33, 2060, 183, 2214], 'id': 56}\n",
      "{'text': '', 'resource-id': '', 'class': 'android.view.View', 'package': 'com.twitter.android', 'content-desc': '', 'checkable': False, 'checked': False, 'clickable': True, 'enabled': True, 'focusable': False, 'focused': False, 'scrollable': False, 'long-clickable': False, 'password': False, 'selected': False, 'bounds': [249, 2060, 399, 2214], 'id': 58}\n",
      "{'text': '', 'resource-id': 'com.twitter.android:id/spaces', 'class': 'android.view.View', 'package': 'com.twitter.android', 'content-desc': '', 'checkable': False, 'checked': False, 'clickable': True, 'enabled': True, 'focusable': False, 'focused': False, 'scrollable': False, 'long-clickable': False, 'password': False, 'selected': False, 'bounds': [465, 2060, 615, 2214], 'id': 60}\n",
      "{'text': '', 'resource-id': 'com.twitter.android:id/notifications', 'class': 'android.view.View', 'package': 'com.twitter.android', 'content-desc': '', 'checkable': False, 'checked': False, 'clickable': True, 'enabled': True, 'focusable': False, 'focused': False, 'scrollable': False, 'long-clickable': False, 'password': False, 'selected': False, 'bounds': [681, 2060, 831, 2214], 'id': 62}\n",
      "{'text': '', 'resource-id': 'com.twitter.android:id/dms', 'class': 'android.view.View', 'package': 'com.twitter.android', 'content-desc': '', 'checkable': False, 'checked': False, 'clickable': True, 'enabled': True, 'focusable': False, 'focused': False, 'scrollable': False, 'long-clickable': False, 'password': False, 'selected': False, 'bounds': [897, 2060, 1047, 2214], 'id': 64}\n",
      "{'text': '', 'resource-id': 'android:id/statusBarBackground', 'class': 'android.view.View', 'package': 'com.twitter.android', 'content-desc': '', 'checkable': False, 'checked': False, 'clickable': False, 'enabled': True, 'focusable': False, 'focused': False, 'scrollable': False, 'long-clickable': False, 'password': False, 'selected': False, 'bounds': [0, 0, 1080, 66], 'id': 65}\n"
     ]
    }
   ],
   "source": [
    "for ele in gui.elements_leaves:\n",
    "    print(ele)\n",
    "    gui.show_element(ele)"
   ]
  },
  {
   "cell_type": "code",
   "execution_count": null,
   "id": "4d6f8cb0",
   "metadata": {},
   "outputs": [],
   "source": []
  },
  {
   "cell_type": "code",
   "execution_count": null,
   "id": "17ba7bb2",
   "metadata": {},
   "outputs": [],
   "source": []
  },
  {
   "cell_type": "code",
   "execution_count": 4,
   "id": "f40309c0",
   "metadata": {},
   "outputs": [
    {
     "name": "stderr",
     "output_type": "stream",
     "text": [
      "C:\\Users\\xie029\\AppData\\Local\\Programs\\Python\\Python310\\lib\\site-packages\\tqdm\\auto.py:22: TqdmWarning: IProgress not found. Please update jupyter and ipywidgets. See https://ipywidgets.readthedocs.io/en/stable/user_install.html\n",
      "  from .autonotebook import tqdm as notebook_tqdm\n"
     ]
    }
   ],
   "source": [
    "from Automator import Automator"
   ]
  },
  {
   "cell_type": "code",
   "execution_count": 5,
   "id": "9b839027",
   "metadata": {},
   "outputs": [],
   "source": [
    "aut = Automator(gui)"
   ]
  },
  {
   "cell_type": "code",
   "execution_count": 4,
   "id": "2ec774d0",
   "metadata": {},
   "outputs": [],
   "source": [
    "aut.get_textual_gui_elements()"
   ]
  },
  {
   "cell_type": "code",
   "execution_count": 5,
   "id": "7f77f4a4",
   "metadata": {},
   "outputs": [
    {
     "data": {
      "text/plain": [
       "['Show navigation drawer',\n",
       " 'For you',\n",
       " 'Following',\n",
       " 'Want to see who you know on Twitter?',\n",
       " 'Take a peek at your contacts.',\n",
       " 'Get started',\n",
       " 'Get started',\n",
       " 'Dismiss',\n",
       " 'You might like',\n",
       " 'Follow Topic',\n",
       " 'What are the strange lights over London? Too far South for the Northern Lights I think',\n",
       " 'Unmute audio',\n",
       " '1.1M views',\n",
       " 'New Tweet']"
      ]
     },
     "execution_count": 5,
     "metadata": {},
     "output_type": "execute_result"
    }
   ],
   "source": [
    "aut.textual_elements"
   ]
  },
  {
   "cell_type": "code",
   "execution_count": 6,
   "id": "f26c55eb",
   "metadata": {},
   "outputs": [
    {
     "name": "stdout",
     "output_type": "stream",
     "text": [
      "*** Asking ***\n",
      " I will give you several UI components on a UI page, which one of them is more related to the task \"change display language\"?Components:[Show navigation drawer;For you;Following;Want to see who you know on Twitter?;Take a peek at your contacts.;Get started;Get started;Dismiss;You might like;Follow Topic;What are the strange lights over London? Too far South for the Northern Lights I think;Unmute audio;1.1M views;New Tweet;]\n",
      "*** Answer ***\n",
      " \n",
      "\n",
      "Unmute audio\n"
     ]
    }
   ],
   "source": [
    "aut.ask_openai('change display language')"
   ]
  },
  {
   "cell_type": "code",
   "execution_count": 7,
   "id": "0cd76f29",
   "metadata": {},
   "outputs": [
    {
     "name": "stdout",
     "output_type": "stream",
     "text": [
      "*** Asking ***\n",
      " I will give you several UI components on a UI page, which one of them is more related to the task \"change user profile\"?Components:[Show navigation drawer;For you;Following;Want to see who you know on Twitter?;Take a peek at your contacts.;Get started;Get started;Dismiss;You might like;Follow Topic;What are the strange lights over London? Too far South for the Northern Lights I think;Unmute audio;1.1M views;New Tweet;]\n",
      "*** Answer ***\n",
      " \n",
      "\n",
      "Take a peek at your\n"
     ]
    }
   ],
   "source": [
    "aut.ask_openai('change user profile')"
   ]
  },
  {
   "cell_type": "code",
   "execution_count": null,
   "id": "35210506",
   "metadata": {},
   "outputs": [],
   "source": []
  }
 ],
 "metadata": {
  "kernelspec": {
   "display_name": "Python 3 (ipykernel)",
   "language": "python",
   "name": "python3"
  },
  "language_info": {
   "codemirror_mode": {
    "name": "ipython",
    "version": 3
   },
   "file_extension": ".py",
   "mimetype": "text/x-python",
   "name": "python",
   "nbconvert_exporter": "python",
   "pygments_lexer": "ipython3",
   "version": "3.10.10"
  }
 },
 "nbformat": 4,
 "nbformat_minor": 5
}
