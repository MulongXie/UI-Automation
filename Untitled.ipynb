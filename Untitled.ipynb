{
 "cells": [
  {
   "cell_type": "code",
   "execution_count": 1,
   "id": "7ac2619d",
   "metadata": {},
   "outputs": [
    {
     "name": "stdout",
     "output_type": "stream",
     "text": [
      "Save screenshot to data\\emulator-5554.png\n",
      "Save view hierarchy to data\\emulator-5554.json\n",
      "Save reformatted vh to data\\emulator-5554.json\n"
     ]
    }
   ],
   "source": [
    "from GUIData import GUIData\n",
    "from Device import Device\n",
    "from ppadb.client import Client as AdbClient\n",
    "client = AdbClient(host=\"127.0.0.1\", port=5037)\n",
    "\n",
    "device = Device(client.devices()[0], 'data')\n",
    "device.cap_screenshot()\n",
    "device.cap_vh()\n",
    "device.cvt_vh_to_rico_format()\n",
    "\n",
    "gui = GUIData(device.screenshot_path, device.vh_json_path)\n",
    "gui.extract_elements_from_vh()\n",
    "gui.show_all_elements()\n",
    "gui.show_all_elements(only_leaves=True)"
   ]
  },
  {
   "cell_type": "code",
   "execution_count": null,
   "id": "d9d3f215",
   "metadata": {},
   "outputs": [],
   "source": []
  },
  {
   "cell_type": "code",
   "execution_count": 1,
   "id": "cbeef21f",
   "metadata": {},
   "outputs": [
    {
     "name": "stderr",
     "output_type": "stream",
     "text": [
      "C:\\Users\\xie029\\AppData\\Local\\Programs\\Python\\Python310\\lib\\site-packages\\tqdm\\auto.py:22: TqdmWarning: IProgress not found. Please update jupyter and ipywidgets. See https://ipywidgets.readthedocs.io/en/stable/user_install.html\n",
      "  from .autonotebook import tqdm as notebook_tqdm\n"
     ]
    }
   ],
   "source": [
    "from GUIData import GUIData"
   ]
  },
  {
   "cell_type": "code",
   "execution_count": 2,
   "id": "de258e0a",
   "metadata": {},
   "outputs": [],
   "source": [
    "gui = GUIData('data/emulator-5554.png', 'data/emulator-5554.json')\n",
    "gui.extract_elements_from_vh()\n",
    "gui.show_all_elements()\n",
    "gui.show_all_elements(only_leaves=True)"
   ]
  },
  {
   "cell_type": "code",
   "execution_count": 3,
   "id": "1a5fb867",
   "metadata": {},
   "outputs": [
    {
     "ename": "AttributeError",
     "evalue": "'GUIData' object has no attribute 'get_caption_for_leaf_captions'",
     "output_type": "error",
     "traceback": [
      "\u001b[1;31m---------------------------------------------------------------------------\u001b[0m",
      "\u001b[1;31mAttributeError\u001b[0m                            Traceback (most recent call last)",
      "Cell \u001b[1;32mIn[3], line 1\u001b[0m\n\u001b[1;32m----> 1\u001b[0m \u001b[43mgui\u001b[49m\u001b[38;5;241;43m.\u001b[39;49m\u001b[43mget_caption_for_leaf_captions\u001b[49m()\n\u001b[0;32m      2\u001b[0m gui\u001b[38;5;241m.\u001b[39mclassify_icon()\n",
      "\u001b[1;31mAttributeError\u001b[0m: 'GUIData' object has no attribute 'get_caption_for_leaf_captions'"
     ]
    }
   ],
   "source": [
    "gui.caption_elements()\n",
    "gui.classify_i()"
   ]
  },
  {
   "cell_type": "code",
   "execution_count": null,
   "id": "4ebd8ec8",
   "metadata": {},
   "outputs": [],
   "source": []
  },
  {
   "cell_type": "code",
   "execution_count": 6,
   "id": "e89e106f",
   "metadata": {},
   "outputs": [
    {
     "name": "stdout",
     "output_type": "stream",
     "text": [
      "android.widget.ImageButton  Show navigation drawer thumbnail ['avatar', 0.9992361068725586]\n",
      "android.widget.ImageView   twitter ['twitter', 0.9880850911140442]\n",
      "android.widget.TextView For you  close ['other', 0.379863440990448]\n",
      "android.widget.TextView Following  <unk> ['other', 0.37425121665000916]\n",
      "android.widget.TextView Want to see who you know on Twitter?  <unk> <unk> <unk> <unk> <unk> <unk> <unk> <unk> <unk> <unk> <unk> <unk> <unk> <unk> ['other', 0.30150601267814636]\n",
      "android.widget.TextView Take a peek at your contacts.  <unk> <unk> <unk> <unk> <unk> <unk> <unk> <unk> <unk> <unk> <unk> <unk> <unk> <unk> ['other', 0.60938960313797]\n",
      "android.view.View  Get started <unk> ['other', 0.3444339632987976]\n",
      "android.widget.TextView Get started  <unk> ['date_range', 0.9863713383674622]\n",
      "android.widget.Button   <unk> ['other', 0.3444339632987976]\n",
      "android.widget.ImageView  Dismiss more options ['more', 0.9965793490409851]\n",
      "android.widget.ImageView   select final point ['other', 0.6649722456932068]\n",
      "android.widget.TextView You might like  <unk> ['other', 0.24327704310417175]\n",
      "android.widget.ImageView   like tweet ['other', 0.57584547996521]\n",
      "android.widget.TextView Follow Topic  <unk> ['other', 0.32752346992492676]\n",
      "android.widget.ImageView   close tab ['close', 0.9997050166130066]\n",
      "android.widget.ImageView   profile photo ['avatar', 0.9999288320541382]\n",
      "android.view.ViewGroup   <unk> ['other', 0.3246193528175354]\n",
      "android.widget.ImageView   more options ['more', 0.9987045526504517]\n",
      "android.view.View What are the strange lights over London? Too far South for the Northern Lights I think  banner ['other', 0.38335686922073364]\n",
      "ddw   loading wallpaper ['other', 0.4965629577636719]\n",
      "android.view.View   loading wallpaper ['other', 0.44186583161354065]\n",
      "android.widget.ImageView  Unmute audio sound ['home', 0.8623248338699341]\n",
      "android.widget.TextView 1.1M views  back ['other', 0.1445329338312149]\n",
      "android.widget.ImageButton  New Tweet add alarm ['add', 0.994793713092804]\n",
      "android.view.View   close navigation drawer ['other', 0.5159316658973694]\n",
      "android.view.View   search ['search', 0.9998668432235718]\n",
      "android.view.View   <unk> ['other', 0.5114070773124695]\n",
      "android.view.View   <unk> ['notifications', 0.9667591452598572]\n",
      "android.view.View   <unk> ['email', 0.9989500641822815]\n",
      "android.view.View   <unk> ['other', 0.5917048454284668]\n"
     ]
    }
   ],
   "source": [
    "for ele in gui.elements_leaves:\n",
    "    print(ele['class'], ele['text'], ele['content-desc'], ele['caption'], ele['icon-cls'])\n",
    "    gui.show_element(ele)"
   ]
  },
  {
   "cell_type": "code",
   "execution_count": 9,
   "id": "fa3b8157",
   "metadata": {},
   "outputs": [
    {
     "data": {
      "text/plain": [
       "1.1333333333333333"
      ]
     },
     "execution_count": 9,
     "metadata": {},
     "output_type": "execute_result"
    }
   ],
   "source": [
    "34 / 30"
   ]
  },
  {
   "cell_type": "code",
   "execution_count": null,
   "id": "41c0881e",
   "metadata": {},
   "outputs": [],
   "source": []
  },
  {
   "cell_type": "code",
   "execution_count": null,
   "id": "19f162ce",
   "metadata": {},
   "outputs": [],
   "source": []
  },
  {
   "cell_type": "code",
   "execution_count": 7,
   "id": "929a3a35",
   "metadata": {},
   "outputs": [
    {
     "name": "stdout",
     "output_type": "stream",
     "text": [
      "{'text': '', 'resource-id': '', 'class': 'android.widget.ImageButton', 'package': 'com.twitter.android', 'content-desc': 'Show navigation drawer', 'checkable': False, 'checked': False, 'clickable': True, 'enabled': True, 'focusable': True, 'focused': False, 'scrollable': False, 'long-clickable': False, 'password': False, 'selected': False, 'bounds': [0, 66, 150, 220], 'id': 3, 'caption': 'thumbnail', 'icon-cls': ['avatar', 0.9992361068725586]}\n",
      "{'text': '', 'resource-id': 'com.twitter.android:id/logo', 'class': 'android.widget.ImageView', 'package': 'com.twitter.android', 'content-desc': '', 'checkable': False, 'checked': False, 'clickable': True, 'enabled': True, 'focusable': False, 'focused': False, 'scrollable': False, 'long-clickable': False, 'password': False, 'selected': False, 'bounds': [507, 110, 573, 176], 'id': 4, 'caption': 'twitter', 'icon-cls': ['twitter', 0.9880850911140442]}\n",
      "{'text': 'For you', 'resource-id': '', 'class': 'android.widget.TextView', 'package': 'com.twitter.android', 'content-desc': '', 'checkable': False, 'checked': False, 'clickable': False, 'enabled': True, 'focusable': False, 'focused': False, 'scrollable': False, 'long-clickable': False, 'password': False, 'selected': True, 'bounds': [187, 261, 341, 311], 'id': 8, 'caption': 'close', 'icon-cls': ['other', 0.379863440990448]}\n",
      "{'text': 'Following', 'resource-id': '', 'class': 'android.widget.TextView', 'package': 'com.twitter.android', 'content-desc': '', 'checkable': False, 'checked': False, 'clickable': True, 'enabled': True, 'focusable': False, 'focused': False, 'scrollable': False, 'long-clickable': False, 'password': False, 'selected': False, 'bounds': [715, 261, 893, 311], 'id': 10, 'caption': '<unk>', 'icon-cls': ['other', 0.37425121665000916]}\n",
      "{'text': 'Want to see who you know on Twitter?', 'resource-id': 'com.twitter.android:id/header', 'class': 'android.widget.TextView', 'package': 'com.twitter.android', 'content-desc': '', 'checkable': False, 'checked': False, 'clickable': False, 'enabled': True, 'focusable': False, 'focused': False, 'scrollable': False, 'long-clickable': False, 'password': False, 'selected': False, 'bounds': [88, 464, 992, 643], 'id': 15, 'caption': '<unk> <unk> <unk> <unk> <unk> <unk> <unk> <unk> <unk> <unk> <unk> <unk> <unk> <unk>', 'icon-cls': ['other', 0.30150601267814636]}\n",
      "{'text': 'Take a peek at your contacts.', 'resource-id': 'com.twitter.android:id/body', 'class': 'android.widget.TextView', 'package': 'com.twitter.android', 'content-desc': '', 'checkable': False, 'checked': False, 'clickable': False, 'enabled': True, 'focusable': False, 'focused': False, 'scrollable': False, 'long-clickable': False, 'password': False, 'selected': False, 'bounds': [88, 643, 992, 715], 'id': 16, 'caption': '<unk> <unk> <unk> <unk> <unk> <unk> <unk> <unk> <unk> <unk> <unk> <unk> <unk> <unk>', 'icon-cls': ['other', 0.60938960313797]}\n",
      "{'text': '', 'resource-id': '', 'class': 'android.view.View', 'package': 'com.twitter.android', 'content-desc': 'Get started', 'checkable': False, 'checked': False, 'clickable': True, 'enabled': True, 'focusable': False, 'focused': False, 'scrollable': False, 'long-clickable': False, 'password': False, 'selected': False, 'bounds': [88, 765, 442, 886], 'id': 20, 'caption': '<unk>', 'icon-cls': ['other', 0.3444339632987976]}\n",
      "{'text': 'Get started', 'resource-id': '', 'class': 'android.widget.TextView', 'package': 'com.twitter.android', 'content-desc': '', 'checkable': False, 'checked': False, 'clickable': True, 'enabled': True, 'focusable': False, 'focused': False, 'scrollable': False, 'long-clickable': False, 'password': False, 'selected': False, 'bounds': [154, 801, 376, 851], 'id': 21, 'caption': '<unk>', 'icon-cls': ['date_range', 0.9863713383674622]}\n",
      "{'text': '', 'resource-id': '', 'class': 'android.widget.Button', 'package': 'com.twitter.android', 'content-desc': '', 'checkable': False, 'checked': False, 'clickable': True, 'enabled': True, 'focusable': False, 'focused': False, 'scrollable': False, 'long-clickable': False, 'password': False, 'selected': False, 'bounds': [88, 765, 442, 886], 'id': 22, 'caption': '<unk>', 'icon-cls': ['other', 0.3444339632987976]}\n",
      "{'text': '', 'resource-id': 'com.twitter.android:id/caret', 'class': 'android.widget.ImageView', 'package': 'com.twitter.android', 'content-desc': 'Dismiss', 'checkable': False, 'checked': False, 'clickable': True, 'enabled': True, 'focusable': True, 'focused': False, 'scrollable': False, 'long-clickable': False, 'password': False, 'selected': False, 'bounds': [970, 464, 1080, 552], 'id': 23, 'caption': 'more options', 'icon-cls': ['more', 0.9965793490409851]}\n",
      "{'text': '', 'resource-id': 'com.twitter.android:id/social_context_badge', 'class': 'android.widget.ImageView', 'package': 'com.twitter.android', 'content-desc': '', 'checkable': False, 'checked': False, 'clickable': True, 'enabled': True, 'focusable': False, 'focused': False, 'scrollable': False, 'long-clickable': False, 'password': False, 'selected': False, 'bounds': [138, 1030, 182, 1074], 'id': 26, 'caption': 'select final point', 'icon-cls': ['other', 0.6649722456932068]}\n",
      "{'text': 'You might like', 'resource-id': 'com.twitter.android:id/social_context_text', 'class': 'android.widget.TextView', 'package': 'com.twitter.android', 'content-desc': '', 'checkable': False, 'checked': False, 'clickable': True, 'enabled': True, 'focusable': True, 'focused': False, 'scrollable': False, 'long-clickable': False, 'password': False, 'selected': False, 'bounds': [210, 1002, 446, 1079], 'id': 28, 'caption': '<unk>', 'icon-cls': ['other', 0.24327704310417175]}\n",
      "{'text': '', 'resource-id': 'com.twitter.android:id/social_context_dot_divider', 'class': 'android.widget.ImageView', 'package': 'com.twitter.android', 'content-desc': '', 'checkable': False, 'checked': False, 'clickable': True, 'enabled': True, 'focusable': False, 'focused': False, 'scrollable': False, 'long-clickable': False, 'password': False, 'selected': False, 'bounds': [446, 1002, 474, 1079], 'id': 29, 'caption': 'like tweet', 'icon-cls': ['other', 0.57584547996521]}\n",
      "{'text': 'Follow Topic', 'resource-id': 'com.twitter.android:id/social_context_button', 'class': 'android.widget.TextView', 'package': 'com.twitter.android', 'content-desc': '', 'checkable': False, 'checked': False, 'clickable': True, 'enabled': True, 'focusable': True, 'focused': False, 'scrollable': False, 'long-clickable': False, 'password': False, 'selected': False, 'bounds': [474, 1002, 686, 1079], 'id': 30, 'caption': '<unk>', 'icon-cls': ['other', 0.32752346992492676]}\n",
      "{'NAF': True, 'text': '', 'resource-id': 'com.twitter.android:id/social_context_curation_action', 'class': 'android.widget.ImageView', 'package': 'com.twitter.android', 'content-desc': '', 'checkable': False, 'checked': False, 'clickable': True, 'enabled': True, 'focusable': True, 'focused': False, 'scrollable': False, 'long-clickable': False, 'password': False, 'selected': False, 'bounds': [981, 1002, 1069, 1085], 'id': 31, 'caption': 'close tab', 'icon-cls': ['close', 0.9997050166130066]}\n",
      "{'text': '', 'resource-id': '', 'class': 'android.widget.ImageView', 'package': 'com.twitter.android', 'content-desc': '', 'checkable': False, 'checked': False, 'clickable': True, 'enabled': True, 'focusable': False, 'focused': False, 'scrollable': False, 'long-clickable': False, 'password': False, 'selected': False, 'bounds': [33, 1107, 182, 1256], 'id': 33, 'caption': 'profile photo', 'icon-cls': ['avatar', 0.9999288320541382]}\n",
      "{'text': '', 'resource-id': 'com.twitter.android:id/tweet_header_default', 'class': 'android.view.ViewGroup', 'package': 'com.twitter.android', 'content-desc': '', 'checkable': False, 'checked': False, 'clickable': True, 'enabled': True, 'focusable': False, 'focused': False, 'scrollable': False, 'long-clickable': False, 'password': False, 'selected': False, 'bounds': [210, 1107, 981, 1153], 'id': 34, 'caption': '<unk>', 'icon-cls': ['other', 0.3246193528175354]}\n",
      "{'NAF': True, 'text': '', 'resource-id': 'com.twitter.android:id/tweet_curation_action', 'class': 'android.widget.ImageView', 'package': 'com.twitter.android', 'content-desc': '', 'checkable': False, 'checked': False, 'clickable': True, 'enabled': True, 'focusable': True, 'focused': False, 'scrollable': False, 'long-clickable': False, 'password': False, 'selected': False, 'bounds': [981, 1081, 1069, 1169], 'id': 35, 'caption': 'more options', 'icon-cls': ['more', 0.9987045526504517]}\n",
      "{'text': 'What are the strange lights over London? Too far South for the Northern Lights I think', 'resource-id': '', 'class': 'android.view.View', 'package': 'com.twitter.android', 'content-desc': '', 'checkable': False, 'checked': False, 'clickable': True, 'enabled': True, 'focusable': True, 'focused': False, 'scrollable': False, 'long-clickable': False, 'password': False, 'selected': False, 'bounds': [210, 1159, 1047, 1263], 'id': 37, 'caption': 'banner', 'icon-cls': ['other', 0.38335686922073364]}\n",
      "{'text': '', 'resource-id': '', 'class': 'ddw', 'package': 'com.twitter.android', 'content-desc': '', 'checkable': False, 'checked': False, 'clickable': True, 'enabled': True, 'focusable': False, 'focused': False, 'scrollable': False, 'long-clickable': False, 'password': False, 'selected': False, 'bounds': [210, 1282, 1047, 2119], 'id': 40, 'caption': 'loading wallpaper', 'icon-cls': ['other', 0.4965629577636719]}\n",
      "{'text': '', 'resource-id': '', 'class': 'android.view.View', 'package': 'com.twitter.android', 'content-desc': '', 'checkable': False, 'checked': False, 'clickable': True, 'enabled': True, 'focusable': False, 'focused': False, 'scrollable': False, 'long-clickable': False, 'password': False, 'selected': False, 'bounds': [254, 1326, 1003, 2075], 'id': 42, 'caption': 'loading wallpaper', 'icon-cls': ['other', 0.44186583161354065]}\n",
      "{'text': '', 'resource-id': 'com.twitter.android:id/audio_toggle_icon', 'class': 'android.widget.ImageView', 'package': 'com.twitter.android', 'content-desc': 'Unmute audio', 'checkable': False, 'checked': False, 'clickable': True, 'enabled': True, 'focusable': False, 'focused': False, 'scrollable': False, 'long-clickable': False, 'password': False, 'selected': False, 'bounds': [959, 2042, 997, 2080], 'id': 44, 'caption': 'sound', 'icon-cls': ['home', 0.8623248338699341]}\n",
      "{'text': '1.1M views', 'resource-id': 'com.twitter.android:id/view_counts', 'class': 'android.widget.TextView', 'package': 'com.twitter.android', 'content-desc': '', 'checkable': False, 'checked': False, 'clickable': True, 'enabled': True, 'focusable': False, 'focused': False, 'scrollable': False, 'long-clickable': False, 'password': False, 'selected': False, 'bounds': [210, 2141, 377, 2185], 'id': 45, 'caption': 'back', 'icon-cls': ['other', 0.1445329338312149]}\n",
      "{'text': '', 'resource-id': 'com.twitter.android:id/composer_write', 'class': 'android.widget.ImageButton', 'package': 'com.twitter.android', 'content-desc': 'New Tweet', 'checkable': False, 'checked': False, 'clickable': True, 'enabled': True, 'focusable': True, 'focused': False, 'scrollable': False, 'long-clickable': False, 'password': False, 'selected': False, 'bounds': [882, 1862, 1036, 2016], 'id': 53, 'caption': 'add alarm', 'icon-cls': ['add', 0.994793713092804]}\n",
      "{'text': '', 'resource-id': 'com.twitter.android:id/channels', 'class': 'android.view.View', 'package': 'com.twitter.android', 'content-desc': '', 'checkable': False, 'checked': False, 'clickable': False, 'enabled': True, 'focusable': False, 'focused': False, 'scrollable': False, 'long-clickable': False, 'password': False, 'selected': True, 'bounds': [33, 2060, 183, 2214], 'id': 55, 'caption': 'close navigation drawer', 'icon-cls': ['other', 0.5159316658973694]}\n",
      "{'text': '', 'resource-id': '', 'class': 'android.view.View', 'package': 'com.twitter.android', 'content-desc': '', 'checkable': False, 'checked': False, 'clickable': True, 'enabled': True, 'focusable': False, 'focused': False, 'scrollable': False, 'long-clickable': False, 'password': False, 'selected': False, 'bounds': [249, 2060, 399, 2214], 'id': 57, 'caption': 'search', 'icon-cls': ['search', 0.9998668432235718]}\n",
      "{'text': '', 'resource-id': 'com.twitter.android:id/spaces', 'class': 'android.view.View', 'package': 'com.twitter.android', 'content-desc': '', 'checkable': False, 'checked': False, 'clickable': True, 'enabled': True, 'focusable': False, 'focused': False, 'scrollable': False, 'long-clickable': False, 'password': False, 'selected': False, 'bounds': [465, 2060, 615, 2214], 'id': 59, 'caption': '<unk>', 'icon-cls': ['other', 0.5114070773124695]}\n",
      "{'text': '', 'resource-id': 'com.twitter.android:id/notifications', 'class': 'android.view.View', 'package': 'com.twitter.android', 'content-desc': '', 'checkable': False, 'checked': False, 'clickable': True, 'enabled': True, 'focusable': False, 'focused': False, 'scrollable': False, 'long-clickable': False, 'password': False, 'selected': False, 'bounds': [681, 2060, 831, 2214], 'id': 61, 'caption': '<unk>', 'icon-cls': ['notifications', 0.9667591452598572]}\n",
      "{'text': '', 'resource-id': 'com.twitter.android:id/dms', 'class': 'android.view.View', 'package': 'com.twitter.android', 'content-desc': '', 'checkable': False, 'checked': False, 'clickable': True, 'enabled': True, 'focusable': False, 'focused': False, 'scrollable': False, 'long-clickable': False, 'password': False, 'selected': False, 'bounds': [897, 2060, 1047, 2214], 'id': 63, 'caption': '<unk>', 'icon-cls': ['email', 0.9989500641822815]}\n",
      "{'text': '', 'resource-id': 'android:id/statusBarBackground', 'class': 'android.view.View', 'package': 'com.twitter.android', 'content-desc': '', 'checkable': False, 'checked': False, 'clickable': False, 'enabled': True, 'focusable': False, 'focused': False, 'scrollable': False, 'long-clickable': False, 'password': False, 'selected': False, 'bounds': [0, 0, 1080, 66], 'id': 64, 'caption': '<unk>', 'icon-cls': ['other', 0.5917048454284668]}\n"
     ]
    }
   ],
   "source": [
    "for ele in gui.elements_leaves:\n",
    "    print(ele)"
   ]
  },
  {
   "cell_type": "code",
   "execution_count": null,
   "id": "b7b1280d",
   "metadata": {},
   "outputs": [],
   "source": []
  },
  {
   "cell_type": "code",
   "execution_count": null,
   "id": "75ba417a",
   "metadata": {},
   "outputs": [],
   "source": []
  },
  {
   "cell_type": "code",
   "execution_count": 4,
   "id": "f40309c0",
   "metadata": {},
   "outputs": [
    {
     "name": "stderr",
     "output_type": "stream",
     "text": [
      "C:\\Users\\xie029\\AppData\\Local\\Programs\\Python\\Python310\\lib\\site-packages\\tqdm\\auto.py:22: TqdmWarning: IProgress not found. Please update jupyter and ipywidgets. See https://ipywidgets.readthedocs.io/en/stable/user_install.html\n",
      "  from .autonotebook import tqdm as notebook_tqdm\n"
     ]
    }
   ],
   "source": [
    "from Automator import Automator"
   ]
  },
  {
   "cell_type": "code",
   "execution_count": 5,
   "id": "9b839027",
   "metadata": {},
   "outputs": [],
   "source": [
    "aut = Automator(gui)"
   ]
  },
  {
   "cell_type": "code",
   "execution_count": 4,
   "id": "2ec774d0",
   "metadata": {},
   "outputs": [],
   "source": [
    "aut.get_textual_gui_elements()"
   ]
  },
  {
   "cell_type": "code",
   "execution_count": 5,
   "id": "7f77f4a4",
   "metadata": {},
   "outputs": [
    {
     "data": {
      "text/plain": [
       "['Show navigation drawer',\n",
       " 'For you',\n",
       " 'Following',\n",
       " 'Want to see who you know on Twitter?',\n",
       " 'Take a peek at your contacts.',\n",
       " 'Get started',\n",
       " 'Get started',\n",
       " 'Dismiss',\n",
       " 'You might like',\n",
       " 'Follow Topic',\n",
       " 'What are the strange lights over London? Too far South for the Northern Lights I think',\n",
       " 'Unmute audio',\n",
       " '1.1M views',\n",
       " 'New Tweet']"
      ]
     },
     "execution_count": 5,
     "metadata": {},
     "output_type": "execute_result"
    }
   ],
   "source": [
    "aut.textual_elements"
   ]
  },
  {
   "cell_type": "code",
   "execution_count": 6,
   "id": "f26c55eb",
   "metadata": {},
   "outputs": [
    {
     "name": "stdout",
     "output_type": "stream",
     "text": [
      "*** Asking ***\n",
      " I will give you several UI components on a UI page, which one of them is more related to the task \"change display language\"?Components:[Show navigation drawer;For you;Following;Want to see who you know on Twitter?;Take a peek at your contacts.;Get started;Get started;Dismiss;You might like;Follow Topic;What are the strange lights over London? Too far South for the Northern Lights I think;Unmute audio;1.1M views;New Tweet;]\n",
      "*** Answer ***\n",
      " \n",
      "\n",
      "Unmute audio\n"
     ]
    }
   ],
   "source": [
    "aut.ask_openai('change display language')"
   ]
  },
  {
   "cell_type": "code",
   "execution_count": 7,
   "id": "0cd76f29",
   "metadata": {},
   "outputs": [
    {
     "name": "stdout",
     "output_type": "stream",
     "text": [
      "*** Asking ***\n",
      " I will give you several UI components on a UI page, which one of them is more related to the task \"change user profile\"?Components:[Show navigation drawer;For you;Following;Want to see who you know on Twitter?;Take a peek at your contacts.;Get started;Get started;Dismiss;You might like;Follow Topic;What are the strange lights over London? Too far South for the Northern Lights I think;Unmute audio;1.1M views;New Tweet;]\n",
      "*** Answer ***\n",
      " \n",
      "\n",
      "Take a peek at your\n"
     ]
    }
   ],
   "source": [
    "aut.ask_openai('change user profile')"
   ]
  },
  {
   "cell_type": "code",
   "execution_count": null,
   "id": "35210506",
   "metadata": {},
   "outputs": [],
   "source": []
  }
 ],
 "metadata": {
  "kernelspec": {
   "display_name": "Python 3 (ipykernel)",
   "language": "python",
   "name": "python3"
  },
  "language_info": {
   "codemirror_mode": {
    "name": "ipython",
    "version": 3
   },
   "file_extension": ".py",
   "mimetype": "text/x-python",
   "name": "python",
   "nbconvert_exporter": "python",
   "pygments_lexer": "ipython3",
   "version": "3.10.10"
  }
 },
 "nbformat": 4,
 "nbformat_minor": 5
}
